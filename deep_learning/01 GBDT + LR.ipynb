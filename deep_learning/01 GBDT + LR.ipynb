{
 "cells": [
  {
   "cell_type": "code",
   "execution_count": 9,
   "metadata": {
    "ExecuteTime": {
     "end_time": "2019-08-09T03:18:49.820449Z",
     "start_time": "2019-08-09T03:18:49.811764Z"
    }
   },
   "outputs": [],
   "source": [
    "import pandas as pd \n",
    "import numpy as np \n",
    "from sklearn.linear_model import LogisticRegression\n",
    "from sklearn.model_selection import train_test_split\n",
    "import lightgbm as lgb \n",
    "from sklearn.preprocessing import MinMaxScaler, OneHotEncoder, LabelEncoder\n",
    "from sklearn.metrics import log_loss, roc_auc_score\n",
    "\n",
    "import gc \n",
    "from tqdm.autonotebook import tqdm \n",
    "from scipy import sparse \n",
    "\n",
    "import warnings\n",
    "warnings.filterwarnings(\"ignore\")"
   ]
  },
  {
   "cell_type": "markdown",
   "metadata": {},
   "source": [
    "# 读取数据"
   ]
  },
  {
   "cell_type": "code",
   "execution_count": 3,
   "metadata": {
    "ExecuteTime": {
     "end_time": "2019-08-09T02:55:44.260052Z",
     "start_time": "2019-08-09T02:55:44.135582Z"
    }
   },
   "outputs": [],
   "source": [
    "tmp = pd.read_csv(\"../data/criteo/train.csv\")"
   ]
  },
  {
   "cell_type": "code",
   "execution_count": 4,
   "metadata": {
    "ExecuteTime": {
     "end_time": "2019-08-09T02:55:47.408570Z",
     "start_time": "2019-08-09T02:55:47.382427Z"
    }
   },
   "outputs": [
    {
     "data": {
      "text/html": [
       "<div>\n",
       "<style scoped>\n",
       "    .dataframe tbody tr th:only-of-type {\n",
       "        vertical-align: middle;\n",
       "    }\n",
       "\n",
       "    .dataframe tbody tr th {\n",
       "        vertical-align: top;\n",
       "    }\n",
       "\n",
       "    .dataframe thead th {\n",
       "        text-align: right;\n",
       "    }\n",
       "</style>\n",
       "<table border=\"1\" class=\"dataframe\">\n",
       "  <thead>\n",
       "    <tr style=\"text-align: right;\">\n",
       "      <th></th>\n",
       "      <th>Id</th>\n",
       "      <th>Label</th>\n",
       "      <th>I1</th>\n",
       "      <th>I2</th>\n",
       "      <th>I3</th>\n",
       "      <th>I4</th>\n",
       "      <th>I5</th>\n",
       "      <th>I6</th>\n",
       "      <th>I7</th>\n",
       "      <th>I8</th>\n",
       "      <th>...</th>\n",
       "      <th>C17</th>\n",
       "      <th>C18</th>\n",
       "      <th>C19</th>\n",
       "      <th>C20</th>\n",
       "      <th>C21</th>\n",
       "      <th>C22</th>\n",
       "      <th>C23</th>\n",
       "      <th>C24</th>\n",
       "      <th>C25</th>\n",
       "      <th>C26</th>\n",
       "    </tr>\n",
       "  </thead>\n",
       "  <tbody>\n",
       "    <tr>\n",
       "      <th>0</th>\n",
       "      <td>10000743</td>\n",
       "      <td>1</td>\n",
       "      <td>1.0</td>\n",
       "      <td>0</td>\n",
       "      <td>1.0</td>\n",
       "      <td>NaN</td>\n",
       "      <td>227.0</td>\n",
       "      <td>1.0</td>\n",
       "      <td>173.0</td>\n",
       "      <td>18.0</td>\n",
       "      <td>...</td>\n",
       "      <td>3486227d</td>\n",
       "      <td>e88ffc9d</td>\n",
       "      <td>c393dc22</td>\n",
       "      <td>b1252a9d</td>\n",
       "      <td>57c90cd9</td>\n",
       "      <td>NaN</td>\n",
       "      <td>bcdee96c</td>\n",
       "      <td>4d19a3eb</td>\n",
       "      <td>cb079c2d</td>\n",
       "      <td>456c12a0</td>\n",
       "    </tr>\n",
       "    <tr>\n",
       "      <th>1</th>\n",
       "      <td>10000159</td>\n",
       "      <td>1</td>\n",
       "      <td>4.0</td>\n",
       "      <td>1</td>\n",
       "      <td>1.0</td>\n",
       "      <td>2.0</td>\n",
       "      <td>27.0</td>\n",
       "      <td>2.0</td>\n",
       "      <td>4.0</td>\n",
       "      <td>2.0</td>\n",
       "      <td>...</td>\n",
       "      <td>07c540c4</td>\n",
       "      <td>92555263</td>\n",
       "      <td>NaN</td>\n",
       "      <td>NaN</td>\n",
       "      <td>242bb710</td>\n",
       "      <td>NaN</td>\n",
       "      <td>3a171ecb</td>\n",
       "      <td>72c78f11</td>\n",
       "      <td>NaN</td>\n",
       "      <td>NaN</td>\n",
       "    </tr>\n",
       "    <tr>\n",
       "      <th>2</th>\n",
       "      <td>10001166</td>\n",
       "      <td>1</td>\n",
       "      <td>0.0</td>\n",
       "      <td>806</td>\n",
       "      <td>NaN</td>\n",
       "      <td>NaN</td>\n",
       "      <td>1752.0</td>\n",
       "      <td>142.0</td>\n",
       "      <td>2.0</td>\n",
       "      <td>0.0</td>\n",
       "      <td>...</td>\n",
       "      <td>07c540c4</td>\n",
       "      <td>25c88e42</td>\n",
       "      <td>21ddcdc9</td>\n",
       "      <td>b1252a9d</td>\n",
       "      <td>a0136dd2</td>\n",
       "      <td>NaN</td>\n",
       "      <td>32c7478e</td>\n",
       "      <td>8fc66e78</td>\n",
       "      <td>001f3601</td>\n",
       "      <td>f37f3967</td>\n",
       "    </tr>\n",
       "    <tr>\n",
       "      <th>3</th>\n",
       "      <td>10000318</td>\n",
       "      <td>0</td>\n",
       "      <td>2.0</td>\n",
       "      <td>-1</td>\n",
       "      <td>42.0</td>\n",
       "      <td>14.0</td>\n",
       "      <td>302.0</td>\n",
       "      <td>38.0</td>\n",
       "      <td>25.0</td>\n",
       "      <td>38.0</td>\n",
       "      <td>...</td>\n",
       "      <td>e5ba7672</td>\n",
       "      <td>5aed7436</td>\n",
       "      <td>21ddcdc9</td>\n",
       "      <td>b1252a9d</td>\n",
       "      <td>c3abeb21</td>\n",
       "      <td>NaN</td>\n",
       "      <td>423fab69</td>\n",
       "      <td>1793a828</td>\n",
       "      <td>e8b83407</td>\n",
       "      <td>5cef228f</td>\n",
       "    </tr>\n",
       "    <tr>\n",
       "      <th>4</th>\n",
       "      <td>10000924</td>\n",
       "      <td>1</td>\n",
       "      <td>0.0</td>\n",
       "      <td>57</td>\n",
       "      <td>2.0</td>\n",
       "      <td>1.0</td>\n",
       "      <td>2891.0</td>\n",
       "      <td>2.0</td>\n",
       "      <td>35.0</td>\n",
       "      <td>1.0</td>\n",
       "      <td>...</td>\n",
       "      <td>e5ba7672</td>\n",
       "      <td>642f2610</td>\n",
       "      <td>1d1eb838</td>\n",
       "      <td>b1252a9d</td>\n",
       "      <td>1640d50b</td>\n",
       "      <td>ad3062eb</td>\n",
       "      <td>423fab69</td>\n",
       "      <td>45ab94c8</td>\n",
       "      <td>2bf691b1</td>\n",
       "      <td>c84c4aec</td>\n",
       "    </tr>\n",
       "  </tbody>\n",
       "</table>\n",
       "<p>5 rows × 41 columns</p>\n",
       "</div>"
      ],
      "text/plain": [
       "         Id  Label   I1   I2    I3    I4      I5     I6     I7    I8  ...  \\\n",
       "0  10000743      1  1.0    0   1.0   NaN   227.0    1.0  173.0  18.0  ...   \n",
       "1  10000159      1  4.0    1   1.0   2.0    27.0    2.0    4.0   2.0  ...   \n",
       "2  10001166      1  0.0  806   NaN   NaN  1752.0  142.0    2.0   0.0  ...   \n",
       "3  10000318      0  2.0   -1  42.0  14.0   302.0   38.0   25.0  38.0  ...   \n",
       "4  10000924      1  0.0   57   2.0   1.0  2891.0    2.0   35.0   1.0  ...   \n",
       "\n",
       "        C17       C18       C19       C20       C21       C22       C23  \\\n",
       "0  3486227d  e88ffc9d  c393dc22  b1252a9d  57c90cd9       NaN  bcdee96c   \n",
       "1  07c540c4  92555263       NaN       NaN  242bb710       NaN  3a171ecb   \n",
       "2  07c540c4  25c88e42  21ddcdc9  b1252a9d  a0136dd2       NaN  32c7478e   \n",
       "3  e5ba7672  5aed7436  21ddcdc9  b1252a9d  c3abeb21       NaN  423fab69   \n",
       "4  e5ba7672  642f2610  1d1eb838  b1252a9d  1640d50b  ad3062eb  423fab69   \n",
       "\n",
       "        C24       C25       C26  \n",
       "0  4d19a3eb  cb079c2d  456c12a0  \n",
       "1  72c78f11       NaN       NaN  \n",
       "2  8fc66e78  001f3601  f37f3967  \n",
       "3  1793a828  e8b83407  5cef228f  \n",
       "4  45ab94c8  2bf691b1  c84c4aec  \n",
       "\n",
       "[5 rows x 41 columns]"
      ]
     },
     "execution_count": 4,
     "metadata": {},
     "output_type": "execute_result"
    }
   ],
   "source": [
    "tmp.head()"
   ]
  },
  {
   "cell_type": "code",
   "execution_count": 5,
   "metadata": {
    "ExecuteTime": {
     "end_time": "2019-08-09T02:55:57.392613Z",
     "start_time": "2019-08-09T02:55:57.380807Z"
    }
   },
   "outputs": [
    {
     "data": {
      "text/plain": [
       "(1599, 41)"
      ]
     },
     "execution_count": 5,
     "metadata": {},
     "output_type": "execute_result"
    }
   ],
   "source": [
    "tmp.shape"
   ]
  },
  {
   "cell_type": "code",
   "execution_count": 7,
   "metadata": {
    "ExecuteTime": {
     "end_time": "2019-08-09T02:56:42.669676Z",
     "start_time": "2019-08-09T02:56:42.609290Z"
    },
    "scrolled": true
   },
   "outputs": [
    {
     "data": {
      "text/html": [
       "<div>\n",
       "<style scoped>\n",
       "    .dataframe tbody tr th:only-of-type {\n",
       "        vertical-align: middle;\n",
       "    }\n",
       "\n",
       "    .dataframe tbody tr th {\n",
       "        vertical-align: top;\n",
       "    }\n",
       "\n",
       "    .dataframe thead th {\n",
       "        text-align: right;\n",
       "    }\n",
       "</style>\n",
       "<table border=\"1\" class=\"dataframe\">\n",
       "  <thead>\n",
       "    <tr style=\"text-align: right;\">\n",
       "      <th></th>\n",
       "      <th>0</th>\n",
       "    </tr>\n",
       "  </thead>\n",
       "  <tbody>\n",
       "    <tr>\n",
       "      <th>Id</th>\n",
       "      <td>0</td>\n",
       "    </tr>\n",
       "    <tr>\n",
       "      <th>Label</th>\n",
       "      <td>0</td>\n",
       "    </tr>\n",
       "    <tr>\n",
       "      <th>I1</th>\n",
       "      <td>695</td>\n",
       "    </tr>\n",
       "    <tr>\n",
       "      <th>I2</th>\n",
       "      <td>0</td>\n",
       "    </tr>\n",
       "    <tr>\n",
       "      <th>I3</th>\n",
       "      <td>357</td>\n",
       "    </tr>\n",
       "    <tr>\n",
       "      <th>I4</th>\n",
       "      <td>334</td>\n",
       "    </tr>\n",
       "    <tr>\n",
       "      <th>I5</th>\n",
       "      <td>74</td>\n",
       "    </tr>\n",
       "    <tr>\n",
       "      <th>I6</th>\n",
       "      <td>392</td>\n",
       "    </tr>\n",
       "    <tr>\n",
       "      <th>I7</th>\n",
       "      <td>77</td>\n",
       "    </tr>\n",
       "    <tr>\n",
       "      <th>I8</th>\n",
       "      <td>2</td>\n",
       "    </tr>\n",
       "    <tr>\n",
       "      <th>I9</th>\n",
       "      <td>77</td>\n",
       "    </tr>\n",
       "    <tr>\n",
       "      <th>I10</th>\n",
       "      <td>695</td>\n",
       "    </tr>\n",
       "    <tr>\n",
       "      <th>I11</th>\n",
       "      <td>77</td>\n",
       "    </tr>\n",
       "    <tr>\n",
       "      <th>I12</th>\n",
       "      <td>1238</td>\n",
       "    </tr>\n",
       "    <tr>\n",
       "      <th>I13</th>\n",
       "      <td>334</td>\n",
       "    </tr>\n",
       "    <tr>\n",
       "      <th>C1</th>\n",
       "      <td>0</td>\n",
       "    </tr>\n",
       "    <tr>\n",
       "      <th>C2</th>\n",
       "      <td>0</td>\n",
       "    </tr>\n",
       "    <tr>\n",
       "      <th>C3</th>\n",
       "      <td>46</td>\n",
       "    </tr>\n",
       "    <tr>\n",
       "      <th>C4</th>\n",
       "      <td>46</td>\n",
       "    </tr>\n",
       "    <tr>\n",
       "      <th>C5</th>\n",
       "      <td>0</td>\n",
       "    </tr>\n",
       "    <tr>\n",
       "      <th>C6</th>\n",
       "      <td>197</td>\n",
       "    </tr>\n",
       "    <tr>\n",
       "      <th>C7</th>\n",
       "      <td>0</td>\n",
       "    </tr>\n",
       "    <tr>\n",
       "      <th>C8</th>\n",
       "      <td>0</td>\n",
       "    </tr>\n",
       "    <tr>\n",
       "      <th>C9</th>\n",
       "      <td>0</td>\n",
       "    </tr>\n",
       "    <tr>\n",
       "      <th>C10</th>\n",
       "      <td>0</td>\n",
       "    </tr>\n",
       "    <tr>\n",
       "      <th>C11</th>\n",
       "      <td>0</td>\n",
       "    </tr>\n",
       "    <tr>\n",
       "      <th>C12</th>\n",
       "      <td>46</td>\n",
       "    </tr>\n",
       "    <tr>\n",
       "      <th>C13</th>\n",
       "      <td>0</td>\n",
       "    </tr>\n",
       "    <tr>\n",
       "      <th>C14</th>\n",
       "      <td>0</td>\n",
       "    </tr>\n",
       "    <tr>\n",
       "      <th>C15</th>\n",
       "      <td>0</td>\n",
       "    </tr>\n",
       "    <tr>\n",
       "      <th>C16</th>\n",
       "      <td>46</td>\n",
       "    </tr>\n",
       "    <tr>\n",
       "      <th>C17</th>\n",
       "      <td>0</td>\n",
       "    </tr>\n",
       "    <tr>\n",
       "      <th>C18</th>\n",
       "      <td>0</td>\n",
       "    </tr>\n",
       "    <tr>\n",
       "      <th>C19</th>\n",
       "      <td>779</td>\n",
       "    </tr>\n",
       "    <tr>\n",
       "      <th>C20</th>\n",
       "      <td>779</td>\n",
       "    </tr>\n",
       "    <tr>\n",
       "      <th>C21</th>\n",
       "      <td>46</td>\n",
       "    </tr>\n",
       "    <tr>\n",
       "      <th>C22</th>\n",
       "      <td>1309</td>\n",
       "    </tr>\n",
       "    <tr>\n",
       "      <th>C23</th>\n",
       "      <td>0</td>\n",
       "    </tr>\n",
       "    <tr>\n",
       "      <th>C24</th>\n",
       "      <td>46</td>\n",
       "    </tr>\n",
       "    <tr>\n",
       "      <th>C25</th>\n",
       "      <td>779</td>\n",
       "    </tr>\n",
       "    <tr>\n",
       "      <th>C26</th>\n",
       "      <td>779</td>\n",
       "    </tr>\n",
       "  </tbody>\n",
       "</table>\n",
       "</div>"
      ],
      "text/plain": [
       "          0\n",
       "Id        0\n",
       "Label     0\n",
       "I1      695\n",
       "I2        0\n",
       "I3      357\n",
       "I4      334\n",
       "I5       74\n",
       "I6      392\n",
       "I7       77\n",
       "I8        2\n",
       "I9       77\n",
       "I10     695\n",
       "I11      77\n",
       "I12    1238\n",
       "I13     334\n",
       "C1        0\n",
       "C2        0\n",
       "C3       46\n",
       "C4       46\n",
       "C5        0\n",
       "C6      197\n",
       "C7        0\n",
       "C8        0\n",
       "C9        0\n",
       "C10       0\n",
       "C11       0\n",
       "C12      46\n",
       "C13       0\n",
       "C14       0\n",
       "C15       0\n",
       "C16      46\n",
       "C17       0\n",
       "C18       0\n",
       "C19     779\n",
       "C20     779\n",
       "C21      46\n",
       "C22    1309\n",
       "C23       0\n",
       "C24      46\n",
       "C25     779\n",
       "C26     779"
      ]
     },
     "execution_count": 7,
     "metadata": {},
     "output_type": "execute_result"
    }
   ],
   "source": [
    "## 查看缺失值情况\n",
    "pd.DataFrame(tmp.isna().sum())"
   ]
  },
  {
   "cell_type": "code",
   "execution_count": 8,
   "metadata": {
    "ExecuteTime": {
     "end_time": "2019-08-09T03:08:13.173509Z",
     "start_time": "2019-08-09T03:08:13.168875Z"
    }
   },
   "outputs": [],
   "source": [
    "# 数据预处理\n",
    "def preProcess():\n",
    "    path = \"../data/criteo/\"\n",
    "    print(\"读取数据\")\n",
    "    df_train = pd.read_csv(path + \"train.csv\")\n",
    "    df_test = pd.read_csv(path + \"test.csv\")\n",
    "    print(\"读取结束\")\n",
    "    df_train.drop([\"Id\"], axis=1, inplace=True)\n",
    "    df_test.drop([\"Id\"], axis=1, inplace=True)\n",
    "    \n",
    "    df_test[\"Label\"] = -1 \n",
    "    \n",
    "    data = pd.concat([df_train, df_test], axis=0, sort=False, ignore_index=True)\n",
    "    data = data.fillna(-1)\n",
    "    data.to_csv(path+\"data.csv\", index=False)\n",
    "    return data "
   ]
  },
  {
   "cell_type": "markdown",
   "metadata": {},
   "source": [
    "# 使用LR进行预测"
   ]
  },
  {
   "cell_type": "code",
   "execution_count": 42,
   "metadata": {
    "ExecuteTime": {
     "end_time": "2019-08-09T07:05:53.439480Z",
     "start_time": "2019-08-09T07:05:53.414529Z"
    }
   },
   "outputs": [],
   "source": [
    "def lr_predict(df, category_fe, continuous_fe):\n",
    "    data = df.copy()\n",
    "    \n",
    "    # 对连续型特征进行归一化\n",
    "    print(\"开始归一化...\")\n",
    "    scaler= MinMaxScaler()\n",
    "    for col in continuous_fe:\n",
    "        data[col] = scaler.fit_transform(data[col].values.reshape(-1, 1))\n",
    "    print(\"归一化结束\")\n",
    "    \n",
    "    # 离散型特征 one-hot编码\n",
    "    print(\"开始one-hot...\")\n",
    "    for col in category_fe:\n",
    "        onehot_feats = pd.get_dummies(data[col], prefix=col)\n",
    "        data.drop([col], axis=1, inplace=True)\n",
    "        data = pd.concat([data, onehot_feats], axis=1)\n",
    "    print(\"one-hot编码结束\")\n",
    "    \n",
    "    \n",
    "    ## 训练集、测试集分离\n",
    "    train = data[data['Label'] != -1]\n",
    "    target = train.pop(\"Label\")\n",
    "    test = data[data['Label'] == -1]\n",
    "    test.drop([\"Label\"], axis=1, inplace=True)\n",
    "    \n",
    "    # 划分数据集\n",
    "    print(\"划分数据集...\")\n",
    "    X_train, X_val, y_train, y_val = train_test_split(train, target, test_size=0.2, random_state=2019)\n",
    "    print(\"开始训练...\")\n",
    "    lr = LogisticRegression()\n",
    "    lr.fit(X_train, y_train)\n",
    "    tr_logloss = log_loss(y_train, lr.predict_proba(X_train)[:, 1])\n",
    "    tr_auc_score = roc_auc_score(y_train, lr.predict_proba(X_train)[:, 1])\n",
    "    print(\"tr_logloss：\", tr_logloss, \"\\ntr_AUC：\", tr_auc_score)\n",
    "    val_logloss = log_loss(y_val, lr.predict_proba(X_val)[:, 1])\n",
    "    val_auc_score = roc_auc_score(y_val, lr.predict_proba(X_val)[:, 1])\n",
    "    print(\"val_logloss：\", val_logloss, \"\\nval_AUC：\", val_auc_score)\n",
    "    '''\n",
    "    print(\"开始预测...\")\n",
    "    y_pred = lr.predict_proba(test)[:, 1]\n",
    "    print(\"写入结果...\")\n",
    "    res = pd.read_csv(\"../data/criteo/test.csv\")\n",
    "    submission = pd.DataFrame({\"Id\": res[\"Id\"], \"Label\": y_pred})\n",
    "    submission.to_csv(f\"submisson_lr_trauc_{tr_auc_score}_valauc_{val_auc_score}.csv\", index=False)\n",
    "    '''"
   ]
  },
  {
   "cell_type": "markdown",
   "metadata": {},
   "source": [
    "# 使用GBDT预测"
   ]
  },
  {
   "cell_type": "code",
   "execution_count": 51,
   "metadata": {
    "ExecuteTime": {
     "end_time": "2019-08-09T07:06:51.959247Z",
     "start_time": "2019-08-09T07:06:51.951492Z"
    }
   },
   "outputs": [],
   "source": [
    "def gbdt_predict(df, category_fe, continuous_fe):\n",
    "    data = df.copy()\n",
    "    # 树模型对缺失值和连续值是否归一化不敏感\n",
    "    ## 对离散值进行one-hot\n",
    "    print(\"开始one-hot...\")\n",
    "    for col in category_fe:\n",
    "        onehot_feats = pd.get_dummies(data[col], prefix=col)\n",
    "        data.drop([col], axis=1, inplace=True)\n",
    "        data = pd.concat([data, onehot_feats], axis=1)\n",
    "    print(\"one-hot结束\")\n",
    "    \n",
    "    train = data[data['Label'] != -1]\n",
    "    target = train.pop(\"Label\")\n",
    "    test = data[data[\"Label\"] == -1]\n",
    "    test.drop([\"Label\"], axis=1, inplace=True)\n",
    "    \n",
    "    # 划分数据集\n",
    "    print(\"划分数据集...\")\n",
    "    X_train, X_val, y_train, y_val = train_test_split(train, target, test_size=0.2, random_state=2019)\n",
    "    \n",
    "    print(\"开始训练...\")\n",
    "    gbm = lgb.LGBMClassifier(objective=\"binary\",\n",
    "                            subsample=0.8, \n",
    "                            min_child_weight=0.5, colsample_bytree=0.7,\n",
    "                            num_leaves=100, max_depth=12,\n",
    "                            learning_rate=0.01, \n",
    "                            n_estimators=10000,)\n",
    "    \n",
    "    gbm.fit(X_train, y_train, \n",
    "           eval_set=[(X_train, y_train), (X_val, y_val)],\n",
    "           eval_names=[\"train\", \"val\"],\n",
    "           eval_metric=\"binary_logloss\",\n",
    "           early_stopping_rounds=100,\n",
    "           verbose=100)\n",
    "    print(\"训练集预测\")\n",
    "    tr_pred = gbm.predict_proba(X_train)[:, 1]\n",
    "    tr_logloss = log_loss(y_train, tr_pred)\n",
    "    tr_auc = roc_auc_score(y_train, tr_pred)\n",
    "    print(\"tr_logloss: \", tr_logloss, \"\\ntr_AUC: \", tr_auc)\n",
    "    print(\"验证集预测\")\n",
    "    val_pred = gbm.predict_proba(X_val)[:, 1]\n",
    "    val_logloss = log_loss(y_val, val_pred)\n",
    "    val_auc = roc_auc_score(y_val, val_pred)\n",
    "    print(\"val_logloss: \", val_logloss, \"\\nval_AUC: \", val_auc)"
   ]
  },
  {
   "cell_type": "markdown",
   "metadata": {},
   "source": [
    "# 使用gbdt+LR"
   ]
  },
  {
   "cell_type": "code",
   "execution_count": 63,
   "metadata": {
    "ExecuteTime": {
     "end_time": "2019-08-09T07:11:30.129532Z",
     "start_time": "2019-08-09T07:11:30.110973Z"
    }
   },
   "outputs": [],
   "source": [
    "def gbdt_lr_predict(df, category_fe, continuous_fe):\n",
    "    data = df.copy()\n",
    "    # 离散特征one-hot编码\n",
    "    print(\"开始onbe-hot...\")\n",
    "    for col in category_fe:\n",
    "        onehot_feats = pd.get_dummies(data[col], prefix=col)\n",
    "        data.drop([col], axis=1, inplace=True)\n",
    "        data = pd.concat([data, onehot_feats], axis=1)\n",
    "    print(\"one-hot编码结束\")\n",
    "    \n",
    "    train = data[data[\"Label\"] != -1]\n",
    "    target = train.pop(\"Label\")\n",
    "    test = data[data[\"Label\"] == -1]\n",
    "    test.drop([\"Label\"], axis=1, inplace=True)\n",
    "    \n",
    "    # 划分数据集\n",
    "    print(\"划分数据集\")\n",
    "    X_train, X_val, y_train, y_val = train_test_split(train, target, test_size=0.2, random_state = 2018)\n",
    "    \n",
    "    print(\"开始训练GBDT...\")\n",
    "    \n",
    "    lgb_train = lgb.Dataset(X_train, y_train)\n",
    "    lgb_val = lgb.Dataset(X_val, y_val)\n",
    "    \n",
    "    lgb_params = {\n",
    "        \"boosting_type\": \"gbdt\",\n",
    "        \"objective\": \"regression_l1\",\n",
    "        \"metric\": \"binary_logloss\",\n",
    "        \n",
    "        \"subsample\": 0.8, \n",
    "        \"min_child_weight\": 0.5, \n",
    "        \"colsample_bytree\": 0.7, \n",
    "        \"num_leaves\": 100, \n",
    "        \"max_depth\": 12, \n",
    "        \"learning_rate\": 0.05,\n",
    "        \"seed\": 2019, \n",
    "        \n",
    "        \"device\": \"gpu\",\n",
    "        \"gpu_platform_id\": 1,\n",
    "        \"gpu_device_id\": 0\n",
    "    }\n",
    "    \n",
    "    \n",
    "    model = lgb.train(lgb_params, lgb_train,\n",
    "                      num_boost_round=10, \n",
    "                     valid_sets=[lgb_train, lgb_val],\n",
    "                     valid_names=[\"train\", \"val\"])\n",
    "    \n",
    "    # 得到训练得到的叶子数\n",
    "    print(\"训练得到的叶子数\")\n",
    "    ## 设置pred_leaf=True，表示返回每个样本在每棵树上的叶子的ID\n",
    "    gbdt_feats_train = model.predict(train, pred_leaf=True)\n",
    "    gbdt_feats_test = model.predict(test, pred_leaf=True)\n",
    "    ## 将得到的叶子节点的值作为特征组合\n",
    "    gbdt_feats_name = [f\"gbdt_left_{i}\" for i in range(gbdt_feats_train.shape[1])]\n",
    "    ## 生成新的组合特征\n",
    "    df_train_gbdt_feats = pd.DataFrame(gbdt_feats_train, columns=gbdt_feats_name)\n",
    "    df_test_gbdt_feats = pd.DataFrame(gbdt_feats_test, columns=gbdt_feats_name)\n",
    "    \n",
    "    print(\"构造新的数据集...\")\n",
    "    train = pd.concat([train, df_train_gbdt_feats], axis=1)\n",
    "    test = pd.concat([test, df_test_gbdt_feats], axis=1)\n",
    "    train_len = train.shape[0]\n",
    "    data = pd.concat([train, test])\n",
    "    del train, test \n",
    "    gc.collect()\n",
    "    \n",
    "    # 对叶子特征就行one-hot\n",
    "    print(\"开始One-hot...\")\n",
    "    for col in gbdt_feats_name:\n",
    "        print(\"This is feature: \", col)\n",
    "        onehot_feats = pd.get_dummies(data[col], prefix=col)\n",
    "        data.drop([col], axis=1, inplace=True)\n",
    "        data = pd.concat([data, onehot_feats], axis=1)\n",
    "    print(\"one-hot结束\")\n",
    "    \n",
    "    train = data[:train_len]\n",
    "    test = data[train_len:]\n",
    "    del data\n",
    "    gc.collect()\n",
    "    \n",
    "    X_train, X_val, y_train, y_val = train_test_split(train, target, test_size=0.2, random_state=2019)\n",
    "    # lr\n",
    "    print(\"开始训练LR...\")\n",
    "    lr = LogisticRegression()\n",
    "    lr.fit(X_train, y_train)\n",
    "    tr_logloss = log_loss(y_train, lr.predict_proba(X_train)[:, 1])\n",
    "    tr_auc = roc_auc_score(y_train, lr.predict_proba(X_train)[:, 1])\n",
    "    print(\"tr_logloss: \", tr_logloss, \"\\ntr_AUC: \", tr_auc)\n",
    "    val_logloss = log_loss(y_val, lr.predict_proba(X_val)[:, 1])\n",
    "    val_auc = roc_auc_score(y_val, lr.predict_proba(X_val)[:, 1])\n",
    "    print(\"val_logloss: \", val_logloss, \"\\nval_AUC: \", val_auc)"
   ]
  },
  {
   "cell_type": "markdown",
   "metadata": {},
   "source": [
    "# 对不同的模型训练得到结果"
   ]
  },
  {
   "cell_type": "code",
   "execution_count": 53,
   "metadata": {
    "ExecuteTime": {
     "end_time": "2019-08-09T07:06:59.078370Z",
     "start_time": "2019-08-09T07:06:59.022584Z"
    }
   },
   "outputs": [
    {
     "name": "stdout",
     "output_type": "stream",
     "text": [
      "读取数据\n",
      "读取结束\n"
     ]
    }
   ],
   "source": [
    "data = preProcess()"
   ]
  },
  {
   "cell_type": "code",
   "execution_count": 54,
   "metadata": {
    "ExecuteTime": {
     "end_time": "2019-08-09T07:06:59.181334Z",
     "start_time": "2019-08-09T07:06:59.179184Z"
    }
   },
   "outputs": [],
   "source": [
    "# 划分连续特征和类别特征\n",
    "continuous_feature = [col for col in data.columns if col.startswith(\"I\")]\n",
    "category_feature = [col for col in data.columns if col.startswith(\"C\")]"
   ]
  },
  {
   "cell_type": "markdown",
   "metadata": {},
   "source": [
    "## lr模型训练和预测"
   ]
  },
  {
   "cell_type": "code",
   "execution_count": 55,
   "metadata": {
    "ExecuteTime": {
     "end_time": "2019-08-09T07:07:01.089949Z",
     "start_time": "2019-08-09T07:06:59.830909Z"
    }
   },
   "outputs": [
    {
     "name": "stdout",
     "output_type": "stream",
     "text": [
      "开始归一化...\n",
      "归一化结束\n",
      "开始one-hot...\n",
      "one-hot编码结束\n",
      "划分数据集...\n",
      "开始训练...\n",
      "tr_logloss： 0.12300658751702918 \n",
      "tr_AUC： 0.9999506487787471\n",
      "val_logloss： 0.5298239203825984 \n",
      "val_AUC： 0.7139775668679896\n"
     ]
    }
   ],
   "source": [
    "lr_predict(data, category_fe=category_feature, continuous_fe=continuous_feature)"
   ]
  },
  {
   "cell_type": "markdown",
   "metadata": {},
   "source": [
    "## gbdt预测"
   ]
  },
  {
   "cell_type": "code",
   "execution_count": 57,
   "metadata": {
    "ExecuteTime": {
     "end_time": "2019-08-09T07:07:19.215582Z",
     "start_time": "2019-08-09T07:07:02.558490Z"
    }
   },
   "outputs": [
    {
     "name": "stdout",
     "output_type": "stream",
     "text": [
      "开始one-hot...\n",
      "one-hot结束\n",
      "划分数据集...\n",
      "开始训练...\n",
      "Training until validation scores don't improve for 100 rounds.\n",
      "[100]\ttrain's binary_logloss: 0.360697\ttrain's binary_logloss: 0.360697\tval's binary_logloss: 0.518256\tval's binary_logloss: 0.518256\n",
      "[200]\ttrain's binary_logloss: 0.29057\ttrain's binary_logloss: 0.29057\tval's binary_logloss: 0.520195\tval's binary_logloss: 0.520195\n",
      "Early stopping, best iteration is:\n",
      "[133]\ttrain's binary_logloss: 0.332547\ttrain's binary_logloss: 0.332547\tval's binary_logloss: 0.517428\tval's binary_logloss: 0.517428\n",
      "训练集预测\n",
      "tr_logloss:  0.33254691862577923 \n",
      "tr_AUC:  0.9785094412682503\n",
      "验证集预测\n",
      "val_logloss:  0.517428421341816 \n",
      "val_AUC:  0.6736410698878342\n"
     ]
    }
   ],
   "source": [
    "gbdt_predict(data, category_feature, continuous_feature)"
   ]
  },
  {
   "cell_type": "markdown",
   "metadata": {},
   "source": [
    "## gbdt-lr预测"
   ]
  },
  {
   "cell_type": "code",
   "execution_count": 64,
   "metadata": {
    "ExecuteTime": {
     "end_time": "2019-08-09T07:11:53.914843Z",
     "start_time": "2019-08-09T07:11:34.869996Z"
    }
   },
   "outputs": [
    {
     "name": "stdout",
     "output_type": "stream",
     "text": [
      "开始onbe-hot...\n",
      "one-hot编码结束\n",
      "划分数据集\n",
      "开始训练GBDT...\n",
      "[1]\ttrain's binary_logloss: 4.75227\tval's binary_logloss: 6.86988\n",
      "[2]\ttrain's binary_logloss: 4.22737\tval's binary_logloss: 6.18712\n",
      "[3]\ttrain's binary_logloss: 3.47397\tval's binary_logloss: 5.58418\n",
      "[4]\ttrain's binary_logloss: 2.94258\tval's binary_logloss: 5.37\n",
      "[5]\ttrain's binary_logloss: 2.38065\tval's binary_logloss: 4.87179\n",
      "[6]\ttrain's binary_logloss: 2.26809\tval's binary_logloss: 4.86803\n",
      "[7]\ttrain's binary_logloss: 2.13636\tval's binary_logloss: 4.86333\n",
      "[8]\ttrain's binary_logloss: 2.1016\tval's binary_logloss: 4.86398\n",
      "[9]\ttrain's binary_logloss: 1.91367\tval's binary_logloss: 4.31777\n",
      "[10]\ttrain's binary_logloss: 1.68647\tval's binary_logloss: 4.12217\n",
      "训练得到的叶子数\n",
      "(1599, 10)\n",
      "[ 2 32 15  1 16  1  2  2  2 29]\n",
      "构造新的数据集...\n",
      "开始One-hot...\n",
      "This is feature:  gbdt_left_0\n",
      "This is feature:  gbdt_left_1\n",
      "This is feature:  gbdt_left_2\n",
      "This is feature:  gbdt_left_3\n",
      "This is feature:  gbdt_left_4\n",
      "This is feature:  gbdt_left_5\n",
      "This is feature:  gbdt_left_6\n",
      "This is feature:  gbdt_left_7\n",
      "This is feature:  gbdt_left_8\n",
      "This is feature:  gbdt_left_9\n",
      "one-hot结束\n",
      "开始训练LR...\n",
      "tr_logloss:  0.2734022842830979 \n",
      "tr_AUC:  0.9686695669999772\n",
      "val_logloss:  0.5108388259390896 \n",
      "val_AUC:  0.8435073339085417\n"
     ]
    }
   ],
   "source": [
    "gbdt_lr_predict(data, category_feature, continuous_feature)"
   ]
  },
  {
   "cell_type": "code",
   "execution_count": null,
   "metadata": {},
   "outputs": [],
   "source": []
  }
 ],
 "metadata": {
  "kernelspec": {
   "display_name": "Python 3",
   "language": "python",
   "name": "python3"
  },
  "language_info": {
   "codemirror_mode": {
    "name": "ipython",
    "version": 3
   },
   "file_extension": ".py",
   "mimetype": "text/x-python",
   "name": "python",
   "nbconvert_exporter": "python",
   "pygments_lexer": "ipython3",
   "version": "3.7.4"
  },
  "toc": {
   "base_numbering": 1,
   "nav_menu": {},
   "number_sections": true,
   "sideBar": true,
   "skip_h1_title": false,
   "title_cell": "Table of Contents",
   "title_sidebar": "Contents",
   "toc_cell": false,
   "toc_position": {},
   "toc_section_display": true,
   "toc_window_display": false
  }
 },
 "nbformat": 4,
 "nbformat_minor": 2
}
