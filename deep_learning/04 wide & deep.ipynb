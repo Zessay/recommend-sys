{
 "cells": [
  {
   "cell_type": "code",
   "execution_count": 2,
   "metadata": {
    "ExecuteTime": {
     "end_time": "2019-08-23T02:01:39.621305Z",
     "start_time": "2019-08-23T02:01:39.617164Z"
    }
   },
   "outputs": [],
   "source": [
    "import torch\n",
    "import torch.nn as nn \n",
    "import numpy as np \n",
    "import pandas as pd \n",
    "from collections import Counter\n",
    "import os \n",
    "from tqdm.autonotebook import tqdm "
   ]
  },
  {
   "cell_type": "code",
   "execution_count": 11,
   "metadata": {
    "ExecuteTime": {
     "end_time": "2019-08-23T03:26:13.065630Z",
     "start_time": "2019-08-23T03:26:13.063445Z"
    }
   },
   "outputs": [],
   "source": [
    "from typing import List, Tuple, Dict\n",
    "from torch.optim.lr_scheduler import StepLR, MultiStepLR\n",
    "import torch.nn.functional as F\n",
    "\n",
    "from sklearn.preprocessing import StandardScaler"
   ]
  },
  {
   "cell_type": "code",
   "execution_count": 14,
   "metadata": {
    "ExecuteTime": {
     "end_time": "2019-08-23T06:31:52.038843Z",
     "start_time": "2019-08-23T06:31:52.036941Z"
    }
   },
   "outputs": [],
   "source": [
    "import gc "
   ]
  },
  {
   "cell_type": "code",
   "execution_count": null,
   "metadata": {},
   "outputs": [],
   "source": [
    "# 设定模型使用的设备\n",
    "device = torch.device(\"cuda:0\") if torch.cuda.is_available() else \"cpu\""
   ]
  },
  {
   "cell_type": "markdown",
   "metadata": {},
   "source": [
    "# 搭建模型"
   ]
  },
  {
   "cell_type": "markdown",
   "metadata": {},
   "source": [
    "## 宽度模型"
   ]
  },
  {
   "cell_type": "code",
   "execution_count": 3,
   "metadata": {
    "ExecuteTime": {
     "end_time": "2019-08-23T02:03:33.194999Z",
     "start_time": "2019-08-23T02:03:33.190823Z"
    }
   },
   "outputs": [],
   "source": [
    "class Wide(nn.Module):\n",
    "    def __init__(self, wide_dim, output_dim):\n",
    "        '''\n",
    "        wide_dim表示输入神经元数\n",
    "        output_dim表示输出神经元数\n",
    "        '''\n",
    "        super().__init__()\n",
    "        self.wlinear = nn.Linear(wide_dim, output_dim)\n",
    "        \n",
    "    def forward(self, X):\n",
    "        out = self.wlinear(X)\n",
    "        return out"
   ]
  },
  {
   "cell_type": "markdown",
   "metadata": {},
   "source": [
    "## 深度模型"
   ]
  },
  {
   "cell_type": "code",
   "execution_count": 110,
   "metadata": {
    "ExecuteTime": {
     "end_time": "2019-08-23T07:44:53.183922Z",
     "start_time": "2019-08-23T07:44:53.174699Z"
    }
   },
   "outputs": [],
   "source": [
    "class DeepDense(nn.Module):\n",
    "    def __init__(self, embeddings_input, continuous_cols, \n",
    "                deep_column_idx, hidden_layers, dropout, output_dim):\n",
    "        '''\n",
    "        embedding_input: list型，其中每个元素都是tuple类型，tuple[0]表示column name，\n",
    "                        tuple[1]表示不同值的数量，tuple[2]表示embedding size\n",
    "        \n",
    "        embeddings_encoding_dict: dict型，包含了编码映射　\n",
    "        \n",
    "        continouous_cols: list型，所有连续型特征的列　\n",
    "        \n",
    "        deep_column_idx: dict型，所有需要embedding列的索引\n",
    "        \n",
    "        hidden_layers: list型，每个dense层的神经元数\n",
    "        \n",
    "        dropout: list型，两个dense层直接的dropout\n",
    "        \n",
    "        output_dim: int型，如果是lr和回归问题是1，多分类问题是n\n",
    "        '''\n",
    "        super().__init__()\n",
    "        \n",
    "        self.embeddings_input = embeddings_input\n",
    "        #self.embeddings_encoding_dict = embeddings_encoding_dict\n",
    "        self.continuous_cols = continuous_cols\n",
    "        self.deep_column_idx = deep_column_idx\n",
    "        \n",
    "        ## 定义编码层\n",
    "        for col, val, dim in embeddings_input:\n",
    "            setattr(self, \"emb_layer_\"+col, nn.Embedding(val, dim))\n",
    "        \n",
    "        ## 计算输入的所有神经元数\n",
    "        input_emb_dim = np.sum([emb[2] for emb in embeddings_input]) + len(continuous_cols)\n",
    "        hidden_layers = [input_emb_dim] + hidden_layers\n",
    "        dropout = [0.0] + dropout     ## 对输入层不使用droprout\n",
    "        self.dense = nn.Sequential()\n",
    "        for i in range(1, len(hidden_layers)):\n",
    "            self.dense.add_module(\n",
    "                f'den_layer_{i-1}', \n",
    "                self.dense_layer(hidden_layers[i-1], hidden_layers[i], dropout[i-1])\n",
    "            )\n",
    "        self.dense.add_module('last_linear', nn.Linear(hidden_layers[-1], output_dim))\n",
    "            \n",
    "    def dense_layer(self, inp, outp, dropout):\n",
    "        return nn.Sequential(\n",
    "            nn.Linear(inp, outp),\n",
    "            nn.LeakyReLU(inplace=True),\n",
    "            nn.Dropout(dropout)\n",
    "        )\n",
    "    \n",
    "    def forward(self, X):\n",
    "        emb = [getattr(self, 'emb_layer_'+col)(X[:, self.deep_column_idx[col]].long())\n",
    "              for col, _, _ in self.embeddings_input]\n",
    "        if self.continuous_cols:\n",
    "            cont_idx = [self.deep_column_idx[col] for col in self.continuous_cols]\n",
    "            cont = [X[:, cont_idx].float()]\n",
    "            inp = torch.cat(emb+cont, 1)\n",
    "        else:\n",
    "            inp = torch.cat(emb, 1)\n",
    "        out = self.dense(inp)\n",
    "        return out "
   ]
  },
  {
   "cell_type": "markdown",
   "metadata": {},
   "source": [
    "## 深宽模型"
   ]
  },
  {
   "cell_type": "code",
   "execution_count": 61,
   "metadata": {
    "ExecuteTime": {
     "end_time": "2019-08-23T07:33:20.711117Z",
     "start_time": "2019-08-23T07:33:20.706167Z"
    }
   },
   "outputs": [],
   "source": [
    "def set_optimizer(model_params, opt_params):\n",
    "    '''\n",
    "    model_params: 表示模型参数 \n",
    "    opt_params: 表示优化器参数\n",
    "    '''\n",
    "    try:\n",
    "        opt, lr, m = opt_params\n",
    "    except:\n",
    "        opt, lr = opt_params\n",
    "    \n",
    "    if opt == \"Adam\":\n",
    "        return torch.optim.Adam(model_params, lr=lr)\n",
    "    if opt == \"SGD\":\n",
    "        return torch.optim.SGD(model_params, lr=lr, momentum=m)"
   ]
  },
  {
   "cell_type": "code",
   "execution_count": 62,
   "metadata": {
    "ExecuteTime": {
     "end_time": "2019-08-23T07:33:20.866406Z",
     "start_time": "2019-08-23T07:33:20.863748Z"
    }
   },
   "outputs": [],
   "source": [
    "def set_scheduler(optimizer, sch_params):\n",
    "    sch, s, g = sch_params\n",
    "    if sch == \"StepLR\":\n",
    "        return StepLR(optimizer, step_size=s, gamma=g)\n",
    "    if sch == \"MultiStepLR\":\n",
    "        return MultiStepLR(optimizer, milestones=s, gamma=g)"
   ]
  },
  {
   "cell_type": "code",
   "execution_count": 63,
   "metadata": {
    "ExecuteTime": {
     "end_time": "2019-08-23T07:33:21.017368Z",
     "start_time": "2019-08-23T07:33:21.012783Z"
    }
   },
   "outputs": [],
   "source": [
    "class MultipleOptimizer(object):\n",
    "    def __init__(self, opts):\n",
    "        self.optimizers= opts \n",
    "    \n",
    "    def zero_grad(self):\n",
    "        for op in self.optimizers:\n",
    "            op.zero_grad()\n",
    "    \n",
    "    def step(self):\n",
    "        for op in self.optimizers:\n",
    "            op.step()\n",
    "            \n",
    "\n",
    "            \n",
    "class MultipleLRScheduler(object):\n",
    "    def __init__(self, scheds):\n",
    "        self.schedulers = scheds\n",
    "    \n",
    "    def step(self):\n",
    "        for sc in self.schedulers:\n",
    "            sc.step()"
   ]
  },
  {
   "cell_type": "code",
   "execution_count": 132,
   "metadata": {
    "ExecuteTime": {
     "end_time": "2019-08-23T07:52:21.442269Z",
     "start_time": "2019-08-23T07:52:21.423701Z"
    }
   },
   "outputs": [],
   "source": [
    "class WideDeep(nn.Module):\n",
    "    def __init__(self, output_dim, **params):\n",
    "        super().__init__()\n",
    "        \n",
    "        self.datasets = {}\n",
    "        self.n_datasets = 1 \n",
    "        self.output_dim = output_dim\n",
    "        \n",
    "        ## 宽度模型\n",
    "        for k, v in params['wide'].items():\n",
    "            setattr(self, k, v)\n",
    "        self.wide = Wide(self.wide_dim, self.output_dim)\n",
    "        \n",
    "        ## 深度模型\n",
    "        if \"deep_dense\" in params.keys():\n",
    "            self.datasets['deep_dense'] = self.n_datasets\n",
    "            self.n_datasets += 1 \n",
    "            for k, v in params['deep_dense'].items():\n",
    "                setattr(self, k, v)\n",
    "            \n",
    "            self.deep_dense = DeepDense(\n",
    "                self.embeddings_input,\n",
    "                #self.embeddings_encoding_dict, \n",
    "                self.continuous_cols,\n",
    "                self.deep_column_idx,\n",
    "                self.hidden_layers,\n",
    "                self.dropout,\n",
    "                self.output_dim\n",
    "            )\n",
    "            \n",
    "    def compile(self, optimizer, lr_scheduler=None):\n",
    "        '''\n",
    "        optimizer: dict型，需要制定不同模型的参数，比如 optimizer={'wide': ['SGD', 0.001, 0.3],\n",
    "                                                              'deep': ['Adam', 0.001]}\n",
    "        lr_shcheduler用于梯度衰减\n",
    "        '''\n",
    "        ## 定义模型的训练方法和损失函数\n",
    "        ### 由于是二分类的任务\n",
    "        #self.method = method\n",
    "        self.activation, self.criterion = torch.sigmoid, F.binary_cross_entropy\n",
    "        \n",
    "        ## 定义优化器和学习率下降方法\n",
    "        wide_opt = set_optimizer(self.wide.parameters(), optimizer['wide'])\n",
    "        wide_sch = set_scheduler(wide_opt, lr_scheduler['wide']) if lr_scheduler else None\n",
    "        optimizers, schedulers = [wide_opt], [wide_sch]\n",
    "        if \"deep_dense\" in optimizer.keys():\n",
    "            deep_dense_opt = set_optimizer(self.deep_dense.parameters(), optimizer['deep_dense'])\n",
    "            deep_dense_sch = set_scheduler(deep_dense_opt, lr_scheduler['deep_dense']) if lr_scheduler else None \n",
    "            optimizers += [deep_dense_opt]\n",
    "            schedulers += [deep_dense_sch]\n",
    "            \n",
    "        self.optimizer = MultipleOptimizer(optimizers)\n",
    "        self.lr_scheduler = MultipleLRScheduler(optimizers)\n",
    "        \n",
    "    def forward(self, X):\n",
    "        ## 宽度模型输出\n",
    "        wide_inp = X[0]\n",
    "        wide_deep = self.wide(wide_inp)\n",
    "        \n",
    "        \n",
    "        ## 深度模型输出\n",
    "        if 'deep_dense' in self.datasets.keys():\n",
    "            deep_dense_idx = self.datasets['deep_dense']\n",
    "            deep_dense_out = self.deep_dense(X[deep_dense_idx])\n",
    "            wide_deep.add_(deep_dense_out)\n",
    "        \n",
    "        if not self.activation:\n",
    "            return wide_deep\n",
    "        \n",
    "        else:\n",
    "            if (self.activation == F.softmax):\n",
    "                out = self.activation(wide_deep, dim=1)\n",
    "            else:\n",
    "                out = self.activation(wide_deep)\n",
    "        return out\n",
    "    \n",
    "    def fit(self, n_epochs, train_loader, eval_loader=None):\n",
    "        train_steps = (len(train_loader.dataset) // train_loader.batch_size) + 1 \n",
    "        if eval_loader:\n",
    "            eval_steps = (len(eval_loader.dataset) // eval_loader.batch_size) + 1 \n",
    "        \n",
    "        for epoch in range(n_epochs):\n",
    "            print(f\"正在进行第{epoch+1}轮迭代\")\n",
    "            ## 学习率衰减\n",
    "            if self.lr_scheduler:\n",
    "                self.lr_scheduler.step()\n",
    "            net = self.train()\n",
    "            net = net.to(device)\n",
    "            total, correct, running_loss = 0, 0, 0 \n",
    "            with tqdm(range(train_steps)) as t: \n",
    "                for i, (data, target) in zip(t, train_loader):\n",
    "                    X = tuple(x.to(device) for x in data)\n",
    "                    y = target.float().to(device)\n",
    "                    \n",
    "                    self.optimizer.zero_grad()\n",
    "                    y_pred = net(X)\n",
    "                    if (self.criterion == F.cross_entropy):\n",
    "                        loss = self.criterion(y_pred, y)\n",
    "                    else:\n",
    "                        loss = self.criterion(y_pred, y.view(-1, 1))\n",
    "                    loss.backward()\n",
    "                    self.optimizer.step()\n",
    "                    \n",
    "                    running_loss += loss.item()\n",
    "                    avg_loss = running_loss / (i+1)\n",
    "                    ## 得到预测的值\n",
    "                    y_pred_cat = (y_pred > 0.5).squeeze(1).float()\n",
    "                    ### 用于计算准确率\n",
    "                    correct += float((y_pred_cat == y).sum().item())\n",
    "                    total += y.size(0)\n",
    "            \n",
    "            \n",
    "                    if eval_loader:\n",
    "                        if i >0 and i % 2000 == 0:\n",
    "                            print(f\"Train —— Loss :{avg_loss} | Accuracy: {correct/total}\")\n",
    "                            total, correct, running_loss = 0, 0, 0 \n",
    "                            net = self.eval()\n",
    "                            net = net.to(device)\n",
    "                            with torch.no_grad():\n",
    "                                with tqdm(range(eval_steps)) as v: \n",
    "                                    for j, (data, target) in zip(v, eval_loader):\n",
    "                                        X = tuple(x.to(device) for x in data)\n",
    "                                        y = target.float().to(device)\n",
    "                                        y_pred = net(X)\n",
    "\n",
    "                                        loss = self.criterion(y_pred, y.view(-1, 1))\n",
    "                                        running_loss += loss.item()\n",
    "                                        avg_loss = running_loss / (i+1)\n",
    "\n",
    "                                        y_pred_cat = (y_pred > 0.5).squeeze(1).float()\n",
    "\n",
    "                                        correct += float((y_pred_cat == y).sum().item())\n",
    "                                        total += y.size(0)\n",
    "\n",
    "                            print(f\"Eval —— Loss: {avg_loss} | Accuracy: {correct / total}\")"
   ]
  },
  {
   "cell_type": "markdown",
   "metadata": {},
   "source": [
    "# 准备数据"
   ]
  },
  {
   "cell_type": "code",
   "execution_count": 15,
   "metadata": {
    "ExecuteTime": {
     "end_time": "2019-08-23T06:45:43.280674Z",
     "start_time": "2019-08-23T06:45:43.268464Z"
    }
   },
   "outputs": [],
   "source": [
    "class FieldHandler(object):\n",
    "    def __init__(self, train_file_path, test_file_path=None, category_columns=[], continuation_columns=[]):\n",
    "        '''\n",
    "        :param train_file_path: 训练集文件文件名\n",
    "        :param test_file_path: 测试集文件文件名\n",
    "        :param category_columns: 类别型特征, list型\n",
    "        :param continuation_columns: 连续型特征, list型\n",
    "        '''\n",
    "        self.train_file_path = None\n",
    "        self.test_file_path = None\n",
    "        #self.feature_nums = 1   ## 预留一位，第0号特征表示缺失值\n",
    "        self.field_dict = {}\n",
    "        self.cat_nums = {}\n",
    "        \n",
    "\n",
    "        self.category_columns = category_columns\n",
    "        self.continuation_columns = continuation_columns\n",
    "\n",
    "        if not isinstance(train_file_path, str):\n",
    "            raise ValueError(\"train file path must str\")\n",
    "        if os.path.exists(train_file_path):\n",
    "            self.train_file_path = train_file_path\n",
    "        else:\n",
    "            raise OSError(\"train file path isn't exists!\")\n",
    "\n",
    "        if test_file_path:\n",
    "            if os.path.exists(test_file_path):\n",
    "                self.test_file_path = test_file_path\n",
    "            else:\n",
    "                raise OSError(\"test file path isn't exists!\")\n",
    "        ## 读取数据\n",
    "        self.read_data()\n",
    "\n",
    "        ## 构建场到特征的字典\n",
    "        self.build_field_dict()\n",
    "        self.build_standard_scaler()\n",
    "        ## 该模型只对类别型特征进行embedding\n",
    "        self.cat_feats = len(self.category_columns)\n",
    "        self.num_feats = len(self.continuation_columns)\n",
    "        \n",
    "\n",
    "    def read_data(self):\n",
    "        '''\n",
    "        读取数据\n",
    "        '''\n",
    "        if self.train_file_path and self.test_file_path:\n",
    "            train_df = pd.read_csv(self.train_file_path)[self.category_columns + self.continuation_columns]\n",
    "            test_df = pd.read_csv(self.test_file_path)[self.category_columns + self.continuation_columns]\n",
    "            self.df = pd.concat([train_df, test_df])\n",
    "        else:\n",
    "            self.df = pd.read_csv(self.train_file_path)[self.category_columns + self.continuation_columns]\n",
    "\n",
    "\n",
    "    def build_field_dict(self):\n",
    "        '''\n",
    "        构建场到特征的映射关系\n",
    "        '''\n",
    "        for column in self.df.columns:\n",
    "            if column in self.category_columns:\n",
    "                ## 类别型特征中所有不同的值\n",
    "                ## 去掉缺失值\n",
    "                cv = [f for f in self.df[column].unique() if str(f) != \"nan\"]\n",
    "                ## 不同场的特征对应的类型都是从1开始，0用于填充缺失值\n",
    "                self.field_dict[column] = dict(zip(cv, range(1, 1+len(cv))))\n",
    "                self.cat_nums[column] = len(cv) + 1\n",
    "\n",
    "\n",
    "    def build_standard_scaler(self):\n",
    "        '''\n",
    "        对连续型特征进行标准化\n",
    "        '''\n",
    "        if self.continuation_columns:\n",
    "            self.standard_scaler = StandardScaler()\n",
    "            self.standard_scaler.fit(self.df[self.continuation_columns].values)\n",
    "        else:\n",
    "            self.standard_scaler = None"
   ]
  },
  {
   "cell_type": "code",
   "execution_count": 31,
   "metadata": {
    "ExecuteTime": {
     "end_time": "2019-08-23T06:56:44.149968Z",
     "start_time": "2019-08-23T06:56:44.141286Z"
    }
   },
   "outputs": [],
   "source": [
    "def transformation_data(file_path, field_hander, label=None):\n",
    "    '''\n",
    "    返回准备好的数据\n",
    "    :param label: 目标值对应的列名\n",
    "    :return:\n",
    "    '''\n",
    "    df_ = pd.read_csv(file_path)\n",
    "    if label:\n",
    "        if label in df_.columns:\n",
    "            ## 获取对应的目标值\n",
    "            labels = df_[[label]].values.astype(\"float32\")\n",
    "        else:\n",
    "            raise KeyError(f\"label '{label}' isn\\'t exists!\")\n",
    "    df_v = df_[field_hander.category_columns]\n",
    "    num_features = df_[field_hander.continuation_columns]\n",
    "    \n",
    "    del df_ \n",
    "    gc.collect()\n",
    "    \n",
    "    ## 对连续型特征和类别型特征的缺失值进行填充\n",
    "    ## 对连续型特征进行归一化\n",
    "    if field_hander.standard_scaler:\n",
    "        num_features[field_hander.continuation_columns] = field_hander.standard_scaler.transform(num_features.values)\n",
    "    ## 对连续型特征的缺失值进行填充\n",
    "    num_features.fillna(0, inplace=True)\n",
    "\n",
    "    ## 这个DataFrame用于记录每个类别型特征值和连续型特征对应的特征标号\n",
    "    df_i = df_v.copy()\n",
    "\n",
    "    for column in df_v.columns:\n",
    "        print(\"cat: \", column)\n",
    "        df_i[column] = df_i[column].map(field_hander.field_dict[column])\n",
    "        ## 对于测试集，可能有的特征值没有在训练集中出现\n",
    "        ## 第0号特征留给缺失值\n",
    "        df_i[column].fillna(0, inplace=True)\n",
    "        ## 对非缺失值赋值为1\n",
    "        df_v.loc[df_v[column].apply(lambda x: str(x) != \"nan\").values, column] = 1\n",
    "        ## 对值序列的缺失值用0填充\n",
    "        df_v[column].fillna(0, inplace=True)\n",
    "    \n",
    "    \n",
    "    cat_index = dict(zip(df_v.columns, range(len(df_v.columns))))\n",
    "    con_index = dict(zip(num_features.columns, range(len(num_features.columns))))\n",
    "    cat_v = df_v.values.astype(\"float32\")\n",
    "    cat_i = df_i.values.astype(\"int32\")\n",
    "    num_features = num_features.values.astype(\"float32\")\n",
    "    features = {\n",
    "        \"cat_i\": cat_i,\n",
    "        \"cat_v\": cat_v,\n",
    "        \"num_feats\": num_features,\n",
    "        \"cat_index\": cat_index,\n",
    "        \"con_index\": con_index\n",
    "    }\n",
    "\n",
    "    if label:\n",
    "        return features, labels\n",
    "    return features, None"
   ]
  },
  {
   "cell_type": "code",
   "execution_count": 17,
   "metadata": {
    "ExecuteTime": {
     "end_time": "2019-08-23T06:46:10.199448Z",
     "start_time": "2019-08-23T06:46:04.899119Z"
    }
   },
   "outputs": [],
   "source": [
    "data = pd.read_csv(\"../data/criteo/criteo_data.csv\")\n",
    "\n",
    "## 取出连续型特征和类别型特征\n",
    "con = [f for f in data.columns if f.startswith(\"I\")]\n",
    "cat = [f for f in data.columns if f.startswith(\"C\")]"
   ]
  },
  {
   "cell_type": "code",
   "execution_count": 20,
   "metadata": {
    "ExecuteTime": {
     "end_time": "2019-08-23T06:47:05.990854Z",
     "start_time": "2019-08-23T06:47:00.187023Z"
    }
   },
   "outputs": [],
   "source": [
    "# 定义fieldhandler对象\n",
    "field_handler = FieldHandler(train_file_path=\"../data/criteo/criteo_data.csv\", continuation_columns=con,\n",
    "                           category_columns=cat)"
   ]
  },
  {
   "cell_type": "code",
   "execution_count": 32,
   "metadata": {
    "ExecuteTime": {
     "end_time": "2019-08-23T06:57:16.755333Z",
     "start_time": "2019-08-23T06:56:47.835143Z"
    },
    "scrolled": true
   },
   "outputs": [
    {
     "name": "stdout",
     "output_type": "stream",
     "text": [
      "cat:  C1\n",
      "cat:  C2\n",
      "cat:  C3\n",
      "cat:  C4\n",
      "cat:  C5\n",
      "cat:  C6\n",
      "cat:  C7\n",
      "cat:  C8\n",
      "cat:  C9\n",
      "cat:  C10\n",
      "cat:  C11\n",
      "cat:  C12\n",
      "cat:  C13\n",
      "cat:  C14\n",
      "cat:  C15\n",
      "cat:  C16\n",
      "cat:  C17\n",
      "cat:  C18\n",
      "cat:  C19\n",
      "cat:  C20\n",
      "cat:  C21\n",
      "cat:  C22\n",
      "cat:  C23\n",
      "cat:  C24\n",
      "cat:  C25\n",
      "cat:  C26\n"
     ]
    }
   ],
   "source": [
    "# 获取要输入的特征和标签值\n",
    "features, labels = transformation_data(file_path=\"../data/criteo/criteo_data.csv\",\n",
    "                                      field_hander=field_handler, label=\"Label\")"
   ]
  },
  {
   "cell_type": "code",
   "execution_count": 33,
   "metadata": {
    "ExecuteTime": {
     "end_time": "2019-08-23T06:57:23.867541Z",
     "start_time": "2019-08-23T06:57:23.862273Z"
    }
   },
   "outputs": [],
   "source": [
    "# 取出各种类型的特征\n",
    "con_fe = features[\"num_feats\"]\n",
    "cat_fe = features[\"cat_i\"]\n",
    "con_index = features[\"con_index\"]\n",
    "cat_index = features[\"cat_index\"]"
   ]
  },
  {
   "cell_type": "code",
   "execution_count": 35,
   "metadata": {
    "ExecuteTime": {
     "end_time": "2019-08-23T07:00:06.704149Z",
     "start_time": "2019-08-23T07:00:06.613304Z"
    }
   },
   "outputs": [],
   "source": [
    "## 将连续性和类别型特征拼接作为deep的输入\n",
    "deep_input = np.concatenate([con_fe, cat_fe], axis=1)\n",
    "for key in cat_index.keys():\n",
    "    cat_index[key] += len(con_index)"
   ]
  },
  {
   "cell_type": "code",
   "execution_count": 37,
   "metadata": {
    "ExecuteTime": {
     "end_time": "2019-08-23T07:02:05.645705Z",
     "start_time": "2019-08-23T07:02:05.643739Z"
    }
   },
   "outputs": [],
   "source": [
    "deep_column_index = {}\n",
    "deep_column_index.update(con_index)\n",
    "deep_column_index.update(cat_index)"
   ]
  },
  {
   "cell_type": "code",
   "execution_count": 38,
   "metadata": {
    "ExecuteTime": {
     "end_time": "2019-08-23T07:11:57.374796Z",
     "start_time": "2019-08-23T07:11:57.370184Z"
    }
   },
   "outputs": [],
   "source": [
    "# 划分训练集和测试集\n",
    "train_idx = slice(0, int(len(labels)*0.8))\n",
    "val_idx = slice(int(len(labels)*0.8), int(len(labels)))\n",
    "\n",
    "train_wide, train_deep, train_y = con_fe[train_idx], deep_input[train_idx], labels[train_idx]\n",
    "val_wide, val_deep, val_y = con_fe[val_idx], deep_input[val_idx], labels[val_idx]\n",
    "\n",
    "train_data = {\"wide\": train_wide, \"deep_dense\": train_deep, \"target\": train_y}\n",
    "val_data = {\"wide\": val_wide, \"deep_dense\": val_deep, \"target\": val_y}\n",
    "\n",
    "data = {\"train\": train_data, \"val\": val_data}"
   ]
  },
  {
   "cell_type": "markdown",
   "metadata": {},
   "source": [
    "## 定义数据封装类"
   ]
  },
  {
   "cell_type": "code",
   "execution_count": 41,
   "metadata": {
    "ExecuteTime": {
     "end_time": "2019-08-23T07:18:21.223291Z",
     "start_time": "2019-08-23T07:18:21.218636Z"
    }
   },
   "outputs": [],
   "source": [
    "from torch.utils.data import Dataset, DataLoader"
   ]
  },
  {
   "cell_type": "code",
   "execution_count": 43,
   "metadata": {
    "ExecuteTime": {
     "end_time": "2019-08-23T07:19:08.596000Z",
     "start_time": "2019-08-23T07:19:08.589224Z"
    }
   },
   "outputs": [],
   "source": [
    "class WideDeepLoader(Dataset):\n",
    "    def __init__(self, data, mode=\"train\"):\n",
    "        self.mode = mode \n",
    "        self.input_types = list(data.keys())\n",
    "        self.X_wide = data['wide']\n",
    "        if \"deep_dense\" in self.input_types:\n",
    "            self.X_deep_dense = data[\"deep_dense\"]\n",
    "        \n",
    "        if self.mode is \"train\":\n",
    "            self.Y = data['target']\n",
    "        elif self.mode is \"test\":\n",
    "            self.Y = None\n",
    "            \n",
    "    def __getitem__(self, idx):\n",
    "        xw = self.X_wide[idx]\n",
    "        X = (xw,)\n",
    "        if \"deep_dense\" in self.input_types:\n",
    "            xdd = self.X_deep_dense[idx]\n",
    "            X += (xdd,)\n",
    "        \n",
    "        if self.mode is \"train\":\n",
    "            y = self.Y[idx]\n",
    "            return X, y \n",
    "        elif self.mode is \"test\":\n",
    "            return X\n",
    "        \n",
    "    def __len__(self):\n",
    "        return len(self.X_wide)"
   ]
  },
  {
   "cell_type": "code",
   "execution_count": 44,
   "metadata": {
    "ExecuteTime": {
     "end_time": "2019-08-23T07:19:09.115516Z",
     "start_time": "2019-08-23T07:19:09.113128Z"
    }
   },
   "outputs": [],
   "source": [
    "train_set = WideDeepLoader(data['train'], mode='train')\n",
    "valid_set = WideDeepLoader(data['val'], mode='train')"
   ]
  },
  {
   "cell_type": "markdown",
   "metadata": {},
   "source": [
    "## 设置参数"
   ]
  },
  {
   "cell_type": "code",
   "execution_count": 50,
   "metadata": {
    "ExecuteTime": {
     "end_time": "2019-08-23T07:29:10.577734Z",
     "start_time": "2019-08-23T07:29:10.572696Z"
    }
   },
   "outputs": [],
   "source": [
    "## 定义每个类别型特征的输入维度和隐向量维度\n",
    "embeddings_input = []\n",
    "for key, value in field_handler.cat_nums.items():\n",
    "    if value >= 100:\n",
    "        emb_dim = 20\n",
    "    elif value >= 20: \n",
    "        emb_dim = 10\n",
    "    else:\n",
    "        emb_dim = 5 \n",
    "    item = (key, value, emb_dim)\n",
    "    embeddings_input.append(item)"
   ]
  },
  {
   "cell_type": "code",
   "execution_count": 69,
   "metadata": {
    "ExecuteTime": {
     "end_time": "2019-08-23T07:34:03.989246Z",
     "start_time": "2019-08-23T07:34:03.986499Z"
    }
   },
   "outputs": [],
   "source": [
    "params = dict()\n",
    "\n",
    "params['wide'] = dict(wide_dim=field_handler.num_feats)\n",
    "\n",
    "params['deep_dense'] = dict(\n",
    "    embeddings_input = embeddings_input,\n",
    "    continuous_cols = con,\n",
    "    deep_column_idx=deep_column_index,\n",
    "    hidden_layers = [64, 32],\n",
    "    dropout=[0.5]\n",
    ")"
   ]
  },
  {
   "cell_type": "code",
   "execution_count": 133,
   "metadata": {
    "ExecuteTime": {
     "end_time": "2019-08-23T07:52:29.001382Z",
     "start_time": "2019-08-23T07:52:28.862516Z"
    }
   },
   "outputs": [],
   "source": [
    "model = WideDeep(output_dim=1, **params)"
   ]
  },
  {
   "cell_type": "code",
   "execution_count": 134,
   "metadata": {
    "ExecuteTime": {
     "end_time": "2019-08-23T07:52:29.023260Z",
     "start_time": "2019-08-23T07:52:29.020941Z"
    }
   },
   "outputs": [],
   "source": [
    "# 定义优化器和学习率衰减\n",
    "optimizer = dict(\n",
    "    wide=[\"Adam\", 0.1],\n",
    "    deep_dense=[\"Adam\", 0.01]\n",
    ")\n",
    "\n",
    "lr_scheduler = dict(\n",
    "    wide=[\"StepLR\", 3, 0.1],\n",
    "    deep_dense=[\"StepLR\", 3, 0.1]\n",
    ")"
   ]
  },
  {
   "cell_type": "code",
   "execution_count": 135,
   "metadata": {
    "ExecuteTime": {
     "end_time": "2019-08-23T07:52:29.170589Z",
     "start_time": "2019-08-23T07:52:29.168120Z"
    }
   },
   "outputs": [],
   "source": [
    "model.compile(optimizer=optimizer, lr_scheduler=lr_scheduler)"
   ]
  },
  {
   "cell_type": "code",
   "execution_count": 137,
   "metadata": {
    "ExecuteTime": {
     "end_time": "2019-08-23T07:52:29.476588Z",
     "start_time": "2019-08-23T07:52:29.474268Z"
    }
   },
   "outputs": [],
   "source": [
    "train_loader = DataLoader(dataset=train_set, batch_size=128, num_workers=4, shuffle=True)\n",
    "valid_loader = DataLoader(dataset=valid_set, batch_size=128, num_workers=4, shuffle=False)"
   ]
  },
  {
   "cell_type": "code",
   "execution_count": 138,
   "metadata": {
    "ExecuteTime": {
     "end_time": "2019-08-23T08:18:12.321224Z",
     "start_time": "2019-08-23T07:52:29.627037Z"
    },
    "scrolled": true
   },
   "outputs": [
    {
     "name": "stdout",
     "output_type": "stream",
     "text": [
      "正在进行第1轮迭代\n"
     ]
    },
    {
     "data": {
      "application/vnd.jupyter.widget-view+json": {
       "model_id": "45e097f0f00146e0b4304ba64b650e87",
       "version_major": 2,
       "version_minor": 0
      },
      "text/plain": [
       "HBox(children=(IntProgress(value=0, max=6251), HTML(value='')))"
      ]
     },
     "metadata": {},
     "output_type": "display_data"
    },
    {
     "name": "stdout",
     "output_type": "stream",
     "text": [
      "Train —— Loss :0.5151050503941431 | Accuracy: 89.77086456771615\n"
     ]
    },
    {
     "data": {
      "application/vnd.jupyter.widget-view+json": {
       "model_id": "554d11883d9d4bedb71e35ee6a2988df",
       "version_major": 2,
       "version_minor": 0
      },
      "text/plain": [
       "HBox(children=(IntProgress(value=0, max=1563), HTML(value='')))"
      ]
     },
     "metadata": {},
     "output_type": "display_data"
    },
    {
     "name": "stdout",
     "output_type": "stream",
     "text": [
      "Eval —— Loss: 0.388253600537211 | Accuracy: 89.93517\n",
      "Train —— Loss :0.44126166197336547 | Accuracy: 89.18160526315789\n"
     ]
    },
    {
     "data": {
      "application/vnd.jupyter.widget-view+json": {
       "model_id": "6f50e1bff85548809d24b4e1801363ba",
       "version_major": 2,
       "version_minor": 0
      },
      "text/plain": [
       "HBox(children=(IntProgress(value=0, max=1563), HTML(value='')))"
      ]
     },
     "metadata": {},
     "output_type": "display_data"
    },
    {
     "name": "stdout",
     "output_type": "stream",
     "text": [
      "Eval —— Loss: 0.19069799216232786 | Accuracy: 87.61846\n",
      "Train —— Loss :0.29008364713186024 | Accuracy: 87.89494736842106\n"
     ]
    },
    {
     "data": {
      "application/vnd.jupyter.widget-view+json": {
       "model_id": "bcd5b4008cd3473fa2ecb0c7cc2cd085",
       "version_major": 2,
       "version_minor": 0
      },
      "text/plain": [
       "HBox(children=(IntProgress(value=0, max=1563), HTML(value='')))"
      ]
     },
     "metadata": {},
     "output_type": "display_data"
    },
    {
     "name": "stdout",
     "output_type": "stream",
     "text": [
      "Eval —— Loss: 0.1272702196939173 | Accuracy: 90.81823\n",
      "\n",
      "正在进行第2轮迭代\n"
     ]
    },
    {
     "data": {
      "application/vnd.jupyter.widget-view+json": {
       "model_id": "c89267bc406e4a57bc65d13bb7fd6be8",
       "version_major": 2,
       "version_minor": 0
      },
      "text/plain": [
       "HBox(children=(IntProgress(value=0, max=6251), HTML(value='')))"
      ]
     },
     "metadata": {},
     "output_type": "display_data"
    },
    {
     "name": "stdout",
     "output_type": "stream",
     "text": [
      "Train —— Loss :0.45040036321639537 | Accuracy: 85.48756871564218\n"
     ]
    },
    {
     "data": {
      "application/vnd.jupyter.widget-view+json": {
       "model_id": "da98275bebbf45eea61d78b8c9bbae57",
       "version_major": 2,
       "version_minor": 0
      },
      "text/plain": [
       "HBox(children=(IntProgress(value=0, max=1563), HTML(value='')))"
      ]
     },
     "metadata": {},
     "output_type": "display_data"
    },
    {
     "name": "stdout",
     "output_type": "stream",
     "text": [
      "Eval —— Loss: 0.3969581995321357 | Accuracy: 86.47612\n",
      "Train —— Loss :0.41618000836081576 | Accuracy: 85.4378201754386\n"
     ]
    },
    {
     "data": {
      "application/vnd.jupyter.widget-view+json": {
       "model_id": "a298a2c60e144c85bfb2142896a9f30a",
       "version_major": 2,
       "version_minor": 0
      },
      "text/plain": [
       "HBox(children=(IntProgress(value=0, max=1563), HTML(value='')))"
      ]
     },
     "metadata": {},
     "output_type": "display_data"
    },
    {
     "name": "stdout",
     "output_type": "stream",
     "text": [
      "Eval —— Loss: 0.2018098768607523 | Accuracy: 89.20461\n",
      "Train —— Loss :0.27645505077539734 | Accuracy: 86.56595614035088\n"
     ]
    },
    {
     "data": {
      "application/vnd.jupyter.widget-view+json": {
       "model_id": "232dc873232a4dd3aaaf88524e71ebbf",
       "version_major": 2,
       "version_minor": 0
      },
      "text/plain": [
       "HBox(children=(IntProgress(value=0, max=1563), HTML(value='')))"
      ]
     },
     "metadata": {},
     "output_type": "display_data"
    },
    {
     "name": "stdout",
     "output_type": "stream",
     "text": [
      "Eval —— Loss: 0.13762878081914168 | Accuracy: 85.88481\n",
      "\n",
      "正在进行第3轮迭代\n"
     ]
    },
    {
     "data": {
      "application/vnd.jupyter.widget-view+json": {
       "model_id": "4a850b9ba9cd418d85d892726a6d6840",
       "version_major": 2,
       "version_minor": 0
      },
      "text/plain": [
       "HBox(children=(IntProgress(value=0, max=6251), HTML(value='')))"
      ]
     },
     "metadata": {},
     "output_type": "display_data"
    },
    {
     "name": "stdout",
     "output_type": "stream",
     "text": [
      "Train —— Loss :0.3775008406670674 | Accuracy: 83.95431971514243\n"
     ]
    },
    {
     "data": {
      "application/vnd.jupyter.widget-view+json": {
       "model_id": "6f154e2b7406405f979656dfe944e805",
       "version_major": 2,
       "version_minor": 0
      },
      "text/plain": [
       "HBox(children=(IntProgress(value=0, max=1563), HTML(value='')))"
      ]
     },
     "metadata": {},
     "output_type": "display_data"
    },
    {
     "name": "stdout",
     "output_type": "stream",
     "text": [
      "Eval —— Loss: 0.4609490311753446 | Accuracy: 86.00929\n",
      "Train —— Loss :0.4106842063682075 | Accuracy: 84.66174122807017\n"
     ]
    },
    {
     "data": {
      "application/vnd.jupyter.widget-view+json": {
       "model_id": "1123d42c8df34514ba4464afb0d73ddb",
       "version_major": 2,
       "version_minor": 0
      },
      "text/plain": [
       "HBox(children=(IntProgress(value=0, max=1563), HTML(value='')))"
      ]
     },
     "metadata": {},
     "output_type": "display_data"
    },
    {
     "name": "stdout",
     "output_type": "stream",
     "text": [
      "Eval —— Loss: 0.26008533974106207 | Accuracy: 82.48266\n",
      "Train —— Loss :0.29410316474664966 | Accuracy: 83.21069736842105\n"
     ]
    },
    {
     "data": {
      "application/vnd.jupyter.widget-view+json": {
       "model_id": "e23131ec10bc4546ad7706d67fb2814a",
       "version_major": 2,
       "version_minor": 0
      },
      "text/plain": [
       "HBox(children=(IntProgress(value=0, max=1563), HTML(value='')))"
      ]
     },
     "metadata": {},
     "output_type": "display_data"
    },
    {
     "name": "stdout",
     "output_type": "stream",
     "text": [
      "Eval —— Loss: 0.15016495767801408 | Accuracy: 84.8858\n",
      "\n",
      "正在进行第4轮迭代\n"
     ]
    },
    {
     "data": {
      "application/vnd.jupyter.widget-view+json": {
       "model_id": "1ad42e299f074f34896f7a53218a6cad",
       "version_major": 2,
       "version_minor": 0
      },
      "text/plain": [
       "HBox(children=(IntProgress(value=0, max=6251), HTML(value='')))"
      ]
     },
     "metadata": {},
     "output_type": "display_data"
    },
    {
     "name": "stdout",
     "output_type": "stream",
     "text": [
      "Train —— Loss :0.34399336240608536 | Accuracy: 83.56673225887056\n"
     ]
    },
    {
     "data": {
      "application/vnd.jupyter.widget-view+json": {
       "model_id": "96df662670ab4f48b71dfebc6d999c4f",
       "version_major": 2,
       "version_minor": 0
      },
      "text/plain": [
       "HBox(children=(IntProgress(value=0, max=1563), HTML(value='')))"
      ]
     },
     "metadata": {},
     "output_type": "display_data"
    },
    {
     "name": "stdout",
     "output_type": "stream",
     "text": [
      "Eval —— Loss: 0.532102852002315 | Accuracy: 86.54369\n",
      "Train —— Loss :0.43091200834004706 | Accuracy: 84.69817105263158\n"
     ]
    },
    {
     "data": {
      "application/vnd.jupyter.widget-view+json": {
       "model_id": "20ac1bc21ef046298eba1df1517009aa",
       "version_major": 2,
       "version_minor": 0
      },
      "text/plain": [
       "HBox(children=(IntProgress(value=0, max=1563), HTML(value='')))"
      ]
     },
     "metadata": {},
     "output_type": "display_data"
    },
    {
     "name": "stdout",
     "output_type": "stream",
     "text": [
      "Eval —— Loss: 0.2646579755466898 | Accuracy: 81.99866\n",
      "Train —— Loss :0.288902428063864 | Accuracy: 82.7747149122807\n"
     ]
    },
    {
     "data": {
      "application/vnd.jupyter.widget-view+json": {
       "model_id": "41804aa049904408a3bac68023cf5a76",
       "version_major": 2,
       "version_minor": 0
      },
      "text/plain": [
       "HBox(children=(IntProgress(value=0, max=1563), HTML(value='')))"
      ]
     },
     "metadata": {},
     "output_type": "display_data"
    },
    {
     "name": "stdout",
     "output_type": "stream",
     "text": [
      "Eval —— Loss: 0.16697292031099192 | Accuracy: 82.9404\n",
      "\n",
      "正在进行第5轮迭代\n"
     ]
    },
    {
     "data": {
      "application/vnd.jupyter.widget-view+json": {
       "model_id": "3d138e812e584148af1834da4400137b",
       "version_major": 2,
       "version_minor": 0
      },
      "text/plain": [
       "HBox(children=(IntProgress(value=0, max=6251), HTML(value='')))"
      ]
     },
     "metadata": {},
     "output_type": "display_data"
    },
    {
     "name": "stdout",
     "output_type": "stream",
     "text": [
      "Train —— Loss :0.3254817540886282 | Accuracy: 83.04169790104947\n"
     ]
    },
    {
     "data": {
      "application/vnd.jupyter.widget-view+json": {
       "model_id": "12288be96e1d471cabc402153e532df0",
       "version_major": 2,
       "version_minor": 0
      },
      "text/plain": [
       "HBox(children=(IntProgress(value=0, max=1563), HTML(value='')))"
      ]
     },
     "metadata": {},
     "output_type": "display_data"
    },
    {
     "name": "stdout",
     "output_type": "stream",
     "text": [
      "Eval —— Loss: 0.6711847766049799 | Accuracy: 83.93384\n",
      "Train —— Loss :0.49186845202724266 | Accuracy: 83.2628947368421\n"
     ]
    },
    {
     "data": {
      "application/vnd.jupyter.widget-view+json": {
       "model_id": "12526475ce9f484fba5a59f736557a0d",
       "version_major": 2,
       "version_minor": 0
      },
      "text/plain": [
       "HBox(children=(IntProgress(value=0, max=1563), HTML(value='')))"
      ]
     },
     "metadata": {},
     "output_type": "display_data"
    },
    {
     "name": "stdout",
     "output_type": "stream",
     "text": [
      "Eval —— Loss: 0.31624078437019304 | Accuracy: 79.43772\n",
      "Train —— Loss :0.31726004743730996 | Accuracy: 81.5718552631579\n"
     ]
    },
    {
     "data": {
      "application/vnd.jupyter.widget-view+json": {
       "model_id": "7be58064d0974fc7a870311f6b10a408",
       "version_major": 2,
       "version_minor": 0
      },
      "text/plain": [
       "HBox(children=(IntProgress(value=0, max=1563), HTML(value='')))"
      ]
     },
     "metadata": {},
     "output_type": "display_data"
    },
    {
     "name": "stdout",
     "output_type": "stream",
     "text": [
      "Eval —— Loss: 0.17808174225334883 | Accuracy: 81.57734\n",
      "\n",
      "正在进行第6轮迭代\n"
     ]
    },
    {
     "data": {
      "application/vnd.jupyter.widget-view+json": {
       "model_id": "35ca5445df924b3ebf91469a866ce81a",
       "version_major": 2,
       "version_minor": 0
      },
      "text/plain": [
       "HBox(children=(IntProgress(value=0, max=6251), HTML(value='')))"
      ]
     },
     "metadata": {},
     "output_type": "display_data"
    },
    {
     "name": "stdout",
     "output_type": "stream",
     "text": [
      "Train —— Loss :0.31233641195452133 | Accuracy: 82.59617847326336\n"
     ]
    },
    {
     "data": {
      "application/vnd.jupyter.widget-view+json": {
       "model_id": "f68552494bbe495d8102c9a6363b9938",
       "version_major": 2,
       "version_minor": 0
      },
      "text/plain": [
       "HBox(children=(IntProgress(value=0, max=1563), HTML(value='')))"
      ]
     },
     "metadata": {},
     "output_type": "display_data"
    },
    {
     "name": "stdout",
     "output_type": "stream",
     "text": [
      "Eval —— Loss: 0.843932226799179 | Accuracy: 82.22409\n",
      "Train —— Loss :0.571223736449916 | Accuracy: 82.49966228070176\n"
     ]
    },
    {
     "data": {
      "application/vnd.jupyter.widget-view+json": {
       "model_id": "d5aac38308bb45519986bbb3baf75ca0",
       "version_major": 2,
       "version_minor": 0
      },
      "text/plain": [
       "HBox(children=(IntProgress(value=0, max=1563), HTML(value='')))"
      ]
     },
     "metadata": {},
     "output_type": "display_data"
    },
    {
     "name": "stdout",
     "output_type": "stream",
     "text": [
      "Eval —— Loss: 0.2988073540922702 | Accuracy: 82.45345\n",
      "Train —— Loss :0.3007196737932893 | Accuracy: 82.55760087719298\n"
     ]
    },
    {
     "data": {
      "application/vnd.jupyter.widget-view+json": {
       "model_id": "007e722856f041859d9f8f1aa5d3c613",
       "version_major": 2,
       "version_minor": 0
      },
      "text/plain": [
       "HBox(children=(IntProgress(value=0, max=1563), HTML(value='')))"
      ]
     },
     "metadata": {},
     "output_type": "display_data"
    },
    {
     "name": "stdout",
     "output_type": "stream",
     "text": [
      "Eval —— Loss: 0.18833049461357276 | Accuracy: 81.84122\n",
      "\n",
      "正在进行第7轮迭代\n"
     ]
    },
    {
     "data": {
      "application/vnd.jupyter.widget-view+json": {
       "model_id": "f1e6234ffe46473d8e23e6bfe1ed7351",
       "version_major": 2,
       "version_minor": 0
      },
      "text/plain": [
       "HBox(children=(IntProgress(value=0, max=6251), HTML(value='')))"
      ]
     },
     "metadata": {},
     "output_type": "display_data"
    },
    {
     "name": "stdout",
     "output_type": "stream",
     "text": [
      "Train —— Loss :0.302502596336624 | Accuracy: 82.23849793853073\n"
     ]
    },
    {
     "data": {
      "application/vnd.jupyter.widget-view+json": {
       "model_id": "1ad572875c8f476b937cbbe7878f18b6",
       "version_major": 2,
       "version_minor": 0
      },
      "text/plain": [
       "HBox(children=(IntProgress(value=0, max=1563), HTML(value='')))"
      ]
     },
     "metadata": {},
     "output_type": "display_data"
    },
    {
     "name": "stdout",
     "output_type": "stream",
     "text": [
      "Eval —— Loss: 0.996330663718205 | Accuracy: 78.62033\n",
      "Train —— Loss :0.6405067614758501 | Accuracy: 80.76768421052631\n"
     ]
    },
    {
     "data": {
      "application/vnd.jupyter.widget-view+json": {
       "model_id": "f25338d8e6ce4b748c8e43b37345b3ac",
       "version_major": 2,
       "version_minor": 0
      },
      "text/plain": [
       "HBox(children=(IntProgress(value=0, max=1563), HTML(value='')))"
      ]
     },
     "metadata": {},
     "output_type": "display_data"
    },
    {
     "name": "stdout",
     "output_type": "stream",
     "text": [
      "Eval —— Loss: 0.3223456324144948 | Accuracy: 79.91648\n",
      "Train —— Loss :0.3123720161836558 | Accuracy: 81.2518201754386\n"
     ]
    },
    {
     "data": {
      "application/vnd.jupyter.widget-view+json": {
       "model_id": "a72bb7d6392444dfa5a3c26b96483f2a",
       "version_major": 2,
       "version_minor": 0
      },
      "text/plain": [
       "HBox(children=(IntProgress(value=0, max=1563), HTML(value='')))"
      ]
     },
     "metadata": {},
     "output_type": "display_data"
    },
    {
     "name": "stdout",
     "output_type": "stream",
     "text": [
      "Eval —— Loss: 0.2408879016403595 | Accuracy: 78.0584\n",
      "\n",
      "正在进行第8轮迭代\n"
     ]
    },
    {
     "data": {
      "application/vnd.jupyter.widget-view+json": {
       "model_id": "2145f97cd5b9461dadae8f304ef4ecb8",
       "version_major": 2,
       "version_minor": 0
      },
      "text/plain": [
       "HBox(children=(IntProgress(value=0, max=6251), HTML(value='')))"
      ]
     },
     "metadata": {},
     "output_type": "display_data"
    },
    {
     "name": "stdout",
     "output_type": "stream",
     "text": [
      "Train —— Loss :0.2843734566820436 | Accuracy: 82.07568871814092\n"
     ]
    },
    {
     "data": {
      "application/vnd.jupyter.widget-view+json": {
       "model_id": "8924ffeaa0464e74b57cf0bd0750837a",
       "version_major": 2,
       "version_minor": 0
      },
      "text/plain": [
       "HBox(children=(IntProgress(value=0, max=1563), HTML(value='')))"
      ]
     },
     "metadata": {},
     "output_type": "display_data"
    },
    {
     "name": "stdout",
     "output_type": "stream",
     "text": [
      "Eval —— Loss: 1.0484538955250005 | Accuracy: 78.87948\n",
      "Train —— Loss :0.6632098289627011 | Accuracy: 80.54392543859649\n"
     ]
    },
    {
     "data": {
      "application/vnd.jupyter.widget-view+json": {
       "model_id": "d499f1252be94f3d99892374a32b4603",
       "version_major": 2,
       "version_minor": 0
      },
      "text/plain": [
       "HBox(children=(IntProgress(value=0, max=1563), HTML(value='')))"
      ]
     },
     "metadata": {},
     "output_type": "display_data"
    },
    {
     "name": "stdout",
     "output_type": "stream",
     "text": [
      "Eval —— Loss: 0.4262785829922105 | Accuracy: 79.64195\n",
      "Train —— Loss :0.37697628520117504 | Accuracy: 81.08609649122808\n"
     ]
    },
    {
     "data": {
      "application/vnd.jupyter.widget-view+json": {
       "model_id": "edec2c1c9c00490d8dd521a95df08acd",
       "version_major": 2,
       "version_minor": 0
      },
      "text/plain": [
       "HBox(children=(IntProgress(value=0, max=1563), HTML(value='')))"
      ]
     },
     "metadata": {},
     "output_type": "display_data"
    },
    {
     "name": "stdout",
     "output_type": "stream",
     "text": [
      "Eval —— Loss: 0.3293951388260381 | Accuracy: 77.95703\n",
      "\n",
      "正在进行第9轮迭代\n"
     ]
    },
    {
     "data": {
      "application/vnd.jupyter.widget-view+json": {
       "model_id": "68004d9d497b49a2ac4d0718e062b5f3",
       "version_major": 2,
       "version_minor": 0
      },
      "text/plain": [
       "HBox(children=(IntProgress(value=0, max=6251), HTML(value='')))"
      ]
     },
     "metadata": {},
     "output_type": "display_data"
    },
    {
     "name": "stdout",
     "output_type": "stream",
     "text": [
      "Train —— Loss :0.2746424403028569 | Accuracy: 81.76287637431284\n"
     ]
    },
    {
     "data": {
      "application/vnd.jupyter.widget-view+json": {
       "model_id": "b1d6c1acdc8d40c7acb8b1e5aa399bb8",
       "version_major": 2,
       "version_minor": 0
      },
      "text/plain": [
       "HBox(children=(IntProgress(value=0, max=1563), HTML(value='')))"
      ]
     },
     "metadata": {},
     "output_type": "display_data"
    },
    {
     "name": "stdout",
     "output_type": "stream",
     "text": [
      "Eval —— Loss: 1.6256983145840582 | Accuracy: 74.62709\n",
      "Train —— Loss :0.9450258329804914 | Accuracy: 78.65723245614035\n"
     ]
    },
    {
     "data": {
      "application/vnd.jupyter.widget-view+json": {
       "model_id": "d55ba1d77e2a4844ab6e568e2faac799",
       "version_major": 2,
       "version_minor": 0
      },
      "text/plain": [
       "HBox(children=(IntProgress(value=0, max=1563), HTML(value='')))"
      ]
     },
     "metadata": {},
     "output_type": "display_data"
    },
    {
     "name": "stdout",
     "output_type": "stream",
     "text": [
      "Eval —— Loss: 0.35887231031408073 | Accuracy: 78.3993\n",
      "Train —— Loss :0.32884399297385986 | Accuracy: 80.36802631578948\n"
     ]
    },
    {
     "data": {
      "application/vnd.jupyter.widget-view+json": {
       "model_id": "f3d6e3d0490a4689a3bd4d14a2734084",
       "version_major": 2,
       "version_minor": 0
      },
      "text/plain": [
       "HBox(children=(IntProgress(value=0, max=1563), HTML(value='')))"
      ]
     },
     "metadata": {},
     "output_type": "display_data"
    },
    {
     "name": "stdout",
     "output_type": "stream",
     "text": [
      "Eval —— Loss: 0.46688741927265304 | Accuracy: 79.50935\n",
      "\n",
      "正在进行第10轮迭代\n"
     ]
    },
    {
     "data": {
      "application/vnd.jupyter.widget-view+json": {
       "model_id": "edb673fb687f4e4cb21db918a4ad2b89",
       "version_major": 2,
       "version_minor": 0
      },
      "text/plain": [
       "HBox(children=(IntProgress(value=0, max=6251), HTML(value='')))"
      ]
     },
     "metadata": {},
     "output_type": "display_data"
    },
    {
     "name": "stdout",
     "output_type": "stream",
     "text": [
      "Train —— Loss :0.2629533233619046 | Accuracy: 81.65399331584207\n"
     ]
    },
    {
     "data": {
      "application/vnd.jupyter.widget-view+json": {
       "model_id": "c438b2f2302d40edb809dbc313ae7892",
       "version_major": 2,
       "version_minor": 0
      },
      "text/plain": [
       "HBox(children=(IntProgress(value=0, max=1563), HTML(value='')))"
      ]
     },
     "metadata": {},
     "output_type": "display_data"
    },
    {
     "name": "stdout",
     "output_type": "stream",
     "text": [
      "Eval —— Loss: 1.2648145658322896 | Accuracy: 78.56187\n",
      "Train —— Loss :0.7597171249232629 | Accuracy: 80.28966666666666\n"
     ]
    },
    {
     "data": {
      "application/vnd.jupyter.widget-view+json": {
       "model_id": "28adc0bf1c3046d7ae1e0889b8e30ae3",
       "version_major": 2,
       "version_minor": 0
      },
      "text/plain": [
       "HBox(children=(IntProgress(value=0, max=1563), HTML(value='')))"
      ]
     },
     "metadata": {},
     "output_type": "display_data"
    },
    {
     "name": "stdout",
     "output_type": "stream",
     "text": [
      "Eval —— Loss: 0.655410549858754 | Accuracy: 74.17361\n",
      "Train —— Loss :0.5247043628649719 | Accuracy: 78.33515789473684\n"
     ]
    },
    {
     "data": {
      "application/vnd.jupyter.widget-view+json": {
       "model_id": "d351d5ef415646f98d2f18b37cd25777",
       "version_major": 2,
       "version_minor": 0
      },
      "text/plain": [
       "HBox(children=(IntProgress(value=0, max=1563), HTML(value='')))"
      ]
     },
     "metadata": {},
     "output_type": "display_data"
    },
    {
     "name": "stdout",
     "output_type": "stream",
     "text": [
      "Eval —— Loss: 0.38211267265830906 | Accuracy: 74.72354\n",
      "\n"
     ]
    }
   ],
   "source": [
    "model.fit(n_epochs=10, train_loader=train_loader, eval_loader=valid_loader)"
   ]
  },
  {
   "cell_type": "markdown",
   "metadata": {},
   "source": [
    "随着训练的加深，出现了过拟合"
   ]
  },
  {
   "cell_type": "code",
   "execution_count": null,
   "metadata": {},
   "outputs": [],
   "source": []
  }
 ],
 "metadata": {
  "kernelspec": {
   "display_name": "Python 3",
   "language": "python",
   "name": "python3"
  },
  "language_info": {
   "codemirror_mode": {
    "name": "ipython",
    "version": 3
   },
   "file_extension": ".py",
   "mimetype": "text/x-python",
   "name": "python",
   "nbconvert_exporter": "python",
   "pygments_lexer": "ipython3",
   "version": "3.7.4"
  },
  "toc": {
   "base_numbering": 1,
   "nav_menu": {},
   "number_sections": true,
   "sideBar": true,
   "skip_h1_title": false,
   "title_cell": "Table of Contents",
   "title_sidebar": "Contents",
   "toc_cell": false,
   "toc_position": {},
   "toc_section_display": true,
   "toc_window_display": false
  }
 },
 "nbformat": 4,
 "nbformat_minor": 2
}
