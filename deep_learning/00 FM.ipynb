{
 "cells": [
  {
   "cell_type": "code",
   "execution_count": 1,
   "metadata": {
    "ExecuteTime": {
     "end_time": "2019-08-15T02:28:30.853966Z",
     "start_time": "2019-08-15T02:28:18.665387Z"
    },
    "scrolled": true
   },
   "outputs": [
    {
     "name": "stderr",
     "output_type": "stream",
     "text": [
      "/home/chen/anaconda3/lib/python3.7/site-packages/tqdm/autonotebook/__init__.py:14: TqdmExperimentalWarning: Using `tqdm.autonotebook.tqdm` in notebook mode. Use `tqdm.tqdm` instead to force console mode (e.g. in jupyter console)\n",
      "  \" (e.g. in jupyter console)\", TqdmExperimentalWarning)\n"
     ]
    }
   ],
   "source": [
    "from itertools import count \n",
    "from collections import defaultdict\n",
    "from scipy.sparse import csr \n",
    "import numpy as np \n",
    "import pandas as pd \n",
    "# 将字典表达的特征转换成矩阵形式\n",
    "from sklearn.feature_extraction import DictVectorizer\n",
    "\n",
    "import tensorflow as tf \n",
    "\n",
    "from tqdm.autonotebook import tqdm\n",
    "import datetime\n",
    "\n",
    "import warnings\n",
    "warnings.filterwarnings(\"ignore\")"
   ]
  },
  {
   "cell_type": "markdown",
   "metadata": {
    "ExecuteTime": {
     "end_time": "2019-08-14T02:51:29.903663Z",
     "start_time": "2019-08-14T02:51:29.896581Z"
    }
   },
   "source": [
    "# 读取数据"
   ]
  },
  {
   "cell_type": "code",
   "execution_count": 8,
   "metadata": {
    "ExecuteTime": {
     "end_time": "2019-08-14T02:55:40.187141Z",
     "start_time": "2019-08-14T02:55:36.918546Z"
    }
   },
   "outputs": [],
   "source": [
    "columns = [\"user\", \"item\", \"rating\", \"timestamp\"]\n",
    "\n",
    "data = pd.read_csv(\"../data/ml-1m/ratings.dat\", sep=\"::\", lineterminator=\"\\n\", names=columns)"
   ]
  },
  {
   "cell_type": "code",
   "execution_count": 32,
   "metadata": {
    "ExecuteTime": {
     "end_time": "2019-08-14T03:15:42.670619Z",
     "start_time": "2019-08-14T03:15:42.666327Z"
    }
   },
   "outputs": [],
   "source": [
    "data = data[:100000]"
   ]
  },
  {
   "cell_type": "code",
   "execution_count": 33,
   "metadata": {
    "ExecuteTime": {
     "end_time": "2019-08-14T03:15:44.543391Z",
     "start_time": "2019-08-14T03:15:44.531131Z"
    }
   },
   "outputs": [],
   "source": [
    "index = np.random.permutation(np.arange(data.shape[0]))\n",
    "## 划分训练集和测试集\n",
    "train_ix = index[:int(data.shape[0]*0.8)]\n",
    "test_ix = index[int(data.shape[0]*0.8):]\n",
    "\n",
    "train = data.loc[train_ix, :]\n",
    "test = data.loc[test_ix, :]"
   ]
  },
  {
   "cell_type": "code",
   "execution_count": 34,
   "metadata": {
    "ExecuteTime": {
     "end_time": "2019-08-14T03:15:45.820905Z",
     "start_time": "2019-08-14T03:15:45.818467Z"
    }
   },
   "outputs": [
    {
     "data": {
      "text/plain": [
       "(80000, 4)"
      ]
     },
     "execution_count": 34,
     "metadata": {},
     "output_type": "execute_result"
    }
   ],
   "source": [
    "train.shape"
   ]
  },
  {
   "cell_type": "code",
   "execution_count": 35,
   "metadata": {
    "ExecuteTime": {
     "end_time": "2019-08-14T03:15:46.751322Z",
     "start_time": "2019-08-14T03:15:46.749004Z"
    }
   },
   "outputs": [
    {
     "data": {
      "text/plain": [
       "(20000, 4)"
      ]
     },
     "execution_count": 35,
     "metadata": {},
     "output_type": "execute_result"
    }
   ],
   "source": [
    "test.shape"
   ]
  },
  {
   "cell_type": "markdown",
   "metadata": {},
   "source": [
    "# 对特征进行向量化转换"
   ]
  },
  {
   "cell_type": "code",
   "execution_count": 36,
   "metadata": {
    "ExecuteTime": {
     "end_time": "2019-08-14T03:15:48.429077Z",
     "start_time": "2019-08-14T03:15:48.423972Z"
    }
   },
   "outputs": [],
   "source": [
    "# 这个函数的作用相当于one-hot编码\n",
    "def vectorize_dic(dic, ix=None, p=None, n=0, g=0):\n",
    "    '''\n",
    "    dic: 表达成字典形式的特征，键为特征名,值为该特征对应的所有数据,list型 \n",
    "    ix: index迭代器\n",
    "    p: 特征空间的维度 \n",
    "    n: 表示数据量，也就是记录的个数 \n",
    "    g: 表示特征的个数 \n",
    "    '''\n",
    "    if ix == None:\n",
    "        ix = dict()\n",
    "    \n",
    "    nz = n*g \n",
    "    ## 建立一个存储所有列标的数组\n",
    "    col_ix = np.empty(nz, dtype=int)\n",
    "    \n",
    "    i = 0 \n",
    "    for k, lis in dic.items():\n",
    "        for t in range(len(lis)):\n",
    "            ## 获取每个特征对应的不同特征值的数量\n",
    "            ix[str(lis[t]) + str(k)] = ix.get(str(lis[t])+str(k), 0) + 1 \n",
    "            ## 对应的返回值的列标号\n",
    "            col_ix[i + t*g] = ix[str(lis[t]) + str(k)]      \n",
    "        i += 1\n",
    "        \n",
    "    ## 对应的行标号\n",
    "    row_ix = np.repeat(np.arange(0, n), g)\n",
    "    data = np.ones(nz)\n",
    "    if p==None:\n",
    "        ## 表示所有特征可能取值的总数量\n",
    "        p = len(ix)\n",
    "    \n",
    "    ixx = np.where(col_ix < p)\n",
    "    return csr.csr_matrix((data[ixx], (row_ix[ixx], col_ix[ixx])), shape=(n, p)), ix"
   ]
  },
  {
   "cell_type": "markdown",
   "metadata": {},
   "source": [
    "## 获取转换后的特征值"
   ]
  },
  {
   "cell_type": "code",
   "execution_count": 37,
   "metadata": {
    "ExecuteTime": {
     "end_time": "2019-08-14T03:15:49.628985Z",
     "start_time": "2019-08-14T03:15:49.218786Z"
    }
   },
   "outputs": [],
   "source": [
    "X_train, ix = vectorize_dic({\"users\": train[\"user\"].values, \n",
    "                            \"items\": train[\"item\"].values}, \n",
    "                           n=len(train.index), g=2)\n",
    "\n",
    "X_test, ix = vectorize_dic({\"users\": test[\"user\"].values, \n",
    "                           \"items\": test[\"item\"].values}, \n",
    "                           ix, X_train.shape[1],\n",
    "                           n=len(test.index), g=2)"
   ]
  },
  {
   "cell_type": "code",
   "execution_count": 38,
   "metadata": {
    "ExecuteTime": {
     "end_time": "2019-08-14T03:15:50.190417Z",
     "start_time": "2019-08-14T03:15:50.182208Z"
    }
   },
   "outputs": [
    {
     "data": {
      "text/plain": [
       "3933"
      ]
     },
     "execution_count": 38,
     "metadata": {},
     "output_type": "execute_result"
    }
   ],
   "source": [
    "len(ix.values())"
   ]
  },
  {
   "cell_type": "code",
   "execution_count": 39,
   "metadata": {
    "ExecuteTime": {
     "end_time": "2019-08-14T03:15:50.821298Z",
     "start_time": "2019-08-14T03:15:50.818753Z"
    }
   },
   "outputs": [
    {
     "data": {
      "text/plain": [
       "331"
      ]
     },
     "execution_count": 39,
     "metadata": {},
     "output_type": "execute_result"
    }
   ],
   "source": [
    "len(set(ix.values()))"
   ]
  },
  {
   "cell_type": "code",
   "execution_count": 40,
   "metadata": {
    "ExecuteTime": {
     "end_time": "2019-08-14T03:15:52.101293Z",
     "start_time": "2019-08-14T03:15:52.099167Z"
    }
   },
   "outputs": [],
   "source": [
    "y_train = train[\"rating\"].values\n",
    "y_test = test[\"rating\"].values"
   ]
  },
  {
   "cell_type": "code",
   "execution_count": 41,
   "metadata": {
    "ExecuteTime": {
     "end_time": "2019-08-14T03:15:53.009114Z",
     "start_time": "2019-08-14T03:15:52.787076Z"
    }
   },
   "outputs": [],
   "source": [
    "X_train = X_train.todense()\n",
    "X_test = X_test.todense()"
   ]
  },
  {
   "cell_type": "code",
   "execution_count": 46,
   "metadata": {
    "ExecuteTime": {
     "end_time": "2019-08-14T03:18:48.740217Z",
     "start_time": "2019-08-14T03:18:48.735393Z"
    }
   },
   "outputs": [
    {
     "data": {
      "text/plain": [
       "(80000,)"
      ]
     },
     "execution_count": 46,
     "metadata": {},
     "output_type": "execute_result"
    }
   ],
   "source": [
    "y_train.shape"
   ]
  },
  {
   "cell_type": "code",
   "execution_count": 42,
   "metadata": {
    "ExecuteTime": {
     "end_time": "2019-08-14T03:16:00.125772Z",
     "start_time": "2019-08-14T03:16:00.123055Z"
    }
   },
   "outputs": [
    {
     "data": {
      "text/plain": [
       "(80000, 3875)"
      ]
     },
     "execution_count": 42,
     "metadata": {},
     "output_type": "execute_result"
    }
   ],
   "source": [
    "X_train.shape"
   ]
  },
  {
   "cell_type": "code",
   "execution_count": 43,
   "metadata": {
    "ExecuteTime": {
     "end_time": "2019-08-14T03:17:24.965776Z",
     "start_time": "2019-08-14T03:17:24.963200Z"
    }
   },
   "outputs": [
    {
     "data": {
      "text/plain": [
       "(20000, 3875)"
      ]
     },
     "execution_count": 43,
     "metadata": {},
     "output_type": "execute_result"
    }
   ],
   "source": [
    "X_test.shape"
   ]
  },
  {
   "cell_type": "markdown",
   "metadata": {},
   "source": [
    "# 定义计算图"
   ]
  },
  {
   "cell_type": "code",
   "execution_count": 44,
   "metadata": {
    "ExecuteTime": {
     "end_time": "2019-08-14T03:18:21.920820Z",
     "start_time": "2019-08-14T03:18:21.918804Z"
    }
   },
   "outputs": [],
   "source": [
    "# 定义参数\n",
    "n, p = X_train.shape  ## n表示记录数，p表示特征数\n",
    "k  = 10   ## 表示中间向量v的维度"
   ]
  },
  {
   "cell_type": "code",
   "execution_count": 49,
   "metadata": {
    "ExecuteTime": {
     "end_time": "2019-08-14T03:35:05.948506Z",
     "start_time": "2019-08-14T03:35:05.440331Z"
    }
   },
   "outputs": [
    {
     "name": "stdout",
     "output_type": "stream",
     "text": [
      "WARNING:tensorflow:From /home/chen/anaconda3/lib/python3.7/site-packages/tensorflow/python/ops/math_ops.py:3066: to_int32 (from tensorflow.python.ops.math_ops) is deprecated and will be removed in a future version.\n",
      "Instructions for updating:\n",
      "Use tf.cast instead.\n"
     ]
    }
   ],
   "source": [
    "## 定义计算图\n",
    "inputX = tf.placeholder(tf.float32, shape=[None, p], name=\"inputX\")\n",
    "inputY = tf.placeholder(tf.float32, shape=[None, 1], name=\"inputY\")\n",
    "\n",
    "## 定义偏置和一维特征的系数\n",
    "w0 = tf.Variable(tf.zeros([1]), name=\"w0\")\n",
    "w = tf.Variable(tf.zeros([p]), name=\"w\")\n",
    "\n",
    "## 定义二维特征的系数\n",
    "v = tf.Variable(tf.random_normal([k, p], mean=0, stddev=0.01), name=\"v\")\n",
    "\n",
    "## 得到维度 [batch, 1]\n",
    "linear_terms = tf.add(w0, tf.reduce_sum(tf.multiply(w, inputX), 1, keepdims=True), name=\"linear\")\n",
    "## 交互特征，输出维度 [batch, 1]\n",
    "pair_interactions = 0.5 * tf.reduce_sum(tf.subtract(\n",
    "            tf.pow(tf.matmul(inputX, tf.transpose(v)), 2), \n",
    "            tf.matmul(tf.pow(inputX, 2), tf.transpose(tf.pow(v, 2)))), \n",
    "                                       axis=1, keepdims=True, name=\"pair\")\n",
    "\n",
    "y_hat = tf.add(linear_terms, pair_interactions, name=\"predictions\")\n",
    "\n",
    "## 添加l2正则项\n",
    "lambda_w = tf.constant(0.001, name=\"lambda_w\")\n",
    "lambda_v = tf.constant(0.001, name=\"lmabda_v\")\n",
    "\n",
    "l2_norm = tf.reduce_sum(tf.add(tf.multiply(lambda_w, tf.pow(w, 2)),\n",
    "                              tf.multiply(lambda_v, tf.pow(v, 2))))\n",
    "\n",
    "error = tf.reduce_mean(tf.square(inputY - y_hat))\n",
    "loss = tf.add(error, l2_norm)\n",
    "\n",
    "\n",
    "train_op = tf.train.GradientDescentOptimizer(learning_rate=0.01).minimize(loss)"
   ]
  },
  {
   "cell_type": "markdown",
   "metadata": {},
   "source": [
    "## 训练"
   ]
  },
  {
   "cell_type": "code",
   "execution_count": 54,
   "metadata": {
    "ExecuteTime": {
     "end_time": "2019-08-14T03:44:35.937835Z",
     "start_time": "2019-08-14T03:44:35.934033Z"
    }
   },
   "outputs": [],
   "source": [
    "def batcher(X_, y_=None, batch_size=-1):\n",
    "    n_samples = X_.shape[0]\n",
    "    \n",
    "    if batch_size == -1: \n",
    "        batch_size = n_samples\n",
    "    if batch_size < 1: \n",
    "        raise ValueError(f\"Parameter batch_size={batch_size} is unsupported\")\n",
    "    \n",
    "    for i in range(0, n_samples, batch_size):\n",
    "        upper_bound = min(i+batch_size, n_samples)\n",
    "        ret_x = X_[i:upper_bound]\n",
    "        ret_y = None\n",
    "        if y_ is not None: \n",
    "            ret_y = y_[i:i+batch_size]\n",
    "            yield (ret_x, ret_y)"
   ]
  },
  {
   "cell_type": "code",
   "execution_count": 57,
   "metadata": {
    "ExecuteTime": {
     "end_time": "2019-08-14T03:48:33.146647Z",
     "start_time": "2019-08-14T03:48:19.480097Z"
    }
   },
   "outputs": [
    {
     "data": {
      "application/vnd.jupyter.widget-view+json": {
       "model_id": "63ec1a67ec6f4b32982c0621c53ae711",
       "version_major": 2,
       "version_minor": 0
      },
      "text/plain": [
       "HBox(children=(IntProgress(value=0, max=10), HTML(value='')))"
      ]
     },
     "metadata": {},
     "output_type": "display_data"
    },
    {
     "name": "stdout",
     "output_type": "stream",
     "text": [
      "2019-08-14 11:48:20 | EPOCH: 0 | LOSS: 1.6427619457244873\n",
      "2019-08-14 11:48:22 | EPOCH: 1 | LOSS: 1.2301772832870483\n",
      "2019-08-14 11:48:23 | EPOCH: 2 | LOSS: 1.3363068103790283\n",
      "2019-08-14 11:48:24 | EPOCH: 3 | LOSS: 1.2514501810073853\n",
      "2019-08-14 11:48:26 | EPOCH: 4 | LOSS: 1.2924153804779053\n",
      "2019-08-14 11:48:27 | EPOCH: 5 | LOSS: 1.2045905590057373\n",
      "2019-08-14 11:48:28 | EPOCH: 6 | LOSS: 1.1927227973937988\n",
      "2019-08-14 11:48:30 | EPOCH: 7 | LOSS: 1.2391865253448486\n",
      "2019-08-14 11:48:31 | EPOCH: 8 | LOSS: 1.207564353942871\n",
      "2019-08-14 11:48:32 | EPOCH: 9 | LOSS: 1.3152328729629517\n",
      "\n",
      "1.1216104\n"
     ]
    }
   ],
   "source": [
    "epochs = 10 \n",
    "batch_size = 1000 \n",
    "\n",
    "init = tf.global_variables_initializer()\n",
    "\n",
    "with tf.Session() as sess:\n",
    "    sess.run(init)\n",
    "    \n",
    "    for epoch in tqdm(range(epochs), unit=\"epoch\"):\n",
    "        perm = np.random.permutation(X_train.shape[0])\n",
    "        ## 按照batch进行训练\n",
    "        for bX, bY in batcher(X_train[perm], y_train[perm], batch_size):\n",
    "            _, t = sess.run([train_op, loss], feed_dict={inputX: bX.reshape(-1, p), inputY: bY.reshape(-1, 1)})\n",
    "        \n",
    "        now = datetime.datetime.now().strftime(\"%Y-%m-%d %H:%M:%S\")\n",
    "        print(f\"{now} | EPOCH: {epoch} | LOSS: {t}\")\n",
    "            \n",
    "    \n",
    "    errors = []\n",
    "    \n",
    "    for bX, bY in batcher(X_test, y_test):\n",
    "        errors.append(sess.run(error, feed_dict={inputX: bX.reshape(-1, p), inputY: bY.reshape(-1, 1)}))\n",
    "        #print(errors)\n",
    "        \n",
    "    RMSE = np.sqrt(np.array(errors).mean())\n",
    "    print(RMSE)"
   ]
  },
  {
   "cell_type": "code",
   "execution_count": 13,
   "metadata": {
    "ExecuteTime": {
     "end_time": "2019-08-19T01:46:05.776662Z",
     "start_time": "2019-08-19T01:46:05.774366Z"
    }
   },
   "outputs": [],
   "source": [
    "from facets_overview.generic_feature_statistics_generator import GenericFeatureStatisticsGenerator"
   ]
  },
  {
   "cell_type": "code",
   "execution_count": 14,
   "metadata": {
    "ExecuteTime": {
     "end_time": "2019-08-19T01:46:45.326028Z",
     "start_time": "2019-08-19T01:46:45.322995Z"
    }
   },
   "outputs": [],
   "source": [
    "df = pd.DataFrame({\"num\": [1, 2, 3, 4], \"str\": ['a', 'a', 'b', None]})"
   ]
  },
  {
   "cell_type": "code",
   "execution_count": 15,
   "metadata": {
    "ExecuteTime": {
     "end_time": "2019-08-19T01:47:15.251074Z",
     "start_time": "2019-08-19T01:47:15.247393Z"
    }
   },
   "outputs": [],
   "source": [
    "proto = GenericFeatureStatisticsGenerator().ProtoFromDataFrames([{'name': 'test', \"table\": df}])"
   ]
  },
  {
   "cell_type": "code",
   "execution_count": 18,
   "metadata": {
    "ExecuteTime": {
     "end_time": "2019-08-19T02:02:38.044578Z",
     "start_time": "2019-08-19T02:02:38.040346Z"
    }
   },
   "outputs": [],
   "source": [
    "from IPython.core.display import display, HTML"
   ]
  },
  {
   "cell_type": "code",
   "execution_count": 24,
   "metadata": {
    "ExecuteTime": {
     "end_time": "2019-08-19T02:22:29.175381Z",
     "start_time": "2019-08-19T02:22:29.169212Z"
    }
   },
   "outputs": [],
   "source": [
    "# Create the feature stats for the datasets and stringify it.\n",
    "import base64\n",
    "from facets_overview.generic_feature_statistics_generator import GenericFeatureStatisticsGenerator\n",
    "\n",
    "protostr = base64.b64encode(proto.SerializeToString()).decode(\"utf-8\")"
   ]
  },
  {
   "cell_type": "code",
   "execution_count": null,
   "metadata": {},
   "outputs": [],
   "source": [
    "proto = GenericFeatureStatisticsGenerator().ProtoFromDataFrames([{'name': 'test', \"table\": df}])"
   ]
  },
  {
   "cell_type": "code",
   "execution_count": 25,
   "metadata": {
    "ExecuteTime": {
     "end_time": "2019-08-19T02:22:29.920856Z",
     "start_time": "2019-08-19T02:22:29.910142Z"
    }
   },
   "outputs": [
    {
     "data": {
      "text/html": [
       "\n",
       "        <script src=\"https://cdnjs.cloudflare.com/ajax/libs/webcomponentsjs/1.3.3/webcomponents-lite.js\"></script>\n",
       "        <link rel=\"import\" href=\"https://raw.githubusercontent.com/PAIR-code/facets/1.0.0/facets-dist/facets-jupyter.html\" >\n",
       "        <facets-overview id=\"elem\"></facets-overview>\n",
       "        <script>\n",
       "          document.querySelector(\"#elem\").protoInput = \"CpQKCgR0ZXN0EAQagAcKA251bRr4BgqyAggEGAEgAS0AAIA/MqQCGhsJAAAAAAAA8D8RAAAAAAAA8D8hmpmZmZmZ2T8aGwkAAAAAAADwPxEAAAAAAADwPyGamZmZmZnZPxobCQAAAAAAAPA/EQAAAAAAAPA/IZqZmZmZmdk/GhsJAAAAAAAA8D8RAAAAAAAA8D8hmpmZmZmZ2T8aGwkAAAAAAADwPxEAAAAAAADwPyGamZmZmZnZPxobCQAAAAAAAPA/EQAAAAAAAPA/IZqZmZmZmdk/GhsJAAAAAAAA8D8RAAAAAAAA8D8hmpmZmZmZ2T8aGwkAAAAAAADwPxEAAAAAAADwPyGamZmZmZnZPxobCQAAAAAAAPA/EQAAAAAAAPA/IZqZmZmZmdk/GhsJAAAAAAAA8D8RAAAAAAAA8D8hmpmZmZmZ2T8gAREAAAAAAAAEQBmo9Jebd+PxPykAAAAAAADwPzEAAAAAAAAEQDkAAAAAAAAQQELsARobCQAAAAAAAPA/Ec3MzMzMzPQ/IQAAAAAAAPA/GhIJzczMzMzM9D8RmpmZmZmZ+T8aEgmamZmZmZn5PxFmZmZmZmb+PxobCWZmZmZmZv4/EZqZmZmZmQFAIQAAAAAAAPA/GhIJmpmZmZmZAUARAAAAAAAABEAaEgkAAAAAAAAEQBFmZmZmZmYGQBobCWZmZmZmZgZAEc3MzMzMzAhAIQAAAAAAAPA/GhIJzczMzMzMCEARMzMzMzMzC0AaEgkzMzMzMzMLQBGZmZmZmZkNQBobCZmZmZmZmQ1AEQAAAAAAABBAIQAAAAAAAPA/QqQCGhsJAAAAAAAA8D8RzczMzMzM9D8hmpmZmZmZ2T8aGwnNzMzMzMz0PxGamZmZmZn5PyGamZmZmZnZPxobCZqZmZmZmfk/EWZmZmZmZv4/IZqZmZmZmdk/GhsJZmZmZmZm/j8RmpmZmZmZAUAhmpmZmZmZ2T8aGwmamZmZmZkBQBEAAAAAAAAEQCGamZmZmZnZPxobCQAAAAAAAARAEWZmZmZmZgZAIZqZmZmZmdk/GhsJZmZmZmZmBkARzMzMzMzMCEAhmpmZmZmZ2T8aGwnMzMzMzMwIQBE0MzMzMzMLQCGamZmZmZnZPxobCTQzMzMzMwtAEZqZmZmZmQ1AIZqZmZmZmdk/GhsJmpmZmZmZDUARAAAAAAAAEEAhmpmZmZmZ2T8gARqGAwoDc3RyEAIi/AIKtAIIAxABGAEgAS0AAIA/MqQCGhsJAAAAAAAA8D8RAAAAAAAA8D8hmpmZmZmZ2T8aGwkAAAAAAADwPxEAAAAAAADwPyGamZmZmZnZPxobCQAAAAAAAPA/EQAAAAAAAPA/IZqZmZmZmdk/GhsJAAAAAAAA8D8RAAAAAAAA8D8hmpmZmZmZ2T8aGwkAAAAAAADwPxEAAAAAAADwPyGamZmZmZnZPxobCQAAAAAAAPA/EQAAAAAAAPA/IZqZmZmZmdk/GhsJAAAAAAAA8D8RAAAAAAAA8D8hmpmZmZmZ2T8aGwkAAAAAAADwPxEAAAAAAADwPyGamZmZmZnZPxobCQAAAAAAAPA/EQAAAAAAAPA/IZqZmZmZmdk/GhsJAAAAAAAA8D8RAAAAAAAA8D8hmpmZmZmZ2T8gARACGgwSAWEZAAAAAAAAAEAaDBIBYhkAAAAAAADwPyUAAIA/KiAKDCIBYSkAAAAAAAAAQAoQCAEQASIBYikAAAAAAADwPw==\";\n",
       "        </script>"
      ],
      "text/plain": [
       "<IPython.core.display.HTML object>"
      ]
     },
     "metadata": {},
     "output_type": "display_data"
    }
   ],
   "source": [
    "# Display the facets overview visualization for this data\n",
    "from IPython.core.display import display, HTML\n",
    "\n",
    "HTML_TEMPLATE = \"\"\"\n",
    "        <script src=\"https://cdnjs.cloudflare.com/ajax/libs/webcomponentsjs/1.3.3/webcomponents-lite.js\"></script>\n",
    "        <link rel=\"import\" href=\"https://raw.githubusercontent.com/PAIR-code/facets/1.0.0/facets-dist/facets-jupyter.html\" >\n",
    "        <facets-overview id=\"elem\"></facets-overview>\n",
    "        <script>\n",
    "          document.querySelector(\"#elem\").protoInput = \"{protostr}\";\n",
    "        </script>\"\"\"\n",
    "html = HTML_TEMPLATE.format(protostr=protostr)\n",
    "display(HTML(html))"
   ]
  },
  {
   "cell_type": "markdown",
   "metadata": {},
   "source": [
    "# 使用xlearn"
   ]
  },
  {
   "cell_type": "code",
   "execution_count": 1,
   "metadata": {
    "ExecuteTime": {
     "end_time": "2019-08-19T06:26:58.616028Z",
     "start_time": "2019-08-19T06:26:57.997943Z"
    }
   },
   "outputs": [],
   "source": [
    "import xlearn\n",
    "\n",
    "import pandas as pd \n",
    "import numpy as np \n",
    "\n",
    "import os "
   ]
  },
  {
   "cell_type": "code",
   "execution_count": 2,
   "metadata": {
    "ExecuteTime": {
     "end_time": "2019-08-19T06:26:59.035341Z",
     "start_time": "2019-08-19T06:26:59.032988Z"
    }
   },
   "outputs": [],
   "source": [
    "from sklearn.preprocessing import StandardScaler, MinMaxScaler"
   ]
  },
  {
   "cell_type": "code",
   "execution_count": 3,
   "metadata": {
    "ExecuteTime": {
     "end_time": "2019-08-19T06:26:59.617654Z",
     "start_time": "2019-08-19T06:26:59.425645Z"
    }
   },
   "outputs": [],
   "source": [
    "import matplotlib.pyplot as plt \n",
    "import seaborn as sns \n",
    "\n",
    "from collections import Counter"
   ]
  },
  {
   "cell_type": "code",
   "execution_count": 4,
   "metadata": {
    "ExecuteTime": {
     "end_time": "2019-08-19T06:27:00.598072Z",
     "start_time": "2019-08-19T06:27:00.592680Z"
    }
   },
   "outputs": [
    {
     "name": "stderr",
     "output_type": "stream",
     "text": [
      "/home/chen/anaconda3/lib/python3.7/site-packages/tqdm/autonotebook/__init__.py:14: TqdmExperimentalWarning: Using `tqdm.autonotebook.tqdm` in notebook mode. Use `tqdm.tqdm` instead to force console mode (e.g. in jupyter console)\n",
      "  \" (e.g. in jupyter console)\", TqdmExperimentalWarning)\n"
     ]
    }
   ],
   "source": [
    "from tqdm.autonotebook import tqdm"
   ]
  },
  {
   "cell_type": "code",
   "execution_count": 5,
   "metadata": {
    "ExecuteTime": {
     "end_time": "2019-08-19T03:05:43.097539Z",
     "start_time": "2019-08-19T03:05:43.095647Z"
    }
   },
   "outputs": [],
   "source": [
    "# 解决中文乱码问题\n",
    "plt.rc(\"font\", family=\"SimHei\", size=\"15\")"
   ]
  },
  {
   "cell_type": "code",
   "execution_count": 6,
   "metadata": {
    "ExecuteTime": {
     "end_time": "2019-08-19T03:05:47.487535Z",
     "start_time": "2019-08-19T03:05:43.333444Z"
    }
   },
   "outputs": [],
   "source": [
    "train = pd.read_csv(\"../data/criteo/criteo_data.csv\")"
   ]
  },
  {
   "cell_type": "code",
   "execution_count": 7,
   "metadata": {
    "ExecuteTime": {
     "end_time": "2019-08-19T03:05:48.029821Z",
     "start_time": "2019-08-19T03:05:47.488865Z"
    },
    "scrolled": true
   },
   "outputs": [
    {
     "data": {
      "text/html": [
       "<div>\n",
       "<style scoped>\n",
       "    .dataframe tbody tr th:only-of-type {\n",
       "        vertical-align: middle;\n",
       "    }\n",
       "\n",
       "    .dataframe tbody tr th {\n",
       "        vertical-align: top;\n",
       "    }\n",
       "\n",
       "    .dataframe thead th {\n",
       "        text-align: right;\n",
       "    }\n",
       "</style>\n",
       "<table border=\"1\" class=\"dataframe\">\n",
       "  <thead>\n",
       "    <tr style=\"text-align: right;\">\n",
       "      <th></th>\n",
       "      <th>Label</th>\n",
       "      <th>I1</th>\n",
       "      <th>I2</th>\n",
       "      <th>I3</th>\n",
       "      <th>I4</th>\n",
       "      <th>I5</th>\n",
       "      <th>I6</th>\n",
       "      <th>I7</th>\n",
       "      <th>I8</th>\n",
       "      <th>I9</th>\n",
       "      <th>I10</th>\n",
       "      <th>I11</th>\n",
       "      <th>I12</th>\n",
       "      <th>I13</th>\n",
       "    </tr>\n",
       "  </thead>\n",
       "  <tbody>\n",
       "    <tr>\n",
       "      <th>count</th>\n",
       "      <td>1000000.000000</td>\n",
       "      <td>576997.000000</td>\n",
       "      <td>1000000.000000</td>\n",
       "      <td>764946.000000</td>\n",
       "      <td>750884.000000</td>\n",
       "      <td>9.754640e+05</td>\n",
       "      <td>778260.000000</td>\n",
       "      <td>959166.000000</td>\n",
       "      <td>999338.000000</td>\n",
       "      <td>959166.000000</td>\n",
       "      <td>576997.000000</td>\n",
       "      <td>959166.000000</td>\n",
       "      <td>229943.000000</td>\n",
       "      <td>750884.000000</td>\n",
       "    </tr>\n",
       "    <tr>\n",
       "      <th>mean</th>\n",
       "      <td>0.254949</td>\n",
       "      <td>3.238400</td>\n",
       "      <td>93.965184</td>\n",
       "      <td>21.094269</td>\n",
       "      <td>6.954270</td>\n",
       "      <td>1.861653e+04</td>\n",
       "      <td>116.761653</td>\n",
       "      <td>14.592224</td>\n",
       "      <td>13.378894</td>\n",
       "      <td>105.450931</td>\n",
       "      <td>0.572658</td>\n",
       "      <td>2.507449</td>\n",
       "      <td>0.979991</td>\n",
       "      <td>7.630003</td>\n",
       "    </tr>\n",
       "    <tr>\n",
       "      <th>std</th>\n",
       "      <td>0.435833</td>\n",
       "      <td>8.944151</td>\n",
       "      <td>349.884675</td>\n",
       "      <td>344.010001</td>\n",
       "      <td>8.554014</td>\n",
       "      <td>6.768665e+04</td>\n",
       "      <td>456.056847</td>\n",
       "      <td>58.277459</td>\n",
       "      <td>32.345836</td>\n",
       "      <td>217.405401</td>\n",
       "      <td>0.679937</td>\n",
       "      <td>4.825370</td>\n",
       "      <td>6.003874</td>\n",
       "      <td>35.071487</td>\n",
       "    </tr>\n",
       "    <tr>\n",
       "      <th>min</th>\n",
       "      <td>0.000000</td>\n",
       "      <td>0.000000</td>\n",
       "      <td>-2.000000</td>\n",
       "      <td>0.000000</td>\n",
       "      <td>0.000000</td>\n",
       "      <td>0.000000e+00</td>\n",
       "      <td>0.000000</td>\n",
       "      <td>0.000000</td>\n",
       "      <td>0.000000</td>\n",
       "      <td>0.000000</td>\n",
       "      <td>0.000000</td>\n",
       "      <td>0.000000</td>\n",
       "      <td>0.000000</td>\n",
       "      <td>0.000000</td>\n",
       "    </tr>\n",
       "    <tr>\n",
       "      <th>25%</th>\n",
       "      <td>0.000000</td>\n",
       "      <td>0.000000</td>\n",
       "      <td>0.000000</td>\n",
       "      <td>2.000000</td>\n",
       "      <td>2.000000</td>\n",
       "      <td>8.290000e+02</td>\n",
       "      <td>8.000000</td>\n",
       "      <td>1.000000</td>\n",
       "      <td>2.000000</td>\n",
       "      <td>10.000000</td>\n",
       "      <td>0.000000</td>\n",
       "      <td>0.000000</td>\n",
       "      <td>0.000000</td>\n",
       "      <td>2.000000</td>\n",
       "    </tr>\n",
       "    <tr>\n",
       "      <th>50%</th>\n",
       "      <td>0.000000</td>\n",
       "      <td>1.000000</td>\n",
       "      <td>2.000000</td>\n",
       "      <td>5.000000</td>\n",
       "      <td>4.000000</td>\n",
       "      <td>2.548000e+03</td>\n",
       "      <td>33.000000</td>\n",
       "      <td>3.000000</td>\n",
       "      <td>8.000000</td>\n",
       "      <td>39.000000</td>\n",
       "      <td>0.000000</td>\n",
       "      <td>1.000000</td>\n",
       "      <td>0.000000</td>\n",
       "      <td>4.000000</td>\n",
       "    </tr>\n",
       "    <tr>\n",
       "      <th>75%</th>\n",
       "      <td>1.000000</td>\n",
       "      <td>3.000000</td>\n",
       "      <td>32.000000</td>\n",
       "      <td>14.000000</td>\n",
       "      <td>9.000000</td>\n",
       "      <td>1.016300e+04</td>\n",
       "      <td>102.000000</td>\n",
       "      <td>11.000000</td>\n",
       "      <td>20.000000</td>\n",
       "      <td>110.000000</td>\n",
       "      <td>1.000000</td>\n",
       "      <td>3.000000</td>\n",
       "      <td>0.000000</td>\n",
       "      <td>9.000000</td>\n",
       "    </tr>\n",
       "    <tr>\n",
       "      <th>max</th>\n",
       "      <td>1.000000</td>\n",
       "      <td>780.000000</td>\n",
       "      <td>18522.000000</td>\n",
       "      <td>65535.000000</td>\n",
       "      <td>507.000000</td>\n",
       "      <td>2.527030e+06</td>\n",
       "      <td>233523.000000</td>\n",
       "      <td>8807.000000</td>\n",
       "      <td>5064.000000</td>\n",
       "      <td>19327.000000</td>\n",
       "      <td>8.000000</td>\n",
       "      <td>147.000000</td>\n",
       "      <td>768.000000</td>\n",
       "      <td>6702.000000</td>\n",
       "    </tr>\n",
       "  </tbody>\n",
       "</table>\n",
       "</div>"
      ],
      "text/plain": [
       "                Label             I1              I2             I3  \\\n",
       "count  1000000.000000  576997.000000  1000000.000000  764946.000000   \n",
       "mean         0.254949       3.238400       93.965184      21.094269   \n",
       "std          0.435833       8.944151      349.884675     344.010001   \n",
       "min          0.000000       0.000000       -2.000000       0.000000   \n",
       "25%          0.000000       0.000000        0.000000       2.000000   \n",
       "50%          0.000000       1.000000        2.000000       5.000000   \n",
       "75%          1.000000       3.000000       32.000000      14.000000   \n",
       "max          1.000000     780.000000    18522.000000   65535.000000   \n",
       "\n",
       "                  I4            I5             I6             I7  \\\n",
       "count  750884.000000  9.754640e+05  778260.000000  959166.000000   \n",
       "mean        6.954270  1.861653e+04     116.761653      14.592224   \n",
       "std         8.554014  6.768665e+04     456.056847      58.277459   \n",
       "min         0.000000  0.000000e+00       0.000000       0.000000   \n",
       "25%         2.000000  8.290000e+02       8.000000       1.000000   \n",
       "50%         4.000000  2.548000e+03      33.000000       3.000000   \n",
       "75%         9.000000  1.016300e+04     102.000000      11.000000   \n",
       "max       507.000000  2.527030e+06  233523.000000    8807.000000   \n",
       "\n",
       "                  I8             I9            I10            I11  \\\n",
       "count  999338.000000  959166.000000  576997.000000  959166.000000   \n",
       "mean       13.378894     105.450931       0.572658       2.507449   \n",
       "std        32.345836     217.405401       0.679937       4.825370   \n",
       "min         0.000000       0.000000       0.000000       0.000000   \n",
       "25%         2.000000      10.000000       0.000000       0.000000   \n",
       "50%         8.000000      39.000000       0.000000       1.000000   \n",
       "75%        20.000000     110.000000       1.000000       3.000000   \n",
       "max      5064.000000   19327.000000       8.000000     147.000000   \n",
       "\n",
       "                 I12            I13  \n",
       "count  229943.000000  750884.000000  \n",
       "mean        0.979991       7.630003  \n",
       "std         6.003874      35.071487  \n",
       "min         0.000000       0.000000  \n",
       "25%         0.000000       2.000000  \n",
       "50%         0.000000       4.000000  \n",
       "75%         0.000000       9.000000  \n",
       "max       768.000000    6702.000000  "
      ]
     },
     "execution_count": 7,
     "metadata": {},
     "output_type": "execute_result"
    }
   ],
   "source": [
    "train.describe()"
   ]
  },
  {
   "cell_type": "code",
   "execution_count": 34,
   "metadata": {
    "ExecuteTime": {
     "end_time": "2019-08-19T06:13:27.400672Z",
     "start_time": "2019-08-19T06:13:23.493330Z"
    }
   },
   "outputs": [
    {
     "name": "stdout",
     "output_type": "stream",
     "text": [
      "[0.0, 1.0, 3.0, 14.0, 780.0] ['0', '1', '2', '3']\n",
      "[-2, 0.0, 2.0, 32.0, 442.0, 18522] ['0', '1', '2', '3', '4']\n",
      "[0.0, 2.0, 5.0, 14.0, 59.0, 65535.0] ['0', '1', '2', '3', '4']\n",
      "[0.0, 2.0, 4.0, 9.0, 24.0, 507.0] ['0', '1', '2', '3', '4']\n",
      "[0.0, 829.0, 2548.0, 10163.0, 64556.0, 2527030.0] ['0', '1', '2', '3', '4']\n",
      "[0.0, 8.0, 33.0, 102.0, 473.0, 233523.0] ['0', '1', '2', '3', '4']\n",
      "[0.0, 1.0, 3.0, 11.0, 57.0, 8807.0] ['0', '1', '2', '3', '4']\n",
      "[0.0, 2.0, 8.0, 20.0, 43.0, 5064.0] ['0', '1', '2', '3', '4']\n",
      "[0.0, 10.0, 39.0, 110.0, 427.0, 19327.0] ['0', '1', '2', '3', '4']\n",
      "[0.0, 1.0, 2.0, 8.0] ['0', '1', '2']\n",
      "[0.0, 1.0, 3.0, 9.0, 147.0] ['0', '1', '2', '3']\n",
      "[0.0, 4.0, 768.0] ['0', '1']\n",
      "[0.0, 2.0, 4.0, 9.0, 26.0, 6702.0] ['0', '1', '2', '3', '4']\n"
     ]
    }
   ],
   "source": [
    "# 连续值跨度比较大，对所有的连续值分箱\n",
    "## 分箱节点为：0 25 75 95 100\n",
    "for col in continous:\n",
    "    ## 计算几个分位点\n",
    "    ## 取出所有的非nan值\n",
    "    value = train[np.isnan(train[col]).astype('int8') == 0][col].values\n",
    "    Q0 = np.min(value)\n",
    "    Q1 = np.percentile(value, 25)\n",
    "    Q2 = np.percentile(value, 50)\n",
    "    Q3 = np.percentile(value, 75)\n",
    "    Q4 = np.percentile(value, 95)\n",
    "    Q5 = np.max(value)\n",
    "    bins = [Q0, Q1, Q2, Q3, Q4, Q5]\n",
    "    bins = sorted(set(bins))\n",
    "    labels = list(map(str, list(range(len(bins)-1))))\n",
    "    print(bins, labels)\n",
    "    train[f\"C_{col}\"] = pd.cut(train[col], bins=bins, labels=labels)\n"
   ]
  },
  {
   "cell_type": "code",
   "execution_count": 35,
   "metadata": {
    "ExecuteTime": {
     "end_time": "2019-08-19T06:13:28.317130Z",
     "start_time": "2019-08-19T06:13:28.298353Z"
    }
   },
   "outputs": [
    {
     "data": {
      "text/html": [
       "<div>\n",
       "<style scoped>\n",
       "    .dataframe tbody tr th:only-of-type {\n",
       "        vertical-align: middle;\n",
       "    }\n",
       "\n",
       "    .dataframe tbody tr th {\n",
       "        vertical-align: top;\n",
       "    }\n",
       "\n",
       "    .dataframe thead th {\n",
       "        text-align: right;\n",
       "    }\n",
       "</style>\n",
       "<table border=\"1\" class=\"dataframe\">\n",
       "  <thead>\n",
       "    <tr style=\"text-align: right;\">\n",
       "      <th></th>\n",
       "      <th>Label</th>\n",
       "      <th>I1</th>\n",
       "      <th>I2</th>\n",
       "      <th>I3</th>\n",
       "      <th>I4</th>\n",
       "      <th>I5</th>\n",
       "      <th>I6</th>\n",
       "      <th>I7</th>\n",
       "      <th>I8</th>\n",
       "      <th>I9</th>\n",
       "      <th>...</th>\n",
       "      <th>C_I4</th>\n",
       "      <th>C_I5</th>\n",
       "      <th>C_I6</th>\n",
       "      <th>C_I7</th>\n",
       "      <th>C_I8</th>\n",
       "      <th>C_I9</th>\n",
       "      <th>C_I10</th>\n",
       "      <th>C_I11</th>\n",
       "      <th>C_I12</th>\n",
       "      <th>C_I13</th>\n",
       "    </tr>\n",
       "  </thead>\n",
       "  <tbody>\n",
       "    <tr>\n",
       "      <th>0</th>\n",
       "      <td>0</td>\n",
       "      <td>1.0</td>\n",
       "      <td>1</td>\n",
       "      <td>5.0</td>\n",
       "      <td>0.0</td>\n",
       "      <td>1382.0</td>\n",
       "      <td>4.0</td>\n",
       "      <td>15.0</td>\n",
       "      <td>2.0</td>\n",
       "      <td>181.0</td>\n",
       "      <td>...</td>\n",
       "      <td>NaN</td>\n",
       "      <td>1</td>\n",
       "      <td>0</td>\n",
       "      <td>3</td>\n",
       "      <td>0</td>\n",
       "      <td>3</td>\n",
       "      <td>0</td>\n",
       "      <td>1</td>\n",
       "      <td>NaN</td>\n",
       "      <td>0</td>\n",
       "    </tr>\n",
       "    <tr>\n",
       "      <th>1</th>\n",
       "      <td>0</td>\n",
       "      <td>2.0</td>\n",
       "      <td>0</td>\n",
       "      <td>44.0</td>\n",
       "      <td>1.0</td>\n",
       "      <td>102.0</td>\n",
       "      <td>8.0</td>\n",
       "      <td>2.0</td>\n",
       "      <td>2.0</td>\n",
       "      <td>4.0</td>\n",
       "      <td>...</td>\n",
       "      <td>0</td>\n",
       "      <td>0</td>\n",
       "      <td>0</td>\n",
       "      <td>1</td>\n",
       "      <td>0</td>\n",
       "      <td>0</td>\n",
       "      <td>0</td>\n",
       "      <td>0</td>\n",
       "      <td>NaN</td>\n",
       "      <td>1</td>\n",
       "    </tr>\n",
       "    <tr>\n",
       "      <th>2</th>\n",
       "      <td>0</td>\n",
       "      <td>2.0</td>\n",
       "      <td>0</td>\n",
       "      <td>1.0</td>\n",
       "      <td>14.0</td>\n",
       "      <td>767.0</td>\n",
       "      <td>89.0</td>\n",
       "      <td>4.0</td>\n",
       "      <td>2.0</td>\n",
       "      <td>245.0</td>\n",
       "      <td>...</td>\n",
       "      <td>3</td>\n",
       "      <td>0</td>\n",
       "      <td>2</td>\n",
       "      <td>2</td>\n",
       "      <td>0</td>\n",
       "      <td>3</td>\n",
       "      <td>0</td>\n",
       "      <td>1</td>\n",
       "      <td>0</td>\n",
       "      <td>4</td>\n",
       "    </tr>\n",
       "    <tr>\n",
       "      <th>3</th>\n",
       "      <td>0</td>\n",
       "      <td>NaN</td>\n",
       "      <td>893</td>\n",
       "      <td>NaN</td>\n",
       "      <td>NaN</td>\n",
       "      <td>4392.0</td>\n",
       "      <td>NaN</td>\n",
       "      <td>0.0</td>\n",
       "      <td>0.0</td>\n",
       "      <td>0.0</td>\n",
       "      <td>...</td>\n",
       "      <td>NaN</td>\n",
       "      <td>2</td>\n",
       "      <td>NaN</td>\n",
       "      <td>NaN</td>\n",
       "      <td>NaN</td>\n",
       "      <td>NaN</td>\n",
       "      <td>NaN</td>\n",
       "      <td>NaN</td>\n",
       "      <td>NaN</td>\n",
       "      <td>NaN</td>\n",
       "    </tr>\n",
       "    <tr>\n",
       "      <th>4</th>\n",
       "      <td>0</td>\n",
       "      <td>3.0</td>\n",
       "      <td>-1</td>\n",
       "      <td>NaN</td>\n",
       "      <td>0.0</td>\n",
       "      <td>2.0</td>\n",
       "      <td>0.0</td>\n",
       "      <td>3.0</td>\n",
       "      <td>0.0</td>\n",
       "      <td>0.0</td>\n",
       "      <td>...</td>\n",
       "      <td>NaN</td>\n",
       "      <td>0</td>\n",
       "      <td>NaN</td>\n",
       "      <td>1</td>\n",
       "      <td>NaN</td>\n",
       "      <td>NaN</td>\n",
       "      <td>0</td>\n",
       "      <td>0</td>\n",
       "      <td>NaN</td>\n",
       "      <td>NaN</td>\n",
       "    </tr>\n",
       "  </tbody>\n",
       "</table>\n",
       "<p>5 rows × 53 columns</p>\n",
       "</div>"
      ],
      "text/plain": [
       "   Label   I1   I2    I3    I4      I5    I6    I7   I8     I9  ...  C_I4  \\\n",
       "0      0  1.0    1   5.0   0.0  1382.0   4.0  15.0  2.0  181.0  ...   NaN   \n",
       "1      0  2.0    0  44.0   1.0   102.0   8.0   2.0  2.0    4.0  ...     0   \n",
       "2      0  2.0    0   1.0  14.0   767.0  89.0   4.0  2.0  245.0  ...     3   \n",
       "3      0  NaN  893   NaN   NaN  4392.0   NaN   0.0  0.0    0.0  ...   NaN   \n",
       "4      0  3.0   -1   NaN   0.0     2.0   0.0   3.0  0.0    0.0  ...   NaN   \n",
       "\n",
       "   C_I5  C_I6  C_I7 C_I8 C_I9 C_I10 C_I11 C_I12 C_I13  \n",
       "0     1     0     3    0    3     0     1   NaN     0  \n",
       "1     0     0     1    0    0     0     0   NaN     1  \n",
       "2     0     2     2    0    3     0     1     0     4  \n",
       "3     2   NaN   NaN  NaN  NaN   NaN   NaN   NaN   NaN  \n",
       "4     0   NaN     1  NaN  NaN     0     0   NaN   NaN  \n",
       "\n",
       "[5 rows x 53 columns]"
      ]
     },
     "execution_count": 35,
     "metadata": {},
     "output_type": "execute_result"
    }
   ],
   "source": [
    "train.head()"
   ]
  },
  {
   "cell_type": "code",
   "execution_count": 36,
   "metadata": {
    "ExecuteTime": {
     "end_time": "2019-08-19T06:14:37.673643Z",
     "start_time": "2019-08-19T06:14:37.668157Z"
    }
   },
   "outputs": [],
   "source": [
    "train_df = train[:int(train.shape[0]*0.8)]\n",
    "test_df = train[int(train.shape[0]*0.8):]"
   ]
  },
  {
   "cell_type": "code",
   "execution_count": 37,
   "metadata": {
    "ExecuteTime": {
     "end_time": "2019-08-19T06:15:29.717701Z",
     "start_time": "2019-08-19T06:15:29.714735Z"
    }
   },
   "outputs": [],
   "source": [
    "# 选出连续型特征\n",
    "con = [f for f in train_df.columns if f.startswith(\"I\")]\n",
    "cat = [f for f in train_df.columns if f.startswith(\"C\")]"
   ]
  },
  {
   "cell_type": "code",
   "execution_count": 42,
   "metadata": {
    "ExecuteTime": {
     "end_time": "2019-08-19T06:17:10.700801Z",
     "start_time": "2019-08-19T06:17:10.665913Z"
    }
   },
   "outputs": [],
   "source": [
    "# 定义将数据转换为xlearn格式的数据\n",
    "class FFMFormat:\n",
    "    def __init__(self, vector_feat, one_hot_feat, continus_feat):\n",
    "        '''\n",
    "        vector_feat: 表示多个有意义的字符组成的特征，可以理解为向量型特征，缺失值用\"-1\"填充 \n",
    "        one_hot_feat: 表示可以使用One-hot编码的特征，缺失值使用-1填充 \n",
    "        continus_feat: 表示连续型特征，经过归一化处理的 \n",
    "        '''\n",
    "        self.field_index_ = None  # 记录场索引信息\n",
    "        self.feature_index_ = None # 记录特征索引信息\n",
    "        self.vector_feat = vector_feat\n",
    "        self.one_hot_feat = one_hot_feat\n",
    "        self.continus_feat = continus_feat\n",
    "        \n",
    "    def fit(self, df):\n",
    "        ## 每一列对应一个场\n",
    "        self.field_index_ = {col: i for i, col in enumerate(df.columns)}\n",
    "        self.feature_index_ = {}\n",
    "        last_idx = 0 \n",
    "        for col in tqdm(df.columns):\n",
    "            ## 如果对应列是one-hot型特征\n",
    "            if col in self.one_hot_feat:\n",
    "                print(\"cat: \", col)\n",
    "                df[col] = df[col].astype(str)\n",
    "                ## 求出该变量中共有多少种不同的值\n",
    "                vals = [v for v in np.unique(df[col].values) if str(v) != \"nan\"]\n",
    "                ## 获得对应的one-hot只有的特征名\n",
    "                names = np.asarray(list(map(lambda x: col+\"_\"+x, vals)))\n",
    "                tmp = dict(zip(names, range(last_idx, last_idx+len(names))))\n",
    "                self.feature_index_[col] = tmp\n",
    "                last_idx += len(names)\n",
    "            elif col in self.vector_feat:\n",
    "                ## 这是字符串型特征\n",
    "                vals = []\n",
    "                for data in df[col].apply(str):\n",
    "                    if data != \"nan\":\n",
    "                        ## 按照空格进行分割\n",
    "                        for word in data.strip().split():\n",
    "                            vals.append(word)\n",
    "                vals = np.unique(vals)\n",
    "                vals = filter(lambda x: x!=\"nan\", vals)\n",
    "                names = np.asarray(list(map(lambda x: col+\"_\"+x, vals)))\n",
    "                tmp = dict(zip(names, range(last_idx, last_idx+len(names))))\n",
    "                self.feature_index_[col] = tmp\n",
    "                last_idx += len(names)\n",
    "            elif col in self.continus_feat:\n",
    "                ## 最后如果是数值型特征\n",
    "                print(\"con: \", col)\n",
    "                self.feature_index_[col] = last_idx\n",
    "                last_idx += 1 \n",
    "        return self \n",
    "    \n",
    "    # 对每一行进行转换\n",
    "    def transform_row_(self, row):\n",
    "        ffm = []\n",
    "        \n",
    "        for col, val in row.loc[row != 0].to_dict().items():\n",
    "            if col in self.one_hot_feat:\n",
    "                name = f\"{col}_{val}\"\n",
    "                if name in self.feature_index_[col]:\n",
    "                    ffm.append(\"{}:{}:1\".format(self.field_index_[col], self.feature_index_[col][name]))\n",
    "            elif col in self.vector_feat:\n",
    "                for word in str(val).split():\n",
    "                    name = f\"{col}_{word}\"\n",
    "                    if name in self.feature_index_[col]:\n",
    "                        ffm.append(\"{}:{}:1\".format(self.field_index_[col], self.feature_index_[col][name]))\n",
    "            elif col in self.continus_feat:\n",
    "                if str(val) != \"nan\": \n",
    "                    ffm.append(\"{}:{}:{}\".format(self.field_index_[col], self.feature_index_[col], val))\n",
    "        return \" \".join(ffm)\n",
    "    \n",
    "    def transform(self, df):\n",
    "        return pd.Series({idx: self.transform_row_(row) for idx, row in tqdm(df.iterrows())})\n",
    "    \n",
    "    def fit_transform(self, df):\n",
    "        self.fit(df)\n",
    "        return self.transform(df)\n",
    "    \n",
    "    "
   ]
  },
  {
   "cell_type": "code",
   "execution_count": 43,
   "metadata": {
    "ExecuteTime": {
     "end_time": "2019-08-19T06:17:11.811359Z",
     "start_time": "2019-08-19T06:17:11.805006Z"
    }
   },
   "outputs": [],
   "source": [
    "def convert_to_ffm(train_df, test_df=None, vector_fe=[], onehot_fe=[], contin_fe=[], path=\"./\", label=None):\n",
    "    if test_df is not None:\n",
    "        df_ = pd.concat([train_df, test_df], axis=0, sort=False, ignore_index=True)\n",
    "    else:\n",
    "        df_ = train_df\n",
    "    \n",
    "    trans = FFMFormat(vector_fe, onehot_fe, contin_fe)\n",
    "    user_ffm = trans.fit_transform(df_)\n",
    "    \n",
    "    train_ = user_ffm[:train_df.shape[0]]\n",
    "    if test_df is not None:\n",
    "        test_ffm = user_ffm[train_df.shape[0]:]\n",
    "    \n",
    "    if label:\n",
    "        Y = np.array(train_df.pop(label))\n",
    "    else:\n",
    "        raise ValueError(\"Please give the label\")\n",
    "    \n",
    "    train_ffm = pd.DataFrame()\n",
    "    train_ffm[\"Label\"] = Y.astype(str) \n",
    "    train_ffm[\"feature\"] = train_\n",
    "    train_ffm['all'] = train_ffm[['Label', \"feature\"]].apply(lambda row: \" \".join(row), axis=1, raw=True)\n",
    "    train_ffm.drop([\"Label\", \"feature\"], axis=1, inplace=True)\n",
    "    \n",
    "    \n",
    "    ## 生成训练集和验证集\n",
    "    train_ffm[:int(train_ffm.shape[0]*0.8)].to_csv(os.path.join(path, \"train_ffm.txt\"), index=False, header=False, sep=\" \")\n",
    "    train_ffm[int(train_ffm.shape[0]*0.8):].to_csv(os.path.join(path, \"valid_ffm.txt\"), index=False, header=False, sep=\" \")\n",
    "    \n",
    "    if test_df is not None:\n",
    "        test_ffm.to_csv(os.path.join(path, \"test_ffm.txt\"), index=False, header=False, sep=\" \")\n",
    "    \n",
    "    '''\n",
    "    with open(os.path.join(path, \"train_ffm.txt\"), \"w\") as f: \n",
    "        for idx, row in train_ffm.iterrows():\n",
    "            f.write(row['all'] + \"\\n\")\n",
    "    '''"
   ]
  },
  {
   "cell_type": "code",
   "execution_count": 38,
   "metadata": {
    "ExecuteTime": {
     "end_time": "2019-08-19T02:37:57.048430Z",
     "start_time": "2019-08-19T02:37:57.044936Z"
    }
   },
   "outputs": [],
   "source": [
    "def preprocess(train_df, test_df=None, contin_fe=[]):\n",
    "    '''\n",
    "    只需要处理连续型特征即可\n",
    "    '''\n",
    "    if test_df is not None:\n",
    "        df_ = pd.concat([train_df, test_df], axis=0, sort=False, ignore_index=True)\n",
    "    else:\n",
    "        df_ = train_df\n",
    "    \n",
    "    ss = StandardScaler()\n",
    "    df_[contin_fe] = ss.fit_transform(df_[contin_fe])\n",
    "    \n",
    "    train_df = df_[:train_df.shape[0]]\n",
    "    if test_df is not None:\n",
    "        test_df = df_[train_df.shape[0]:]\n",
    "        return train_df, test_df\n",
    "    return train_df, None"
   ]
  },
  {
   "cell_type": "code",
   "execution_count": 46,
   "metadata": {
    "ExecuteTime": {
     "end_time": "2019-08-19T06:24:22.061615Z",
     "start_time": "2019-08-19T06:17:48.888587Z"
    },
    "scrolled": true
   },
   "outputs": [
    {
     "data": {
      "application/vnd.jupyter.widget-view+json": {
       "model_id": "a08e34d5fd9e4a1b8a8d3aa2a78430ed",
       "version_major": 2,
       "version_minor": 0
      },
      "text/plain": [
       "HBox(children=(IntProgress(value=0, max=53), HTML(value='')))"
      ]
     },
     "metadata": {},
     "output_type": "display_data"
    },
    {
     "name": "stdout",
     "output_type": "stream",
     "text": [
      "cat:  C1\n",
      "cat:  C2\n",
      "cat:  C3\n",
      "cat:  C4\n",
      "cat:  C5\n",
      "cat:  C6\n",
      "cat:  C7\n",
      "cat:  C8\n",
      "cat:  C9\n",
      "cat:  C10\n",
      "cat:  C11\n",
      "cat:  C12\n",
      "cat:  C13\n",
      "cat:  C14\n",
      "cat:  C15\n",
      "cat:  C16\n",
      "cat:  C17\n",
      "cat:  C18\n",
      "cat:  C19\n",
      "cat:  C20\n",
      "cat:  C21\n",
      "cat:  C22\n",
      "cat:  C23\n",
      "cat:  C24\n",
      "cat:  C25\n",
      "cat:  C26\n",
      "cat:  C_I1\n",
      "cat:  C_I2\n",
      "cat:  C_I3\n",
      "cat:  C_I4\n",
      "cat:  C_I5\n",
      "cat:  C_I6\n",
      "cat:  C_I7\n",
      "cat:  C_I8\n",
      "cat:  C_I9\n",
      "cat:  C_I10\n",
      "cat:  C_I11\n",
      "cat:  C_I12\n",
      "cat:  C_I13\n",
      "\n"
     ]
    },
    {
     "data": {
      "application/vnd.jupyter.widget-view+json": {
       "model_id": "a15b3c20bf154aeaac5af131576cc38f",
       "version_major": 2,
       "version_minor": 0
      },
      "text/plain": [
       "HBox(children=(IntProgress(value=1, bar_style='info', max=1), HTML(value='')))"
      ]
     },
     "metadata": {},
     "output_type": "display_data"
    },
    {
     "name": "stdout",
     "output_type": "stream",
     "text": [
      "\n"
     ]
    }
   ],
   "source": [
    "convert_to_ffm(train_df, test_df, onehot_fe=cat, contin_fe=[], label=\"Label\")"
   ]
  },
  {
   "cell_type": "code",
   "execution_count": 5,
   "metadata": {
    "ExecuteTime": {
     "end_time": "2019-08-19T06:27:06.473354Z",
     "start_time": "2019-08-19T06:27:06.471326Z"
    }
   },
   "outputs": [],
   "source": [
    "ffm_model = xlearn.create_ffm()"
   ]
  },
  {
   "cell_type": "code",
   "execution_count": 6,
   "metadata": {
    "ExecuteTime": {
     "end_time": "2019-08-19T06:27:07.217562Z",
     "start_time": "2019-08-19T06:27:07.215523Z"
    }
   },
   "outputs": [],
   "source": [
    "ffm_model.setTrain(\"./train_ffm.txt\")"
   ]
  },
  {
   "cell_type": "code",
   "execution_count": 7,
   "metadata": {
    "ExecuteTime": {
     "end_time": "2019-08-19T06:27:08.329327Z",
     "start_time": "2019-08-19T06:27:08.327426Z"
    }
   },
   "outputs": [],
   "source": [
    "ffm_model.setValidate(\"./valid_ffm.txt\")"
   ]
  },
  {
   "cell_type": "code",
   "execution_count": 8,
   "metadata": {
    "ExecuteTime": {
     "end_time": "2019-08-19T06:27:09.752106Z",
     "start_time": "2019-08-19T06:27:09.749421Z"
    }
   },
   "outputs": [],
   "source": [
    "param = {\"task\": \"binary\", \"lr\": 0.1, \"lambda\": 0.002, \"metric\":\"acc\"}"
   ]
  },
  {
   "cell_type": "code",
   "execution_count": 9,
   "metadata": {
    "ExecuteTime": {
     "end_time": "2019-08-19T06:27:36.317486Z",
     "start_time": "2019-08-19T06:27:10.493150Z"
    }
   },
   "outputs": [],
   "source": [
    "ffm_model.fit(param, \"./model.out\")"
   ]
  },
  {
   "cell_type": "code",
   "execution_count": 10,
   "metadata": {
    "ExecuteTime": {
     "end_time": "2019-08-19T06:27:39.998909Z",
     "start_time": "2019-08-19T06:27:39.990232Z"
    }
   },
   "outputs": [],
   "source": [
    "ffm_model.setTest(\"./test_ffm.txt\")"
   ]
  },
  {
   "cell_type": "code",
   "execution_count": 11,
   "metadata": {
    "ExecuteTime": {
     "end_time": "2019-08-19T06:27:41.282597Z",
     "start_time": "2019-08-19T06:27:41.280620Z"
    }
   },
   "outputs": [],
   "source": [
    "ffm_model.setSigmoid()"
   ]
  },
  {
   "cell_type": "code",
   "execution_count": 12,
   "metadata": {
    "ExecuteTime": {
     "end_time": "2019-08-19T06:27:44.644718Z",
     "start_time": "2019-08-19T06:27:42.850523Z"
    }
   },
   "outputs": [],
   "source": [
    "ffm_model.predict(\"./model.out\", \"./output.txt\")"
   ]
  },
  {
   "cell_type": "markdown",
   "metadata": {},
   "source": [
    "## 使用FM模型"
   ]
  },
  {
   "cell_type": "code",
   "execution_count": null,
   "metadata": {},
   "outputs": [],
   "source": [
    "class FMFormat:\n",
    "    def "
   ]
  }
 ],
 "metadata": {
  "kernelspec": {
   "display_name": "Python 3",
   "language": "python",
   "name": "python3"
  },
  "language_info": {
   "codemirror_mode": {
    "name": "ipython",
    "version": 3
   },
   "file_extension": ".py",
   "mimetype": "text/x-python",
   "name": "python",
   "nbconvert_exporter": "python",
   "pygments_lexer": "ipython3",
   "version": "3.7.4"
  },
  "toc": {
   "base_numbering": 1,
   "nav_menu": {},
   "number_sections": true,
   "sideBar": true,
   "skip_h1_title": false,
   "title_cell": "Table of Contents",
   "title_sidebar": "Contents",
   "toc_cell": false,
   "toc_position": {},
   "toc_section_display": true,
   "toc_window_display": false
  }
 },
 "nbformat": 4,
 "nbformat_minor": 2
}
