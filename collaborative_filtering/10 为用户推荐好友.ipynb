{
 "cells": [
  {
   "cell_type": "code",
   "execution_count": 1,
   "metadata": {
    "ExecuteTime": {
     "end_time": "2019-07-18T02:49:35.090370Z",
     "start_time": "2019-07-18T02:49:35.088525Z"
    }
   },
   "outputs": [],
   "source": [
    "import random\n",
    "import math\n",
    "import time \n",
    "from tqdm.autonotebook import tqdm "
   ]
  },
  {
   "cell_type": "markdown",
   "metadata": {},
   "source": [
    "# 定义通用的函数"
   ]
  },
  {
   "cell_type": "code",
   "execution_count": 2,
   "metadata": {
    "ExecuteTime": {
     "end_time": "2019-07-18T02:51:51.052762Z",
     "start_time": "2019-07-18T02:51:51.049600Z"
    }
   },
   "outputs": [],
   "source": [
    "# 定义监控运行时间的装饰器\n",
    "def timmer(func):\n",
    "    def wrapper(*args, **kwargs):\n",
    "        start_time = time.time()\n",
    "        res = func(*args, **kwargs)\n",
    "        stop_time = time.time()\n",
    "        print(\"Func: {:s} | Run time: {:.2f}\".format(func.__name__, stop_time-start_time))\n",
    "        return res \n",
    "    return wrapper"
   ]
  },
  {
   "cell_type": "markdown",
   "metadata": {},
   "source": [
    "# 定义数据集相关的函数"
   ]
  },
  {
   "cell_type": "code",
   "execution_count": 5,
   "metadata": {
    "ExecuteTime": {
     "end_time": "2019-07-18T02:53:47.808056Z",
     "start_time": "2019-07-18T02:53:47.804442Z"
    }
   },
   "outputs": [
    {
     "name": "stdout",
     "output_type": "stream",
     "text": [
      "# Directed graph (each unordered pair of nodes is saved once): Slashdot0902.txt \n",
      "\n",
      "# Slashdot Zoo social network from February 0 2009\n",
      "\n",
      "# Nodes: 82168 Edges: 948464\n",
      "\n",
      "# FromNodeId\tToNodeId\n",
      "\n",
      "0\t0\n",
      "\n",
      "0\t1\n",
      "\n",
      "0\t2\n",
      "\n",
      "0\t3\n",
      "\n",
      "0\t4\n",
      "\n"
     ]
    }
   ],
   "source": [
    "with open(\"data/Slashdot0902.txt\", 'r') as f: \n",
    "    for i, line in enumerate(f):\n",
    "        print(line)\n",
    "        if i == 8:\n",
    "            break"
   ]
  },
  {
   "cell_type": "code",
   "execution_count": 17,
   "metadata": {
    "ExecuteTime": {
     "end_time": "2019-07-18T03:51:09.263703Z",
     "start_time": "2019-07-18T03:51:09.247038Z"
    }
   },
   "outputs": [],
   "source": [
    "class Dataset:\n",
    "    def __init__(self, fp, sample=100000):\n",
    "        # sample表示只取其中的部分数据\n",
    "        self.data = self.loadData(fp, sample)\n",
    "    \n",
    "    def loadData(self, fp, sample):\n",
    "        data = [f.strip().split(\"\\t\") for f in open(fp).readlines()[4:]]\n",
    "        if sample == -1: \n",
    "            return data \n",
    "        else:\n",
    "            random.shuffle(data)\n",
    "            return data[:sample]\n",
    "    \n",
    "    def splitData(self, M, k, seed=2019):\n",
    "        train, test = [], []\n",
    "        random.seed(seed)\n",
    "        for u, v in self.data:\n",
    "            if random.randint(0, M-1) == k:\n",
    "                test.append((u, v))\n",
    "            else:\n",
    "                train.append((u, v))\n",
    "                \n",
    "        # 处理成字典的形式\n",
    "        def conver_dict(data):\n",
    "            data_dict = {}  # 当前用户指向的用户\n",
    "            data_dict_t = {}  # 指向当前用户的用户\n",
    "            for u, v in data: \n",
    "                if u not in data_dict:\n",
    "                    data_dict[u] = set()\n",
    "                data_dict[u].add(v)\n",
    "                if v not in data_dict_t:\n",
    "                    data_dict_t[v] = set()\n",
    "                data_dict_t[v].add(u)\n",
    "\n",
    "            data_dict = {k:list(data_dict[k]) for k in data_dict}\n",
    "            data_dict_t = {k:list(data_dict_t[k]) for k in data_dict_t}\n",
    "            return data_dict, data_dict_t\n",
    "    \n",
    "        return conver_dict(train), conver_dict(test)[0]"
   ]
  },
  {
   "cell_type": "markdown",
   "metadata": {},
   "source": [
    "# 评价指标"
   ]
  },
  {
   "cell_type": "code",
   "execution_count": 9,
   "metadata": {
    "ExecuteTime": {
     "end_time": "2019-07-18T03:08:28.505389Z",
     "start_time": "2019-07-18T03:08:28.489068Z"
    }
   },
   "outputs": [],
   "source": [
    "class Metric:\n",
    "    def __init__(self, train, test, GetRecommendation):\n",
    "        self.train = train\n",
    "        self.test = test\n",
    "        self.GetRecommendation = GetRecommendation\n",
    "        self.recs = self.getRec()\n",
    "        \n",
    "    \n",
    "    # 为test中每个用户进行推荐\n",
    "    def getRec(self):\n",
    "        recs = {}\n",
    "        for user in self.test:\n",
    "            rank = self.GetRecommendation(user)\n",
    "            recs[user] = rank\n",
    "        return recs\n",
    "    \n",
    "    # 定义精确率的指标计算方式\n",
    "    def precision(self):\n",
    "        all, hit = 0, 0\n",
    "        for user in self.test:\n",
    "            test_users = set(self.test[user])\n",
    "            rank = self.recs[user]\n",
    "            for v, score in rank: \n",
    "                if v in test_users:\n",
    "                    hit += 1 \n",
    "            all += len(rank)\n",
    "        return round(hit/all*100, 2) if all>0 else 0\n",
    "    \n",
    "    # 定义召回率的计算方式\n",
    "    def recall(self):\n",
    "        all, hit = 0, 0 \n",
    "        for user in self.test: \n",
    "            test_users = set(self.test[user])\n",
    "            rank = self.recs[user]\n",
    "            for v, score in rank: \n",
    "                if v in test_users:\n",
    "                    hit += 1 \n",
    "            all += len(test_users)\n",
    "        return round(hit/all*100, 2) if all > 0 else 0\n",
    "    \n",
    "    def eval(self):\n",
    "        metric = {\"Precision\": self.precision(),\n",
    "                 \"Recall\": self.recall()}\n",
    "        print(\"Metric: \", metric)\n",
    "        return metric"
   ]
  },
  {
   "cell_type": "markdown",
   "metadata": {},
   "source": [
    "# 算法的实现"
   ]
  },
  {
   "cell_type": "markdown",
   "metadata": {},
   "source": [
    "- OUT\n",
    "- IN\n",
    "- OUT_IN\n",
    "- OUT_IN_Cosine"
   ]
  },
  {
   "cell_type": "code",
   "execution_count": 21,
   "metadata": {
    "ExecuteTime": {
     "end_time": "2019-07-18T03:53:39.346874Z",
     "start_time": "2019-07-18T03:53:39.339325Z"
    }
   },
   "outputs": [],
   "source": [
    "# 1. 利用用户出度计算相似度\n",
    "def OUT(train, N):\n",
    "    G, GT = train \n",
    "    \n",
    "    def GetRecommendation(user):\n",
    "        if user not in G: \n",
    "            return []\n",
    "        # 根据相似度推荐N个未见过的好友\n",
    "        user_sim = {}\n",
    "        user_friends = set(G[user])\n",
    "        ## 对于用户的每一个关注的人（出度）\n",
    "        for u in G[user]:\n",
    "            if u not in GT:\n",
    "                continue\n",
    "            ## 对于用户关注的人的关注者\n",
    "            for v in GT[u]:\n",
    "                if v != user and v not in user_friends:\n",
    "                    user_sim[v] = user_sim.get(v, 0) + 1 \n",
    "        \n",
    "        user_sim = {v:user_sim[v]/math.sqrt(len(G[user])*len(G[v])) for v in user_sim}\n",
    "        return list(sorted(user_sim.items(), key=lambda x: x[1], reverse=True))[:N]\n",
    "    \n",
    "    return GetRecommendation"
   ]
  },
  {
   "cell_type": "code",
   "execution_count": 12,
   "metadata": {
    "ExecuteTime": {
     "end_time": "2019-07-18T03:34:51.204484Z",
     "start_time": "2019-07-18T03:34:51.199907Z"
    }
   },
   "outputs": [],
   "source": [
    "# 2. 利用用户的入度计算相似度\n",
    "def IN(train, N):\n",
    "    G, GT = train\n",
    "    def GetRecommendation(user):\n",
    "        if user not in GT:\n",
    "            return []\n",
    "        ## 根据相似度推荐N个未见过的\n",
    "        user_sim = {}\n",
    "        user_friends = set(G[user]) if user in G else set()\n",
    "        ## 对于关注用户user的人\n",
    "        for u in GT[user]:\n",
    "            if u not in G: \n",
    "                continue\n",
    "            ## 对于用户u关注的人\n",
    "            for v in G[u]:\n",
    "                if v!=user and v not in user_friends:\n",
    "                    user_sim[v] = user_sim.get(v, 0) + 1 \n",
    "        user_sim = {v: user_sim[v]/math.sqrt(len(GT[user])*len(GT[v])) for v in user_sim}\n",
    "        return list(sorted(user_sim.items(), key=lambda x: x[1], reverse=True))[:N]\n",
    "    return GetRecommendation"
   ]
  },
  {
   "cell_type": "code",
   "execution_count": 13,
   "metadata": {
    "ExecuteTime": {
     "end_time": "2019-07-18T03:38:43.175457Z",
     "start_time": "2019-07-18T03:38:43.169901Z"
    }
   },
   "outputs": [],
   "source": [
    "# 3. 利用用户的出度和入度进行计算，不考虑热门入度用户的惩罚\n",
    "def OUT_IN(train, N):\n",
    "    G, GT = train \n",
    "    def GetRecommendation(user):\n",
    "        if user not in G: return []\n",
    "        # 根据相似度推荐N个未见过的\n",
    "        user_sim = {}\n",
    "        user_friends = set(G[user])\n",
    "        ## 对于用户user关注的每一个用户u\n",
    "        for u in G[user]:\n",
    "            if u not in G:\n",
    "                continue\n",
    "            ## 对于用户u关注的每一个用户v\n",
    "            for v in G[u]:\n",
    "                if v != user and v not in user_friends:\n",
    "                    user_sim[v] = user_sim.get(v, 0) + 1 \n",
    "        user_sim = {v: user_sim[v] / len(G[user]) for v in user_sim}\n",
    "        return list(sorted(user_sim.items(), key=lambda x: x[1], reverse=True))[:N]\n",
    "    \n",
    "    return GetRecommendation"
   ]
  },
  {
   "cell_type": "code",
   "execution_count": 14,
   "metadata": {
    "ExecuteTime": {
     "end_time": "2019-07-18T03:42:13.481043Z",
     "start_time": "2019-07-18T03:42:13.473889Z"
    }
   },
   "outputs": [],
   "source": [
    "# 4. 利用用户的出度和入度的余弦相似度计算\n",
    "def OUT_IN_Cosine(train, N):\n",
    "    G, GT = train\n",
    "    \n",
    "    def GetRecommendation(user):\n",
    "        if user not in G: return []\n",
    "        user_sim = {}\n",
    "        user_friends = set(G[user])\n",
    "        for u in G[user]:\n",
    "            if u not in G: \n",
    "                continue\n",
    "            for v in G[u]:\n",
    "                if v!= user and v not in user_friends:\n",
    "                    user_sim[v] = user_sim.get(v, 0) + 1 \n",
    "        user_sim = {v:user_sim[v]/math.sqrt(len(G[user])*len(GT[v])) for v in user_sim}\n",
    "        return list(sorted(user_sim.items(), key=lambda x: x[1], reverse=True))\n",
    "    \n",
    "    return GetRecommendation"
   ]
  },
  {
   "cell_type": "markdown",
   "metadata": {},
   "source": [
    "# 实验"
   ]
  },
  {
   "cell_type": "code",
   "execution_count": 19,
   "metadata": {
    "ExecuteTime": {
     "end_time": "2019-07-18T03:51:41.210071Z",
     "start_time": "2019-07-18T03:51:41.203737Z"
    }
   },
   "outputs": [],
   "source": [
    "class Experiment:\n",
    "    def __init__(self, M, N, fp=\"data/Slashdot0902.txt\", rt=\"OUT\"):\n",
    "        self.M = M \n",
    "        self.N = N \n",
    "        self.fp = fp \n",
    "        self.rt = rt \n",
    "        self.alg = {\"OUT\": OUT, \"IN\":IN, \n",
    "                   \"OUT_IN\": OUT_IN, \"OUT_IN_Cosine\": OUT_IN_Cosine}\n",
    "        \n",
    "    # 定义单词实验\n",
    "    def worker(self,train,test):\n",
    "        getRecommendation = self.alg[self.rt](train, self.N)\n",
    "        metric = Metric(train[0], test, getRecommendation)\n",
    "        return metric.eval()\n",
    "    \n",
    "    @timmer\n",
    "    def run(self):\n",
    "        metrics = {\"Precision\": 0, \"Recall\": 0}\n",
    "        dataset = Dataset(self.fp)\n",
    "        for ii in range(self.M):\n",
    "            train, test = dataset.splitData(self.M, ii)\n",
    "            print(f\"Experiment: {ii}\")\n",
    "            metric = self.worker(train, test)\n",
    "            metrics = {k: metrics[k] + metric[k] for k in metrics}\n",
    "        \n",
    "        metrics = {k: metrics[k]/self.M for k in metrics}\n",
    "        print(\"Average Result (M={}, N={}, alg={}): {}\".format(self.M, self.N, self.rt, metrics))"
   ]
  },
  {
   "cell_type": "code",
   "execution_count": 22,
   "metadata": {
    "ExecuteTime": {
     "end_time": "2019-07-18T03:54:27.156283Z",
     "start_time": "2019-07-18T03:53:48.418360Z"
    }
   },
   "outputs": [
    {
     "name": "stdout",
     "output_type": "stream",
     "text": [
      "当前使用的算法是: OUT\n",
      "Experiment: 0\n",
      "Metric:  {'Precision': 0.08, 'Recall': 0.35}\n",
      "Experiment: 1\n",
      "Metric:  {'Precision': 0.07, 'Recall': 0.32}\n",
      "Experiment: 2\n",
      "Metric:  {'Precision': 0.07, 'Recall': 0.3}\n",
      "Experiment: 3\n",
      "Metric:  {'Precision': 0.08, 'Recall': 0.35}\n",
      "Experiment: 4\n",
      "Metric:  {'Precision': 0.07, 'Recall': 0.31}\n",
      "Experiment: 5\n",
      "Metric:  {'Precision': 0.07, 'Recall': 0.3}\n",
      "Experiment: 6\n",
      "Metric:  {'Precision': 0.1, 'Recall': 0.45}\n",
      "Experiment: 7\n",
      "Metric:  {'Precision': 0.06, 'Recall': 0.27}\n",
      "Experiment: 8\n",
      "Metric:  {'Precision': 0.11, 'Recall': 0.46}\n",
      "Experiment: 9\n",
      "Metric:  {'Precision': 0.09, 'Recall': 0.41}\n",
      "Average Result (M=10, N=10, alg=OUT): {'Precision': 0.08, 'Recall': 0.352}\n",
      "Func: run | Run time: 9.94\n",
      "当前使用的算法是: IN\n",
      "Experiment: 0\n",
      "Metric:  {'Precision': 0.07, 'Recall': 0.3}\n",
      "Experiment: 1\n",
      "Metric:  {'Precision': 0.08, 'Recall': 0.35}\n",
      "Experiment: 2\n",
      "Metric:  {'Precision': 0.08, 'Recall': 0.34}\n",
      "Experiment: 3\n",
      "Metric:  {'Precision': 0.07, 'Recall': 0.29}\n",
      "Experiment: 4\n",
      "Metric:  {'Precision': 0.07, 'Recall': 0.31}\n",
      "Experiment: 5\n",
      "Metric:  {'Precision': 0.07, 'Recall': 0.31}\n",
      "Experiment: 6\n",
      "Metric:  {'Precision': 0.05, 'Recall': 0.22}\n",
      "Experiment: 7\n",
      "Metric:  {'Precision': 0.07, 'Recall': 0.29}\n",
      "Experiment: 8\n",
      "Metric:  {'Precision': 0.05, 'Recall': 0.24}\n",
      "Experiment: 9\n",
      "Metric:  {'Precision': 0.08, 'Recall': 0.36}\n",
      "Average Result (M=10, N=10, alg=IN): {'Precision': 0.069, 'Recall': 0.30100000000000005}\n",
      "Func: run | Run time: 9.77\n",
      "当前使用的算法是: OUT_IN\n",
      "Experiment: 0\n",
      "Metric:  {'Precision': 0.08, 'Recall': 0.36}\n",
      "Experiment: 1\n",
      "Metric:  {'Precision': 0.09, 'Recall': 0.4}\n",
      "Experiment: 2\n",
      "Metric:  {'Precision': 0.07, 'Recall': 0.28}\n",
      "Experiment: 3\n",
      "Metric:  {'Precision': 0.09, 'Recall': 0.37}\n",
      "Experiment: 4\n",
      "Metric:  {'Precision': 0.11, 'Recall': 0.45}\n",
      "Experiment: 5\n",
      "Metric:  {'Precision': 0.07, 'Recall': 0.3}\n",
      "Experiment: 6\n",
      "Metric:  {'Precision': 0.1, 'Recall': 0.45}\n",
      "Experiment: 7\n",
      "Metric:  {'Precision': 0.08, 'Recall': 0.34}\n",
      "Experiment: 8\n",
      "Metric:  {'Precision': 0.09, 'Recall': 0.38}\n",
      "Experiment: 9\n",
      "Metric:  {'Precision': 0.07, 'Recall': 0.32}\n",
      "Average Result (M=10, N=10, alg=OUT_IN): {'Precision': 0.08499999999999999, 'Recall': 0.365}\n",
      "Func: run | Run time: 8.41\n",
      "当前使用的算法是: OUT_IN_Cosine\n",
      "Experiment: 0\n",
      "Metric:  {'Precision': 0.06, 'Recall': 2.64}\n",
      "Experiment: 1\n",
      "Metric:  {'Precision': 0.06, 'Recall': 2.8}\n",
      "Experiment: 2\n",
      "Metric:  {'Precision': 0.05, 'Recall': 2.25}\n",
      "Experiment: 3\n",
      "Metric:  {'Precision': 0.05, 'Recall': 2.29}\n",
      "Experiment: 4\n",
      "Metric:  {'Precision': 0.06, 'Recall': 2.52}\n",
      "Experiment: 5\n",
      "Metric:  {'Precision': 0.05, 'Recall': 2.3}\n",
      "Experiment: 6\n",
      "Metric:  {'Precision': 0.06, 'Recall': 2.77}\n",
      "Experiment: 7\n",
      "Metric:  {'Precision': 0.06, 'Recall': 2.53}\n",
      "Experiment: 8\n",
      "Metric:  {'Precision': 0.06, 'Recall': 2.5}\n",
      "Experiment: 9\n",
      "Metric:  {'Precision': 0.05, 'Recall': 2.29}\n",
      "Average Result (M=10, N=10, alg=OUT_IN_Cosine): {'Precision': 0.05600000000000001, 'Recall': 2.489}\n",
      "Func: run | Run time: 10.61\n"
     ]
    }
   ],
   "source": [
    "# Slashdot数据集\n",
    "M, N = 10, 10 \n",
    "for alg in [\"OUT\", \"IN\",  \"OUT_IN\", \"OUT_IN_Cosine\"]:\n",
    "    print(f\"当前使用的算法是: {alg}\")\n",
    "    exp = Experiment(M, N, rt=alg)\n",
    "    exp.run()"
   ]
  },
  {
   "cell_type": "code",
   "execution_count": 23,
   "metadata": {
    "ExecuteTime": {
     "end_time": "2019-07-18T03:56:36.077745Z",
     "start_time": "2019-07-18T03:55:51.312172Z"
    }
   },
   "outputs": [
    {
     "name": "stdout",
     "output_type": "stream",
     "text": [
      "当前使用的算法是: OUT\n",
      "Experiment: 0\n",
      "Metric:  {'Precision': 0.16, 'Recall': 0.68}\n",
      "Experiment: 1\n",
      "Metric:  {'Precision': 0.21, 'Recall': 0.92}\n",
      "Experiment: 2\n",
      "Metric:  {'Precision': 0.18, 'Recall': 0.79}\n",
      "Experiment: 3\n",
      "Metric:  {'Precision': 0.2, 'Recall': 0.86}\n",
      "Experiment: 4\n",
      "Metric:  {'Precision': 0.2, 'Recall': 0.84}\n",
      "Experiment: 5\n",
      "Metric:  {'Precision': 0.18, 'Recall': 0.78}\n",
      "Experiment: 6\n",
      "Metric:  {'Precision': 0.19, 'Recall': 0.83}\n",
      "Experiment: 7\n",
      "Metric:  {'Precision': 0.19, 'Recall': 0.79}\n",
      "Experiment: 8\n",
      "Metric:  {'Precision': 0.19, 'Recall': 0.81}\n",
      "Experiment: 9\n",
      "Metric:  {'Precision': 0.19, 'Recall': 0.82}\n",
      "Average Result (M=10, N=10, alg=OUT): {'Precision': 0.18899999999999997, 'Recall': 0.812}\n",
      "Func: run | Run time: 15.14\n",
      "当前使用的算法是: IN\n",
      "Experiment: 0\n",
      "Metric:  {'Precision': 0.24, 'Recall': 0.91}\n",
      "Experiment: 1\n",
      "Metric:  {'Precision': 0.23, 'Recall': 0.87}\n",
      "Experiment: 2\n",
      "Metric:  {'Precision': 0.24, 'Recall': 0.94}\n",
      "Experiment: 3\n",
      "Metric:  {'Precision': 0.25, 'Recall': 0.95}\n",
      "Experiment: 4\n",
      "Metric:  {'Precision': 0.21, 'Recall': 0.79}\n",
      "Experiment: 5\n",
      "Metric:  {'Precision': 0.21, 'Recall': 0.79}\n",
      "Experiment: 6\n",
      "Metric:  {'Precision': 0.22, 'Recall': 0.83}\n",
      "Experiment: 7\n",
      "Metric:  {'Precision': 0.22, 'Recall': 0.82}\n",
      "Experiment: 8\n",
      "Metric:  {'Precision': 0.22, 'Recall': 0.86}\n",
      "Experiment: 9\n",
      "Metric:  {'Precision': 0.2, 'Recall': 0.8}\n",
      "Average Result (M=10, N=10, alg=IN): {'Precision': 0.22400000000000003, 'Recall': 0.8560000000000001}\n",
      "Func: run | Run time: 10.83\n",
      "当前使用的算法是: OUT_IN\n",
      "Experiment: 0\n",
      "Metric:  {'Precision': 0.51, 'Recall': 2.19}\n",
      "Experiment: 1\n",
      "Metric:  {'Precision': 0.5, 'Recall': 2.14}\n",
      "Experiment: 2\n",
      "Metric:  {'Precision': 0.56, 'Recall': 2.39}\n",
      "Experiment: 3\n",
      "Metric:  {'Precision': 0.55, 'Recall': 2.33}\n",
      "Experiment: 4\n",
      "Metric:  {'Precision': 0.57, 'Recall': 2.38}\n",
      "Experiment: 5\n",
      "Metric:  {'Precision': 0.55, 'Recall': 2.34}\n",
      "Experiment: 6\n",
      "Metric:  {'Precision': 0.56, 'Recall': 2.34}\n",
      "Experiment: 7\n",
      "Metric:  {'Precision': 0.48, 'Recall': 1.99}\n",
      "Experiment: 8\n",
      "Metric:  {'Precision': 0.49, 'Recall': 2.11}\n",
      "Experiment: 9\n",
      "Metric:  {'Precision': 0.49, 'Recall': 2.11}\n",
      "Average Result (M=10, N=10, alg=OUT_IN): {'Precision': 0.526, 'Recall': 2.2319999999999998}\n",
      "Func: run | Run time: 7.91\n",
      "当前使用的算法是: OUT_IN_Cosine\n",
      "Experiment: 0\n",
      "Metric:  {'Precision': 0.23, 'Recall': 15.04}\n",
      "Experiment: 1\n",
      "Metric:  {'Precision': 0.24, 'Recall': 15.39}\n",
      "Experiment: 2\n",
      "Metric:  {'Precision': 0.24, 'Recall': 15.77}\n",
      "Experiment: 3\n",
      "Metric:  {'Precision': 0.24, 'Recall': 15.76}\n",
      "Experiment: 4\n",
      "Metric:  {'Precision': 0.24, 'Recall': 15.66}\n",
      "Experiment: 5\n",
      "Metric:  {'Precision': 0.24, 'Recall': 15.65}\n",
      "Experiment: 6\n",
      "Metric:  {'Precision': 0.24, 'Recall': 15.62}\n",
      "Experiment: 7\n",
      "Metric:  {'Precision': 0.24, 'Recall': 15.03}\n",
      "Experiment: 8\n",
      "Metric:  {'Precision': 0.24, 'Recall': 15.55}\n",
      "Experiment: 9\n",
      "Metric:  {'Precision': 0.23, 'Recall': 14.8}\n",
      "Average Result (M=10, N=10, alg=OUT_IN_Cosine): {'Precision': 0.238, 'Recall': 15.427000000000003}\n",
      "Func: run | Run time: 10.88\n"
     ]
    }
   ],
   "source": [
    "# 2. Epinions\n",
    "M, N = 10, 10\n",
    "for alg in [\"OUT\", \"IN\",  \"OUT_IN\", \"OUT_IN_Cosine\"]:\n",
    "    print(f\"当前使用的算法是: {alg}\")\n",
    "    exp = Experiment(M, N, fp=\"data/soc-Epinions1.txt\", rt=alg)\n",
    "    exp.run()"
   ]
  },
  {
   "cell_type": "code",
   "execution_count": null,
   "metadata": {},
   "outputs": [],
   "source": []
  }
 ],
 "metadata": {
  "kernelspec": {
   "display_name": "Python 3",
   "language": "python",
   "name": "python3"
  },
  "language_info": {
   "codemirror_mode": {
    "name": "ipython",
    "version": 3
   },
   "file_extension": ".py",
   "mimetype": "text/x-python",
   "name": "python",
   "nbconvert_exporter": "python",
   "pygments_lexer": "ipython3",
   "version": "3.7.3"
  },
  "toc": {
   "base_numbering": 1,
   "nav_menu": {},
   "number_sections": true,
   "sideBar": true,
   "skip_h1_title": false,
   "title_cell": "Table of Contents",
   "title_sidebar": "Contents",
   "toc_cell": false,
   "toc_position": {},
   "toc_section_display": true,
   "toc_window_display": false
  }
 },
 "nbformat": 4,
 "nbformat_minor": 2
}
