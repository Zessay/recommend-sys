{
 "cells": [
  {
   "cell_type": "code",
   "execution_count": 1,
   "metadata": {
    "ExecuteTime": {
     "end_time": "2019-07-15T06:21:11.021165Z",
     "start_time": "2019-07-15T06:21:10.839700Z"
    }
   },
   "outputs": [
    {
     "name": "stderr",
     "output_type": "stream",
     "text": [
      "/home/chen/anaconda3/lib/python3.7/site-packages/tqdm/autonotebook/__init__.py:14: TqdmExperimentalWarning: Using `tqdm.autonotebook.tqdm` in notebook mode. Use `tqdm.tqdm` instead to force console mode (e.g. in jupyter console)\n",
      "  \" (e.g. in jupyter console)\", TqdmExperimentalWarning)\n"
     ]
    }
   ],
   "source": [
    "import numpy as np \n",
    "import pandas as pd \n",
    "import math\n",
    "import random\n",
    "import time\n",
    "from tqdm.autonotebook import tqdm, trange\n",
    "\n",
    "from collections import defaultdict"
   ]
  },
  {
   "cell_type": "markdown",
   "metadata": {},
   "source": [
    "# 定义通用函数"
   ]
  },
  {
   "cell_type": "code",
   "execution_count": 2,
   "metadata": {
    "ExecuteTime": {
     "end_time": "2019-07-15T06:21:30.231052Z",
     "start_time": "2019-07-15T06:21:30.221265Z"
    }
   },
   "outputs": [],
   "source": [
    "# 定义时间装饰器，监控运行时间\n",
    "def timmer(func):\n",
    "    def wrapper(*args, **kwargs):\n",
    "        start_time = time.time()\n",
    "        res = func(*args, **kwargs)\n",
    "        stop_time = time.time()\n",
    "        print(\"Func {:s}, run time: {:f}\".format(func.__name__, stop_time - start_time))\n",
    "        return res \n",
    "    return wrapper"
   ]
  },
  {
   "cell_type": "markdown",
   "metadata": {},
   "source": [
    "# 数据处理相关"
   ]
  },
  {
   "cell_type": "code",
   "execution_count": 31,
   "metadata": {
    "ExecuteTime": {
     "end_time": "2019-07-15T07:16:10.884601Z",
     "start_time": "2019-07-15T07:16:10.879573Z"
    }
   },
   "outputs": [
    {
     "name": "stdout",
     "output_type": "stream",
     "text": [
      "1::Toy Story (1995)::Animation|Children's|Comedy\n",
      "\n"
     ]
    }
   ],
   "source": [
    "with open(\"data/ml-1m/movies.dat\", 'r', encoding=\"latin1\") as f: \n",
    "    for l in f:\n",
    "        print(l)\n",
    "        break"
   ]
  },
  {
   "cell_type": "markdown",
   "metadata": {},
   "source": [
    "- 对应 `movie_id`, `movie_name`, `type`"
   ]
  },
  {
   "cell_type": "code",
   "execution_count": 89,
   "metadata": {
    "ExecuteTime": {
     "end_time": "2019-07-15T07:41:26.540196Z",
     "start_time": "2019-07-15T07:41:26.529566Z"
    }
   },
   "outputs": [],
   "source": [
    "class Dataset:\n",
    "    def __init__(self, fp, ip):\n",
    "        self.data, self.content = self.loadData(fp, ip)\n",
    "        \n",
    "    @timmer\n",
    "    def loadData(self, fp, ip):\n",
    "        data = []\n",
    "        for l in open(fp):\n",
    "            data.append(tuple(map(int, l.strip().split('::')[:2])))\n",
    "        \n",
    "        contents = {}    \n",
    "        for l in open(ip, \"rb\"):\n",
    "            l = str(l)[2:-1]\n",
    "            contents[int(l.strip().split(\"::\")[0])] = l.strip().split(\"::\")[-1].split(\"|\")\n",
    "        return data, contents\n",
    "    \n",
    "    @timmer \n",
    "    def splitData(self, M, k, seed=2019):\n",
    "        train, test = [], []\n",
    "        random.seed(seed)\n",
    "        for user, item in self.data:\n",
    "            if random.randint(0, M-1) == k: \n",
    "                test.append((user, item))\n",
    "            else:\n",
    "                train.append((user, item))\n",
    "        \n",
    "        # 处理成字典形式，user->set(items)\n",
    "        def convert_dict(data):\n",
    "            data_dict = {}\n",
    "            for user, item in data:\n",
    "                if user not in data_dict:\n",
    "                    data_dict[user] = set()\n",
    "                data_dict[user].add(item)\n",
    "            data_dict = {k: list(data_dict[k]) for k in data_dict}\n",
    "            return data_dict\n",
    "        return convert_dict(train), convert_dict(test), self.content"
   ]
  },
  {
   "cell_type": "markdown",
   "metadata": {},
   "source": [
    "# 评价指标"
   ]
  },
  {
   "cell_type": "code",
   "execution_count": 95,
   "metadata": {
    "ExecuteTime": {
     "end_time": "2019-07-15T07:43:10.444504Z",
     "start_time": "2019-07-15T07:43:10.433407Z"
    }
   },
   "outputs": [],
   "source": [
    "class Metric:\n",
    "    \n",
    "    def __init__(self, train, test, GetRecommendation):\n",
    "        '''\n",
    "        GetRecommendation: 为某个用户推荐物品的接口函数，返回值为电影id组成的list\n",
    "        '''\n",
    "        self.train = train\n",
    "        self.test = test \n",
    "        self.GetRecommendation = GetRecommendation\n",
    "        # 保存为测试集用户推荐结果的值\n",
    "        self.recs = self.getRec()\n",
    "        \n",
    "    # 为test中的每个用户进行推荐\n",
    "    def getRec(self):\n",
    "        recs = {}\n",
    "        for user in self.test:\n",
    "            rank = self.GetRecommendation(user)\n",
    "            recs[user] = rank\n",
    "        return recs\n",
    "    \n",
    "    ## 定义精确率指标\n",
    "    def precision(self):\n",
    "        all, hit = 0, 0 \n",
    "        for user in self.test:\n",
    "            test_items = set(self.test[user])\n",
    "            rank = self.recs[user]\n",
    "            for item, score in rank:\n",
    "                if item in test_items:\n",
    "                    hit += 1 \n",
    "            all += len(rank)\n",
    "        return round(hit / all * 100, 2)\n",
    "    \n",
    "    ## 定义召回率指标\n",
    "    def recall(self):\n",
    "        all, hit = 0, 0 \n",
    "        for user in self.test:\n",
    "            test_items = set(self.test[user])\n",
    "            rank = self.recs[user]\n",
    "            for item, score in rank: \n",
    "                if item in test_items:\n",
    "                    hit += 1 \n",
    "            all += len(test_items)\n",
    "        return round(hit / all * 100, 2)\n",
    "    \n",
    "    ## 定义覆盖率指标\n",
    "    def coverage(self):\n",
    "        all_item, recom_item = set(), set()\n",
    "        for user in self.test:\n",
    "            for item in self.train[user]:\n",
    "                all_item.add(item)\n",
    "            rank = self.recs[user]\n",
    "            for item, score in rank: \n",
    "                recom_item.add(item)\n",
    "                \n",
    "        return round(len(recom_item) / len(all_item) * 100, 2)\n",
    "    \n",
    "    ## 定义新颖度指标\n",
    "    def popularity(self):\n",
    "        ## 计算推荐物品的平均流行度\n",
    "        item_pop = {}\n",
    "        for user in self.train: \n",
    "            for item in self.train[user]:\n",
    "                item_pop[item] = item_pop.get(item, 0) + 1 \n",
    "        num, pop = 0, 0 \n",
    "        for user in self.test: \n",
    "            rank = self.recs[user]\n",
    "            for item, score in rank:\n",
    "                if item in item_pop:\n",
    "                # 取对数，防止长尾问题带来被流行物品主导的问题\n",
    "                    pop += math.log(1+item_pop[item])\n",
    "                    num += 1 \n",
    "        return round(pop / num, 6)\n",
    "    \n",
    "    def eval(self):\n",
    "        metric = {\n",
    "            \"Precision\": self.precision(),\n",
    "            \"Recall\": self.recall(),\n",
    "            \"Coverage\": self.coverage(),\n",
    "            \"Popularity\": self.popularity()\n",
    "        }\n",
    "        print(\"Metric:  \", metric)\n",
    "        return metric"
   ]
  },
  {
   "cell_type": "markdown",
   "metadata": {},
   "source": [
    "# ContentItemKNN算法实现"
   ]
  },
  {
   "cell_type": "code",
   "execution_count": 96,
   "metadata": {
    "ExecuteTime": {
     "end_time": "2019-07-15T07:43:10.774324Z",
     "start_time": "2019-07-15T07:43:10.749132Z"
    }
   },
   "outputs": [],
   "source": [
    "def ContentItemKNN(train, content, K, N):\n",
    "    # 建立word-item的倒排表\n",
    "    word_item = {}\n",
    "    for item in content:\n",
    "        for word in content[item]:\n",
    "            if word not in word_item:\n",
    "                word_item[word] = {}\n",
    "            word_item[word][item] = 1 \n",
    "    \n",
    "    # 对于每一步电影，初始化对应的content值\n",
    "    for word in word_item:\n",
    "        for item in word_item[word]:\n",
    "            word_item[word][item] /= math.log(1 + len(word_item[word]))\n",
    "    \n",
    "    # 计算相似度\n",
    "    item_sim = {}\n",
    "    mo = {}\n",
    "    for word in word_item:\n",
    "        ## 对于每一部电影\n",
    "        for u in word_item[word]:\n",
    "            if u not in item_sim:\n",
    "                item_sim[u] = {}\n",
    "                mo[u] = 0 \n",
    "            mo[u] += word_item[word][u] ** 2 \n",
    "            # 对于其他电影\n",
    "            for v in word_item[word]:\n",
    "                if u==v: \n",
    "                    continue\n",
    "                if v not in item_sim[u]:\n",
    "                    item_sim[u][v] = 0 \n",
    "                item_sim[u][v] += word_item[word][u] * word_item[word][v]\n",
    "    for u in item_sim:\n",
    "        for v in item_sim[u]:\n",
    "            item_sim[u][v] /= math.sqrt(mo[u]*mo[v])\n",
    "    \n",
    "    # 按照相似度排序\n",
    "    sorted_item_sim = {k: list(sorted(v.items(), key=lambda x: x[1], reverse=True)) for k, v, in item_sim.items()}\n",
    "    #print(list(sorted_item_sim.keys())[:10])\n",
    "    #print(list(sorted_item_sim.values())[:10])\n",
    "    \n",
    "    # 获取接口函数\n",
    "    def GetRecommendation(user):\n",
    "        items = {}\n",
    "        seen_items = set(train[user])\n",
    "        for item in train[user]:\n",
    "            for u, _ in sorted_item_sim[item][:K]:\n",
    "                # 去掉用户看过的\n",
    "                if u not in seen_items:\n",
    "                    if u not in items:\n",
    "                        items[u] = 0 \n",
    "                    items[u] += item_sim[item][u]\n",
    "        recs = list(sorted(items.items(), key=lambda x: x[1], reverse=True))[:N]\n",
    "        #print(recs)\n",
    "        return recs\n",
    "    return GetRecommendation"
   ]
  },
  {
   "cell_type": "markdown",
   "metadata": {},
   "source": [
    "# 定义实验"
   ]
  },
  {
   "cell_type": "code",
   "execution_count": 97,
   "metadata": {
    "ExecuteTime": {
     "end_time": "2019-07-15T07:43:11.061481Z",
     "start_time": "2019-07-15T07:43:11.056059Z"
    }
   },
   "outputs": [],
   "source": [
    "class Experiment:\n",
    "    def __init__(self, M, N, K, fp=\"data/ml-1m/ratings.dat\",  ip=\"data/ml-1m/movies.dat\"):\n",
    "        self.M = M \n",
    "        self.K = K\n",
    "        self.N = N\n",
    "        self.fp = fp \n",
    "        self.ip = ip \n",
    "        self.alg = ContentItemKNN\n",
    "    \n",
    "    # 定义单次实验\n",
    "    @timmer\n",
    "    def worker(self, train, test, content):\n",
    "        getRecommendation = self.alg(train, content, self.K, self.N)\n",
    "        metric = Metric(train, test, getRecommendation)\n",
    "        return metric.eval()\n",
    "    \n",
    "    # 多次实验取平均\n",
    "    def run(self):\n",
    "        metrics = {\"Precision\": 0, \"Recall\": 0,\n",
    "                  \"Coverage\": 0, \"Popularity\": 0}\n",
    "        dataset = Dataset(self.fp, self.ip)\n",
    "        #print(dataset.data[:10])\n",
    "        for ii in range(self.M):\n",
    "            train, test, content = dataset.splitData(self.M, ii)\n",
    "            #print(list(train.keys())[:10])\n",
    "            print(f\"Experiment {ii}: \")\n",
    "            metric = self.worker(train, test, content)\n",
    "            metrics = {k: metrics[k]+metric[k] for k in metrics}\n",
    "        metrics = {k: metrics[k] / self.M for k in metrics}\n",
    "        print(\"Average Result (M={}, N={}, K={}): {}\".format(self.M, self.N, self.K, metrics))"
   ]
  },
  {
   "cell_type": "markdown",
   "metadata": {},
   "source": [
    "# 实验"
   ]
  },
  {
   "cell_type": "code",
   "execution_count": 98,
   "metadata": {
    "ExecuteTime": {
     "end_time": "2019-07-15T07:43:52.883803Z",
     "start_time": "2019-07-15T07:43:11.389604Z"
    }
   },
   "outputs": [
    {
     "name": "stdout",
     "output_type": "stream",
     "text": [
      "Func loadData, run time: 0.813890\n",
      "Func splitData, run time: 1.393228\n",
      "Experiment 0: \n",
      "Metric:   {'Precision': 1.85, 'Recall': 0.89, 'Coverage': 16.15, 'Popularity': 4.607609}\n",
      "Func worker, run time: 3.893879\n",
      "Func splitData, run time: 1.059000\n",
      "Experiment 1: \n",
      "Metric:   {'Precision': 1.78, 'Recall': 0.85, 'Coverage': 16.58, 'Popularity': 4.617612}\n",
      "Func worker, run time: 3.884301\n",
      "Func splitData, run time: 1.297688\n",
      "Experiment 2: \n",
      "Metric:   {'Precision': 1.81, 'Recall': 0.87, 'Coverage': 16.73, 'Popularity': 4.604153}\n",
      "Func worker, run time: 3.912960\n",
      "Func splitData, run time: 1.058687\n",
      "Experiment 3: \n",
      "Metric:   {'Precision': 1.8, 'Recall': 0.87, 'Coverage': 16.81, 'Popularity': 4.615706}\n",
      "Func worker, run time: 3.862634\n",
      "Func splitData, run time: 1.251456\n",
      "Experiment 4: \n",
      "Metric:   {'Precision': 1.79, 'Recall': 0.86, 'Coverage': 16.97, 'Popularity': 4.660526}\n",
      "Func worker, run time: 3.885685\n",
      "Func splitData, run time: 1.039999\n",
      "Experiment 5: \n",
      "Metric:   {'Precision': 1.85, 'Recall': 0.89, 'Coverage': 16.31, 'Popularity': 4.603203}\n",
      "Func worker, run time: 3.893277\n",
      "Func splitData, run time: 1.236516\n",
      "Experiment 6: \n",
      "Metric:   {'Precision': 1.73, 'Recall': 0.83, 'Coverage': 16.82, 'Popularity': 4.636909}\n",
      "Func worker, run time: 3.936994\n",
      "Func splitData, run time: 1.062951\n",
      "Experiment 7: \n",
      "Metric:   {'Precision': 1.83, 'Recall': 0.88, 'Coverage': 16.74, 'Popularity': 4.60448}\n",
      "Func worker, run time: 3.895541\n",
      "Average Result (M=8, N=10, K=10): {'Precision': 1.805, 'Recall': 0.8674999999999999, 'Coverage': 16.63875, 'Popularity': 4.618774750000001}\n"
     ]
    }
   ],
   "source": [
    "M, N, K = 8, 10, 10 \n",
    "exp = Experiment(M, N, K)\n",
    "exp.run()"
   ]
  },
  {
   "cell_type": "code",
   "execution_count": null,
   "metadata": {},
   "outputs": [],
   "source": []
  }
 ],
 "metadata": {
  "kernelspec": {
   "display_name": "Python 3",
   "language": "python",
   "name": "python3"
  },
  "language_info": {
   "codemirror_mode": {
    "name": "ipython",
    "version": 3
   },
   "file_extension": ".py",
   "mimetype": "text/x-python",
   "name": "python",
   "nbconvert_exporter": "python",
   "pygments_lexer": "ipython3",
   "version": "3.7.3"
  },
  "toc": {
   "base_numbering": 1,
   "nav_menu": {},
   "number_sections": true,
   "sideBar": true,
   "skip_h1_title": false,
   "title_cell": "Table of Contents",
   "title_sidebar": "Contents",
   "toc_cell": false,
   "toc_position": {},
   "toc_section_display": true,
   "toc_window_display": false
  }
 },
 "nbformat": 4,
 "nbformat_minor": 2
}
