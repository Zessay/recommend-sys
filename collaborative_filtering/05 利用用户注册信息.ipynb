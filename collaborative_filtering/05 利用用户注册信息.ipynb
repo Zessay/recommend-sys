{
 "cells": [
  {
   "cell_type": "code",
   "execution_count": 7,
   "metadata": {
    "ExecuteTime": {
     "end_time": "2019-07-15T02:42:36.778430Z",
     "start_time": "2019-07-15T02:42:36.775529Z"
    }
   },
   "outputs": [],
   "source": [
    "import numpy as np \n",
    "import pandas as pd \n",
    "import math\n",
    "import random\n",
    "import time\n",
    "from tqdm.autonotebook import tqdm, trange\n",
    "\n",
    "from collections import defaultdict"
   ]
  },
  {
   "cell_type": "markdown",
   "metadata": {},
   "source": [
    "# 定义装饰器函数"
   ]
  },
  {
   "cell_type": "code",
   "execution_count": 2,
   "metadata": {
    "ExecuteTime": {
     "end_time": "2019-07-15T02:23:46.201953Z",
     "start_time": "2019-07-15T02:23:46.199336Z"
    }
   },
   "outputs": [],
   "source": [
    "# 定义时间装饰器，监控运行时间\n",
    "def timmer(func):\n",
    "    def wrapper(*args, **kwargs):\n",
    "        start_time = time.time()\n",
    "        res = func(*args, **kwargs)\n",
    "        stop_time = time.time()\n",
    "        print(\"Func {:s}, run time: {:f}\".format(func.__name__, stop_time - start_time))\n",
    "        return res \n",
    "    return wrapper"
   ]
  },
  {
   "cell_type": "markdown",
   "metadata": {},
   "source": [
    "# 数据处理相关"
   ]
  },
  {
   "cell_type": "code",
   "execution_count": 5,
   "metadata": {
    "ExecuteTime": {
     "end_time": "2019-07-15T02:29:36.061040Z",
     "start_time": "2019-07-15T02:29:36.055980Z"
    }
   },
   "outputs": [
    {
     "name": "stdout",
     "output_type": "stream",
     "text": [
      "00000c289a1829a808ac09c00daf10bc3c4e223b\t3bd73256-3905-4f3a-97e2-8b341527f805\tbetty blowtorch\t2137\n",
      "\n"
     ]
    }
   ],
   "source": [
    "with open(\"data/lastfm-dataset-360K/usersha1-artmbid-artname-plays.tsv\", 'r') as f: \n",
    "    for line in f: \n",
    "        print(line)\n",
    "        break"
   ]
  },
  {
   "cell_type": "markdown",
   "metadata": {},
   "source": [
    "- 分别表示`user_id`, `item_id`, `title`"
   ]
  },
  {
   "cell_type": "code",
   "execution_count": 6,
   "metadata": {
    "ExecuteTime": {
     "end_time": "2019-07-15T02:31:58.458413Z",
     "start_time": "2019-07-15T02:31:58.432888Z"
    }
   },
   "outputs": [
    {
     "name": "stdout",
     "output_type": "stream",
     "text": [
      "00000c289a1829a808ac09c00daf10bc3c4e223b\tf\t22\tGermany\tFeb 1, 2007\n",
      "\n"
     ]
    }
   ],
   "source": [
    "with open(\"data/lastfm-dataset-360K/usersha1-profile.tsv\", 'r') as f: \n",
    "    for line in f: \n",
    "        print(line)\n",
    "        break"
   ]
  },
  {
   "cell_type": "markdown",
   "metadata": {},
   "source": [
    "- 分别表示 `user_id`, `gender`, `age`, `country`, `time`"
   ]
  },
  {
   "cell_type": "code",
   "execution_count": 27,
   "metadata": {
    "ExecuteTime": {
     "end_time": "2019-07-15T03:47:45.343259Z",
     "start_time": "2019-07-15T03:47:45.330147Z"
    }
   },
   "outputs": [],
   "source": [
    "# 定义数据处理函数\n",
    "class Dataset:\n",
    "    def __init__(self, fp, up):\n",
    "        # fp: 数据文件的路径\n",
    "        # up: 用户文件路径\n",
    "        self.data, self.profile = self.loadData(fp, up)\n",
    "        \n",
    "    @timmer \n",
    "    def loadData(self, fp, up):\n",
    "        data = []\n",
    "        with open(fp, 'r') as f: \n",
    "            for l in f: \n",
    "                data.append(tuple(l.strip().split('\\t')[:2]))\n",
    "        \n",
    "        profile = {} \n",
    "        with open(up, \"r\") as f: \n",
    "            for l in f: \n",
    "                user, gender, age, country, _ = l.strip().split('\\t')\n",
    "                try:\n",
    "                    int(age)\n",
    "                except:\n",
    "                    age = -1\n",
    "            \n",
    "                profile[user] = {\"gender\": gender, \"age\": int(age), \"country\":  country}\n",
    "                \n",
    "        # 按照用户采样\n",
    "        users = list(profile.keys())\n",
    "        random.shuffle(users)\n",
    "        users = set(users[:5000])\n",
    "        data = [x for x in data if x[0] in users]\n",
    "        profile = {k: profile[k]  for k in users}\n",
    "        \n",
    "        return data, profile \n",
    "    \n",
    "    @timmer\n",
    "    def splitData(self, M, k, seed=1):\n",
    "        train, test = [], []\n",
    "        random.seed(seed)\n",
    "        \n",
    "        for user, item in self.data: \n",
    "            if random.randint(0, M-1) == k: \n",
    "                test.append((user, item))\n",
    "            else:\n",
    "                train.append((user, item))\n",
    "        \n",
    "        # 处理成字典的形式，user->set(items)\n",
    "        def convert_dict(data):\n",
    "            data_dict = defaultdict(set)\n",
    "            for user, item in data:\n",
    "                data_dict[user].add(item)\n",
    "            \n",
    "            data_dict = {k: list(data_dict[k]) for k in data_dict}\n",
    "            return data_dict\n",
    "        \n",
    "        return convert_dict(train), convert_dict(test), self.profile\n",
    "                "
   ]
  },
  {
   "cell_type": "markdown",
   "metadata": {},
   "source": [
    "# 定义评价指标函数"
   ]
  },
  {
   "cell_type": "code",
   "execution_count": 47,
   "metadata": {
    "ExecuteTime": {
     "end_time": "2019-07-15T04:43:30.139867Z",
     "start_time": "2019-07-15T04:43:30.127458Z"
    }
   },
   "outputs": [],
   "source": [
    "class Metric:\n",
    "    \n",
    "    def __init__(self, train, test, GetRecommendation):\n",
    "        '''\n",
    "        GetRecommendation: 为某个用户推荐物品的接口函数，返回值为电影id组成的list\n",
    "        '''\n",
    "        self.train = train\n",
    "        self.test = test \n",
    "        self.GetRecommendation = GetRecommendation\n",
    "        # 保存为测试集用户推荐结果的值\n",
    "        self.recs = self.getRec()\n",
    "        \n",
    "    # 为test中的每个用户进行推荐\n",
    "    def getRec(self):\n",
    "        recs = {}\n",
    "        for i, user in enumerate(self.test):\n",
    "            #print(i, user)\n",
    "            rank = self.GetRecommendation(user)\n",
    "            recs[user] = rank\n",
    "        return recs\n",
    "    \n",
    "    ## 定义精确率指标\n",
    "    def precision(self):\n",
    "        all, hit = 0, 0 \n",
    "        for user in self.test:\n",
    "            test_items = set(self.test[user])\n",
    "            rank = self.recs[user]\n",
    "            for item, score in rank:\n",
    "                if item in test_items:\n",
    "                    hit += 1 \n",
    "            all += len(rank)\n",
    "        return round(hit / all * 100, 2)\n",
    "    \n",
    "    ## 定义召回率指标\n",
    "    def recall(self):\n",
    "        all, hit = 0, 0 \n",
    "        for user in self.test:\n",
    "            test_items = set(self.test[user])\n",
    "            rank = self.recs[user]\n",
    "            for item, score in rank: \n",
    "                if item in test_items:\n",
    "                    hit += 1 \n",
    "            all += len(test_items)\n",
    "        return round(hit / all * 100, 2)\n",
    "    \n",
    "    ## 定义覆盖率指标\n",
    "    def coverage(self):\n",
    "        all_item, recom_item = set(), set()\n",
    "        for user in self.test:\n",
    "            if user in self.train:\n",
    "                for item in self.train[user]:\n",
    "                    all_item.add(item)\n",
    "            rank = self.recs[user]\n",
    "            for item, score in rank: \n",
    "                recom_item.add(item)\n",
    "                \n",
    "        return round(len(recom_item) / len(all_item) * 100, 2)\n",
    "    \n",
    "    ## 定义新颖度指标\n",
    "    def popularity(self):\n",
    "        ## 计算推荐物品的平均流行度\n",
    "        item_pop = {}\n",
    "        for user in self.train: \n",
    "            for item in self.train[user]:\n",
    "                item_pop[item] = item_pop.get(item, 0) + 1 \n",
    "        num, pop = 0, 0 \n",
    "        for user in self.test: \n",
    "            rank = self.recs[user]\n",
    "            for item, score in rank:\n",
    "                # 取对数，防止长尾问题带来被流行物品主导的问题\n",
    "                pop += math.log(1+item_pop[item])\n",
    "                num += 1 \n",
    "        return round(pop / num, 6)\n",
    "    \n",
    "    def eval(self):\n",
    "        metric = {\n",
    "            \"Precision\": self.precision(),\n",
    "            \"Recall\": self.recall(),\n",
    "            \"Coverage\": self.coverage()\n",
    "        }\n",
    "        print(\"Metric:  \", metric)\n",
    "        return metric"
   ]
  },
  {
   "cell_type": "markdown",
   "metadata": {},
   "source": [
    "# 算法实现"
   ]
  },
  {
   "cell_type": "markdown",
   "metadata": {},
   "source": [
    "- MostPopular\n",
    "- GenderMostPopular\n",
    "- AgeMostPopular\n",
    "- CountryMostPopular\n",
    "- DemographicMostPopular"
   ]
  },
  {
   "cell_type": "markdown",
   "metadata": {},
   "source": [
    "## MostPopular算法"
   ]
  },
  {
   "cell_type": "code",
   "execution_count": 11,
   "metadata": {
    "ExecuteTime": {
     "end_time": "2019-07-15T02:51:27.025566Z",
     "start_time": "2019-07-15T02:51:27.021330Z"
    }
   },
   "outputs": [],
   "source": [
    "def MostPopular(train, profile, N):\n",
    "    items = {} \n",
    "    for user in train: \n",
    "        for item in train[user]:\n",
    "            items[item] = items.get(item, 0) + 1 \n",
    "    \n",
    "    # 按照对商品用过行为的用户数排名\n",
    "    items = list(sorted(items.items(), key=lambda x: x[1], reverse=True))\n",
    "    \n",
    "    # 获取接口函数\n",
    "    def GetRecommendation(user):\n",
    "        seen_items = set(train[user]) if user in train else set()\n",
    "        recs = [x for x in items if x[0] not in seen_items][:N]\n",
    "        return recs\n",
    "    \n",
    "    return GetRecommendation"
   ]
  },
  {
   "cell_type": "markdown",
   "metadata": {},
   "source": [
    "## GenderMostPopular算法"
   ]
  },
  {
   "cell_type": "code",
   "execution_count": 12,
   "metadata": {
    "ExecuteTime": {
     "end_time": "2019-07-15T02:58:17.809135Z",
     "start_time": "2019-07-15T02:58:17.800049Z"
    }
   },
   "outputs": [],
   "source": [
    "def GenderMostPopular(train, profile, N):\n",
    "    # 分别表示男、女\n",
    "    mitems, fitems = {}, {} \n",
    "    for user in train: \n",
    "        if profile[user]['gender'] == 'm':\n",
    "            tmp = mitems\n",
    "        elif profile[user]['gender'] == 'f':\n",
    "            tmp = fitems\n",
    "        \n",
    "        for item in train[user]:\n",
    "            tmp[item] = tmp.get(item, 0) + 1 \n",
    "    mitems = list(sorted(mitems.items(), key=lambda x: x[1], reverse=True))\n",
    "    fitems = list(sorted(fitems.items(), key=lambda x: x[1], reverse=True))\n",
    "    \n",
    "    mostPopular = MostPopular(train, profile, N)\n",
    "    \n",
    "    # 定义接口函数\n",
    "    def GetRecommendation(user):\n",
    "        seen_items = set(train[user]) if user in train else set()\n",
    "        if profile[user]['gender'] == 'm':\n",
    "            recs = [x for x in mitems if x[0] not in seen_items][:N]\n",
    "        elif profile[user]['gender'] == 'f':\n",
    "            recs = [x for x in fitems if x[0] not in seen_items][:N]\n",
    "        ## 没有提供性别信息\n",
    "        else:\n",
    "            recs = mostPopular(user)\n",
    "        return recs\n",
    "    \n",
    "    return GetRecommendation"
   ]
  },
  {
   "cell_type": "markdown",
   "metadata": {},
   "source": [
    "## AgeMostPopular算法"
   ]
  },
  {
   "cell_type": "code",
   "execution_count": 58,
   "metadata": {
    "ExecuteTime": {
     "end_time": "2019-07-15T04:58:00.693979Z",
     "start_time": "2019-07-15T04:58:00.686835Z"
    }
   },
   "outputs": [],
   "source": [
    "def AgeMostPopular(train, profile, N):\n",
    "    # 对年龄进行分段\n",
    "    ages = []\n",
    "    for user in profile:\n",
    "        if profile[user]['age'] >= 0: \n",
    "            ages.append(profile[user]['age'])\n",
    "    maxAge, minAge = max(ages), min(ages)\n",
    "    #print(maxAge, minAge)\n",
    "    items = [{} for _ in range(int(maxAge//10 + 1))]\n",
    "    #print(\"done\")\n",
    "    \n",
    "    # 分年龄段进行统计\n",
    "    for user in train:\n",
    "        if profile[user]['age'] >= 0: \n",
    "            age = profile[user]['age'] // 10 \n",
    "            for item in train[user]:\n",
    "                items[age][item] = items[age].get(item, 0) + 1 \n",
    "    #print(\"done!\")\n",
    "    for i in range(len(items)):\n",
    "        items[i] = list(sorted(items[i].items(), key=lambda x: x[1], reverse=True))\n",
    "    \n",
    "    #print(len(items))\n",
    "    mostPopular = MostPopular(train, profile, N)\n",
    "    \n",
    "    # 获取接口函数\n",
    "    def GetRecommendation(user):\n",
    "       # print(1)\n",
    "        seen_items = set(train[user]) if user in train else set()\n",
    "        #print(2)\n",
    "        if profile[user]['age'] >= 0: \n",
    "            #print(3, profile[user]['age'])\n",
    "            age = profile[user][\"age\"] // 10 \n",
    "            # 如果年龄信息异常\n",
    "            if age >= len(items) or len(items[age]) == 0: \n",
    "                recs = mostPopular(user)\n",
    "            else:\n",
    "                recs = [x for x in items[age] if x[0] not in seen_items][:N]\n",
    "        else:\n",
    "            recs = mostPopular(user)\n",
    "        return recs    \n",
    "        \n",
    "    return GetRecommendation"
   ]
  },
  {
   "cell_type": "markdown",
   "metadata": {},
   "source": [
    "## CountryMostPopular算法"
   ]
  },
  {
   "cell_type": "code",
   "execution_count": 15,
   "metadata": {
    "ExecuteTime": {
     "end_time": "2019-07-15T03:18:10.153900Z",
     "start_time": "2019-07-15T03:18:10.147304Z"
    }
   },
   "outputs": [],
   "source": [
    "def CountryMostPopular(train, profile, N):\n",
    "    # 分城市进行\n",
    "    items = defaultdict(dict)\n",
    "    for user in train:\n",
    "        country = profile[user]['country']\n",
    "        for item in train[user]:\n",
    "            items[country][item] = items[country].get(item, 0) + 1 \n",
    "    \n",
    "    for country in items:\n",
    "        items[country] = list(sorted(items[country].items(), key=lambda x: x[1], reverse=True))\n",
    "        \n",
    "    mostPopular = MostPopular(train, profile, N)\n",
    "    \n",
    "    ## 获取接口函数\n",
    "    def GetRecommendation(user):\n",
    "        seen_items = set(train[user]) if user in train else set()\n",
    "        country = profile[user]['country']\n",
    "        \n",
    "        if country in items:\n",
    "            recs = [x for x in items[country] if x[0] not in seen_items][:N]\n",
    "        else:\n",
    "            recs = mostPopular(user)\n",
    "        return recs\n",
    "    \n",
    "    return GetRecommendation"
   ]
  },
  {
   "cell_type": "markdown",
   "metadata": {},
   "source": [
    "## DemographicMostPopular算法"
   ]
  },
  {
   "cell_type": "code",
   "execution_count": 67,
   "metadata": {
    "ExecuteTime": {
     "end_time": "2019-07-15T06:08:42.522391Z",
     "start_time": "2019-07-15T06:08:42.514009Z"
    }
   },
   "outputs": [],
   "source": [
    "def DemographicMostPopular(train, profile, N):\n",
    "    # 建立多重字典，将缺失值当做other\n",
    "    items = {}\n",
    "    for user in train: \n",
    "        gender = profile[user]['gender']\n",
    "        if gender:\n",
    "            if gender not in items:\n",
    "                items[gender] = {}\n",
    "            \n",
    "            age = profile[user]['age'] // 10\n",
    "            if age >= 0:\n",
    "                if age not in items[gender]:\n",
    "                    items[gender][age] = {}\n",
    "\n",
    "                country = profile[user][\"country\"]\n",
    "                if country:\n",
    "                    if country not in items[gender][age]:\n",
    "                        items[gender][age][country] = {}\n",
    "                    for item in train[user]:\n",
    "                        items[gender][age][country][item] = items[gender][age][country].get(item, 0) + 1\n",
    "    \n",
    "    for gender in items:\n",
    "        for age in items[gender]:\n",
    "            for country in items[gender][age]:\n",
    "                items[gender][age][country] = list(sorted(items[gender][age][country].items(), \n",
    "                                                          key=lambda x: x[1], reverse=True))\n",
    "\n",
    "    #print(items.keys())\n",
    "    #print(items['f'].keys())\n",
    "    \n",
    "    mostPopular = MostPopular(train, profile, N)\n",
    "    \n",
    "    def GetRecommendation(user):\n",
    "        seen_items = set(train[user]) if user in train else set()\n",
    "        gender = profile[user]['gender']\n",
    "        age = profile[user]['age'] // 10 \n",
    "        country = profile[user]['country']\n",
    "        if (gender not in items) or (age not in items[gender]) or (country not in items[gender][age]):\n",
    "            recs = mostPopular(user)\n",
    "        else:\n",
    "            recs = [x for x in items[gender][age][country] if x[0] not in seen_items][:N]\n",
    "        #print(n)\n",
    "        return recs\n",
    "    return GetRecommendation"
   ]
  },
  {
   "cell_type": "markdown",
   "metadata": {},
   "source": [
    "# 实验"
   ]
  },
  {
   "cell_type": "markdown",
   "metadata": {},
   "source": [
    "- M=10, N=10"
   ]
  },
  {
   "cell_type": "code",
   "execution_count": 24,
   "metadata": {
    "ExecuteTime": {
     "end_time": "2019-07-15T03:42:21.575299Z",
     "start_time": "2019-07-15T03:42:21.568365Z"
    }
   },
   "outputs": [],
   "source": [
    "class Experiment:\n",
    "    def __init__(self, M, N, at=\"MostPopular\", \n",
    "                fp=\"data/lastfm-dataset-360K/usersha1-artmbid-artname-plays.tsv\", \n",
    "                up='data/lastfm-dataset-360K/usersha1-profile.tsv'):\n",
    "        self.M = M \n",
    "        self.N = N \n",
    "        self.fp = fp \n",
    "        self.up = up \n",
    "        self.at = at \n",
    "        self.alg = {\"MostPopular\": MostPopular, \"GenderMostPopular\":GenderMostPopular,\n",
    "                   \"AgeMostPopular\": AgeMostPopular, \"CountryMostPopular\": CountryMostPopular,\n",
    "                   \"DemographicMostPopular\": DemographicMostPopular}\n",
    "        \n",
    "    # 定义单次实验\n",
    "    @timmer\n",
    "    def worker(self, train, test, profile):\n",
    "        getRecommendation = self.alg[self.at](train, profile, self.N)\n",
    "        metric = Metric(train, test, getRecommendation)\n",
    "        return metric.eval()\n",
    "    \n",
    "    # 定义多次实验\n",
    "    @timmer\n",
    "    def run(self):\n",
    "        metrics = {\"Precision\": 0, \"Recall\": 0, \"Coverage\": 0}\n",
    "        dataset = Dataset(self.fp, self.up)\n",
    "        for ii in range(self.M):\n",
    "            train, test, profile = dataset.splitData(self.M, ii)\n",
    "            print(f\"Experiment {ii}\")\n",
    "            metric = self.worker(train, test, profile)\n",
    "            metrics = {k: metrics[k]+metric[k] for k in metrics}\n",
    "        metrics = {k: metrics[k] / self.M for k in metrics}\n",
    "        print(\"Average Result (M={}, N={})\".format(self.M, self.N, metrics))"
   ]
  },
  {
   "cell_type": "code",
   "execution_count": 23,
   "metadata": {
    "ExecuteTime": {
     "end_time": "2019-07-15T03:41:54.071047Z",
     "start_time": "2019-07-15T03:39:49.801239Z"
    }
   },
   "outputs": [
    {
     "name": "stdout",
     "output_type": "stream",
     "text": [
      "Func loadData, run time: 13.203743\n",
      "Func splitData, run time: 0.275689\n",
      "Experiment 0\n",
      "Metric:   {'Precision': 2.28, 'Recall': 4.62, 'Coverage': 0.07, 'Popularity': 6.475479}\n",
      "Func worker, run time: 10.254862\n",
      "Func splitData, run time: 0.252894\n",
      "Experiment 1\n",
      "Metric:   {'Precision': 2.29, 'Recall': 4.63, 'Coverage': 0.07, 'Popularity': 6.471694}\n",
      "Func worker, run time: 10.578079\n",
      "Func splitData, run time: 0.306388\n",
      "Experiment 2\n",
      "Metric:   {'Precision': 2.3, 'Recall': 4.64, 'Coverage': 0.07, 'Popularity': 6.473073}\n",
      "Func worker, run time: 10.456345\n",
      "Func splitData, run time: 0.257086\n",
      "Experiment 3\n",
      "Metric:   {'Precision': 2.23, 'Recall': 4.49, 'Coverage': 0.07, 'Popularity': 6.471887}\n",
      "Func worker, run time: 10.478497\n",
      "Func splitData, run time: 0.490370\n",
      "Experiment 4\n",
      "Metric:   {'Precision': 2.36, 'Recall': 4.81, 'Coverage': 0.07, 'Popularity': 6.469927}\n",
      "Func worker, run time: 10.022021\n",
      "Func splitData, run time: 0.254269\n",
      "Experiment 5\n",
      "Metric:   {'Precision': 2.21, 'Recall': 4.5, 'Coverage': 0.07, 'Popularity': 6.476208}\n",
      "Func worker, run time: 10.887268\n",
      "Func splitData, run time: 0.270645\n",
      "Experiment 6\n",
      "Metric:   {'Precision': 2.35, 'Recall': 4.74, 'Coverage': 0.07, 'Popularity': 6.471774}\n",
      "Func worker, run time: 10.736923\n",
      "Func splitData, run time: 0.270285\n",
      "Experiment 7\n",
      "Metric:   {'Precision': 2.22, 'Recall': 4.49, 'Coverage': 0.07, 'Popularity': 6.476353}\n",
      "Func worker, run time: 11.898361\n",
      "Func splitData, run time: 0.262660\n",
      "Experiment 8\n",
      "Metric:   {'Precision': 2.33, 'Recall': 4.66, 'Coverage': 0.07, 'Popularity': 6.472928}\n",
      "Func worker, run time: 11.268770\n",
      "Func splitData, run time: 0.261236\n",
      "Experiment 9\n",
      "Metric:   {'Precision': 2.31, 'Recall': 4.71, 'Coverage': 0.07, 'Popularity': 6.47092}\n",
      "Func worker, run time: 11.386338\n",
      "Average Result (M=10, N=10)\n",
      "Func run, run time: 124.267404\n"
     ]
    }
   ],
   "source": [
    "M, N = 10, 10 \n",
    "most_exp = Experiment(M, N, at=\"MostPopular\")\n",
    "most_exp.run()"
   ]
  },
  {
   "cell_type": "code",
   "execution_count": 25,
   "metadata": {
    "ExecuteTime": {
     "end_time": "2019-07-15T03:44:50.446054Z",
     "start_time": "2019-07-15T03:42:51.708560Z"
    }
   },
   "outputs": [
    {
     "name": "stdout",
     "output_type": "stream",
     "text": [
      "Func loadData, run time: 13.026316\n",
      "Func splitData, run time: 0.291794\n",
      "Experiment 0\n",
      "Metric:   {'Precision': 2.43, 'Recall': 4.92, 'Coverage': 0.1, 'Popularity': 6.448209}\n",
      "Func worker, run time: 9.096047\n",
      "Func splitData, run time: 0.259650\n",
      "Experiment 1\n",
      "Metric:   {'Precision': 2.34, 'Recall': 4.73, 'Coverage': 0.1, 'Popularity': 6.456241}\n",
      "Func worker, run time: 8.865354\n",
      "Func splitData, run time: 0.263320\n",
      "Experiment 2\n",
      "Metric:   {'Precision': 2.45, 'Recall': 4.95, 'Coverage': 0.1, 'Popularity': 6.447781}\n",
      "Func worker, run time: 9.162814\n",
      "Func splitData, run time: 0.258905\n",
      "Experiment 3\n",
      "Metric:   {'Precision': 2.3, 'Recall': 4.64, 'Coverage': 0.1, 'Popularity': 6.45671}\n",
      "Func worker, run time: 11.631591\n",
      "Func splitData, run time: 0.527676\n",
      "Experiment 4\n",
      "Metric:   {'Precision': 2.41, 'Recall': 4.9, 'Coverage': 0.11, 'Popularity': 6.453743}\n",
      "Func worker, run time: 9.506752\n",
      "Func splitData, run time: 0.258272\n",
      "Experiment 5\n",
      "Metric:   {'Precision': 2.39, 'Recall': 4.88, 'Coverage': 0.1, 'Popularity': 6.453013}\n",
      "Func worker, run time: 12.403015\n",
      "Func splitData, run time: 0.272024\n",
      "Experiment 6\n",
      "Metric:   {'Precision': 2.3, 'Recall': 4.63, 'Coverage': 0.1, 'Popularity': 6.455621}\n",
      "Func worker, run time: 10.381792\n",
      "Func splitData, run time: 0.270871\n",
      "Experiment 7\n",
      "Metric:   {'Precision': 2.37, 'Recall': 4.78, 'Coverage': 0.11, 'Popularity': 6.447482}\n",
      "Func worker, run time: 10.023785\n",
      "Func splitData, run time: 0.255943\n",
      "Experiment 8\n",
      "Metric:   {'Precision': 2.45, 'Recall': 4.93, 'Coverage': 0.1, 'Popularity': 6.453328}\n",
      "Func worker, run time: 10.619576\n",
      "Func splitData, run time: 0.268677\n",
      "Experiment 9\n",
      "Metric:   {'Precision': 2.4, 'Recall': 4.88, 'Coverage': 0.11, 'Popularity': 6.447946}\n",
      "Func worker, run time: 10.891154\n",
      "Average Result (M=10, N=10)\n",
      "Func run, run time: 118.735230\n"
     ]
    }
   ],
   "source": [
    "M, N  = 10, 10 \n",
    "gender_exp = Experiment(M, N, at=\"GenderMostPopular\")\n",
    "gender_exp.run()"
   ]
  },
  {
   "cell_type": "code",
   "execution_count": 60,
   "metadata": {
    "ExecuteTime": {
     "end_time": "2019-07-15T05:13:23.704883Z",
     "start_time": "2019-07-15T05:11:53.310783Z"
    },
    "scrolled": true
   },
   "outputs": [
    {
     "name": "stdout",
     "output_type": "stream",
     "text": [
      "Func loadData, run time: 12.897695\n",
      "Func splitData, run time: 0.274037\n",
      "Experiment 0\n",
      "Metric:   {'Precision': 2.49, 'Recall': 5.04, 'Coverage': 0.39}\n",
      "Func worker, run time: 7.010049\n",
      "Func splitData, run time: 0.268412\n",
      "Experiment 1\n",
      "Metric:   {'Precision': 2.44, 'Recall': 4.92, 'Coverage': 0.39}\n",
      "Func worker, run time: 7.147290\n",
      "Func splitData, run time: 0.261057\n",
      "Experiment 2\n",
      "Metric:   {'Precision': 2.31, 'Recall': 4.66, 'Coverage': 0.37}\n",
      "Func worker, run time: 7.330279\n",
      "Func splitData, run time: 1.182984\n",
      "Experiment 3\n",
      "Metric:   {'Precision': 2.27, 'Recall': 4.58, 'Coverage': 0.38}\n",
      "Func worker, run time: 7.382041\n",
      "Func splitData, run time: 0.256541\n",
      "Experiment 4\n",
      "Metric:   {'Precision': 2.32, 'Recall': 4.73, 'Coverage': 0.37}\n",
      "Func worker, run time: 7.287331\n",
      "Func splitData, run time: 0.263654\n",
      "Experiment 5\n",
      "Metric:   {'Precision': 2.33, 'Recall': 4.75, 'Coverage': 0.39}\n",
      "Func worker, run time: 7.393450\n",
      "Func splitData, run time: 0.266589\n",
      "Experiment 6\n",
      "Metric:   {'Precision': 2.44, 'Recall': 4.92, 'Coverage': 0.39}\n",
      "Func worker, run time: 7.486478\n",
      "Func splitData, run time: 0.281510\n",
      "Experiment 7\n",
      "Metric:   {'Precision': 2.4, 'Recall': 4.86, 'Coverage': 0.39}\n",
      "Func worker, run time: 7.424559\n",
      "Func splitData, run time: 0.266657\n",
      "Experiment 8\n",
      "Metric:   {'Precision': 2.37, 'Recall': 4.75, 'Coverage': 0.39}\n",
      "Func worker, run time: 7.659191\n",
      "Func splitData, run time: 0.256740\n",
      "Experiment 9\n",
      "Metric:   {'Precision': 2.33, 'Recall': 4.76, 'Coverage': 0.38}\n",
      "Func worker, run time: 7.520874\n",
      "Average Result (M=10, N=10)\n",
      "Func run, run time: 90.391829\n"
     ]
    }
   ],
   "source": [
    "M, N  = 10, 10 \n",
    "age_exp = Experiment(M, N, at=\"AgeMostPopular\")\n",
    "age_exp.run()"
   ]
  },
  {
   "cell_type": "code",
   "execution_count": 49,
   "metadata": {
    "ExecuteTime": {
     "end_time": "2019-07-15T04:45:39.509701Z",
     "start_time": "2019-07-15T04:45:06.042144Z"
    }
   },
   "outputs": [
    {
     "name": "stdout",
     "output_type": "stream",
     "text": [
      "Func loadData, run time: 13.055334\n",
      "Func splitData, run time: 0.281766\n",
      "Experiment 0\n",
      "Metric:   {'Precision': 2.5, 'Recall': 5.04, 'Coverage': 2.27}\n",
      "Func worker, run time: 1.675560\n",
      "Func splitData, run time: 0.258156\n",
      "Experiment 1\n",
      "Metric:   {'Precision': 2.46, 'Recall': 4.94, 'Coverage': 2.27}\n",
      "Func worker, run time: 1.704506\n",
      "Func splitData, run time: 0.259305\n",
      "Experiment 2\n",
      "Metric:   {'Precision': 2.44, 'Recall': 4.88, 'Coverage': 2.29}\n",
      "Func worker, run time: 1.704397\n",
      "Func splitData, run time: 0.478367\n",
      "Experiment 3\n",
      "Metric:   {'Precision': 2.45, 'Recall': 4.88, 'Coverage': 2.3}\n",
      "Func worker, run time: 1.699900\n",
      "Func splitData, run time: 0.261493\n",
      "Experiment 4\n",
      "Metric:   {'Precision': 2.63, 'Recall': 5.32, 'Coverage': 2.3}\n",
      "Func worker, run time: 1.728215\n",
      "Func splitData, run time: 0.262737\n",
      "Experiment 5\n",
      "Metric:   {'Precision': 2.52, 'Recall': 5.11, 'Coverage': 2.24}\n",
      "Func worker, run time: 1.739908\n",
      "Func splitData, run time: 0.261833\n",
      "Experiment 6\n",
      "Metric:   {'Precision': 2.35, 'Recall': 4.69, 'Coverage': 2.25}\n",
      "Func worker, run time: 1.687584\n",
      "Func splitData, run time: 0.260552\n",
      "Experiment 7\n",
      "Metric:   {'Precision': 2.37, 'Recall': 4.75, 'Coverage': 2.23}\n",
      "Func worker, run time: 1.873364\n",
      "Func splitData, run time: 0.308108\n",
      "Experiment 8\n",
      "Metric:   {'Precision': 2.47, 'Recall': 4.92, 'Coverage': 2.31}\n",
      "Func worker, run time: 1.712401\n",
      "Func splitData, run time: 0.260169\n",
      "Experiment 9\n",
      "Metric:   {'Precision': 2.45, 'Recall': 4.97, 'Coverage': 2.29}\n",
      "Func worker, run time: 1.748270\n",
      "Average Result (M=10, N=10)\n",
      "Func run, run time: 33.465154\n"
     ]
    }
   ],
   "source": [
    "M, N  = 10, 10 \n",
    "country_exp = Experiment(M, N, at=\"CountryMostPopular\")\n",
    "country_exp.run()"
   ]
  },
  {
   "cell_type": "code",
   "execution_count": 68,
   "metadata": {
    "ExecuteTime": {
     "end_time": "2019-07-15T06:09:38.531714Z",
     "start_time": "2019-07-15T06:08:49.508979Z"
    },
    "scrolled": true
   },
   "outputs": [
    {
     "name": "stdout",
     "output_type": "stream",
     "text": [
      "Func loadData, run time: 12.509141\n",
      "Func splitData, run time: 0.276548\n",
      "Experiment 0\n",
      "Metric:   {'Precision': 2.15, 'Recall': 4.24, 'Coverage': 6.39}\n",
      "Func worker, run time: 3.183590\n",
      "Func splitData, run time: 0.255671\n",
      "Experiment 1\n",
      "Metric:   {'Precision': 2.22, 'Recall': 4.37, 'Coverage': 6.3}\n",
      "Func worker, run time: 3.353138\n",
      "Func splitData, run time: 0.259262\n",
      "Experiment 2\n",
      "Metric:   {'Precision': 2.3, 'Recall': 4.52, 'Coverage': 6.37}\n",
      "Func worker, run time: 3.314888\n",
      "Func splitData, run time: 0.265179\n",
      "Experiment 3\n",
      "Metric:   {'Precision': 2.16, 'Recall': 4.23, 'Coverage': 6.34}\n",
      "Func worker, run time: 3.358466\n",
      "Func splitData, run time: 0.251946\n",
      "Experiment 4\n",
      "Metric:   {'Precision': 2.17, 'Recall': 4.31, 'Coverage': 6.23}\n",
      "Func worker, run time: 3.325599\n",
      "Func splitData, run time: 0.704509\n",
      "Experiment 5\n",
      "Metric:   {'Precision': 2.09, 'Recall': 4.15, 'Coverage': 6.4}\n",
      "Func worker, run time: 3.211060\n",
      "Func splitData, run time: 0.255199\n",
      "Experiment 6\n",
      "Metric:   {'Precision': 2.12, 'Recall': 4.16, 'Coverage': 6.32}\n",
      "Func worker, run time: 3.378922\n",
      "Func splitData, run time: 0.255974\n",
      "Experiment 7\n",
      "Metric:   {'Precision': 2.19, 'Recall': 4.31, 'Coverage': 6.27}\n",
      "Func worker, run time: 3.398295\n",
      "Func splitData, run time: 0.262403\n",
      "Experiment 8\n",
      "Metric:   {'Precision': 2.1, 'Recall': 4.1, 'Coverage': 6.38}\n",
      "Func worker, run time: 3.324542\n",
      "Func splitData, run time: 0.265914\n",
      "Experiment 9\n",
      "Metric:   {'Precision': 2.15, 'Recall': 4.27, 'Coverage': 6.38}\n",
      "Func worker, run time: 3.366509\n",
      "Average Result (M=10, N=10)\n",
      "Func run, run time: 49.019290\n"
     ]
    }
   ],
   "source": [
    "M, N  = 10, 10 \n",
    "demo_exp = Experiment(M, N, at=\"DemographicMostPopular\")\n",
    "demo_exp.run()"
   ]
  },
  {
   "cell_type": "code",
   "execution_count": null,
   "metadata": {},
   "outputs": [],
   "source": []
  }
 ],
 "metadata": {
  "kernelspec": {
   "display_name": "Python 3",
   "language": "python",
   "name": "python3"
  },
  "language_info": {
   "codemirror_mode": {
    "name": "ipython",
    "version": 3
   },
   "file_extension": ".py",
   "mimetype": "text/x-python",
   "name": "python",
   "nbconvert_exporter": "python",
   "pygments_lexer": "ipython3",
   "version": "3.7.3"
  },
  "toc": {
   "base_numbering": 1,
   "nav_menu": {},
   "number_sections": true,
   "sideBar": true,
   "skip_h1_title": false,
   "title_cell": "Table of Contents",
   "title_sidebar": "Contents",
   "toc_cell": false,
   "toc_position": {},
   "toc_section_display": true,
   "toc_window_display": false
  }
 },
 "nbformat": 4,
 "nbformat_minor": 2
}
