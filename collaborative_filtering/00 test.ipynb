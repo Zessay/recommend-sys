{
 "cells": [
  {
   "cell_type": "code",
   "execution_count": 12,
   "metadata": {
    "ExecuteTime": {
     "end_time": "2019-07-13T11:50:19.327120Z",
     "start_time": "2019-07-13T11:50:19.324759Z"
    }
   },
   "outputs": [],
   "source": [
    "def logged(func):\n",
    "    def with_logging(*args, **kwargs):\n",
    "        print(func.__name__)\n",
    "        print(func.__doc__)\n",
    "        res = func(*args, **kwargs)\n",
    "        return res \n",
    "    return with_logging"
   ]
  },
  {
   "cell_type": "code",
   "execution_count": 13,
   "metadata": {
    "ExecuteTime": {
     "end_time": "2019-07-13T11:50:19.473219Z",
     "start_time": "2019-07-13T11:50:19.470934Z"
    }
   },
   "outputs": [],
   "source": [
    "@logged\n",
    "def f(x):\n",
    "    '''\n",
    "    This is a doc.\n",
    "    '''\n",
    "    return x*x"
   ]
  },
  {
   "cell_type": "code",
   "execution_count": 14,
   "metadata": {
    "ExecuteTime": {
     "end_time": "2019-07-13T11:50:19.927729Z",
     "start_time": "2019-07-13T11:50:19.925217Z"
    }
   },
   "outputs": [
    {
     "name": "stdout",
     "output_type": "stream",
     "text": [
      "f\n",
      "\n",
      "    This is a doc.\n",
      "    \n"
     ]
    },
    {
     "data": {
      "text/plain": [
       "1"
      ]
     },
     "execution_count": 14,
     "metadata": {},
     "output_type": "execute_result"
    }
   ],
   "source": [
    "f(1)"
   ]
  },
  {
   "cell_type": "code",
   "execution_count": 20,
   "metadata": {
    "ExecuteTime": {
     "end_time": "2019-07-13T11:57:47.481166Z",
     "start_time": "2019-07-13T11:57:47.477606Z"
    }
   },
   "outputs": [],
   "source": [
    "class Foo(object):\n",
    "    def __init__(self, func):\n",
    "        self._func = func\n",
    "        \n",
    "    def __call__(self, *args, **kwargs):\n",
    "        print(\"class decorator running\")\n",
    "        self._func(*args, **kwargs)\n",
    "        print(\"class decorator ending\")"
   ]
  },
  {
   "cell_type": "code",
   "execution_count": 21,
   "metadata": {
    "ExecuteTime": {
     "end_time": "2019-07-13T11:57:47.899098Z",
     "start_time": "2019-07-13T11:57:47.897028Z"
    }
   },
   "outputs": [],
   "source": [
    "@Foo\n",
    "def bar(x):\n",
    "    print(x)"
   ]
  },
  {
   "cell_type": "code",
   "execution_count": 22,
   "metadata": {
    "ExecuteTime": {
     "end_time": "2019-07-13T11:57:48.632464Z",
     "start_time": "2019-07-13T11:57:48.629842Z"
    }
   },
   "outputs": [
    {
     "name": "stdout",
     "output_type": "stream",
     "text": [
      "class decorator running\n",
      "1\n",
      "class decorator ending\n"
     ]
    }
   ],
   "source": [
    "bar(1)"
   ]
  },
  {
   "cell_type": "code",
   "execution_count": 1,
   "metadata": {
    "ExecuteTime": {
     "end_time": "2019-07-14T01:56:04.450034Z",
     "start_time": "2019-07-14T01:56:04.448088Z"
    }
   },
   "outputs": [],
   "source": [
    "from collections import defaultdict"
   ]
  },
  {
   "cell_type": "code",
   "execution_count": 2,
   "metadata": {
    "ExecuteTime": {
     "end_time": "2019-07-14T01:56:10.959447Z",
     "start_time": "2019-07-14T01:56:10.953551Z"
    }
   },
   "outputs": [],
   "source": [
    "a = defaultdict(dict)"
   ]
  },
  {
   "cell_type": "code",
   "execution_count": 3,
   "metadata": {
    "ExecuteTime": {
     "end_time": "2019-07-14T01:56:20.020084Z",
     "start_time": "2019-07-14T01:56:20.011701Z"
    }
   },
   "outputs": [],
   "source": [
    "a['a']['b'] = 1"
   ]
  },
  {
   "cell_type": "code",
   "execution_count": 4,
   "metadata": {
    "ExecuteTime": {
     "end_time": "2019-07-14T01:56:21.508880Z",
     "start_time": "2019-07-14T01:56:21.500549Z"
    }
   },
   "outputs": [
    {
     "data": {
      "text/plain": [
       "defaultdict(dict, {'a': {'b': 1}})"
      ]
     },
     "execution_count": 4,
     "metadata": {},
     "output_type": "execute_result"
    }
   ],
   "source": [
    "a "
   ]
  },
  {
   "cell_type": "code",
   "execution_count": 1,
   "metadata": {
    "ExecuteTime": {
     "end_time": "2019-07-14T12:10:46.532307Z",
     "start_time": "2019-07-14T12:10:46.530320Z"
    }
   },
   "outputs": [],
   "source": [
    "from scipy.sparse import csc_matrix"
   ]
  },
  {
   "cell_type": "code",
   "execution_count": 2,
   "metadata": {
    "ExecuteTime": {
     "end_time": "2019-07-14T12:11:04.262227Z",
     "start_time": "2019-07-14T12:11:04.260211Z"
    }
   },
   "outputs": [],
   "source": [
    "a = [0, 1, 1, 0, 1, 0, 1,0 ]"
   ]
  },
  {
   "cell_type": "code",
   "execution_count": 3,
   "metadata": {
    "ExecuteTime": {
     "end_time": "2019-07-14T12:11:11.580084Z",
     "start_time": "2019-07-14T12:11:11.552911Z"
    }
   },
   "outputs": [],
   "source": [
    "b = csc_matrix(a)"
   ]
  },
  {
   "cell_type": "code",
   "execution_count": 4,
   "metadata": {
    "ExecuteTime": {
     "end_time": "2019-07-14T12:11:15.309140Z",
     "start_time": "2019-07-14T12:11:15.302640Z"
    }
   },
   "outputs": [
    {
     "data": {
      "text/plain": [
       "array([[0, 1, 1, 0, 1, 0, 1, 0]], dtype=int64)"
      ]
     },
     "execution_count": 4,
     "metadata": {},
     "output_type": "execute_result"
    }
   ],
   "source": [
    "b.toarray()"
   ]
  },
  {
   "cell_type": "code",
   "execution_count": null,
   "metadata": {},
   "outputs": [],
   "source": []
  }
 ],
 "metadata": {
  "kernelspec": {
   "display_name": "Python 3",
   "language": "python",
   "name": "python3"
  },
  "language_info": {
   "codemirror_mode": {
    "name": "ipython",
    "version": 3
   },
   "file_extension": ".py",
   "mimetype": "text/x-python",
   "name": "python",
   "nbconvert_exporter": "python",
   "pygments_lexer": "ipython3",
   "version": "3.7.3"
  },
  "toc": {
   "base_numbering": 1,
   "nav_menu": {},
   "number_sections": true,
   "sideBar": true,
   "skip_h1_title": false,
   "title_cell": "Table of Contents",
   "title_sidebar": "Contents",
   "toc_cell": false,
   "toc_position": {},
   "toc_section_display": true,
   "toc_window_display": false
  }
 },
 "nbformat": 4,
 "nbformat_minor": 2
}
