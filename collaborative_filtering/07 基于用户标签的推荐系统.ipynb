{
 "cells": [
  {
   "cell_type": "code",
   "execution_count": 2,
   "metadata": {
    "ExecuteTime": {
     "end_time": "2019-07-16T01:58:13.673289Z",
     "start_time": "2019-07-16T01:58:13.671334Z"
    }
   },
   "outputs": [],
   "source": [
    "import random \n",
    "import math \n",
    "import time \n",
    "from tqdm import tqdm \n",
    "\n",
    "from collections import defaultdict"
   ]
  },
  {
   "cell_type": "markdown",
   "metadata": {},
   "source": [
    "# 定义通用函数"
   ]
  },
  {
   "cell_type": "code",
   "execution_count": 3,
   "metadata": {
    "ExecuteTime": {
     "end_time": "2019-07-16T02:00:30.734182Z",
     "start_time": "2019-07-16T02:00:30.729786Z"
    }
   },
   "outputs": [],
   "source": [
    "# 定义装饰器，监控运行时间\n",
    "def timmer(func):\n",
    "    def wrapper(*args, **kwargs):\n",
    "        start_time = time.time()\n",
    "        res = func(*args, **kwargs)\n",
    "        stop_time = time.time()\n",
    "        print(\"Func {:s}, run time: {:f}\".format(func.__name__, stop_time-start_time))\n",
    "        return res \n",
    "    return wrapper"
   ]
  },
  {
   "cell_type": "markdown",
   "metadata": {},
   "source": [
    "# 数据处理相关的函数"
   ]
  },
  {
   "cell_type": "markdown",
   "metadata": {},
   "source": [
    "## 观察数据"
   ]
  },
  {
   "cell_type": "code",
   "execution_count": 6,
   "metadata": {
    "ExecuteTime": {
     "end_time": "2019-07-16T02:02:58.933002Z",
     "start_time": "2019-07-16T02:02:58.928258Z"
    }
   },
   "outputs": [
    {
     "name": "stdout",
     "output_type": "stream",
     "text": [
      "userID\tbookmarkID\ttagID\tday\tmonth\tyear\thour\tminute\tsecond\n",
      "\n",
      "8\t1\t1\t8\t11\t2010\t23\t29\t22\n",
      "\n",
      "8\t2\t1\t8\t11\t2010\t23\t25\t59\n",
      "\n",
      "8\t7\t1\t8\t11\t2010\t18\t55\t1\n",
      "\n"
     ]
    }
   ],
   "source": [
    "with open(\"data/hetrec2011-delicious-2k/user_taggedbookmarks.dat\", 'r') as f: \n",
    "    for i, line in enumerate(f):\n",
    "        print(line)\n",
    "        if i > 2:\n",
    "            break"
   ]
  },
  {
   "cell_type": "markdown",
   "metadata": {},
   "source": [
    "- 只需要前3列`userID`, `bookmarkID`, `tagID`"
   ]
  },
  {
   "cell_type": "code",
   "execution_count": 7,
   "metadata": {
    "ExecuteTime": {
     "end_time": "2019-07-16T02:13:34.665968Z",
     "start_time": "2019-07-16T02:13:34.658942Z"
    }
   },
   "outputs": [],
   "source": [
    "# 读取数据\n",
    "class Dataset:\n",
    "    def __init__(self, fp):\n",
    "        self.data = self.loadData(fp)\n",
    "    \n",
    "    @timmer \n",
    "    def loadData(self, fp):\n",
    "        data = [f.strip().split('\\t')[:3] for f in open(fp, 'r').readlines()[1:]]\n",
    "        new_data = {}\n",
    "        for user, item, tag in data: \n",
    "            if user not in new_data:\n",
    "                new_data[user] = {}\n",
    "            if item not in new_data[user]:\n",
    "                new_data[user][item] = set()\n",
    "            # 保存用户u对物品i添加的标签tag的集合\n",
    "            new_data[user][item].add(tag)\n",
    "        ret = []\n",
    "        for user in new_data:\n",
    "            for item in new_data[user]:\n",
    "                # 得到三元组\n",
    "                ret.append((user, item, list(new_data[user][item])))\n",
    "        return ret \n",
    "    \n",
    "    @timmer \n",
    "    def splitData(self, M, k, seed=2019):\n",
    "        train, test = [], []\n",
    "        random.seed(seed)\n",
    "        for user, item, tags in self.data:\n",
    "            if random.randint(0, M-1) == k: \n",
    "                test.append((user, item, tags))\n",
    "            else:\n",
    "                train.append((user, item, tags))\n",
    "        \n",
    "        # 处理成字典的形式\n",
    "        def convert_dict(data):\n",
    "            data_dict = {}\n",
    "            for user, item, tags in data: \n",
    "                if user not in data_dict:\n",
    "                    data_dict[user] = {}\n",
    "                data_dict[user][item] = tags\n",
    "            return data_dict\n",
    "        return convert_dict(train), convert_dict(test)"
   ]
  },
  {
   "cell_type": "markdown",
   "metadata": {},
   "source": [
    "# 评价指标"
   ]
  },
  {
   "cell_type": "code",
   "execution_count": 34,
   "metadata": {
    "ExecuteTime": {
     "end_time": "2019-07-16T03:49:40.275127Z",
     "start_time": "2019-07-16T03:49:40.244174Z"
    }
   },
   "outputs": [],
   "source": [
    "class Metric:\n",
    "    def __init__(self, train, test, GetRecommendation):\n",
    "        self.train = train \n",
    "        self.test = test \n",
    "        self.GetRecommendation = GetRecommendation\n",
    "        self.recs = self.getRec()\n",
    "        \n",
    "    # 为test中每个用户进行推荐\n",
    "    def getRec(self):\n",
    "        recs = {}\n",
    "        for user in self.test:\n",
    "            rank = self.GetRecommendation(user)\n",
    "            recs[user] = rank\n",
    "        return recs\n",
    "    \n",
    "    # 定义精确率指标\n",
    "    def precision(self):\n",
    "        all, hit = 0, 0 \n",
    "        for user in self.test: \n",
    "            test_items = set(self.test[user])\n",
    "            rank = self.recs[user]\n",
    "            for item, score in rank: \n",
    "                if item in test_items:\n",
    "                    hit += 1 \n",
    "            all += len(rank)\n",
    "        return round(hit/all*100, 2)\n",
    "    \n",
    "    # 定义召回率指标计算方法\n",
    "    def recall(self):\n",
    "        all, hit = 0, 0 \n",
    "        for user in self.test: \n",
    "            test_items = set(self.test[user])\n",
    "            rank = self.recs[user]\n",
    "            for item, score in rank: \n",
    "                if item in test_items: \n",
    "                    hit += 1 \n",
    "            all += len(test_items)\n",
    "        return round(hit/all * 100, 2)\n",
    "    \n",
    "    # 定义覆盖率指标计算方式\n",
    "    def coverage(self):\n",
    "        all_item, recom_item = set(), set() \n",
    "        for user in self.train: \n",
    "            for item in self.train[user]:\n",
    "                all_item.add(item)\n",
    "        \n",
    "        for user in self.test:\n",
    "            rank = self.recs[user]\n",
    "            for item, score in rank: \n",
    "                recom_item.add(item)\n",
    "        \n",
    "        return round(len(recom_item)/len(all_item)*100, 2)\n",
    "    \n",
    "    # 定义多样性指标计算方式\n",
    "    def diversity(self):\n",
    "        # 计算item_vec，每个tag的个数\n",
    "        item_tags = {}\n",
    "        for user in self.train:\n",
    "            for item in self.train[user]:\n",
    "                if item not in item_tags:\n",
    "                    item_tags[item] = {} \n",
    "                for tag in self.train[user][item]:\n",
    "                    if tag not in item_tags[item]:\n",
    "                        item_tags[item][tag] = 0 \n",
    "                    item_tags[item][tag] += 1 \n",
    "        # 计算两个item的相似度\n",
    "        def CosineSim(u, v):\n",
    "            ret = 0 \n",
    "            for tag in item_tags[u]:\n",
    "                if tag in item_tags[v]:\n",
    "                    ret += item_tags[u][tag] * item_tags[v][tag]\n",
    "            nu, nv = 0, 0 \n",
    "            for tag in item_tags[u]:\n",
    "                nu += item_tags[u][tag] ** 2 \n",
    "            for tag in item_tags[v]:\n",
    "                nv += item_tags[v][tag] ** 2 \n",
    "            return ret / math.sqrt(nu*nv)\n",
    "        \n",
    "        # 计算Diversity\n",
    "        div = []\n",
    "        for user in self.test: \n",
    "            rank = self.recs[user]\n",
    "            sim, cnt = 0, 0 \n",
    "            for u, _ in rank: \n",
    "                for v, _ in rank: \n",
    "                    if u == v: \n",
    "                        continue\n",
    "                    sim += CosineSim(u, v)\n",
    "                    cnt += 1 \n",
    "            sim = sim /cnt if sim !=0 else 0 \n",
    "            div.append(1 - sim)\n",
    "        \n",
    "        return sum(div) / len(div)\n",
    "    \n",
    "    # 定义新颖度指标计算方式\n",
    "    def popularity(self):\n",
    "        ## 计算物品的流行度，为给这个物品打过标签的用户数\n",
    "        item_pop = {}\n",
    "        for user in self.train: \n",
    "            for item in self.train[user]:\n",
    "                if item not in item_pop:\n",
    "                    item_pop[item] = 0 \n",
    "                item_pop[item] += 1 \n",
    "        \n",
    "        num, pop = 0, 0 \n",
    "        for user in self.test: \n",
    "            rank = self.recs[user]\n",
    "            for item, score in rank: \n",
    "                ## 取对数，防止因长尾问题带来的被流行物品所主导的\n",
    "                pop += math.log(1 + item_pop[item])\n",
    "                num += 1 \n",
    "        return round(pop/num, 4)\n",
    "    \n",
    "    def eval(self):\n",
    "        metric = {\"Precision\": self.precision(), \n",
    "                 \"Recall\": self.recall(), \n",
    "                 \"Coverage\": self.coverage(), \n",
    "                 \"Diversity\": self.diversity(), \n",
    "                 \"Popularity\": self.popularity()}\n",
    "        print(\"Metric: \", metric)\n",
    "        return metric"
   ]
  },
  {
   "cell_type": "markdown",
   "metadata": {},
   "source": [
    "# 算法实现\n",
    "\n",
    "- SimpleTagBased\n",
    "- TagBasedTFIDF\n",
    "- TagBasedTFIDF++\n",
    "- TagExtend"
   ]
  },
  {
   "cell_type": "code",
   "execution_count": 35,
   "metadata": {
    "ExecuteTime": {
     "end_time": "2019-07-16T03:49:40.565788Z",
     "start_time": "2019-07-16T03:49:40.560778Z"
    }
   },
   "outputs": [],
   "source": [
    "# 1.基于热门标签的推荐\n",
    "def SimpleTagBased(train, N):\n",
    "    # 统计user_tags, tag_items\n",
    "    ## user_tag表示用户打过的tags的数量\n",
    "    ## tag_items表示某个物品被打上tag的次数\n",
    "    user_tags, tags_items = {}, {} \n",
    "    for user in train: \n",
    "        user_tags[user] = {}\n",
    "        for item in train[user]:\n",
    "            for tag in train[user][item]:\n",
    "                user_tags[user][tag] = user_tags[user].get(tag, 0) + 1 \n",
    "            \n",
    "            if tag not in tags_items:\n",
    "                tags_items[tag] = {}\n",
    "            tags_items[tag][item] = tags_items[tag].get(item, 0) + 1 \n",
    "    \n",
    "    \n",
    "    def GetRecommendation(user):\n",
    "        # 按照打分推荐N个未见过的\n",
    "        if user not in user_tags:\n",
    "            return []\n",
    "        seen_items = set(train[user])\n",
    "        item_score = {}\n",
    "        for tag in user_tags[user]:\n",
    "            if tag in tags_items:\n",
    "                for item in tags_items[tag]:\n",
    "                    if item in seen_items:\n",
    "                        continue\n",
    "                    if item not in item_score:\n",
    "                        item_score[item] = 0 \n",
    "                    item_score[item] += user_tags[user][tag] * tags_items[tag][item]\n",
    "        item_score = list(sorted(item_score.items(), key=lambda x: x[1], reverse=True))\n",
    "        return item_score[:N]\n",
    "    \n",
    "    return GetRecommendation\n",
    "                    "
   ]
  },
  {
   "cell_type": "code",
   "execution_count": 36,
   "metadata": {
    "ExecuteTime": {
     "end_time": "2019-07-16T03:49:40.725218Z",
     "start_time": "2019-07-16T03:49:40.718034Z"
    }
   },
   "outputs": [],
   "source": [
    "# 2. 改进一：为热门标签加入惩罚项\n",
    "def TagBasedTFIDF(train, N):\n",
    "    user_tags, tag_items = {}, {} \n",
    "    # 统计打过此标签的用户数\n",
    "    tag_pop = defaultdict(set)\n",
    "    for user in train:\n",
    "        user_tags[user] = {} \n",
    "        for item in train[user]:\n",
    "            for tag in train[user][item]:\n",
    "                if tag not in user_tags[user]:\n",
    "                    user_tags[user][tag] = 0 \n",
    "                user_tags[user][tag] += 1 \n",
    "                if tag not in tag_items:\n",
    "                    tag_items[tag] = {}\n",
    "                tag_items[tag][item] = tag_items[tag].get(item, 0) + 1 \n",
    "                # 将该用户添加到该tag下\n",
    "                tag_pop[tag].add(user)\n",
    "    tag_pop = {k: len(v) for k, v in tag_pop.items()}\n",
    "    \n",
    "    def GetRecommendation(user):\n",
    "        if user not in user_tags:\n",
    "            return []\n",
    "        \n",
    "        seen_items = set(train[user])\n",
    "        item_score = {}\n",
    "        for tag in user_tags[user]:\n",
    "            for item in tag_items[tag]:\n",
    "                if item in seen_items:\n",
    "                    continue\n",
    "                if item not in item_score:\n",
    "                    item_score[item] = 0 \n",
    "                item_score[item] += user_tags[user][tag] * tag_items[tag][item] / math.log(1+tag_pop[tag])\n",
    "        item_score = list(sorted(item_score.items(), key=lambda x: x[1], reverse=True))\n",
    "        return item_score[:N]\n",
    "    \n",
    "    return GetRecommendation"
   ]
  },
  {
   "cell_type": "code",
   "execution_count": 56,
   "metadata": {
    "ExecuteTime": {
     "end_time": "2019-07-16T06:27:15.123979Z",
     "start_time": "2019-07-16T06:27:15.110353Z"
    }
   },
   "outputs": [],
   "source": [
    "# 3.改进二：同时对热门商品加入惩罚项\n",
    "def TagBasedTFIDF_Improved(train, N):\n",
    "    # 统计user_tags和tag_items\n",
    "    user_tags, tag_items = {}, {}\n",
    "    # 统计标签和物品的热门程度\n",
    "    tag_pop, item_pop = {}, {} \n",
    "    for user in train: \n",
    "        user_tags[user] = {}\n",
    "        for item in train[user]:\n",
    "            item_pop[item] = item_pop.get(item, 0) + 1 \n",
    "            for tag in train[user][item]:\n",
    "                user_tags[user][tag] = user_tags[user].get(tag, 0) + 1 \n",
    "                if tag not in tag_items:\n",
    "                    tag_items[tag] = {} \n",
    "                tag_items[tag][item] = tag_items[tag].get(item, 0) + 1 \n",
    "                if tag not in tag_pop:\n",
    "                    tag_pop[tag] = set() \n",
    "                tag_pop[tag].add(user)\n",
    "    tag_pop = {k: len(v) for k, v in tag_pop.items()}\n",
    "    \n",
    "    def GetRecommendation(user):\n",
    "        if user not in user_tags:\n",
    "            return []\n",
    "        seen_items = set(train[user])\n",
    "        item_score = {}\n",
    "        for tag in user_tags[user]:\n",
    "            for item in tag_items[tag]:\n",
    "                if item in seen_items:\n",
    "                    continue\n",
    "                if item not in item_score:\n",
    "                    item_score[item] = 0 \n",
    "                item_score[item] += (user_tags[user][tag] * tag_items[tag][item]) / (math.log(1 + tag_pop[tag])+math.log(1+item_pop[item]))\n",
    "        item_score = list(sorted(item_score.items(), key=lambda x: x[1], reverse=True))\n",
    "        return item_score[:N]\n",
    "    return GetRecommendation"
   ]
  },
  {
   "cell_type": "code",
   "execution_count": 54,
   "metadata": {
    "ExecuteTime": {
     "end_time": "2019-07-16T05:57:24.027036Z",
     "start_time": "2019-07-16T05:57:24.007737Z"
    }
   },
   "outputs": [],
   "source": [
    "# 4. 基于标签改进的推荐\n",
    "def ExpandTagBased(train, N, M=20):\n",
    "    # 计算标签之间的相似度\n",
    "    ## 如果标签出现在同一商品的描述中，说明比较相似\n",
    "    item_tag = defaultdict(set)\n",
    "    for user in train: \n",
    "        for item in train[user]:\n",
    "            for tag in train[user][item]:\n",
    "                item_tag[item].add(tag)\n",
    "    tag_sim, tag_cnt = {}, {}\n",
    "    for item in item_tag:\n",
    "        for u in item_tag[item]:\n",
    "            tag_cnt[u] = tag_cnt.get(u, 0) + 1 \n",
    "        \n",
    "        if u not in tag_sim:\n",
    "            tag_sim[u] = {}\n",
    "        for v in item_tag[item]:\n",
    "            if u == v: \n",
    "                continue\n",
    "            if v not in tag_sim[u]:\n",
    "                tag_sim[u][v] = 0 \n",
    "            tag_sim[u][v] += 1 \n",
    "    for u in tag_sim: \n",
    "        for v in tag_sim[u]:\n",
    "            tag_sim[u][v] /= math.sqrt(tag_cnt[u] * tag_cnt[v])\n",
    "    \n",
    "    # 为每个用户扩展标签\n",
    "    user_tags = {}\n",
    "    for user in train: \n",
    "        if user not in user_tags:\n",
    "            user_tags[user] = {}\n",
    "        for item in train[user]:\n",
    "            for tag in train[user][item]:\n",
    "                user_tags[user][tag] = user_tags[user].get(tag, 0) + 1 \n",
    "        expand_tags =  {}\n",
    "        for user in user_tags:\n",
    "            ## 如果大于指定数量，则直接添加\n",
    "            if len(user_tags[user]) >= M: \n",
    "                expand_tags[user] = user_tags[user]\n",
    "                continue\n",
    "            ## 不满M个进行扩展\n",
    "            expand_tags[user] = {}\n",
    "            seen_tags = set(user_tags[user])\n",
    "            for tag in user_tags[user]:\n",
    "                if tag in tag_sim:\n",
    "                    for t in tag_sim[tag]:\n",
    "                        if t in seen_tags:\n",
    "                            continue\n",
    "                        if t not in expand_tags[user]:\n",
    "                            expand_tags[user][t] = 0 \n",
    "                        expand_tags[user][t] += user_tags[user][tag] * tag_sim[tag][t]\n",
    "            expand_tags[user].update(user_tags[user])\n",
    "            expand_tags[user] = dict(list(sorted(expand_tags[user].items(), key=lambda x: x[1], reverse=True)[:M]))\n",
    "    \n",
    "    ## SimpleTagBased算法\n",
    "    tag_items = {}\n",
    "    for user in train: \n",
    "        for item in train[user]:\n",
    "            for tag in train[user][item]:\n",
    "                if tag not in tag_items:\n",
    "                    tag_items[tag] = {}\n",
    "                if item not in tag_items[tag]:\n",
    "                    tag_items[tag][item] = 0 \n",
    "                tag_items[tag][item] += 1 \n",
    "    \n",
    "    def GetRecommendation(user):\n",
    "        if user not in user_tags:\n",
    "            return []\n",
    "        seen_items = set(train[user])\n",
    "        item_score = {}\n",
    "        for tag in expand_tags[user]:\n",
    "            for item in tag_items[tag]:\n",
    "                if item in seen_items:\n",
    "                    continue\n",
    "                if item not in item_score:\n",
    "                    item_score[item] = 0 \n",
    "                item_score[item] += expand_tags[user][tag] * tag_items[tag][item]\n",
    "        item_score = list(sorted(item_score.items(), key=lambda x: x[1], reverse=True))[:N]\n",
    "        return item_score\n",
    "    \n",
    "    return GetRecommendation"
   ]
  },
  {
   "cell_type": "markdown",
   "metadata": {},
   "source": [
    "# 实验"
   ]
  },
  {
   "cell_type": "code",
   "execution_count": 39,
   "metadata": {
    "ExecuteTime": {
     "end_time": "2019-07-16T03:49:41.329342Z",
     "start_time": "2019-07-16T03:49:41.323797Z"
    }
   },
   "outputs": [],
   "source": [
    "class Experiment:\n",
    "    def __init__(self, M, N, fp=\"data/hetrec2011-delicious-2k/user_taggedbookmarks.dat\", rt='SimpleTagBased'):\n",
    "        self.M = M \n",
    "        self.N = N \n",
    "        self.fp = fp\n",
    "        self.rt = rt \n",
    "        self.alg = {\"SimpleTagBased\": SimpleTagBased, \"TagBasedTFIDF\": TagBasedTFIDF,\n",
    "                   \"TagBasedTFIDF_Improved\": TagBasedTFIDF_Improved, \"ExpandTagBased\": ExpandTagBased}\n",
    "        \n",
    "    \n",
    "    # 定义单次实验\n",
    "    @timmer\n",
    "    def worker(self,train, test):\n",
    "        getRecommendation = self.alg[self.rt](train, self.N)\n",
    "        metric = Metric(train, test, getRecommendation)\n",
    "        return metric.eval()\n",
    "    \n",
    "    # 多次实验取平均\n",
    "    @timmer \n",
    "    def run(self):\n",
    "        metrics = {\"Precision\": 0, \"Recall\": 0,\n",
    "                  \"Coverage\": 0, \"Diversity\": 0, \n",
    "                  \"Popularity\": 0}\n",
    "        dataset = Dataset(self.fp)\n",
    "        for ii in range(self.M):\n",
    "            train, test = dataset.splitData(self.M, ii)\n",
    "            print(f\"Experiment {ii}: \")\n",
    "            metric = self.worker(train, test)\n",
    "            metrics = {k:metrics[k]+metric[k] for k in metrics}\n",
    "        metrics = {k: metrics[k] / self.M for k in metrics}\n",
    "        print(\"Average Result (M={}, N={}): {}\".format(self.M, self.N, metrics))"
   ]
  },
  {
   "cell_type": "markdown",
   "metadata": {},
   "source": [
    "## SimpleTagBased实验"
   ]
  },
  {
   "cell_type": "code",
   "execution_count": 40,
   "metadata": {
    "ExecuteTime": {
     "end_time": "2019-07-16T03:50:50.997234Z",
     "start_time": "2019-07-16T03:49:41.692234Z"
    },
    "scrolled": true
   },
   "outputs": [
    {
     "name": "stdout",
     "output_type": "stream",
     "text": [
      "Func loadData, run time: 0.923646\n",
      "Func splitData, run time: 0.217856\n",
      "Experiment 0: \n",
      "Metric:  {'Precision': 0.31, 'Recall': 0.52, 'Coverage': 5.4, 'Diversity': 0.8002490787673343, 'Popularity': 1.9951}\n",
      "Func worker, run time: 6.545003\n",
      "Func splitData, run time: 0.115637\n",
      "Experiment 1: \n",
      "Metric:  {'Precision': 0.35, 'Recall': 0.58, 'Coverage': 5.41, 'Diversity': 0.8049237219810359, 'Popularity': 1.9627}\n",
      "Func worker, run time: 6.621846\n",
      "Func splitData, run time: 0.211591\n",
      "Experiment 2: \n",
      "Metric:  {'Precision': 0.3, 'Recall': 0.5, 'Coverage': 5.42, 'Diversity': 0.8044458131615932, 'Popularity': 1.9978}\n",
      "Func worker, run time: 6.552932\n",
      "Func splitData, run time: 0.215611\n",
      "Experiment 3: \n",
      "Metric:  {'Precision': 0.2, 'Recall': 0.33, 'Coverage': 5.43, 'Diversity': 0.8079008776595029, 'Popularity': 2.0065}\n",
      "Func worker, run time: 6.469662\n",
      "Func splitData, run time: 0.222466\n",
      "Experiment 4: \n",
      "Metric:  {'Precision': 0.2, 'Recall': 0.32, 'Coverage': 5.37, 'Diversity': 0.8018008174713677, 'Popularity': 1.9955}\n",
      "Func worker, run time: 6.507552\n",
      "Func splitData, run time: 0.114501\n",
      "Experiment 5: \n",
      "Metric:  {'Precision': 0.32, 'Recall': 0.52, 'Coverage': 5.49, 'Diversity': 0.8069665282953734, 'Popularity': 1.9865}\n",
      "Func worker, run time: 6.710129\n",
      "Func splitData, run time: 0.217844\n",
      "Experiment 6: \n",
      "Metric:  {'Precision': 0.23, 'Recall': 0.37, 'Coverage': 5.34, 'Diversity': 0.8054473016249909, 'Popularity': 2.0052}\n",
      "Func worker, run time: 7.152689\n",
      "Func splitData, run time: 0.117261\n",
      "Experiment 7: \n",
      "Metric:  {'Precision': 0.28, 'Recall': 0.46, 'Coverage': 5.44, 'Diversity': 0.8057234965132827, 'Popularity': 1.9869}\n",
      "Func worker, run time: 6.652876\n",
      "Func splitData, run time: 0.207814\n",
      "Experiment 8: \n",
      "Metric:  {'Precision': 0.22, 'Recall': 0.36, 'Coverage': 5.48, 'Diversity': 0.8090551563395996, 'Popularity': 1.9922}\n",
      "Func worker, run time: 6.667532\n",
      "Func splitData, run time: 0.212129\n",
      "Experiment 9: \n",
      "Metric:  {'Precision': 0.23, 'Recall': 0.39, 'Coverage': 5.43, 'Diversity': 0.8084648058449516, 'Popularity': 1.9854}\n",
      "Func worker, run time: 6.595571\n",
      "Average Result (M=10, N=10): {'Precision': 0.264, 'Recall': 0.43499999999999994, 'Coverage': 5.421, 'Diversity': 0.8054977597659032, 'Popularity': 1.99138}\n",
      "Func run, run time: 69.300319\n"
     ]
    }
   ],
   "source": [
    "M, N = 10, 10 \n",
    "exp = Experiment(M, N, rt=\"SimpleTagBased\")\n",
    "exp.run()"
   ]
  },
  {
   "cell_type": "markdown",
   "metadata": {},
   "source": [
    "## TagBasedTFIDF实验"
   ]
  },
  {
   "cell_type": "code",
   "execution_count": 41,
   "metadata": {
    "ExecuteTime": {
     "end_time": "2019-07-16T03:57:12.785977Z",
     "start_time": "2019-07-16T03:50:57.967962Z"
    },
    "scrolled": true
   },
   "outputs": [
    {
     "name": "stdout",
     "output_type": "stream",
     "text": [
      "Func loadData, run time: 0.924418\n",
      "Func splitData, run time: 0.117036\n",
      "Experiment 0: \n",
      "Metric:  {'Precision': 0.38, 'Recall': 0.63, 'Coverage': 5.02, 'Diversity': 0.7980656686930976, 'Popularity': 2.2352}\n",
      "Func worker, run time: 36.691683\n",
      "Func splitData, run time: 0.110977\n",
      "Experiment 1: \n",
      "Metric:  {'Precision': 0.44, 'Recall': 0.71, 'Coverage': 5.09, 'Diversity': 0.7993524371550923, 'Popularity': 2.1797}\n",
      "Func worker, run time: 36.123402\n",
      "Func splitData, run time: 0.110357\n",
      "Experiment 2: \n",
      "Metric:  {'Precision': 0.46, 'Recall': 0.75, 'Coverage': 5.13, 'Diversity': 0.8010450171102075, 'Popularity': 2.2179}\n",
      "Func worker, run time: 35.986298\n",
      "Func splitData, run time: 0.115441\n",
      "Experiment 3: \n",
      "Metric:  {'Precision': 0.38, 'Recall': 0.64, 'Coverage': 5.13, 'Diversity': 0.8083701999821394, 'Popularity': 2.2439}\n",
      "Func worker, run time: 36.888173\n",
      "Func splitData, run time: 0.124253\n",
      "Experiment 4: \n",
      "Metric:  {'Precision': 0.35, 'Recall': 0.57, 'Coverage': 5.08, 'Diversity': 0.8011449840521201, 'Popularity': 2.2414}\n",
      "Func worker, run time: 38.019912\n",
      "Func splitData, run time: 0.115836\n",
      "Experiment 5: \n",
      "Metric:  {'Precision': 0.41, 'Recall': 0.68, 'Coverage': 5.06, 'Diversity': 0.8039126442189106, 'Popularity': 2.2199}\n",
      "Func worker, run time: 34.712802\n",
      "Func splitData, run time: 0.149568\n",
      "Experiment 6: \n",
      "Metric:  {'Precision': 0.3, 'Recall': 0.49, 'Coverage': 5.06, 'Diversity': 0.8012481525363112, 'Popularity': 2.236}\n",
      "Func worker, run time: 38.967936\n",
      "Func splitData, run time: 0.113662\n",
      "Experiment 7: \n",
      "Metric:  {'Precision': 0.39, 'Recall': 0.63, 'Coverage': 5.16, 'Diversity': 0.8023483367174344, 'Popularity': 2.1989}\n",
      "Func worker, run time: 38.081076\n",
      "Func splitData, run time: 0.114158\n",
      "Experiment 8: \n",
      "Metric:  {'Precision': 0.27, 'Recall': 0.44, 'Coverage': 5.01, 'Diversity': 0.8027212816701308, 'Popularity': 2.2357}\n",
      "Func worker, run time: 39.108418\n",
      "Func splitData, run time: 0.111260\n",
      "Experiment 9: \n",
      "Metric:  {'Precision': 0.37, 'Recall': 0.61, 'Coverage': 5.04, 'Diversity': 0.801501371928246, 'Popularity': 2.2147}\n",
      "Func worker, run time: 38.084119\n",
      "Average Result (M=10, N=10): {'Precision': 0.37500000000000006, 'Recall': 0.615, 'Coverage': 5.0779999999999985, 'Diversity': 0.801971009406369, 'Popularity': 2.2223300000000004}\n",
      "Func run, run time: 374.815510\n"
     ]
    }
   ],
   "source": [
    "exp = Experiment(M, N, rt=\"TagBasedTFIDF\")\n",
    "exp.run()"
   ]
  },
  {
   "cell_type": "markdown",
   "metadata": {},
   "source": [
    "## TagBasedTFIDF++"
   ]
  },
  {
   "cell_type": "code",
   "execution_count": 57,
   "metadata": {
    "ExecuteTime": {
     "end_time": "2019-07-16T06:36:03.341922Z",
     "start_time": "2019-07-16T06:27:46.196757Z"
    }
   },
   "outputs": [
    {
     "name": "stdout",
     "output_type": "stream",
     "text": [
      "Func loadData, run time: 1.003245\n",
      "Func splitData, run time: 0.114796\n",
      "Experiment 0: \n",
      "Metric:  {'Precision': 0.36, 'Recall': 0.59, 'Coverage': 5.2, 'Diversity': 0.7738559878850848, 'Popularity': 2.1389}\n",
      "Func worker, run time: 47.252694\n",
      "Func splitData, run time: 0.204991\n",
      "Experiment 1: \n",
      "Metric:  {'Precision': 0.41, 'Recall': 0.66, 'Coverage': 5.33, 'Diversity': 0.7763989991514378, 'Popularity': 2.0848}\n",
      "Func worker, run time: 48.905256\n",
      "Func splitData, run time: 0.220017\n",
      "Experiment 2: \n",
      "Metric:  {'Precision': 0.44, 'Recall': 0.72, 'Coverage': 5.34, 'Diversity': 0.7782135429512786, 'Popularity': 2.1248}\n",
      "Func worker, run time: 49.361965\n",
      "Func splitData, run time: 0.253507\n",
      "Experiment 3: \n",
      "Metric:  {'Precision': 0.35, 'Recall': 0.59, 'Coverage': 5.31, 'Diversity': 0.7856628904294432, 'Popularity': 2.1428}\n",
      "Func worker, run time: 51.712393\n",
      "Func splitData, run time: 0.237244\n",
      "Experiment 4: \n",
      "Metric:  {'Precision': 0.33, 'Recall': 0.53, 'Coverage': 5.32, 'Diversity': 0.7774922125492686, 'Popularity': 2.145}\n",
      "Func worker, run time: 47.431777\n",
      "Func splitData, run time: 0.207639\n",
      "Experiment 5: \n",
      "Metric:  {'Precision': 0.38, 'Recall': 0.63, 'Coverage': 5.34, 'Diversity': 0.779617185625148, 'Popularity': 2.1226}\n",
      "Func worker, run time: 46.659329\n",
      "Func splitData, run time: 0.215685\n",
      "Experiment 6: \n",
      "Metric:  {'Precision': 0.27, 'Recall': 0.45, 'Coverage': 5.26, 'Diversity': 0.7788287324643371, 'Popularity': 2.1414}\n",
      "Func worker, run time: 52.117220\n",
      "Func splitData, run time: 0.252320\n",
      "Experiment 7: \n",
      "Metric:  {'Precision': 0.38, 'Recall': 0.61, 'Coverage': 5.39, 'Diversity': 0.7774026457292421, 'Popularity': 2.1007}\n",
      "Func worker, run time: 51.199546\n",
      "Func splitData, run time: 0.113848\n",
      "Experiment 8: \n",
      "Metric:  {'Precision': 0.28, 'Recall': 0.46, 'Coverage': 5.24, 'Diversity': 0.7799002624757523, 'Popularity': 2.1345}\n",
      "Func worker, run time: 50.649306\n",
      "Func splitData, run time: 0.113388\n",
      "Experiment 9: \n",
      "Metric:  {'Precision': 0.35, 'Recall': 0.58, 'Coverage': 5.29, 'Diversity': 0.7793232591771021, 'Popularity': 2.1197}\n",
      "Func worker, run time: 48.867373\n",
      "Average Result (M=10, N=10): {'Precision': 0.35500000000000004, 'Recall': 0.5820000000000001, 'Coverage': 5.3020000000000005, 'Diversity': 0.7786695718438094, 'Popularity': 2.1255199999999994}\n",
      "Func run, run time: 497.142392\n"
     ]
    }
   ],
   "source": [
    "exp = Experiment(M, N, rt=\"TagBasedTFIDF_Improved\")\n",
    "exp.run()"
   ]
  },
  {
   "cell_type": "markdown",
   "metadata": {},
   "source": [
    "## ExpandaTagBased"
   ]
  },
  {
   "cell_type": "code",
   "execution_count": 55,
   "metadata": {
    "ExecuteTime": {
     "end_time": "2019-07-16T06:18:06.826034Z",
     "start_time": "2019-07-16T05:57:31.536768Z"
    }
   },
   "outputs": [
    {
     "name": "stdout",
     "output_type": "stream",
     "text": [
      "Func loadData, run time: 1.020065\n",
      "Func splitData, run time: 0.226482\n",
      "Experiment 0: \n",
      "Metric:  {'Precision': 0.34, 'Recall': 0.57, 'Coverage': 3.35, 'Diversity': 0.7871941453011421, 'Popularity': 2.3512}\n",
      "Func worker, run time: 125.082337\n",
      "Func splitData, run time: 0.210525\n",
      "Experiment 1: \n",
      "Metric:  {'Precision': 0.41, 'Recall': 0.67, 'Coverage': 3.36, 'Diversity': 0.7879216593690705, 'Popularity': 2.2947}\n",
      "Func worker, run time: 114.393990\n",
      "Func splitData, run time: 0.223748\n",
      "Experiment 2: \n",
      "Metric:  {'Precision': 0.44, 'Recall': 0.72, 'Coverage': 3.44, 'Diversity': 0.7910547861498147, 'Popularity': 2.3311}\n",
      "Func worker, run time: 128.503712\n",
      "Func splitData, run time: 0.206493\n",
      "Experiment 3: \n",
      "Metric:  {'Precision': 0.31, 'Recall': 0.52, 'Coverage': 3.38, 'Diversity': 0.7976921150103528, 'Popularity': 2.3608}\n",
      "Func worker, run time: 128.812517\n",
      "Func splitData, run time: 0.110861\n",
      "Experiment 4: \n",
      "Metric:  {'Precision': 0.3, 'Recall': 0.49, 'Coverage': 3.35, 'Diversity': 0.790169428364491, 'Popularity': 2.3579}\n",
      "Func worker, run time: 119.560663\n",
      "Func splitData, run time: 0.110643\n",
      "Experiment 5: \n",
      "Metric:  {'Precision': 0.38, 'Recall': 0.62, 'Coverage': 3.48, 'Diversity': 0.7919766261917512, 'Popularity': 2.3292}\n",
      "Func worker, run time: 124.424540\n",
      "Func splitData, run time: 0.212466\n",
      "Experiment 6: \n",
      "Metric:  {'Precision': 0.27, 'Recall': 0.44, 'Coverage': 3.39, 'Diversity': 0.7909206043241753, 'Popularity': 2.3516}\n",
      "Func worker, run time: 119.727133\n",
      "Func splitData, run time: 0.212577\n",
      "Experiment 7: \n",
      "Metric:  {'Precision': 0.37, 'Recall': 0.6, 'Coverage': 3.47, 'Diversity': 0.7888561550591947, 'Popularity': 2.3047}\n",
      "Func worker, run time: 119.643830\n",
      "Func splitData, run time: 0.213623\n",
      "Experiment 8: \n",
      "Metric:  {'Precision': 0.23, 'Recall': 0.37, 'Coverage': 3.35, 'Diversity': 0.7929408771827642, 'Popularity': 2.3508}\n",
      "Func worker, run time: 127.778829\n",
      "Func splitData, run time: 0.214531\n",
      "Experiment 9: \n",
      "Metric:  {'Precision': 0.29, 'Recall': 0.49, 'Coverage': 3.4, 'Diversity': 0.7900931620456119, 'Popularity': 2.3256}\n",
      "Func worker, run time: 124.341665\n",
      "Average Result (M=10, N=10): {'Precision': 0.334, 'Recall': 0.549, 'Coverage': 3.3970000000000007, 'Diversity': 0.7908819558998369, 'Popularity': 2.33576}\n",
      "Func run, run time: 1235.284707\n"
     ]
    }
   ],
   "source": [
    "exp = Experiment(M, N, rt=\"ExpandTagBased\")\n",
    "exp.run()"
   ]
  },
  {
   "cell_type": "code",
   "execution_count": null,
   "metadata": {},
   "outputs": [],
   "source": []
  }
 ],
 "metadata": {
  "kernelspec": {
   "display_name": "Python 3",
   "language": "python",
   "name": "python3"
  },
  "language_info": {
   "codemirror_mode": {
    "name": "ipython",
    "version": 3
   },
   "file_extension": ".py",
   "mimetype": "text/x-python",
   "name": "python",
   "nbconvert_exporter": "python",
   "pygments_lexer": "ipython3",
   "version": "3.7.3"
  },
  "toc": {
   "base_numbering": 1,
   "nav_menu": {},
   "number_sections": true,
   "sideBar": true,
   "skip_h1_title": false,
   "title_cell": "Table of Contents",
   "title_sidebar": "Contents",
   "toc_cell": false,
   "toc_position": {},
   "toc_section_display": true,
   "toc_window_display": false
  }
 },
 "nbformat": 4,
 "nbformat_minor": 2
}
