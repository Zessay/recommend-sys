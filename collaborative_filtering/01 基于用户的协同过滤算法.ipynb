{
 "cells": [
  {
   "cell_type": "markdown",
   "metadata": {
    "ExecuteTime": {
     "end_time": "2019-07-13T03:43:06.814955Z",
     "start_time": "2019-07-13T03:43:06.813052Z"
    }
   },
   "source": [
    "**<center><font size=6> 基于用户的协同过滤 </font></center>**"
   ]
  },
  {
   "cell_type": "code",
   "execution_count": 17,
   "metadata": {
    "ExecuteTime": {
     "end_time": "2019-07-13T07:13:08.444453Z",
     "start_time": "2019-07-13T07:13:08.442317Z"
    }
   },
   "outputs": [],
   "source": [
    "import numpy as np \n",
    "import math \n",
    "import time \n",
    "from tqdm.autonotebook import tqdm\n",
    "import random\n",
    "from collections import defaultdict"
   ]
  },
  {
   "cell_type": "markdown",
   "metadata": {},
   "source": [
    "# 定义通用函数"
   ]
  },
  {
   "cell_type": "code",
   "execution_count": 33,
   "metadata": {
    "ExecuteTime": {
     "end_time": "2019-07-13T08:18:50.761339Z",
     "start_time": "2019-07-13T08:18:50.756092Z"
    }
   },
   "outputs": [],
   "source": [
    "# 定义时间装饰器，监控运行时间\n",
    "def timmer(func):\n",
    "    def wrapper(*args, **kwargs):\n",
    "        start_time = time.time()\n",
    "        res = func(*args, **kwargs)\n",
    "        stop_time = time.time()\n",
    "        print(\"Func {:s}, run time: {:f}\".format(func.__name__, stop_time - start_time))\n",
    "        return res \n",
    "    return wrapper"
   ]
  },
  {
   "cell_type": "markdown",
   "metadata": {},
   "source": [
    "# 数据处理相关"
   ]
  },
  {
   "cell_type": "code",
   "execution_count": 6,
   "metadata": {
    "ExecuteTime": {
     "end_time": "2019-07-13T06:45:24.400343Z",
     "start_time": "2019-07-13T06:45:24.288973Z"
    }
   },
   "outputs": [
    {
     "name": "stdout",
     "output_type": "stream",
     "text": [
      "movies.dat  ratings.dat  README  users.dat\r\n"
     ]
    }
   ],
   "source": [
    "!ls data/ml-1m/"
   ]
  },
  {
   "cell_type": "code",
   "execution_count": 11,
   "metadata": {
    "ExecuteTime": {
     "end_time": "2019-07-13T06:48:03.680246Z",
     "start_time": "2019-07-13T06:48:03.677332Z"
    }
   },
   "outputs": [
    {
     "name": "stdout",
     "output_type": "stream",
     "text": [
      "1::1193::5::978300760\n",
      "\n"
     ]
    }
   ],
   "source": [
    "with open(\"data/ml-1m/ratings.dat\") as f:\n",
    "    for line in f: \n",
    "        print(line)\n",
    "        break"
   ]
  },
  {
   "cell_type": "markdown",
   "metadata": {},
   "source": [
    "- 上面数据的含义为 `user_id`::`movie_id`::`rating`::`unix_timestamp`\n",
    "\n",
    "这里的timestamp是自1970年1月1日开始计算"
   ]
  },
  {
   "cell_type": "code",
   "execution_count": 14,
   "metadata": {
    "ExecuteTime": {
     "end_time": "2019-07-13T06:58:03.399243Z",
     "start_time": "2019-07-13T06:58:03.395421Z"
    }
   },
   "outputs": [
    {
     "name": "stdout",
     "output_type": "stream",
     "text": [
      "1::Toy Story (1995)::Animation|Children's|Comedy\n",
      "\n",
      "2::Jumanji (1995)::Adventure|Children's|Fantasy\n",
      "\n",
      "3::Grumpier Old Men (1995)::Comedy|Romance\n",
      "\n"
     ]
    }
   ],
   "source": [
    "with open(\"data/ml-1m/movies.dat\", encoding=\"latin-1\") as f:\n",
    "    for i, line in enumerate(f):      \n",
    "        print(line)\n",
    "        if i == 2:\n",
    "            break"
   ]
  },
  {
   "cell_type": "markdown",
   "metadata": {},
   "source": [
    "- 上面的数据含义为 `movie_id`::`title`(`release_date`)::`tags`\n",
    "\n",
    "其中`tags`是用`|`分割的，表示影片的类型"
   ]
  },
  {
   "cell_type": "code",
   "execution_count": 15,
   "metadata": {
    "ExecuteTime": {
     "end_time": "2019-07-13T06:59:34.979278Z",
     "start_time": "2019-07-13T06:59:34.976335Z"
    }
   },
   "outputs": [
    {
     "name": "stdout",
     "output_type": "stream",
     "text": [
      "1::F::1::10::48067\n",
      "\n",
      "2::M::56::16::70072\n",
      "\n",
      "3::M::25::15::55117\n",
      "\n"
     ]
    }
   ],
   "source": [
    "with open(\"data/ml-1m/users.dat\", encoding=\"latin-1\") as f:\n",
    "    for i, line in enumerate(f):      \n",
    "        print(line)\n",
    "        if i == 2:\n",
    "            break"
   ]
  },
  {
   "cell_type": "markdown",
   "metadata": {},
   "source": [
    "- 上面数据的含义为 `user_id`::`sex`::`age`::`ocupation`::`zip_code`\n",
    "\n",
    "`zip_code`表示邮政编码"
   ]
  },
  {
   "cell_type": "code",
   "execution_count": 34,
   "metadata": {
    "ExecuteTime": {
     "end_time": "2019-07-13T08:18:57.219346Z",
     "start_time": "2019-07-13T08:18:57.209924Z"
    }
   },
   "outputs": [],
   "source": [
    "# 数据集的读取\n",
    "class Dataset:\n",
    "    def __init__(self, fp):\n",
    "        self.data = self.loadData(fp)\n",
    "    \n",
    "    @timmer\n",
    "    def loadData(self, fp):\n",
    "        data = []\n",
    "        # 只取用户id和电影id\n",
    "        for l in open(fp):\n",
    "            data.append(tuple(map(int, l.strip().split(\"::\")[:2])))\n",
    "        return data \n",
    "    \n",
    "    @timmer\n",
    "    def splitData(self, M, k, seed=1):\n",
    "        '''\n",
    "        data: 加载所有(user_id, movie_id)def数据条目\n",
    "        M: 划分的数目，最后去M折的平均\n",
    "        k: 本次是第几次划分，k~[0,M)\n",
    "        seed: 随机种子数，对于不同k应该设置为相同值\n",
    "        return train, test\n",
    "        '''\n",
    "        train, test = [], [] \n",
    "        random.seed(seed)\n",
    "        for user, item in self.data:\n",
    "            if random.randint(0, M-1) == k:\n",
    "                test.append((user, item))\n",
    "            else:\n",
    "                train.append((user, item))\n",
    "        \n",
    "        ## 处理成字典形式\n",
    "        def convert_dict(data):\n",
    "            data_dict = defaultdict(set)\n",
    "            for user, item in data: \n",
    "                data_dict[user].add(item)\n",
    "            data_dict = {k: list(data_dict[k]) for k in data_dict}\n",
    "            return data_dict \n",
    "        \n",
    "        return convert_dict(train), convert_dict(test)"
   ]
  },
  {
   "cell_type": "markdown",
   "metadata": {},
   "source": [
    "# 评价指标\n",
    "\n",
    "- Precision\n",
    "- Recall\n",
    "- Coverage\n",
    "- Popularity(Novelty)"
   ]
  },
  {
   "cell_type": "code",
   "execution_count": 53,
   "metadata": {
    "ExecuteTime": {
     "end_time": "2019-07-13T08:21:02.498594Z",
     "start_time": "2019-07-13T08:21:02.485530Z"
    }
   },
   "outputs": [],
   "source": [
    "class Metric:\n",
    "    \n",
    "    def __init__(self, train, test, GetRecommendation):\n",
    "        '''\n",
    "        GetRecommendation: 为某个用户推荐物品的接口函数，返回值为电影id组成的list\n",
    "        '''\n",
    "        self.train = train\n",
    "        self.test = test \n",
    "        self.GetRecommendation = GetRecommendation\n",
    "        # 保存为测试集用户推荐结果的值\n",
    "        self.recs = self.getRec()\n",
    "        \n",
    "    # 为test中的每个用户进行推荐\n",
    "    def getRec(self):\n",
    "        recs = {}\n",
    "        for user in self.test:\n",
    "            rank = self.GetRecommendation(user)\n",
    "            recs[user] = rank\n",
    "        return recs\n",
    "    \n",
    "    ## 定义精确率指标\n",
    "    def precision(self):\n",
    "        all, hit = 0, 0 \n",
    "        for user in self.test:\n",
    "            test_items = set(self.test[user])\n",
    "            rank = self.recs[user]\n",
    "            for item, score in rank:\n",
    "                if item in test_items:\n",
    "                    hit += 1 \n",
    "            all += len(rank)\n",
    "        return round(hit / all * 100, 2)\n",
    "    \n",
    "    ## 定义召回率指标\n",
    "    def recall(self):\n",
    "        all, hit = 0, 0 \n",
    "        for user in self.test:\n",
    "            test_items = set(self.test[user])\n",
    "            rank = self.recs[user]\n",
    "            for item, score in rank: \n",
    "                if item in test_items:\n",
    "                    hit += 1 \n",
    "            all += len(test_items)\n",
    "        return round(hit / all * 100, 2)\n",
    "    \n",
    "    ## 定义覆盖率指标\n",
    "    def coverage(self):\n",
    "        all_item, recom_item = set(), set()\n",
    "        for user in self.test:\n",
    "            for item in self.train[user]:\n",
    "                all_item.add(item)\n",
    "            rank = self.recs[user]\n",
    "            for item, score in rank: \n",
    "                recom_item.add(item)\n",
    "                \n",
    "        return round(len(recom_item) / len(all_item) * 100, 2)\n",
    "    \n",
    "    ## 定义新颖度指标\n",
    "    def popularity(self):\n",
    "        ## 计算推荐物品的平均流行度\n",
    "        item_pop = {}\n",
    "        for user in self.train: \n",
    "            for item in self.train[user]:\n",
    "                item_pop[item] = item_pop.get(item, 0) + 1 \n",
    "        num, pop = 0, 0 \n",
    "        for user in self.test: \n",
    "            rank = self.recs[user]\n",
    "            for item, score in rank:\n",
    "                # 取对数，防止长尾问题带来被流行物品主导的问题\n",
    "                pop += math.log(1+item_pop[item])\n",
    "                num += 1 \n",
    "        return round(pop / num, 6)\n",
    "    \n",
    "    def eval(self):\n",
    "        metric = {\n",
    "            \"Precision\": self.precision(),\n",
    "            \"Recall\": self.recall(),\n",
    "            \"Coverage\": self.coverage(),\n",
    "            \"Popularity\": self.popularity()\n",
    "        }\n",
    "        print(\"Metric:  \", metric)\n",
    "        return metric"
   ]
  },
  {
   "cell_type": "markdown",
   "metadata": {},
   "source": [
    "# 算法实现\n",
    "\n",
    "- Random\n",
    "- MostPopular\n",
    "- UserCF\n",
    "- UserIIF"
   ]
  },
  {
   "cell_type": "code",
   "execution_count": 54,
   "metadata": {
    "ExecuteTime": {
     "end_time": "2019-07-13T08:21:02.809124Z",
     "start_time": "2019-07-13T08:21:02.805904Z"
    }
   },
   "outputs": [],
   "source": [
    "# 随机推荐\n",
    "def Random(train, K, N):\n",
    "    '''\n",
    "    train: 训练数据集 \n",
    "    K: 表示相似用户的人数　\n",
    "    N: 表示TopN的数量\n",
    "    return: GetRecommendation函数\n",
    "    '''\n",
    "    items = {} \n",
    "    # 保存所有的电影\n",
    "    for user in train: \n",
    "        for item in train[user]:\n",
    "            items[item] = 1 \n",
    "    \n",
    "    def GetRecommendation(user):\n",
    "        # 随机推荐N个没有见过的\n",
    "        user_items = set(train[user])\n",
    "        rec_items = {k : items[k] for k in items if k not in user_items}\n",
    "        rec_items = list(rec_items.items())\n",
    "        random.shuffle(rec_items)\n",
    "        return rec_items[:N]\n",
    "    return GetRecommendation"
   ]
  },
  {
   "cell_type": "code",
   "execution_count": 61,
   "metadata": {
    "ExecuteTime": {
     "end_time": "2019-07-13T08:30:23.830489Z",
     "start_time": "2019-07-13T08:30:23.824034Z"
    }
   },
   "outputs": [],
   "source": [
    "# 选择没看过中最热门的推荐\n",
    "def MostPopular(train, K, N):\n",
    "    items = {}\n",
    "    for user in train: \n",
    "        for item in train[user]:\n",
    "            items[item] = items.get(item, 0) + 1 \n",
    "    \n",
    "    def GetRecommendation(user):\n",
    "        # 推荐最热门的N部电影\n",
    "        user_items = set(train[user])\n",
    "        rec_items = {k: items[k] for k in items if k not in user_items}\n",
    "        rec_items = list(sorted(rec_items.items(), key=lambda x: x[1], reverse=True))\n",
    "        return rec_items[:N]\n",
    "    \n",
    "    return GetRecommendation"
   ]
  },
  {
   "cell_type": "code",
   "execution_count": 56,
   "metadata": {
    "ExecuteTime": {
     "end_time": "2019-07-13T08:21:03.140432Z",
     "start_time": "2019-07-13T08:21:03.133749Z"
    }
   },
   "outputs": [],
   "source": [
    "# 基于用户余弦相似度的推荐\n",
    "def UserCF(train, K, N):\n",
    "    # 计算item-user的倒排索引\n",
    "    item_users = defaultdict(set)\n",
    "    for user in train:\n",
    "        for item in train[user]:\n",
    "            item_users[item].add(user)\n",
    "    \n",
    "    # 计算用户相似度矩阵\n",
    "    sim = {}\n",
    "    num = {}\n",
    "    for item in item_users:\n",
    "        # 取出一个商品有行为的所有用户\n",
    "        users = item_users[item]\n",
    "        for i, u in enumerate(users):\n",
    "            # 计算用户操作过物品的数量\n",
    "            num[u] = num.get(u, 0) + 1 \n",
    "            # 如果u没有在相似度矩阵出现过\n",
    "            if u not in sim:\n",
    "                sim[u] = {} \n",
    "            for j, v in enumerate(users):\n",
    "                if j == i: continue\n",
    "                sim[u][v] = sim[u].get(v, 0) + 1 \n",
    "    for u in sim:\n",
    "        for v in sim[u]:\n",
    "            sim[u][v] /= math.sqrt(num[u]*num[v])\n",
    "    \n",
    "    # 按照相似度排序\n",
    "    sorted_user_sim = {k: list(sorted(v.items(), key=lambda x: x[1], reverse=True)) for k, v in sim.items()}\n",
    "    \n",
    "    # 获取接口函数\n",
    "    def GetRecommendation(user):\n",
    "        items = {} \n",
    "        # 表示用户看过的电影\n",
    "        seen_items = set(train[user])\n",
    "        for u, _ in sorted_user_sim[user][:K]:\n",
    "            for item in train[u]:\n",
    "                # 去掉用户见过的\n",
    "                if item not in seen_items:\n",
    "                    ## 这样得到的一部电影对应的值为，与该用户相似并且看过看电影的相似度的和\n",
    "                    items[item] = items.get(item, 0) + sim[user][u]\n",
    "        recs = list(sorted(items.items(), key=lambda x: x[1], reverse=True))[:N]\n",
    "        return recs\n",
    "    return GetRecommendation\n",
    "                    "
   ]
  },
  {
   "cell_type": "code",
   "execution_count": 57,
   "metadata": {
    "ExecuteTime": {
     "end_time": "2019-07-13T08:21:03.314459Z",
     "start_time": "2019-07-13T08:21:03.306916Z"
    }
   },
   "outputs": [],
   "source": [
    "# 基于改进的余弦相似度的推荐\n",
    "def UserIIF(train, K, N):\n",
    "    # 计算item-user的倒排索引\n",
    "    item_users = defaultdict(set)\n",
    "    for user in train:\n",
    "        for item in train[user]:\n",
    "            item_users[item].add(user)\n",
    "    \n",
    "    # 计算用户相似度矩阵\n",
    "    sim = {}\n",
    "    num = {}\n",
    "    for item in item_users:\n",
    "        # 取出一个商品有行为的所有用户\n",
    "        users = item_users[item]\n",
    "        for i, u in enumerate(users):\n",
    "            # 计算用户操作过物品的数量\n",
    "            num[u] = num.get(u, 0) + 1 \n",
    "            # 如果u没有在相似度矩阵出现过\n",
    "            if u not in sim:\n",
    "                sim[u] = {} \n",
    "            for j, v in enumerate(users):\n",
    "                if j == i: continue\n",
    "                ## 相比上面主要改进在这里\n",
    "                sim[u][v] = sim[u].get(v, 0) + 1 / math.log(1 + len(users)) \n",
    "    for u in sim:\n",
    "        for v in sim[u]:\n",
    "            sim[u][v] /= math.sqrt(num[u]*num[v])\n",
    "    \n",
    "    # 按照相似度排序\n",
    "    sorted_user_sim = {k: list(sorted(v.items(), key=lambda x: x[1], reverse=True)) for k, v in sim.items()}\n",
    "    \n",
    "    # 获取接口函数\n",
    "    def GetRecommendation(user):\n",
    "        items = {} \n",
    "        # 表示用户看过的电影\n",
    "        seen_items = set(train[user])\n",
    "        for u, _ in sorted_user_sim[user][:K]:\n",
    "            for item in train[u]:\n",
    "                # 去掉用户见过的\n",
    "                if item not in seen_items:\n",
    "                    ## 这样得到的一部电影对应的值为，与该用户相似并且看过看电影的相似度的和\n",
    "                    items[item] = items.get(item, 0) + sim[user][u]\n",
    "        recs = list(sorted(items.items(), key=lambda x: x[1], reverse=True))[:N]\n",
    "        return recs\n",
    "    return GetRecommendation"
   ]
  },
  {
   "cell_type": "markdown",
   "metadata": {},
   "source": [
    "# 实验\n",
    "\n",
    "- Random实验\n",
    "- MostPopular实验\n",
    "- UserCF实验，K=[5, 10, 20, 40, 80, 160]\n",
    "- UserIIF实验, K=80"
   ]
  },
  {
   "cell_type": "code",
   "execution_count": 58,
   "metadata": {
    "ExecuteTime": {
     "end_time": "2019-07-13T08:21:04.103458Z",
     "start_time": "2019-07-13T08:21:04.098405Z"
    }
   },
   "outputs": [],
   "source": [
    "class Experiment:\n",
    "    def __init__(self, M, K, N, fp=\"data/ml-1m/ratings.dat\", rt=\"UserCF\"):\n",
    "        self.M = M \n",
    "        self.K = K\n",
    "        self.N = N \n",
    "        self.fp = fp \n",
    "        self.rt = rt \n",
    "        self.alg = {\"Random\": Random, \"MostPopular\": MostPopular, \"UserCF\": UserCF, \"UserIIF\": UserIIF}\n",
    "        \n",
    "    # 定义单次实验\n",
    "    @timmer\n",
    "    def worker(self, train, test):\n",
    "        getRecommendation = self.alg[self.rt](train, self.K, self.N)\n",
    "        metric = Metric(train, test, getRecommendation)\n",
    "        return metric.eval()\n",
    "    \n",
    "    # 多次实验取平均\n",
    "    @timmer\n",
    "    def run(self):\n",
    "        metrics = {\"Precision\": 0, \"Recall\": 0,\n",
    "                  \"Coverage\": 0, \"Popularity\": 0}\n",
    "        dataset = Dataset(self.fp)\n",
    "        for ii in range(self.M):\n",
    "            train, test = dataset.splitData(self.M, ii)\n",
    "            print(f\"Experiment {ii}: \")\n",
    "            metric = self.worker(train, test)\n",
    "            metrics = {k: metrics[k]+metric[k] for k in metrics}\n",
    "        \n",
    "        metrics = {k: metrics[k] / self.M for k in metrics}\n",
    "        \n",
    "        print(f\"Average Result (M={self.M}, K={self.K}, N={self.N}): {metrics}\")"
   ]
  },
  {
   "cell_type": "code",
   "execution_count": 59,
   "metadata": {
    "ExecuteTime": {
     "end_time": "2019-07-13T08:22:49.962777Z",
     "start_time": "2019-07-13T08:21:04.543620Z"
    }
   },
   "outputs": [
    {
     "name": "stdout",
     "output_type": "stream",
     "text": [
      "Func loadData, run time: 0.750989\n",
      "Func splitData, run time: 1.252777\n",
      "Experiment 0: \n",
      "Metric:   {'Precision': 0.61, 'Recall': 0.29, 'Coverage': 100.0, 'Popularity': 4.395145}\n",
      "Func worker, run time: 11.458412\n",
      "Func splitData, run time: 1.047582\n",
      "Experiment 1: \n",
      "Metric:   {'Precision': 0.6, 'Recall': 0.29, 'Coverage': 100.03, 'Popularity': 4.384132}\n",
      "Func worker, run time: 12.814348\n",
      "Func splitData, run time: 1.134164\n",
      "Experiment 2: \n",
      "Metric:   {'Precision': 0.64, 'Recall': 0.3, 'Coverage': 100.0, 'Popularity': 4.38877}\n",
      "Func worker, run time: 12.070603\n",
      "Func splitData, run time: 1.195896\n",
      "Experiment 3: \n",
      "Metric:   {'Precision': 0.61, 'Recall': 0.29, 'Coverage': 100.0, 'Popularity': 4.392672}\n",
      "Func worker, run time: 11.994375\n",
      "Func splitData, run time: 1.103245\n",
      "Experiment 4: \n",
      "Metric:   {'Precision': 0.62, 'Recall': 0.3, 'Coverage': 100.0, 'Popularity': 4.394046}\n",
      "Func worker, run time: 11.781370\n",
      "Func splitData, run time: 1.077854\n",
      "Experiment 5: \n",
      "Metric:   {'Precision': 0.56, 'Recall': 0.27, 'Coverage': 100.03, 'Popularity': 4.388185}\n",
      "Func worker, run time: 11.862477\n",
      "Func splitData, run time: 1.174542\n",
      "Experiment 6: \n",
      "Metric:   {'Precision': 0.62, 'Recall': 0.3, 'Coverage': 100.0, 'Popularity': 4.382194}\n",
      "Func worker, run time: 11.791574\n",
      "Func splitData, run time: 1.051472\n",
      "Experiment 7: \n",
      "Metric:   {'Precision': 0.62, 'Recall': 0.3, 'Coverage': 100.0, 'Popularity': 4.390214}\n",
      "Func worker, run time: 11.746484\n",
      "Average Result (M=8, K=0, N=10): {'Precision': 0.61, 'Recall': 0.2925, 'Coverage': 100.0075, 'Popularity': 4.38941975}\n",
      "Func run, run time: 105.416712\n"
     ]
    }
   ],
   "source": [
    "# 1 Random实验\n",
    "M, N = 8, 10 \n",
    "K = 0 \n",
    "random_exp = Experiment(M, K, N, rt=\"Random\")\n",
    "random_exp.run()"
   ]
  },
  {
   "cell_type": "code",
   "execution_count": 62,
   "metadata": {
    "ExecuteTime": {
     "end_time": "2019-07-13T08:31:27.198661Z",
     "start_time": "2019-07-13T08:30:30.225049Z"
    }
   },
   "outputs": [
    {
     "name": "stdout",
     "output_type": "stream",
     "text": [
      "Func loadData, run time: 0.771731\n",
      "Func splitData, run time: 1.050749\n",
      "Experiment 0: \n",
      "Metric:   {'Precision': 12.85, 'Recall': 6.17, 'Coverage': 2.47, 'Popularity': 7.724273}\n",
      "Func worker, run time: 5.766155\n",
      "Func splitData, run time: 1.294367\n",
      "Experiment 1: \n",
      "Metric:   {'Precision': 13.07, 'Recall': 6.26, 'Coverage': 2.28, 'Popularity': 7.721385}\n",
      "Func worker, run time: 5.852889\n",
      "Func splitData, run time: 1.046569\n",
      "Experiment 2: \n",
      "Metric:   {'Precision': 12.89, 'Recall': 6.16, 'Coverage': 2.44, 'Popularity': 7.722067}\n",
      "Func worker, run time: 5.817492\n",
      "Func splitData, run time: 1.036247\n",
      "Experiment 3: \n",
      "Metric:   {'Precision': 12.81, 'Recall': 6.15, 'Coverage': 2.49, 'Popularity': 7.723152}\n",
      "Func worker, run time: 5.754249\n",
      "Func splitData, run time: 1.157221\n",
      "Experiment 4: \n",
      "Metric:   {'Precision': 12.7, 'Recall': 6.11, 'Coverage': 2.47, 'Popularity': 7.724644}\n",
      "Func worker, run time: 5.842018\n",
      "Func splitData, run time: 1.117302\n",
      "Experiment 5: \n",
      "Metric:   {'Precision': 12.9, 'Recall': 6.22, 'Coverage': 2.38, 'Popularity': 7.7234}\n",
      "Func worker, run time: 6.123093\n",
      "Func splitData, run time: 1.069330\n",
      "Experiment 6: \n",
      "Metric:   {'Precision': 12.91, 'Recall': 6.21, 'Coverage': 2.47, 'Popularity': 7.721658}\n",
      "Func worker, run time: 6.279780\n",
      "Func splitData, run time: 1.183465\n",
      "Experiment 7: \n",
      "Metric:   {'Precision': 12.53, 'Recall': 6.01, 'Coverage': 2.41, 'Popularity': 7.725531}\n",
      "Func worker, run time: 5.699234\n",
      "Average Result (M=8, K=0, N=10): {'Precision': 12.832500000000001, 'Recall': 6.16125, 'Coverage': 2.42625, 'Popularity': 7.723263749999999}\n",
      "Func run, run time: 56.971059\n"
     ]
    }
   ],
   "source": [
    "# 2 MostPopular实验\n",
    "M, N = 8, 10 \n",
    "K = 0 \n",
    "random_exp = Experiment(M, K, N, rt=\"MostPopular\")\n",
    "random_exp.run()"
   ]
  },
  {
   "cell_type": "code",
   "execution_count": 63,
   "metadata": {
    "ExecuteTime": {
     "end_time": "2019-07-13T10:21:02.984021Z",
     "start_time": "2019-07-13T08:33:16.263867Z"
    }
   },
   "outputs": [
    {
     "name": "stdout",
     "output_type": "stream",
     "text": [
      "K =  5\n",
      "Func loadData, run time: 0.818196\n",
      "Func splitData, run time: 1.058739\n",
      "Experiment 0: \n",
      "Metric:   {'Precision': 16.91, 'Recall': 8.12, 'Coverage': 52.36, 'Popularity': 6.819144}\n",
      "Func worker, run time: 123.513309\n",
      "Func splitData, run time: 1.093134\n",
      "Experiment 1: \n",
      "Metric:   {'Precision': 17.05, 'Recall': 8.16, 'Coverage': 52.03, 'Popularity': 6.815604}\n",
      "Func worker, run time: 123.114326\n",
      "Func splitData, run time: 1.056307\n",
      "Experiment 2: \n",
      "Metric:   {'Precision': 16.91, 'Recall': 8.09, 'Coverage': 51.69, 'Popularity': 6.818911}\n",
      "Func worker, run time: 121.811897\n",
      "Func splitData, run time: 1.039652\n",
      "Experiment 3: \n",
      "Metric:   {'Precision': 16.95, 'Recall': 8.15, 'Coverage': 52.11, 'Popularity': 6.817778}\n",
      "Func worker, run time: 120.892206\n",
      "Func splitData, run time: 1.087227\n",
      "Experiment 4: \n",
      "Metric:   {'Precision': 17.06, 'Recall': 8.2, 'Coverage': 52.14, 'Popularity': 6.821389}\n",
      "Func worker, run time: 122.657266\n",
      "Func splitData, run time: 1.050489\n",
      "Experiment 5: \n",
      "Metric:   {'Precision': 16.76, 'Recall': 8.08, 'Coverage': 51.88, 'Popularity': 6.818762}\n",
      "Func worker, run time: 123.295831\n",
      "Func splitData, run time: 1.060277\n",
      "Experiment 6: \n",
      "Metric:   {'Precision': 16.69, 'Recall': 8.02, 'Coverage': 51.63, 'Popularity': 6.82471}\n",
      "Func worker, run time: 122.988272\n",
      "Func splitData, run time: 1.056260\n",
      "Experiment 7: \n",
      "Metric:   {'Precision': 16.88, 'Recall': 8.1, 'Coverage': 52.48, 'Popularity': 6.819486}\n",
      "Func worker, run time: 121.355596\n",
      "Average Result (M=8, K=5, N=10): {'Precision': 16.90125, 'Recall': 8.114999999999998, 'Coverage': 52.04, 'Popularity': 6.819473}\n",
      "Func run, run time: 989.072319\n",
      "K =  10\n",
      "Func loadData, run time: 0.774864\n",
      "Func splitData, run time: 1.038241\n",
      "Experiment 0: \n",
      "Metric:   {'Precision': 20.52, 'Recall': 9.86, 'Coverage': 41.95, 'Popularity': 6.982261}\n",
      "Func worker, run time: 122.026335\n",
      "Func splitData, run time: 1.056533\n",
      "Experiment 1: \n",
      "Metric:   {'Precision': 20.47, 'Recall': 9.8, 'Coverage': 42.03, 'Popularity': 6.972788}\n",
      "Func worker, run time: 123.614810\n",
      "Func splitData, run time: 1.070152\n",
      "Experiment 2: \n",
      "Metric:   {'Precision': 20.61, 'Recall': 9.85, 'Coverage': 41.57, 'Popularity': 6.98022}\n",
      "Func worker, run time: 123.714445\n",
      "Func splitData, run time: 1.077214\n",
      "Experiment 3: \n",
      "Metric:   {'Precision': 20.42, 'Recall': 9.82, 'Coverage': 41.47, 'Popularity': 6.978848}\n",
      "Func worker, run time: 123.881671\n",
      "Func splitData, run time: 1.056868\n",
      "Experiment 4: \n",
      "Metric:   {'Precision': 20.59, 'Recall': 9.9, 'Coverage': 41.5, 'Popularity': 6.980567}\n",
      "Func worker, run time: 121.532857\n",
      "Func splitData, run time: 1.039498\n",
      "Experiment 5: \n",
      "Metric:   {'Precision': 20.33, 'Recall': 9.81, 'Coverage': 41.29, 'Popularity': 6.981251}\n",
      "Func worker, run time: 120.440826\n",
      "Func splitData, run time: 1.049726\n",
      "Experiment 6: \n",
      "Metric:   {'Precision': 20.19, 'Recall': 9.71, 'Coverage': 41.49, 'Popularity': 6.976409}\n",
      "Func worker, run time: 121.573391\n",
      "Func splitData, run time: 1.050431\n",
      "Experiment 7: \n",
      "Metric:   {'Precision': 20.59, 'Recall': 9.87, 'Coverage': 41.8, 'Popularity': 6.981}\n",
      "Func worker, run time: 120.781464\n",
      "Average Result (M=8, K=10, N=10): {'Precision': 20.465, 'Recall': 9.8275, 'Coverage': 41.6375, 'Popularity': 6.9791680000000005}\n",
      "Func run, run time: 986.891163\n",
      "K =  20\n",
      "Func loadData, run time: 0.777872\n",
      "Func splitData, run time: 1.124153\n",
      "Experiment 0: \n",
      "Metric:   {'Precision': 23.11, 'Recall': 11.1, 'Coverage': 32.6, 'Popularity': 7.1045}\n",
      "Func worker, run time: 126.695250\n",
      "Func splitData, run time: 1.073890\n",
      "Experiment 1: \n",
      "Metric:   {'Precision': 22.96, 'Recall': 11.0, 'Coverage': 33.0, 'Popularity': 7.09482}\n",
      "Func worker, run time: 124.825884\n",
      "Func splitData, run time: 1.055336\n",
      "Experiment 2: \n",
      "Metric:   {'Precision': 23.2, 'Recall': 11.09, 'Coverage': 32.1, 'Popularity': 7.101353}\n",
      "Func worker, run time: 125.332400\n",
      "Func splitData, run time: 1.181844\n",
      "Experiment 3: \n",
      "Metric:   {'Precision': 22.87, 'Recall': 10.99, 'Coverage': 32.77, 'Popularity': 7.101346}\n",
      "Func worker, run time: 122.288950\n",
      "Func splitData, run time: 1.056938\n",
      "Experiment 4: \n",
      "Metric:   {'Precision': 23.0, 'Recall': 11.06, 'Coverage': 33.25, 'Popularity': 7.103761}\n",
      "Func worker, run time: 124.253621\n",
      "Func splitData, run time: 1.073567\n",
      "Experiment 5: \n",
      "Metric:   {'Precision': 22.96, 'Recall': 11.07, 'Coverage': 32.48, 'Popularity': 7.104017}\n",
      "Func worker, run time: 122.678504\n",
      "Func splitData, run time: 1.070063\n",
      "Experiment 6: \n",
      "Metric:   {'Precision': 22.83, 'Recall': 10.97, 'Coverage': 32.79, 'Popularity': 7.100851}\n",
      "Func worker, run time: 123.783855\n",
      "Func splitData, run time: 1.039099\n",
      "Experiment 7: \n",
      "Metric:   {'Precision': 23.0, 'Recall': 11.03, 'Coverage': 33.24, 'Popularity': 7.108196}\n",
      "Func worker, run time: 126.757520\n",
      "Average Result (M=8, K=20, N=10): {'Precision': 22.99125, 'Recall': 11.03875, 'Coverage': 32.778749999999995, 'Popularity': 7.1023555}\n",
      "Func run, run time: 1006.181191\n",
      "K =  40\n",
      "Func loadData, run time: 0.775008\n",
      "Func splitData, run time: 1.076384\n",
      "Experiment 0: \n",
      "Metric:   {'Precision': 24.73, 'Recall': 11.88, 'Coverage': 25.8, 'Popularity': 7.204361}\n",
      "Func worker, run time: 130.460646\n",
      "Func splitData, run time: 1.055470\n",
      "Experiment 1: \n",
      "Metric:   {'Precision': 24.66, 'Recall': 11.81, 'Coverage': 26.03, 'Popularity': 7.194009}\n",
      "Func worker, run time: 131.025621\n",
      "Func splitData, run time: 1.054471\n",
      "Experiment 2: \n",
      "Metric:   {'Precision': 24.68, 'Recall': 11.8, 'Coverage': 25.63, 'Popularity': 7.201609}\n",
      "Func worker, run time: 130.303423\n",
      "Func splitData, run time: 1.076244\n",
      "Experiment 3: \n",
      "Metric:   {'Precision': 24.46, 'Recall': 11.76, 'Coverage': 25.89, 'Popularity': 7.201325}\n",
      "Func worker, run time: 130.989754\n",
      "Func splitData, run time: 1.191482\n",
      "Experiment 4: \n",
      "Metric:   {'Precision': 24.25, 'Recall': 11.66, 'Coverage': 25.76, 'Popularity': 7.204112}\n",
      "Func worker, run time: 131.726227\n",
      "Func splitData, run time: 1.057112\n",
      "Experiment 5: \n",
      "Metric:   {'Precision': 24.46, 'Recall': 11.8, 'Coverage': 26.04, 'Popularity': 7.20549}\n",
      "Func worker, run time: 130.609316\n",
      "Func splitData, run time: 1.086648\n",
      "Experiment 6: \n",
      "Metric:   {'Precision': 24.48, 'Recall': 11.77, 'Coverage': 26.15, 'Popularity': 7.199005}\n",
      "Func worker, run time: 132.291293\n",
      "Func splitData, run time: 1.061441\n",
      "Experiment 7: \n",
      "Metric:   {'Precision': 24.58, 'Recall': 11.79, 'Coverage': 25.79, 'Popularity': 7.207728}\n",
      "Func worker, run time: 131.341010\n",
      "Average Result (M=8, K=40, N=10): {'Precision': 24.5375, 'Recall': 11.783749999999998, 'Coverage': 25.886249999999997, 'Popularity': 7.2022048750000005}\n",
      "Func run, run time: 1058.292992\n",
      "K =  80\n",
      "Func loadData, run time: 0.798846\n",
      "Func splitData, run time: 1.093986\n",
      "Experiment 0: \n",
      "Metric:   {'Precision': 25.23, 'Recall': 12.12, 'Coverage': 20.35, 'Popularity': 7.288635}\n",
      "Func worker, run time: 140.270318\n",
      "Func splitData, run time: 1.060215\n",
      "Experiment 1: \n",
      "Metric:   {'Precision': 25.34, 'Recall': 12.13, 'Coverage': 20.2, 'Popularity': 7.280286}\n",
      "Func worker, run time: 139.547416\n",
      "Func splitData, run time: 1.065931\n",
      "Experiment 2: \n",
      "Metric:   {'Precision': 25.22, 'Recall': 12.06, 'Coverage': 20.03, 'Popularity': 7.286508}\n",
      "Func worker, run time: 140.838177\n",
      "Func splitData, run time: 1.059570\n",
      "Experiment 3: \n",
      "Metric:   {'Precision': 24.98, 'Recall': 12.01, 'Coverage': 20.26, 'Popularity': 7.288945}\n",
      "Func worker, run time: 140.491414\n",
      "Func splitData, run time: 1.065072\n",
      "Experiment 4: \n",
      "Metric:   {'Precision': 24.78, 'Recall': 11.91, 'Coverage': 20.33, 'Popularity': 7.289073}\n",
      "Func worker, run time: 140.852769\n",
      "Func splitData, run time: 1.054473\n",
      "Experiment 5: \n",
      "Metric:   {'Precision': 25.04, 'Recall': 12.07, 'Coverage': 20.4, 'Popularity': 7.290394}\n",
      "Func worker, run time: 141.368144\n",
      "Func splitData, run time: 1.064849\n",
      "Experiment 6: \n",
      "Metric:   {'Precision': 25.17, 'Recall': 12.1, 'Coverage': 20.0, 'Popularity': 7.28608}\n",
      "Func worker, run time: 141.743759\n",
      "Func splitData, run time: 1.058591\n",
      "Experiment 7: \n",
      "Metric:   {'Precision': 25.11, 'Recall': 12.04, 'Coverage': 20.4, 'Popularity': 7.295009}\n",
      "Func worker, run time: 140.036078\n",
      "Average Result (M=8, K=80, N=10): {'Precision': 25.10875, 'Recall': 12.055, 'Coverage': 20.24625, 'Popularity': 7.28811625}\n",
      "Func run, run time: 1134.579971\n",
      "K =  160\n",
      "Func loadData, run time: 0.770328\n",
      "Func splitData, run time: 1.057532\n",
      "Experiment 0: \n",
      "Metric:   {'Precision': 24.9, 'Recall': 11.96, 'Coverage': 15.34, 'Popularity': 7.37001}\n",
      "Func worker, run time: 160.102878\n"
     ]
    },
    {
     "name": "stdout",
     "output_type": "stream",
     "text": [
      "Func splitData, run time: 1.044936\n",
      "Experiment 1: \n",
      "Metric:   {'Precision': 25.07, 'Recall': 12.0, 'Coverage': 15.43, 'Popularity': 7.359474}\n",
      "Func worker, run time: 159.621178\n",
      "Func splitData, run time: 1.067230\n",
      "Experiment 2: \n",
      "Metric:   {'Precision': 24.94, 'Recall': 11.92, 'Coverage': 15.51, 'Popularity': 7.365722}\n",
      "Func worker, run time: 159.590247\n",
      "Func splitData, run time: 1.069144\n",
      "Experiment 3: \n",
      "Metric:   {'Precision': 24.7, 'Recall': 11.87, 'Coverage': 15.57, 'Popularity': 7.367787}\n",
      "Func worker, run time: 160.274154\n",
      "Func splitData, run time: 1.075217\n",
      "Experiment 4: \n",
      "Metric:   {'Precision': 24.54, 'Recall': 11.8, 'Coverage': 15.42, 'Popularity': 7.368638}\n",
      "Func worker, run time: 160.784007\n",
      "Func splitData, run time: 1.086666\n",
      "Experiment 5: \n",
      "Metric:   {'Precision': 24.77, 'Recall': 11.95, 'Coverage': 15.52, 'Popularity': 7.370501}\n",
      "Func worker, run time: 160.496461\n",
      "Func splitData, run time: 1.060243\n",
      "Experiment 6: \n",
      "Metric:   {'Precision': 24.9, 'Recall': 11.97, 'Coverage': 15.31, 'Popularity': 7.362631}\n",
      "Func worker, run time: 161.774637\n",
      "Func splitData, run time: 1.057355\n",
      "Experiment 7: \n",
      "Metric:   {'Precision': 24.69, 'Recall': 11.84, 'Coverage': 15.04, 'Popularity': 7.375662}\n",
      "Func worker, run time: 159.653111\n",
      "Average Result (M=8, K=160, N=10): {'Precision': 24.813750000000002, 'Recall': 11.91375, 'Coverage': 15.392499999999998, 'Popularity': 7.367553124999999}\n",
      "Func run, run time: 1291.699050\n"
     ]
    }
   ],
   "source": [
    "# 3 UserCF实验\n",
    "M, N = 8, 10 \n",
    "for K in [5, 10, 20, 40, 80, 160]:\n",
    "    print(\"K = \", K)\n",
    "    cf_exp = Experiment(M, K, N, rt=\"UserCF\")\n",
    "    cf_exp.run()"
   ]
  },
  {
   "cell_type": "code",
   "execution_count": 64,
   "metadata": {
    "ExecuteTime": {
     "end_time": "2019-07-13T11:19:22.923472Z",
     "start_time": "2019-07-13T10:39:59.746079Z"
    }
   },
   "outputs": [
    {
     "name": "stdout",
     "output_type": "stream",
     "text": [
      "Func loadData, run time: 0.782182\n",
      "Func splitData, run time: 1.133177\n",
      "Experiment 0: \n",
      "Metric:   {'Precision': 25.36, 'Recall': 12.18, 'Coverage': 21.33, 'Popularity': 7.26129}\n",
      "Func worker, run time: 294.602093\n",
      "Func splitData, run time: 1.068849\n",
      "Experiment 1: \n",
      "Metric:   {'Precision': 25.5, 'Recall': 12.21, 'Coverage': 21.39, 'Popularity': 7.248747}\n",
      "Func worker, run time: 297.410195\n",
      "Func splitData, run time: 1.204592\n",
      "Experiment 2: \n",
      "Metric:   {'Precision': 25.39, 'Recall': 12.14, 'Coverage': 21.33, 'Popularity': 7.255987}\n",
      "Func worker, run time: 295.427124\n",
      "Func splitData, run time: 1.186395\n",
      "Experiment 3: \n",
      "Metric:   {'Precision': 25.08, 'Recall': 12.05, 'Coverage': 21.4, 'Popularity': 7.259753}\n",
      "Func worker, run time: 290.514627\n",
      "Func splitData, run time: 1.067862\n",
      "Experiment 4: \n",
      "Metric:   {'Precision': 24.92, 'Recall': 11.98, 'Coverage': 21.25, 'Popularity': 7.261206}\n",
      "Func worker, run time: 289.538990\n",
      "Func splitData, run time: 1.077115\n",
      "Experiment 5: \n",
      "Metric:   {'Precision': 25.14, 'Recall': 12.12, 'Coverage': 21.4, 'Popularity': 7.26109}\n",
      "Func worker, run time: 297.780205\n",
      "Func splitData, run time: 1.192668\n",
      "Experiment 6: \n",
      "Metric:   {'Precision': 25.19, 'Recall': 12.11, 'Coverage': 20.87, 'Popularity': 7.257091}\n",
      "Func worker, run time: 298.766953\n",
      "Func splitData, run time: 1.063200\n",
      "Experiment 7: \n",
      "Metric:   {'Precision': 25.15, 'Recall': 12.06, 'Coverage': 21.57, 'Popularity': 7.265932}\n",
      "Func worker, run time: 289.246277\n",
      "Average Result (M=8, K=80, N=10): {'Precision': 25.21625, 'Recall': 12.106250000000001, 'Coverage': 21.3175, 'Popularity': 7.2588870000000005}\n",
      "Func run, run time: 2363.174543\n"
     ]
    }
   ],
   "source": [
    "M, N = 8, 10 \n",
    "K = 80 \n",
    "\n",
    "iif_exp = Experiment(M, K, N, rt=\"UserIIF\")\n",
    "iif_exp.run()"
   ]
  },
  {
   "cell_type": "markdown",
   "metadata": {},
   "source": [
    "# 实验结果"
   ]
  },
  {
   "cell_type": "markdown",
   "metadata": {},
   "source": [
    "(1) Random实验\n",
    "\n",
    "- Time: 105.416712\n",
    "\n",
    "- Average Result: {'Precision': 0.61, 'Recall': 0.2925, 'Coverage': 100.0075, 'Popularity': 4.38941975}\n",
    "\n",
    "(2) MostPopular实验\n",
    "\n",
    "- Time: 56.971059\n",
    "\n",
    "- Average Result: {'Precision': 12.832500000000001, 'Recall': 6.16125, 'Coverage': 2.42625, 'Popularity': 7.723263749999999}\n",
    "\n",
    "(3) UserCF实验\n",
    "\n",
    "> K = 5\n",
    "\n",
    "- Time: 989.072319\n",
    "\n",
    "- Average Result: 'Precision': 16.90125, 'Recall': 8.114999999999998, 'Coverage': 52.04, 'Popularity': 6.819473}\n",
    "\n",
    "> K = 10\n",
    "\n",
    "- Time: 986.891163\n",
    "\n",
    "- Average Result: {'Precision': 20.465, 'Recall': 9.8275, 'Coverage': 41.6375, 'Popularity': 6.9791680000000005}\n",
    "\n",
    "> K = 20\n",
    "\n",
    "- Time: 1006.181191\n",
    "\n",
    "- Average Result: {'Precision': 22.99125, 'Recall': 11.03875, 'Coverage': 32.778749999999995, 'Popularity': 7.1023555}\n",
    "\n",
    "\n",
    "> K = 40\n",
    "\n",
    "- Time: 1058.292992\n",
    "\n",
    "- Average Result: {'Precision': 24.5375, 'Recall': 11.783749999999998, 'Coverage': 25.886249999999997, 'Popularity': 7.2022048750000005}\n",
    "\n",
    "\n",
    "> K = 80\n",
    "\n",
    "- Time: 1134.579971\n",
    "\n",
    "- Average Result: {'Precision': 25.10875, 'Recall': 12.055, 'Coverage': 20.24625, 'Popularity': 7.28811625}\n",
    "\n",
    "> K = 160\n",
    "\n",
    "- Time: 1291.699050\n",
    "\n",
    "- Average Result: {'Precision': 24.813750000000002, 'Recall': 11.91375, 'Coverage': 15.392499999999998, 'Popularity': 7.367553124999999}\n",
    "\n",
    "(4) UserIIF实验\n",
    "\n",
    "- Time: 2363.174543\n",
    "\n",
    "- Average Result: {'Precision': 25.21625, 'Recall': 12.106250000000001, 'Coverage': 21.3175, 'Popularity': 7.2588870000000005}"
   ]
  },
  {
   "cell_type": "markdown",
   "metadata": {},
   "source": [
    "# 总结"
   ]
  },
  {
   "cell_type": "markdown",
   "metadata": {},
   "source": [
    "- 数据集分割时保证使用相同的`seed`，这样每次划分的结果相同\n",
    "\n",
    "- 主要各个评价指标的实现\n",
    "\n",
    "- 为每个用户推荐时，要去掉它们已经看过的\n",
    "\n",
    "- 倒排电影-用户索引，时间优化\n",
    "\n",
    "- 推荐电影的时候`K`表示相似的用户数，`N`表示推荐的电影数"
   ]
  },
  {
   "cell_type": "code",
   "execution_count": null,
   "metadata": {},
   "outputs": [],
   "source": []
  }
 ],
 "metadata": {
  "kernelspec": {
   "display_name": "Python 3",
   "language": "python",
   "name": "python3"
  },
  "language_info": {
   "codemirror_mode": {
    "name": "ipython",
    "version": 3
   },
   "file_extension": ".py",
   "mimetype": "text/x-python",
   "name": "python",
   "nbconvert_exporter": "python",
   "pygments_lexer": "ipython3",
   "version": "3.7.3"
  },
  "toc": {
   "base_numbering": 1,
   "nav_menu": {},
   "number_sections": true,
   "sideBar": true,
   "skip_h1_title": false,
   "title_cell": "Table of Contents",
   "title_sidebar": "Contents",
   "toc_cell": false,
   "toc_position": {},
   "toc_section_display": true,
   "toc_window_display": false
  }
 },
 "nbformat": 4,
 "nbformat_minor": 2
}
