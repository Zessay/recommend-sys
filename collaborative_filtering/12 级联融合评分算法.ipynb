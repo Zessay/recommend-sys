{
 "cells": [
  {
   "cell_type": "code",
   "execution_count": 1,
   "metadata": {
    "ExecuteTime": {
     "end_time": "2019-07-19T07:24:09.405990Z",
     "start_time": "2019-07-19T07:24:09.394521Z"
    }
   },
   "outputs": [],
   "source": [
    "import random \n",
    "import math \n",
    "import time \n",
    "from tqdm import tqdm "
   ]
  },
  {
   "cell_type": "code",
   "execution_count": 10,
   "metadata": {
    "ExecuteTime": {
     "end_time": "2019-07-19T07:43:51.342684Z",
     "start_time": "2019-07-19T07:43:51.340162Z"
    }
   },
   "outputs": [],
   "source": [
    "# 定义装饰器，监控运行时间\n",
    "def timmer(func):\n",
    "    def wrapper(*args, **kwargs):\n",
    "        start_time = time.time()\n",
    "        res = func(*args, **kwargs)\n",
    "        stop_time = time.time()\n",
    "        print(\"Func: {:s} | Run time: {:.2f}\".format(func.__name__, stop_time - start_time))\n",
    "        return res \n",
    "    return wrapper"
   ]
  },
  {
   "cell_type": "code",
   "execution_count": 3,
   "metadata": {
    "ExecuteTime": {
     "end_time": "2019-07-19T07:24:32.645034Z",
     "start_time": "2019-07-19T07:24:32.639243Z"
    }
   },
   "outputs": [],
   "source": [
    "class Data:\n",
    "    def __init__(self, user, item, rate, test=False, predict=0.0):\n",
    "        self.user = user\n",
    "        self.item = item\n",
    "        self.rate = rate \n",
    "        self.test = test \n",
    "        self.predict = predict\n",
    "\n",
    "class Dataset:\n",
    "    def __init__(self, fp):\n",
    "        self.data = self.loadData(fp)\n",
    "    \n",
    "    def loadData(self, fp):\n",
    "        data = []\n",
    "        for l in open(fp):\n",
    "            data.append(tuple(map(int, l.strip().split(\"::\")[:3])))\n",
    "        data = [Data(*d) for d in data]\n",
    "        return data \n",
    "    \n",
    "    def splitData(self, M, k, seed=1):\n",
    "        random.seed(seed)\n",
    "        for i in range(len(self.data)):\n",
    "            if random.randint(0, M-1) == k: \n",
    "                self.data[i].test = True"
   ]
  },
  {
   "cell_type": "code",
   "execution_count": 4,
   "metadata": {
    "ExecuteTime": {
     "end_time": "2019-07-19T07:24:40.898653Z",
     "start_time": "2019-07-19T07:24:40.891829Z"
    }
   },
   "outputs": [],
   "source": [
    "def RMSE(records):\n",
    "    rmse = {\"train_rmse\": [], \"test_rmse\": []}\n",
    "    for r in records:\n",
    "        if r.test:\n",
    "            rmse[\"test_rmse\"].append((r.rate - r.predict)**2)\n",
    "        else:\n",
    "            rmse[\"train_rmse\"].append((r.rate - r.predict)**2)\n",
    "    rmse = {\"train_rmse\": math.sqrt(sum(rmse[\"train_rmse\"]) / len(rmse[\"train_rmse\"])),\n",
    "           \"test_rmse\": math.sqrt(sum(rmse[\"test_rmse\"]) / len(rmse[\"test_rmse\"]))}\n",
    "    return rmse"
   ]
  },
  {
   "cell_type": "code",
   "execution_count": 5,
   "metadata": {
    "ExecuteTime": {
     "end_time": "2019-07-19T07:25:54.764486Z",
     "start_time": "2019-07-19T07:25:54.746436Z"
    }
   },
   "outputs": [],
   "source": [
    "# 1. Cluster\n",
    "class Cluster:\n",
    "    def __init__(self, records):\n",
    "        self.group = {}\n",
    "    \n",
    "    def GetGroup(self, i):\n",
    "        return 0\n",
    "\n",
    "\n",
    "# 2. IdCluster\n",
    "class IdCluster(Cluster):\n",
    "    def __init__(self, records):\n",
    "        Cluster.__init__(self, records)\n",
    "    \n",
    "    def GetGroup(self, i):\n",
    "        return i\n",
    "\n",
    "    \n",
    "# 3. UserActivityCluster\n",
    "class UserActivityCluster(Cluster):\n",
    "    def __init__(self, records):\n",
    "        Cluster.__init__(self, records)\n",
    "        activity = {}\n",
    "        for r in records:\n",
    "            if r.test: continue\n",
    "            if r.user not in activity:\n",
    "                activity[r.user] = 0 \n",
    "            activity[r.user] += 1 \n",
    "        \n",
    "        # 按照用户活跃度进行分组\n",
    "        k = 0 \n",
    "        for user, n in sorted(activity.items(), key=lambda x: x[-1], reverse=False):\n",
    "            c = int((k*5)/len(activity))\n",
    "            k += 1 \n",
    "    \n",
    "    def GetGroup(self, uid):\n",
    "        if uid not in self.group:\n",
    "            return -1 \n",
    "        else:\n",
    "            return self.group[uid]\n",
    "\n",
    "# 4. ItemPopularity\n",
    "class ItemPopularityCluster(Cluster):\n",
    "    def __init__(self, records):\n",
    "        Cluster.__init__(self, records)\n",
    "        popularity = {}\n",
    "        for r in records:\n",
    "            if r.test: continue\n",
    "            if r.item not in popularity:\n",
    "                popularity[r.item] = 0 \n",
    "            popularity[r.item] += 1 \n",
    "        \n",
    "        # 按照物品流行度进行分组\n",
    "        k = 0 \n",
    "        for item, n in sorted(popularity.items(), key=lambda x: x[-1], reverse=False):\n",
    "            c = int((k*5)/len(popularity))\n",
    "            self.group[item] = c \n",
    "            k += 1 \n",
    "    \n",
    "    def GetGroup(self, iid):\n",
    "        if iid not in self.group:\n",
    "            return -1 \n",
    "        else:\n",
    "            return self.group[iid]\n",
    "\n",
    "# 5. UserVoteCluster\n",
    "class UserVoteCluster(Cluster):\n",
    "    def __init__(self, records):\n",
    "        Cluster.__init__(self, records)\n",
    "        vote, cnt = {}, {} \n",
    "        for r in records:\n",
    "            if r.test: continue\n",
    "            vote[r.user] = vote.get(r.user, 0) + r.rate\n",
    "            cnt[r.user] = cnt.get(r.user, 0) + 1 \n",
    "        # 按照物品平均评分进行分组\n",
    "        for user, v in vote.items():\n",
    "            c = v / (cnt[user] * 1.0 )\n",
    "            self.group[user] = int(c*2)\n",
    "        \n",
    "    def GetGroup(self, uid):\n",
    "        if uid not in self.group:\n",
    "            return -1 \n",
    "        else:\n",
    "            return self.group[uid]\n",
    "\n",
    "# 6. ItemVoteCluster\n",
    "class ItemVoteCluster(Cluster):\n",
    "    def __init__(self, records):\n",
    "        Cluster.__init__(self, records)\n",
    "        vote, cnt = {}, {} \n",
    "        for r in records:\n",
    "            if r.test: continue\n",
    "            vote[r.item] = vote.get(r.item, 0) + r.rate\n",
    "            cnt[r.item] = cnt.get(r.item, 0) + 1 \n",
    "        \n",
    "        # 按照物品平均评分进行分组\n",
    "        for item, v in vote.items():\n",
    "            c = v / (cnt[item] * 1.0)\n",
    "            self.group[item] = int(c*2)\n",
    "        \n",
    "    def GetGroup(self, iid):\n",
    "        if iid not in self.group:\n",
    "            return -1 \n",
    "        else:\n",
    "            return self.group[iid]"
   ]
  },
  {
   "cell_type": "code",
   "execution_count": 14,
   "metadata": {
    "ExecuteTime": {
     "end_time": "2019-07-19T07:52:01.940771Z",
     "start_time": "2019-07-19T07:52:01.930680Z"
    }
   },
   "outputs": [],
   "source": [
    "# 预测接口函数进行修改\n",
    "def PredictAll(records, UserGroup, ItemGroup):\n",
    "    userGroup = UserGroup(records)\n",
    "    itemGroup = ItemGroup(records)\n",
    "    \n",
    "    group = {}\n",
    "    for r in records:\n",
    "        ug = userGroup.GetGroup(r.user)\n",
    "        ig = itemGroup.GetGroup(r.item)\n",
    "        if ug not in group:\n",
    "            group[ug] = {}\n",
    "        if ig not in group[ug]:\n",
    "            group[ug][ig] = []\n",
    "        # 这里计算残差\n",
    "        group[ug][ig].append(r.rate - r.predict)\n",
    "    \n",
    "    for ug in group:\n",
    "        for ig in group[ug]:\n",
    "            group[ug][ig] = sum(group[ug][ig]) / (1.0 * len(group[ug][ig]) + 1.0)\n",
    "    \n",
    "    # 预测\n",
    "    for i in range(len(records)):\n",
    "        ug = userGroup.GetGroup(records[i].user)\n",
    "        ig = itemGroup.GetGroup(records[i].item)\n",
    "        # 这里将之前的结果进行结合\n",
    "        records[i].predict += group[ug][ig]"
   ]
  },
  {
   "cell_type": "code",
   "execution_count": 19,
   "metadata": {
    "ExecuteTime": {
     "end_time": "2019-07-19T07:56:58.506146Z",
     "start_time": "2019-07-19T07:56:58.501492Z"
    }
   },
   "outputs": [],
   "source": [
    "class Experiment:\n",
    "    def __init__(self, M, UserGroup, ItemGroup, fp=\"data/ml-1m/ratings.dat\"):\n",
    "        self.M = M \n",
    "        self.userGroup = UserGroup\n",
    "        self.itemGroup = ItemGroup\n",
    "        self.dataset = Dataset(fp)\n",
    "        self.dataset.splitData(M, 0) \n",
    "    \n",
    "    # 定义单次实验\n",
    "    def worker(self, records):\n",
    "        PredictAll(records, self.userGroup, self.itemGroup)\n",
    "        metric = RMSE(records)\n",
    "        return metric\n",
    "    \n",
    "    # 多次实验取平均\n",
    "    @timmer\n",
    "    def run(self):\n",
    "        metric = self.worker(self.dataset.data)\n",
    "        print(\"Result (UserGroup={}, ItemGroup={}): {}\".format(self.userGroup.__name__,\n",
    "                                                              self.itemGroup.__name__,\n",
    "                                                              metric))"
   ]
  },
  {
   "cell_type": "code",
   "execution_count": 20,
   "metadata": {
    "ExecuteTime": {
     "end_time": "2019-07-19T07:57:17.669240Z",
     "start_time": "2019-07-19T07:56:59.085421Z"
    }
   },
   "outputs": [
    {
     "name": "stdout",
     "output_type": "stream",
     "text": [
      "Result (UserGroup=Cluster, ItemGroup=Cluster): {'train_rmse': 1.1163419044799097, 'test_rmse': 1.1239098429180596}\n",
      "Func: run | Run time: 0.80\n",
      "Result (UserGroup=IdCluster, ItemGroup=Cluster): {'train_rmse': 1.0279720784446358, 'test_rmse': 1.0328163104921269}\n",
      "Func: run | Run time: 1.15\n",
      "Result (UserGroup=Cluster, ItemGroup=IdCluster): {'train_rmse': 0.9187033847868101, 'test_rmse': 0.921579422992697}\n",
      "Func: run | Run time: 0.97\n",
      "Result (UserGroup=UserActivityCluster, ItemGroup=Cluster): {'train_rmse': 0.9187031894922616, 'test_rmse': 0.921576615516696}\n",
      "Func: run | Run time: 1.04\n",
      "Result (UserGroup=UserActivityCluster, ItemGroup=IdCluster): {'train_rmse': 0.9186623607307105, 'test_rmse': 0.9215180703205945}\n",
      "Func: run | Run time: 1.17\n",
      "Result (UserGroup=Cluster, ItemGroup=ItemPopularityCluster): {'train_rmse': 0.9186620874608045, 'test_rmse': 0.9215186108542568}\n",
      "Func: run | Run time: 1.24\n",
      "Result (UserGroup=IdCluster, ItemGroup=ItemPopularityCluster): {'train_rmse': 0.8856866647867953, 'test_rmse': 0.8891026428911069}\n",
      "Func: run | Run time: 1.36\n",
      "Result (UserGroup=UserActivityCluster, ItemGroup=ItemPopularityCluster): {'train_rmse': 0.8856858876991747, 'test_rmse': 0.8890943831926712}\n",
      "Func: run | Run time: 1.35\n",
      "Result (UserGroup=UserVoteCluster, ItemGroup=Cluster): {'train_rmse': 0.8856851416911559, 'test_rmse': 0.8890817926901123}\n",
      "Func: run | Run time: 1.27\n",
      "Result (UserGroup=UserVoteCluster, ItemGroup=IdCluster): {'train_rmse': 0.8746425972550809, 'test_rmse': 0.8779428535379606}\n",
      "Func: run | Run time: 1.51\n",
      "Result (UserGroup=Cluster, ItemGroup=ItemVoteCluster): {'train_rmse': 0.8746422240969675, 'test_rmse': 0.8779440043650442}\n",
      "Func: run | Run time: 1.38\n",
      "Result (UserGroup=IdCluster, ItemGroup=ItemVoteCluster): {'train_rmse': 0.8525769986741694, 'test_rmse': 0.8555216001569514}\n",
      "Func: run | Run time: 1.44\n",
      "Result (UserGroup=UserVoteCluster, ItemGroup=ItemVoteCluster): {'train_rmse': 0.8525734826680323, 'test_rmse': 0.8555241605099194}\n",
      "Func: run | Run time: 1.76\n"
     ]
    }
   ],
   "source": [
    "UserGroups = [Cluster, IdCluster, Cluster, UserActivityCluster, UserActivityCluster, Cluster, IdCluster,\n",
    "             UserActivityCluster, UserVoteCluster, UserVoteCluster, Cluster, IdCluster, UserVoteCluster]\n",
    "ItemGroups = [Cluster, Cluster, IdCluster, Cluster, IdCluster, ItemPopularityCluster, ItemPopularityCluster,\n",
    "             ItemPopularityCluster, Cluster, IdCluster, ItemVoteCluster, ItemVoteCluster, ItemVoteCluster]\n",
    "\n",
    "M = 10 \n",
    "exp = Experiment(M, None, None)\n",
    "for i in range(len(UserGroups)):\n",
    "    exp.userGroup = UserGroups[i]\n",
    "    exp.itemGroup = ItemGroups[i]\n",
    "    exp.run()"
   ]
  },
  {
   "cell_type": "code",
   "execution_count": null,
   "metadata": {},
   "outputs": [],
   "source": []
  }
 ],
 "metadata": {
  "kernelspec": {
   "display_name": "Python 3",
   "language": "python",
   "name": "python3"
  },
  "language_info": {
   "codemirror_mode": {
    "name": "ipython",
    "version": 3
   },
   "file_extension": ".py",
   "mimetype": "text/x-python",
   "name": "python",
   "nbconvert_exporter": "python",
   "pygments_lexer": "ipython3",
   "version": "3.7.3"
  },
  "toc": {
   "base_numbering": 1,
   "nav_menu": {},
   "number_sections": true,
   "sideBar": true,
   "skip_h1_title": false,
   "title_cell": "Table of Contents",
   "title_sidebar": "Contents",
   "toc_cell": false,
   "toc_position": {},
   "toc_section_display": true,
   "toc_window_display": false
  }
 },
 "nbformat": 4,
 "nbformat_minor": 2
}
