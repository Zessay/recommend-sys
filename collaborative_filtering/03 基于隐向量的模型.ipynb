{
 "cells": [
  {
   "cell_type": "code",
   "execution_count": 5,
   "metadata": {
    "ExecuteTime": {
     "end_time": "2019-07-14T11:20:20.218241Z",
     "start_time": "2019-07-14T11:20:20.215148Z"
    }
   },
   "outputs": [],
   "source": [
    "# 导入相关的包\n",
    "import random\n",
    "import math \n",
    "import numpy as np \n",
    "import time \n",
    "from tqdm.autonotebook import tqdm, trange\n",
    "\n",
    "from collections import defaultdict"
   ]
  },
  {
   "cell_type": "markdown",
   "metadata": {},
   "source": [
    "# 通用函数"
   ]
  },
  {
   "cell_type": "code",
   "execution_count": 2,
   "metadata": {
    "ExecuteTime": {
     "end_time": "2019-07-14T08:12:14.330029Z",
     "start_time": "2019-07-14T08:12:14.327205Z"
    }
   },
   "outputs": [],
   "source": [
    "# 定义时间装饰器，监控运行时间\n",
    "def timmer(func):\n",
    "    def wrapper(*args, **kwargs):\n",
    "        start_time = time.time()\n",
    "        res = func(*args, **kwargs)\n",
    "        stop_time = time.time()\n",
    "        print(\"Func {:s}, run time: {:f}\".format(func.__name__, stop_time - start_time))\n",
    "        return res \n",
    "    return wrapper"
   ]
  },
  {
   "cell_type": "markdown",
   "metadata": {},
   "source": [
    "# 数据处理相关函数"
   ]
  },
  {
   "cell_type": "code",
   "execution_count": 3,
   "metadata": {
    "ExecuteTime": {
     "end_time": "2019-07-14T08:12:54.569030Z",
     "start_time": "2019-07-14T08:12:54.560937Z"
    }
   },
   "outputs": [],
   "source": [
    "# 数据集的读取\n",
    "class Dataset:\n",
    "    def __init__(self, fp):\n",
    "        self.data = self.loadData(fp)\n",
    "    \n",
    "    @timmer\n",
    "    def loadData(self, fp):\n",
    "        data = []\n",
    "        # 只取用户id和电影id\n",
    "        for l in open(fp):\n",
    "            data.append(tuple(map(int, l.strip().split(\"::\")[:2])))\n",
    "        return data \n",
    "    \n",
    "    @timmer\n",
    "    def splitData(self, M, k, seed=1):\n",
    "        '''\n",
    "        data: 加载所有(user_id, movie_id)def数据条目\n",
    "        M: 划分的数目，最后去M折的平均\n",
    "        k: 本次是第几次划分，k~[0,M)\n",
    "        seed: 随机种子数，对于不同k应该设置为相同值\n",
    "        return train, test\n",
    "        '''\n",
    "        train, test = [], [] \n",
    "        random.seed(seed)\n",
    "        for user, item in self.data:\n",
    "            if random.randint(0, M-1) == k:\n",
    "                test.append((user, item))\n",
    "            else:\n",
    "                train.append((user, item))\n",
    "        \n",
    "        ## 处理成字典形式\n",
    "        def convert_dict(data):\n",
    "            data_dict = defaultdict(set)\n",
    "            for user, item in data: \n",
    "                data_dict[user].add(item)\n",
    "            data_dict = {k: list(data_dict[k]) for k in data_dict}\n",
    "            return data_dict \n",
    "        \n",
    "        return convert_dict(train), convert_dict(test)"
   ]
  },
  {
   "cell_type": "markdown",
   "metadata": {},
   "source": [
    "# Metirc函数"
   ]
  },
  {
   "cell_type": "code",
   "execution_count": 4,
   "metadata": {
    "ExecuteTime": {
     "end_time": "2019-07-14T08:13:25.743555Z",
     "start_time": "2019-07-14T08:13:25.733321Z"
    }
   },
   "outputs": [],
   "source": [
    "class Metric:\n",
    "    \n",
    "    def __init__(self, train, test, GetRecommendation):\n",
    "        '''\n",
    "        GetRecommendation: 为某个用户推荐物品的接口函数，返回值为电影id组成的list\n",
    "        '''\n",
    "        self.train = train\n",
    "        self.test = test \n",
    "        self.GetRecommendation = GetRecommendation\n",
    "        # 保存为测试集用户推荐结果的值\n",
    "        self.recs = self.getRec()\n",
    "        \n",
    "    # 为test中的每个用户进行推荐\n",
    "    def getRec(self):\n",
    "        recs = {}\n",
    "        for user in self.test:\n",
    "            rank = self.GetRecommendation(user)\n",
    "            recs[user] = rank\n",
    "        return recs\n",
    "    \n",
    "    ## 定义精确率指标\n",
    "    def precision(self):\n",
    "        all, hit = 0, 0 \n",
    "        for user in self.test:\n",
    "            test_items = set(self.test[user])\n",
    "            rank = self.recs[user]\n",
    "            for item, score in rank:\n",
    "                if item in test_items:\n",
    "                    hit += 1 \n",
    "            all += len(rank)\n",
    "        return round(hit / all * 100, 2)\n",
    "    \n",
    "    ## 定义召回率指标\n",
    "    def recall(self):\n",
    "        all, hit = 0, 0 \n",
    "        for user in self.test:\n",
    "            test_items = set(self.test[user])\n",
    "            rank = self.recs[user]\n",
    "            for item, score in rank: \n",
    "                if item in test_items:\n",
    "                    hit += 1 \n",
    "            all += len(test_items)\n",
    "        return round(hit / all * 100, 2)\n",
    "    \n",
    "    ## 定义覆盖率指标\n",
    "    def coverage(self):\n",
    "        all_item, recom_item = set(), set()\n",
    "        for user in self.test:\n",
    "            for item in self.train[user]:\n",
    "                all_item.add(item)\n",
    "            rank = self.recs[user]\n",
    "            for item, score in rank: \n",
    "                recom_item.add(item)\n",
    "                \n",
    "        return round(len(recom_item) / len(all_item) * 100, 2)\n",
    "    \n",
    "    ## 定义新颖度指标\n",
    "    def popularity(self):\n",
    "        ## 计算推荐物品的平均流行度\n",
    "        item_pop = {}\n",
    "        for user in self.train: \n",
    "            for item in self.train[user]:\n",
    "                item_pop[item] = item_pop.get(item, 0) + 1 \n",
    "        num, pop = 0, 0 \n",
    "        for user in self.test: \n",
    "            rank = self.recs[user]\n",
    "            for item, score in rank:\n",
    "                # 取对数，防止长尾问题带来被流行物品主导的问题\n",
    "                pop += math.log(1+item_pop[item])\n",
    "                num += 1 \n",
    "        return round(pop / num, 6)\n",
    "    \n",
    "    def eval(self):\n",
    "        metric = {\n",
    "            \"Precision\": self.precision(),\n",
    "            \"Recall\": self.recall(),\n",
    "            \"Coverage\": self.coverage(),\n",
    "            \"Popularity\": self.popularity()\n",
    "        }\n",
    "        print(\"Metric:  \", metric)\n",
    "        return metric"
   ]
  },
  {
   "cell_type": "markdown",
   "metadata": {},
   "source": [
    "# LFM算法实现"
   ]
  },
  {
   "cell_type": "code",
   "execution_count": 20,
   "metadata": {
    "ExecuteTime": {
     "end_time": "2019-07-14T12:21:06.543950Z",
     "start_time": "2019-07-14T12:21:06.532680Z"
    }
   },
   "outputs": [],
   "source": [
    "def LFM(train, ratio, K, lr, step, lmbda, N):\n",
    "    '''\n",
    "    train: 训练数据　\n",
    "    ratio: 负采样的 负/正的比例\n",
    "    K: 隐语义的个数　\n",
    "    lr: 初始学习率\n",
    "    step: 迭代次数\n",
    "    lmbda: 正则化系数　\n",
    "    N: 推荐TpoN的物品数目\n",
    "    '''\n",
    "    \n",
    "    all_items = {}\n",
    "    for user in train:\n",
    "        for item in train[user]:\n",
    "            # 计算所有商品的出现的次数\n",
    "            all_items[item] = all_items.get(item, 0) + 1 \n",
    "            \n",
    "    all_items = list(all_items.items())\n",
    "    items = [x[0] for x in all_items]\n",
    "    pops = [x[1] for x in all_items]\n",
    "    \n",
    "    # 负采样，按照流行度采样\n",
    "    def nSample(data, ratio):\n",
    "        new_data = defaultdict(dict)\n",
    "        # 正样本\n",
    "        for user in data:\n",
    "            for item in data[user]:\n",
    "                new_data[user][item] = new_data[user].get(item, 0) + 1 \n",
    "        \n",
    "        # 负样本\n",
    "        for user in new_data:\n",
    "            seen = set(new_data[user])\n",
    "            ## 记录已经看过的电影的数量\n",
    "            pos_num = len(seen)\n",
    "            ## 第一个参数表示候选集合，第二个参数表示选出来的集合大小，第三个参数表示每一个元素被选择的可能性\n",
    "            item = np.random.choice(items, int(pos_num*ratio*3), pops)\n",
    "            item = [x for x in item if x not in seen][:int(pos_num*ratio)]\n",
    "            new_data[user].update({x: 0 for x in item})\n",
    "        return new_data\n",
    "    \n",
    "    # 训练　\n",
    "    P, Q = {}, {}\n",
    "    ## 对每个用户生成隐状态的概率分布\n",
    "    for user in train: \n",
    "        P[user] = np.random.random(K)\n",
    "    ## 对每个产品生成对应的隐状态概率分布\n",
    "    for item in items:\n",
    "        Q[item] = np.random.random(K)\n",
    "    \n",
    "    for s in trange(step):\n",
    "        data = nSample(train, ratio)\n",
    "        for user in data: \n",
    "            ## 随机梯度下降\n",
    "            for item in data[user]:\n",
    "                ## 计算误差\n",
    "                eui = data[user][item] - (P[user]*Q[item]).sum()\n",
    "                P[user] += lr * (Q[item]*eui - lmbda * P[user])\n",
    "                Q[item] += lr * (P[user]*eui - lmbda * Q[item])\n",
    "        # 调整学习率\n",
    "        lr *= 0.9 \n",
    "    \n",
    "    # 获取接口函数\n",
    "    def GetRecommendation(user):\n",
    "        seen_items = set(train[user])\n",
    "        recs = {}\n",
    "        ## 对于所有的商品\n",
    "        for item in items:\n",
    "            if item not in seen_items:\n",
    "                recs[item] = (P[user]*Q[item]).sum()\n",
    "        recs = list(sorted(recs.items(), key=lambda x: x[1], reverse=True))[:N]\n",
    "        return recs\n",
    "    \n",
    "    return GetRecommendation\n",
    "        "
   ]
  },
  {
   "cell_type": "markdown",
   "metadata": {},
   "source": [
    "# LFM实验\n",
    "\n",
    "- M=8, N=10, ratio=[1,2,3,5,10,20]"
   ]
  },
  {
   "cell_type": "code",
   "execution_count": 22,
   "metadata": {
    "ExecuteTime": {
     "end_time": "2019-07-14T12:30:23.950586Z",
     "start_time": "2019-07-14T12:30:23.942991Z"
    }
   },
   "outputs": [],
   "source": [
    "class Experiment:\n",
    "    def __init__(self, M, N, ratio=1, K=100, lr=0.02, step=100, lmbda=0.01, fp=\"data/ml-1m/ratings.dat\"):\n",
    "        '''\n",
    "        M: 表示进行多少次实验 \n",
    "        N: 表示TopN推荐商品数\n",
    "        ratio: 负正样本比\n",
    "        K: 隐语义个数\n",
    "        lr: 学习率　\n",
    "        step: 训练步数　\n",
    "        lmbda: 正则化系数\n",
    "        '''\n",
    "        self.M = M \n",
    "        self.K = K \n",
    "        self.N = N\n",
    "        self.ratio = ratio \n",
    "        self.lr = lr \n",
    "        self.step = step \n",
    "        self.lmbda = lmbda\n",
    "        self.fp = fp \n",
    "        self.alg = LFM\n",
    "        \n",
    "    # 定义单次实验\n",
    "    @timmer\n",
    "    def worker(self, train, test):\n",
    "        getRecommendation = self.alg(train, self.ratio, self.K, self.lr, self.step, self.lmbda, self.N)\n",
    "        metric = Metric(train, test, getRecommendation)\n",
    "        return metric.eval()\n",
    "    \n",
    "    #　定义多次实验取平均\n",
    "    def run(self):\n",
    "        metrics = {\"Precision\": 0, \"Recall\": 0, \n",
    "                  \"Coverage\": 0, \"Popularity\": 0}\n",
    "        dataset = Dataset(self.fp)\n",
    "        for ii in range(self.M):\n",
    "            train, test = dataset.splitData(self.M, ii)\n",
    "            print(f\"Experiment {ii}\")\n",
    "            metric = self.worker(train, test)\n",
    "            metrics = {k: metrics[k] + metric[k] for k in metrics}\n",
    "        metrics = {k: metrics[k] / self.M for k in metrics}\n",
    "        print(\"Average Result (M={}, N+{}, ratio={}): {}\".format(self.M, self.N, self.ratio, metrics))\n",
    "        "
   ]
  },
  {
   "cell_type": "markdown",
   "metadata": {},
   "source": [
    "# 实验"
   ]
  },
  {
   "cell_type": "code",
   "execution_count": null,
   "metadata": {
    "ExecuteTime": {
     "start_time": "2019-07-14T12:30:26.443Z"
    }
   },
   "outputs": [
    {
     "name": "stdout",
     "output_type": "stream",
     "text": [
      "Ratio=1\n",
      "Func loadData, run time: 0.792942\n",
      "Func splitData, run time: 1.142637\n",
      "Experiment 0\n"
     ]
    },
    {
     "data": {
      "application/vnd.jupyter.widget-view+json": {
       "model_id": "d05b454ee2ea40c3b355b13cf1006319",
       "version_major": 2,
       "version_minor": 0
      },
      "text/plain": [
       "HBox(children=(IntProgress(value=0), HTML(value='')))"
      ]
     },
     "metadata": {},
     "output_type": "display_data"
    },
    {
     "name": "stdout",
     "output_type": "stream",
     "text": [
      "Metric:   {'Precision': 19.04, 'Recall': 9.15, 'Coverage': 88.08, 'Popularity': 6.303289}\n",
      "Func worker, run time: 2139.128076\n",
      "Func splitData, run time: 1.877735\n",
      "Experiment 1\n"
     ]
    },
    {
     "data": {
      "application/vnd.jupyter.widget-view+json": {
       "model_id": "cb7f0c79f35741e7a3edc05583518b0c",
       "version_major": 2,
       "version_minor": 0
      },
      "text/plain": [
       "HBox(children=(IntProgress(value=0), HTML(value='')))"
      ]
     },
     "metadata": {},
     "output_type": "display_data"
    },
    {
     "name": "stdout",
     "output_type": "stream",
     "text": [
      "Metric:   {'Precision': 18.77, 'Recall': 8.99, 'Coverage': 89.32, 'Popularity': 6.287361}\n",
      "Func worker, run time: 2125.120253\n",
      "Func splitData, run time: 1.336442\n",
      "Experiment 2\n"
     ]
    },
    {
     "data": {
      "application/vnd.jupyter.widget-view+json": {
       "model_id": "0f8efbaf24734e48bf4c2bd168d0a3bf",
       "version_major": 2,
       "version_minor": 0
      },
      "text/plain": [
       "HBox(children=(IntProgress(value=0), HTML(value='')))"
      ]
     },
     "metadata": {},
     "output_type": "display_data"
    }
   ],
   "source": [
    "M, N = 8, 10 \n",
    "for r in [1,2,3,5,10,20]:\n",
    "    print(f\"Ratio={r}\")\n",
    "    exp = Experiment(M, N, ratio=r)\n",
    "    exp.run()"
   ]
  },
  {
   "cell_type": "code",
   "execution_count": null,
   "metadata": {},
   "outputs": [],
   "source": []
  }
 ],
 "metadata": {
  "kernelspec": {
   "display_name": "Python 3",
   "language": "python",
   "name": "python3"
  },
  "language_info": {
   "codemirror_mode": {
    "name": "ipython",
    "version": 3
   },
   "file_extension": ".py",
   "mimetype": "text/x-python",
   "name": "python",
   "nbconvert_exporter": "python",
   "pygments_lexer": "ipython3",
   "version": "3.7.3"
  },
  "toc": {
   "base_numbering": 1,
   "nav_menu": {},
   "number_sections": true,
   "sideBar": true,
   "skip_h1_title": false,
   "title_cell": "Table of Contents",
   "title_sidebar": "Contents",
   "toc_cell": false,
   "toc_position": {},
   "toc_section_display": true,
   "toc_window_display": false
  }
 },
 "nbformat": 4,
 "nbformat_minor": 2
}
