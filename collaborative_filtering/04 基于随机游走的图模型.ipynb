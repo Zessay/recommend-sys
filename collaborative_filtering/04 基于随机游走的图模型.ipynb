{
 "cells": [
  {
   "cell_type": "code",
   "execution_count": 1,
   "metadata": {
    "ExecuteTime": {
     "end_time": "2019-07-14T11:52:58.612380Z",
     "start_time": "2019-07-14T11:52:57.812294Z"
    }
   },
   "outputs": [
    {
     "name": "stderr",
     "output_type": "stream",
     "text": [
      "/home/chen/anaconda3/lib/python3.7/site-packages/tqdm/autonotebook/__init__.py:14: TqdmExperimentalWarning: Using `tqdm.autonotebook.tqdm` in notebook mode. Use `tqdm.tqdm` instead to force console mode (e.g. in jupyter console)\n",
      "  \" (e.g. in jupyter console)\", TqdmExperimentalWarning)\n",
      "/home/chen/anaconda3/lib/python3.7/importlib/_bootstrap.py:219: RuntimeWarning: numpy.ufunc size changed, may indicate binary incompatibility. Expected 192 from C header, got 216 from PyObject\n",
      "  return f(*args, **kwds)\n",
      "/home/chen/anaconda3/lib/python3.7/importlib/_bootstrap.py:219: RuntimeWarning: numpy.ufunc size changed, may indicate binary incompatibility. Expected 192 from C header, got 216 from PyObject\n",
      "  return f(*args, **kwds)\n"
     ]
    }
   ],
   "source": [
    "# 导入相关的包\n",
    "import random\n",
    "import math \n",
    "import numpy as np \n",
    "import time \n",
    "from tqdm.autonotebook import tqdm, trange\n",
    "\n",
    "from collections import defaultdict\n",
    "\n",
    "from scipy.sparse import csc_matrix, linalg, eye\n",
    "from copy import deepcopy"
   ]
  },
  {
   "cell_type": "markdown",
   "metadata": {},
   "source": [
    "# 通用装饰器函数"
   ]
  },
  {
   "cell_type": "code",
   "execution_count": 2,
   "metadata": {
    "ExecuteTime": {
     "end_time": "2019-07-14T11:53:27.412553Z",
     "start_time": "2019-07-14T11:53:27.409665Z"
    }
   },
   "outputs": [],
   "source": [
    "# 定义时间装饰器，监控运行时间\n",
    "def timmer(func):\n",
    "    def wrapper(*args, **kwargs):\n",
    "        start_time = time.time()\n",
    "        res = func(*args, **kwargs)\n",
    "        stop_time = time.time()\n",
    "        print(\"Func {:s}, run time: {:f}\".format(func.__name__, stop_time - start_time))\n",
    "        return res \n",
    "    return wrapper"
   ]
  },
  {
   "cell_type": "markdown",
   "metadata": {},
   "source": [
    "# 数据处理相关函数"
   ]
  },
  {
   "cell_type": "code",
   "execution_count": 3,
   "metadata": {
    "ExecuteTime": {
     "end_time": "2019-07-14T11:53:54.189148Z",
     "start_time": "2019-07-14T11:53:54.182286Z"
    }
   },
   "outputs": [],
   "source": [
    "# 数据集的读取\n",
    "class Dataset:\n",
    "    def __init__(self, fp):\n",
    "        self.data = self.loadData(fp)\n",
    "    \n",
    "    @timmer\n",
    "    def loadData(self, fp):\n",
    "        data = []\n",
    "        # 只取用户id和电影id\n",
    "        for l in open(fp):\n",
    "            data.append(tuple(map(int, l.strip().split(\"::\")[:2])))\n",
    "        return data \n",
    "    \n",
    "    @timmer\n",
    "    def splitData(self, M, k, seed=1):\n",
    "        '''\n",
    "        data: 加载所有(user_id, movie_id)def数据条目\n",
    "        M: 划分的数目，最后去M折的平均\n",
    "        k: 本次是第几次划分，k~[0,M)\n",
    "        seed: 随机种子数，对于不同k应该设置为相同值\n",
    "        return train, test\n",
    "        '''\n",
    "        train, test = [], [] \n",
    "        random.seed(seed)\n",
    "        for user, item in self.data:\n",
    "            if random.randint(0, M-1) == k:\n",
    "                test.append((user, item))\n",
    "            else:\n",
    "                train.append((user, item))\n",
    "        \n",
    "        ## 处理成字典形式\n",
    "        def convert_dict(data):\n",
    "            data_dict = defaultdict(set)\n",
    "            for user, item in data: \n",
    "                data_dict[user].add(item)\n",
    "            data_dict = {k: list(data_dict[k]) for k in data_dict}\n",
    "            return data_dict \n",
    "        \n",
    "        return convert_dict(train), convert_dict(test)"
   ]
  },
  {
   "cell_type": "markdown",
   "metadata": {},
   "source": [
    "# 评价指标函数"
   ]
  },
  {
   "cell_type": "code",
   "execution_count": 4,
   "metadata": {
    "ExecuteTime": {
     "end_time": "2019-07-14T11:54:17.921951Z",
     "start_time": "2019-07-14T11:54:17.909532Z"
    }
   },
   "outputs": [],
   "source": [
    "class Metric:\n",
    "    \n",
    "    def __init__(self, train, test, GetRecommendation):\n",
    "        '''\n",
    "        GetRecommendation: 为某个用户推荐物品的接口函数，返回值为电影id组成的list\n",
    "        '''\n",
    "        self.train = train\n",
    "        self.test = test \n",
    "        self.GetRecommendation = GetRecommendation\n",
    "        # 保存为测试集用户推荐结果的值\n",
    "        self.recs = self.getRec()\n",
    "        \n",
    "    # 为test中的每个用户进行推荐\n",
    "    def getRec(self):\n",
    "        recs = {}\n",
    "        for user in self.test:\n",
    "            rank = self.GetRecommendation(user)\n",
    "            recs[user] = rank\n",
    "        return recs\n",
    "    \n",
    "    ## 定义精确率指标\n",
    "    def precision(self):\n",
    "        all, hit = 0, 0 \n",
    "        for user in self.test:\n",
    "            test_items = set(self.test[user])\n",
    "            rank = self.recs[user]\n",
    "            for item, score in rank:\n",
    "                if item in test_items:\n",
    "                    hit += 1 \n",
    "            all += len(rank)\n",
    "        return round(hit / all * 100, 2)\n",
    "    \n",
    "    ## 定义召回率指标\n",
    "    def recall(self):\n",
    "        all, hit = 0, 0 \n",
    "        for user in self.test:\n",
    "            test_items = set(self.test[user])\n",
    "            rank = self.recs[user]\n",
    "            for item, score in rank: \n",
    "                if item in test_items:\n",
    "                    hit += 1 \n",
    "            all += len(test_items)\n",
    "        return round(hit / all * 100, 2)\n",
    "    \n",
    "    ## 定义覆盖率指标\n",
    "    def coverage(self):\n",
    "        all_item, recom_item = set(), set()\n",
    "        for user in self.test:\n",
    "            for item in self.train[user]:\n",
    "                all_item.add(item)\n",
    "            rank = self.recs[user]\n",
    "            for item, score in rank: \n",
    "                recom_item.add(item)\n",
    "                \n",
    "        return round(len(recom_item) / len(all_item) * 100, 2)\n",
    "    \n",
    "    ## 定义新颖度指标\n",
    "    def popularity(self):\n",
    "        ## 计算推荐物品的平均流行度\n",
    "        item_pop = {}\n",
    "        for user in self.train: \n",
    "            for item in self.train[user]:\n",
    "                item_pop[item] = item_pop.get(item, 0) + 1 \n",
    "        num, pop = 0, 0 \n",
    "        for user in self.test: \n",
    "            rank = self.recs[user]\n",
    "            for item, score in rank:\n",
    "                # 取对数，防止长尾问题带来被流行物品主导的问题\n",
    "                pop += math.log(1+item_pop[item])\n",
    "                num += 1 \n",
    "        return round(pop / num, 6)\n",
    "    \n",
    "    def eval(self):\n",
    "        metric = {\n",
    "            \"Precision\": self.precision(),\n",
    "            \"Recall\": self.recall(),\n",
    "            \"Coverage\": self.coverage(),\n",
    "            \"Popularity\": self.popularity()\n",
    "        }\n",
    "        print(\"Metric:  \", metric)\n",
    "        return metric"
   ]
  },
  {
   "cell_type": "markdown",
   "metadata": {},
   "source": [
    "# PersonalRank算法实现"
   ]
  },
  {
   "cell_type": "code",
   "execution_count": 6,
   "metadata": {
    "ExecuteTime": {
     "end_time": "2019-07-14T12:28:32.831279Z",
     "start_time": "2019-07-14T12:28:32.822282Z"
    }
   },
   "outputs": [],
   "source": [
    "def PersonalRank(train, alpha, N):\n",
    "    '''\n",
    "    train: 训练数据　\n",
    "    alpha: 继续随机游走的概率\n",
    "    N: 推荐TopN物品的个数\n",
    "    '''\n",
    "    \n",
    "    # 构建索引\n",
    "    items = []\n",
    "    for user in train:\n",
    "        items.extend(train[user])\n",
    "        \n",
    "    id2item = list(set(items))\n",
    "    users = {u:i for i, u in enumerate(train.keys())}\n",
    "    items = {u: i+len(users) for i, u in enumerate(id2item)}\n",
    "    \n",
    "    # 计算转移矩阵\n",
    "    ## 构建商品到用户的倒排表\n",
    "    item_user = defaultdict(list)\n",
    "    for user in train:\n",
    "        for item in train[user]:\n",
    "            item_user[item].append(user)\n",
    "    \n",
    "    data, row, col = [], [], []\n",
    "    # 对于训练集中的每一个用户\n",
    "    for u in train:\n",
    "        # 对于用户对应的每一个物品\n",
    "        for v in train[u]:\n",
    "            ## 初始化转移概率\n",
    "            ## 记录对应的用户和商品ID\n",
    "            data.append(1/len(train[u]))\n",
    "            row.append(users[u])\n",
    "            col.append(items[v])\n",
    "    # 对于每一个商品\n",
    "    for u in item_user:\n",
    "        # 对于商品对应的每一个用户\n",
    "        for v in item_user[u]:\n",
    "            ## 初始化转移概率\n",
    "            ## 记录对应的用户和商品ID\n",
    "            data.append(1/len(item_user[u]))\n",
    "            row.append(items[u])\n",
    "            col.append(users[v])\n",
    "    \n",
    "    ## 对矩阵进行压缩，得到稀疏矩阵\n",
    "    M = csc_matrix((data, (row, col)), shape=(len(data), len(data)))\n",
    "    \n",
    "    ## 获取接口函数\n",
    "    def GetRecommendation(user):\n",
    "        seen_items = set(train[user])\n",
    "        # 解矩阵方程\n",
    "        r0 = [0] *  len(data)\n",
    "        ## 将看过的商品置为１\n",
    "        r0[users[user]] = 1 \n",
    "        r0 = csc_matrix(r0)\n",
    "        ## 对r进行更新\n",
    "        r = (1-alpha) * linalg.inv(eye(len(data)) - alpha * M.T)*r0\n",
    "        ## 取出随机游走到各个商品的概率\n",
    "        r = r.T.toarray()[0][len(users):]\n",
    "        #print(r)\n",
    "        ## 由于原函数是按照从小到大排的，所以去-号\n",
    "        idx = np.argsort(-r)[:N]\n",
    "        recs = [(id2item[ii], r[ii]) for ii in idx]\n",
    "        return recs\n",
    "    \n",
    "    return GetRecommendation"
   ]
  },
  {
   "cell_type": "markdown",
   "metadata": {},
   "source": [
    "# PersonalRank实验"
   ]
  },
  {
   "cell_type": "code",
   "execution_count": 7,
   "metadata": {
    "ExecuteTime": {
     "end_time": "2019-07-14T12:33:33.902313Z",
     "start_time": "2019-07-14T12:33:33.895473Z"
    }
   },
   "outputs": [],
   "source": [
    "class Experiment:\n",
    "    def __init__(self, M, N, alpha, fp=\"data/ml-1m/ratings.dat\"):\n",
    "        self.M = M \n",
    "        self.N = N \n",
    "        self.alpha = alpha\n",
    "        self.fp = fp \n",
    "        self.alg = PersonalRank\n",
    "        \n",
    "    ## 定义单次实验\n",
    "    @timmer\n",
    "    def worker(self, train, test):\n",
    "        getRecommendation = self.alg(train, self.alpha, self.N)\n",
    "        metric = Metric(train, test, getRecommendation)\n",
    "        \n",
    "        return metric.eval()\n",
    "    \n",
    "    ## 多次实验取平均\n",
    "    @timmer\n",
    "    def run(self):\n",
    "        metrics = {\"Precision\": 0, \"Recall\": 0, \"Coverage\": 0, \"Popularity\": 0}\n",
    "        dataset = Dataset(self.fp)\n",
    "        for ii in range(self.M):\n",
    "            train, test = dataset.splitData(self.M, ii)\n",
    "            print(f\"Experiment {ii}: \")\n",
    "            metric = self.worker(train, test)\n",
    "            metrics = {k: metrics[k] + metric[k] for k in metrics}\n",
    "        \n",
    "        metrics = {k: metrics[k] / self.M for k in metrics}\n",
    "        print(\"Average Result (M={}, N={}, ratio={}): {}\".format(self.M, self.N, self.ratio, metrics))"
   ]
  },
  {
   "cell_type": "markdown",
   "metadata": {},
   "source": [
    "## 实验过程\n"
   ]
  },
  {
   "cell_type": "code",
   "execution_count": null,
   "metadata": {
    "ExecuteTime": {
     "start_time": "2019-07-14T12:34:49.079Z"
    }
   },
   "outputs": [
    {
     "name": "stdout",
     "output_type": "stream",
     "text": [
      "Func loadData, run time: 0.791828\n",
      "Func splitData, run time: 1.112444\n",
      "Experiment 0: \n"
     ]
    },
    {
     "name": "stderr",
     "output_type": "stream",
     "text": [
      "/home/chen/anaconda3/lib/python3.7/site-packages/scipy/sparse/linalg/dsolve/linsolve.py:296: SparseEfficiencyWarning: splu requires CSC matrix format\n",
      "  warn('splu requires CSC matrix format', SparseEfficiencyWarning)\n",
      "/home/chen/anaconda3/lib/python3.7/site-packages/scipy/sparse/linalg/dsolve/linsolve.py:203: SparseEfficiencyWarning: spsolve is more efficient when sparse b is in the CSC matrix format\n",
      "  'is in the CSC matrix format', SparseEfficiencyWarning)\n"
     ]
    }
   ],
   "source": [
    "M, N, alpha = 8, 10, 0.8\n",
    "exp = Experiment(M, N, alpha)\n",
    "exp.run()"
   ]
  },
  {
   "cell_type": "code",
   "execution_count": null,
   "metadata": {},
   "outputs": [],
   "source": []
  }
 ],
 "metadata": {
  "kernelspec": {
   "display_name": "Python 3",
   "language": "python",
   "name": "python3"
  },
  "language_info": {
   "codemirror_mode": {
    "name": "ipython",
    "version": 3
   },
   "file_extension": ".py",
   "mimetype": "text/x-python",
   "name": "python",
   "nbconvert_exporter": "python",
   "pygments_lexer": "ipython3",
   "version": "3.7.3"
  },
  "toc": {
   "base_numbering": 1,
   "nav_menu": {},
   "number_sections": true,
   "sideBar": true,
   "skip_h1_title": false,
   "title_cell": "Table of Contents",
   "title_sidebar": "Contents",
   "toc_cell": false,
   "toc_position": {},
   "toc_section_display": true,
   "toc_window_display": false
  }
 },
 "nbformat": 4,
 "nbformat_minor": 2
}
