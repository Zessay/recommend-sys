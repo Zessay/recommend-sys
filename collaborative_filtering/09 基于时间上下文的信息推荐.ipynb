{
 "cells": [
  {
   "cell_type": "code",
   "execution_count": 1,
   "metadata": {
    "ExecuteTime": {
     "end_time": "2019-07-17T06:46:11.630470Z",
     "start_time": "2019-07-17T06:46:11.582265Z"
    }
   },
   "outputs": [
    {
     "name": "stderr",
     "output_type": "stream",
     "text": [
      "/home/chen/anaconda3/lib/python3.7/site-packages/tqdm/autonotebook/__init__.py:14: TqdmExperimentalWarning: Using `tqdm.autonotebook.tqdm` in notebook mode. Use `tqdm.tqdm` instead to force console mode (e.g. in jupyter console)\n",
      "  \" (e.g. in jupyter console)\", TqdmExperimentalWarning)\n"
     ]
    }
   ],
   "source": [
    "import numpy as np \n",
    "import math \n",
    "import time \n",
    "import codecs \n",
    "from tqdm.autonotebook import tqdm\n",
    "\n",
    "from collections import defaultdict"
   ]
  },
  {
   "cell_type": "markdown",
   "metadata": {},
   "source": [
    "# 通用函数定义"
   ]
  },
  {
   "cell_type": "code",
   "execution_count": 2,
   "metadata": {
    "ExecuteTime": {
     "end_time": "2019-07-17T06:46:13.780547Z",
     "start_time": "2019-07-17T06:46:13.775070Z"
    }
   },
   "outputs": [],
   "source": [
    "def timmer(func):\n",
    "    def wrapper(*args, **kwargs):\n",
    "        start_time = time.time()\n",
    "        result = func(*args, **kwargs)\n",
    "        stop_time = time.time()\n",
    "        print(\"Func: {:s} | RunTime: {:f}\".format(func.__name__, stop_time-start_time))\n",
    "        return result \n",
    "    return wrapper"
   ]
  },
  {
   "cell_type": "markdown",
   "metadata": {},
   "source": [
    "# 数据加载函数"
   ]
  },
  {
   "cell_type": "code",
   "execution_count": 3,
   "metadata": {
    "ExecuteTime": {
     "end_time": "2019-07-17T02:40:52.801112Z",
     "start_time": "2019-07-17T02:40:52.790036Z"
    }
   },
   "outputs": [
    {
     "name": "stdout",
     "output_type": "stream",
     "text": [
      "id\tmd5\ttitle\turl\tmd5Principal\turlPrincipal\n",
      "\n",
      "1\tab4954b633ddaf5b5bba6e9b71aa6b70\tIFLA - The official website of the International Federation of Library Associations and Institutions\thttp://www.ifla.org/\t7f431306c428457bc4e12b15634484f\twww.ifla.org\n",
      "\n",
      "2\t2221e9cd106d269dd34682666f576fa3\tgcdp-e.pdf (application/pdf Object)\thttp://archive.ifla.org/VII/s14/nd1/gcdp-e.pdf\t1ef8cfcfe968101fa9b4e301847503d4\tarchive.ifla.org\n",
      "\n",
      "7\tc97c571dadaddbbb493126a0d4d01ba3\tEdSelect\thttp://www.edselect.com/\t792fd7eb20143386d0c4eb193c6124d\twww.edselect.com\n",
      "\n"
     ]
    }
   ],
   "source": [
    "# 查看分析数据\n",
    "with open('data/hetrec2011-delicious-2k/bookmarks.dat', 'r', encoding=\"latin1\") as f: \n",
    "    for i, line in enumerate(f):\n",
    "        print(line)\n",
    "        if i > 2: \n",
    "            break"
   ]
  },
  {
   "cell_type": "markdown",
   "metadata": {},
   "source": [
    "- 主要提取bookmark`id`以及`urlPrincipal`数据"
   ]
  },
  {
   "cell_type": "code",
   "execution_count": 4,
   "metadata": {
    "ExecuteTime": {
     "end_time": "2019-07-17T02:43:04.445000Z",
     "start_time": "2019-07-17T02:43:04.433569Z"
    }
   },
   "outputs": [
    {
     "name": "stdout",
     "output_type": "stream",
     "text": [
      "userID\tbookmarkID\ttagID\ttimestamp\n",
      "\n",
      "8\t1\t1\t1289255362000\n",
      "\n",
      "8\t2\t1\t1289255159000\n",
      "\n",
      "8\t7\t1\t1289238901000\n",
      "\n"
     ]
    }
   ],
   "source": [
    "with open(\"data/hetrec2011-delicious-2k/user_taggedbookmarks-timestamps.dat\", 'r', encoding=\"latin1\") as f: \n",
    "    for i, line in enumerate(f):\n",
    "        print(line)\n",
    "        if i>2: \n",
    "            break"
   ]
  },
  {
   "cell_type": "code",
   "execution_count": 3,
   "metadata": {
    "ExecuteTime": {
     "end_time": "2019-07-17T06:47:44.461911Z",
     "start_time": "2019-07-17T06:47:44.450763Z"
    }
   },
   "outputs": [],
   "source": [
    "# 对数据进行处理\n",
    "class Dataset:\n",
    "    # 对每个用户按照时间进行从前到后的排序，取最后一个时间的item作为要预测的测试集\n",
    "    def __init__(self, site=None):\n",
    "        # site参数确认加载哪个网址\n",
    "        self.bookmark_path = \"data/hetrec2011-delicious-2k/bookmarks.dat\"\n",
    "        self.user_bookmark_path = \"data/hetrec2011-delicious-2k/user_taggedbookmarks-timestamps.dat\"\n",
    "        self.site = site \n",
    "        self.loadData()\n",
    "        \n",
    "    def loadData(self):\n",
    "        bookmarks = [f.strip() for f in codecs.open(self.bookmark_path, 'r', encoding=\"latin1\").readlines()[1:]]\n",
    "        site_ids = defaultdict(set)\n",
    "        \n",
    "        ## 获取网址所有的bookmarkID\n",
    "        for b in bookmarks:\n",
    "            #print(b)\n",
    "            b = b.split(\"\\t\")\n",
    "            site_ids[b[-1]].add(b[0])\n",
    "        \n",
    "        user_bookmarks = [f.strip() for f in codecs.open(self.user_bookmark_path, 'r', encoding=\"latin1\").readlines()[1:]]\n",
    "        data = defaultdict(set)\n",
    "        cnt = 0 \n",
    "        # 记录用户操作过的bookmarkID的用户ID以及对应的时间戳\n",
    "        for ub in user_bookmarks:\n",
    "            ub = ub.split(\"\\t\")\n",
    "            if self.site is None or (self.site in site_ids and ub[1] in site_ids[self.site]):\n",
    "                data[ub[0]].add((ub[1], int(ub[3][:-3])))\n",
    "                cnt += 1 \n",
    "        self.data = {k: list(sorted(list(data[k]), key=lambda x: x[1], reverse=True)) for k in data}\n",
    "    \n",
    "    def splitData(self):\n",
    "        train, test = {}, {}\n",
    "        for user in self.data: \n",
    "            if user not in train:\n",
    "                train[user] = []\n",
    "                test[user] = []\n",
    "            data = self.data[user]\n",
    "            train[user].extend(data[1:])\n",
    "            test[user].append(data[0])\n",
    "        \n",
    "        return train, test\n",
    "        "
   ]
  },
  {
   "cell_type": "markdown",
   "metadata": {},
   "source": [
    "# 评价指标"
   ]
  },
  {
   "cell_type": "code",
   "execution_count": 4,
   "metadata": {
    "ExecuteTime": {
     "end_time": "2019-07-17T06:47:44.900299Z",
     "start_time": "2019-07-17T06:47:44.893439Z"
    }
   },
   "outputs": [],
   "source": [
    "class Metric:\n",
    "    def __init__(self, train, test, GetRecommendation):\n",
    "        self.train = train \n",
    "        self.test = test \n",
    "        self.GetRecommendation = GetRecommendation\n",
    "        self.recs = self.getRec()\n",
    "        \n",
    "    # 为test中的每个用户推荐\n",
    "    def getRec(self):\n",
    "        recs = {}\n",
    "        for user in self.test: \n",
    "            rank = self.GetRecommendation(user)\n",
    "            recs[user] = rank\n",
    "        return recs\n",
    "    \n",
    "    # 定义精确率指标计算方式\n",
    "    def precision(self):\n",
    "        all, hit = 0, 0 \n",
    "        for user in self.test: \n",
    "            test_items = set([x[0] for x in self.test[user]])\n",
    "            rank = self.recs[user]\n",
    "            for item, score in rank:\n",
    "                if item in test_items:\n",
    "                    hit += 1 \n",
    "            all += len(rank)\n",
    "        return round(hit/all*100, 2) if all>0 else 0.0 \n",
    "    \n",
    "    # 定义召回率的计算方式\n",
    "    def recall(self):\n",
    "        all, hit = 0, 0 \n",
    "        for user in self.test: \n",
    "            test_items = set([x[0] for x in self.test[user]])\n",
    "            rank = self.recs[user]\n",
    "            for item, score in rank:\n",
    "                if item in test_items:\n",
    "                    hit += 1 \n",
    "            all += len(test_items)\n",
    "        \n",
    "        return round(hit/all*100, 2) if all>0 else 0.0 \n",
    "    \n",
    "    def eval(self):\n",
    "        metric = {\"Precision\": self.precision(),\n",
    "                 \"Recall\": self.recall()}\n",
    "        \n",
    "        return metric"
   ]
  },
  {
   "cell_type": "markdown",
   "metadata": {},
   "source": [
    "# 算法实现\n",
    "\n",
    "- RecentPopular\n",
    "- TItemCF\n",
    "- TUserCF\n",
    "- ItemIUF\n",
    "- UserIIF"
   ]
  },
  {
   "cell_type": "code",
   "execution_count": 5,
   "metadata": {
    "ExecuteTime": {
     "end_time": "2019-07-17T06:47:45.360063Z",
     "start_time": "2019-07-17T06:47:45.355943Z"
    }
   },
   "outputs": [],
   "source": [
    "# 1. 给用户推荐近期最热门物品\n",
    "def RecentPopular(train, K, N, alpha=1.0, t0=int(time.time())):\n",
    "    item_score = {}\n",
    "    for user in train:\n",
    "        for item, t in train[user]:\n",
    "            if item not in item_score:\n",
    "                item_score[item] = 0 \n",
    "            item_score[item] += 1.0 / (alpha*(t0-t))\n",
    "    \n",
    "    item_score = list(sorted(item_score.items(), key=lambda x: x[1], reverse=True))\n",
    "    \n",
    "    def GetRecommendation(user):\n",
    "        # 推荐N个最热门的未见过的\n",
    "        user_items = set(train[user])\n",
    "        rec_items = [x for x in item_score if x[0] not in user_items]\n",
    "        return rec_items[:N]\n",
    "    \n",
    "    return GetRecommendation"
   ]
  },
  {
   "cell_type": "code",
   "execution_count": 14,
   "metadata": {
    "ExecuteTime": {
     "end_time": "2019-07-17T06:50:51.722642Z",
     "start_time": "2019-07-17T06:50:51.705047Z"
    }
   },
   "outputs": [],
   "source": [
    "# 2. 时间上下文相爱过关的ItemCF\n",
    "def TItemCF(train, K, N, alpha=1.0, beta=1.0, t0=int(time.time())):\n",
    "    ## 计算物品的的相似度矩阵\n",
    "    sim = {}\n",
    "    num = {}\n",
    "    for user in train:\n",
    "        items = train[user]\n",
    "        for i in range(len(items)):\n",
    "            u, t1 = items[i]\n",
    "            ## 记录商品u被操作的次数\n",
    "            num[u] = num.get(u, 0) + 1 \n",
    "            if u not in sim:\n",
    "                sim[u] = {}\n",
    "            for j in range(len(items)):\n",
    "                if j==i:\n",
    "                    continue\n",
    "                v, t2 = items[j]\n",
    "                if u == v: continue\n",
    "                if v not in sim[u]:\n",
    "                    sim[u][v] = 0 \n",
    "                sim[u][v] += 1.0 / (alpha * abs(t1-t2) + 1)\n",
    "    for u in sim:\n",
    "        for v in sim[u]:\n",
    "            sim[u][v] /= math.sqrt(num[u]*num[v])\n",
    "    \n",
    "    ## 按照相似度排序\n",
    "    sorted_item_sim = {k: list(sorted(v.items(), key=lambda x: x[1], reverse=True)) for k, v  in sim.items()}\n",
    "    \n",
    "    # 获取接口函数\n",
    "    def GetRecommendation(user):\n",
    "        items = {}\n",
    "        seen_items = set(train[user])\n",
    "        for item, t in train[user]:\n",
    "            for u, _ in sorted_item_sim[item][:K]:\n",
    "                if u not in seen_items:\n",
    "                    if u not in items:\n",
    "                        items[u] = 0 \n",
    "                    items[u] += sim[item][u] / (1 + beta*(t0-t))\n",
    "        recs = list(sorted(items.items(), key=lambda x: x[1], reverse=True))[:N]\n",
    "        return recs \n",
    "    \n",
    "    return GetRecommendation"
   ]
  },
  {
   "cell_type": "code",
   "execution_count": 20,
   "metadata": {
    "ExecuteTime": {
     "end_time": "2019-07-17T06:54:59.463514Z",
     "start_time": "2019-07-17T06:54:59.454463Z"
    }
   },
   "outputs": [],
   "source": [
    "# 3. 基于时间上下文的UserCF算法\n",
    "def TUserCF(train, K, N, alpha=1.0, beta=1.0, t0=int(time.time())):\n",
    "    ## 构建item-user的倒排索引\n",
    "    item_users = defaultdict(list)\n",
    "    for user in train: \n",
    "        for item, t in train[user]:\n",
    "            item_users[item].append((user, t))\n",
    "    \n",
    "    # 计算用户的相似度矩阵\n",
    "    sim = {}\n",
    "    num = {}\n",
    "    for item in item_users:\n",
    "        users = item_users[item]\n",
    "        for i in range(len(users)):\n",
    "            u, t1 = users[i]\n",
    "            num[u] = num.get(u, 0) + 1 \n",
    "            \n",
    "            if u not in sim:\n",
    "                sim[u] = {}\n",
    "            for j in range(len(users)):\n",
    "                if j == i: continue\n",
    "                v, t2 = users[j]\n",
    "                if u == v: continue\n",
    "                if v not in sim[u]:\n",
    "                    sim[u][v] = 0 \n",
    "                sim[u][v] += 1.0 / (alpha * abs(t1 - t2) + 1)\n",
    "    for u in sim:\n",
    "        for v in sim[u]:\n",
    "            sim[u][v] /= math.sqrt(num[u] * num[v])\n",
    "    \n",
    "    # 按照相似度排序\n",
    "    sorted_user_sim = {k: list(sorted(v.items(), key=lambda x: x[1], reverse=True)) for k, v in sim.items()}\n",
    "    \n",
    "    # 获取接口函数\n",
    "    def GetRecommendation(user):\n",
    "        items = {}\n",
    "        seen_items = set(train[user])\n",
    "        recs = []\n",
    "        if user in sorted_user_sim:\n",
    "            for u, _ in sorted_user_sim[user][:K]:\n",
    "                for item, _ in train[u]:\n",
    "                    if item not in seen_items:\n",
    "                        if item not in items:\n",
    "                            items[item] = 0 \n",
    "                        items[item] += sim[user][u] / (1 + beta * (t0 - t))\n",
    "            recs = list(sorted(items.items(), key=lambda x: x[1], reverse=True))[:N]\n",
    "        return recs \n",
    "    \n",
    "    return GetRecommendation"
   ]
  },
  {
   "cell_type": "code",
   "execution_count": 28,
   "metadata": {
    "ExecuteTime": {
     "end_time": "2019-07-17T07:58:19.500525Z",
     "start_time": "2019-07-17T07:58:19.489467Z"
    }
   },
   "outputs": [],
   "source": [
    "# 4.基于改进的物品余弦相似度推荐\n",
    "\n",
    "def ItemIUF(train, K, N):\n",
    "    # 计算物品的相似度矩阵\n",
    "    sim = {}\n",
    "    num = {}\n",
    "    for user in train:\n",
    "        items = train[user]\n",
    "        for i in range(len(items)):\n",
    "            u, _ = items[i]\n",
    "            if u not in num:\n",
    "                num[u] = 0 \n",
    "            num[u] += 1 \n",
    "            if u not in sim:\n",
    "                sim[u] = {}\n",
    "            for j in range(len(items)):\n",
    "                if j==i: continue\n",
    "                v, _  = items[j]\n",
    "                if v == u: continue\n",
    "                if v not in sim[u]:\n",
    "                    sim[u][v] = 0 \n",
    "                sim[u][v] += 1 / (math.log(1 + len(items)))\n",
    "    \n",
    "    for u in sim: \n",
    "        for v in sim[u]:\n",
    "            sim[u][v] /= math.sqrt(num[u]*num[v])\n",
    "    \n",
    "    # 按照相似度排序\n",
    "    sorted_item_sim = {k: list(sorted(v.items(), key=lambda x: x[1], reverse=True)) for k, v in sim.items()}\n",
    "    \n",
    "    def GetRecommendation(user):\n",
    "        items = {}\n",
    "        seen_items = set(train[user])\n",
    "        for item, _ in train[user]:\n",
    "            for u, _ in sorted_item_sim[item][:K]:\n",
    "                if u not in seen_items:\n",
    "                    if u not in items:\n",
    "                        items[u] = 0 \n",
    "                    items[u] += sim[item][u]\n",
    "        recs = list(sorted(items.items(), key=lambda x: x[1], reverse=True))[:N]\n",
    "        return recs\n",
    "    \n",
    "    return GetRecommendation\n",
    "            "
   ]
  },
  {
   "cell_type": "code",
   "execution_count": 45,
   "metadata": {
    "ExecuteTime": {
     "end_time": "2019-07-17T08:15:38.270295Z",
     "start_time": "2019-07-17T08:15:38.259573Z"
    }
   },
   "outputs": [],
   "source": [
    "# 基于改进的余弦相似度的推荐\n",
    "def UserIIF(train, K, N):\n",
    "    # 计算item-user的倒排索引\n",
    "    item_users = {}\n",
    "    for user in train: \n",
    "        for item, _ in train[user]:\n",
    "            if item not in item_users:\n",
    "                item_users[item] = set()\n",
    "            item_users[item].add(user)\n",
    "    \n",
    "    # 计算相似度矩阵\n",
    "    sim = {}\n",
    "    num = {}\n",
    "    for item in item_users:\n",
    "        users = list(item_users[item])\n",
    "        for i in range(len(users)):\n",
    "            u = users[i]\n",
    "            if u not in num:\n",
    "                num[u] = 0 \n",
    "            num[u] += 1 \n",
    "            if u not in sim:\n",
    "                sim[u] = {}\n",
    "            for j in range(len(users)):\n",
    "                v = users[j]\n",
    "                if v == u:\n",
    "                    continue\n",
    "                if v not in sim[u]:\n",
    "                    sim[u][v] = 0 \n",
    "                sim[u][v] += 1 / math.log(1 + len(users))\n",
    "    for u in sim:\n",
    "        for v in sim[u]:\n",
    "            sim[u][v] /= math.sqrt(num[u]*num[v])\n",
    "    \n",
    "    sorted_user_sim = {k: list(sorted(v.items(), key=lambda x: x[1], reverse=True)) for k, v in sim.items()}\n",
    "    \n",
    "    # 获取接口函数\n",
    "    def GetRecommendation(user):\n",
    "        items = {}\n",
    "        seen_items = set(train[user])\n",
    "        recs = []\n",
    "        if user in sorted_user_sim:\n",
    "            for u, _ in sorted_user_sim[user][:K]:\n",
    "                for item, _ in train[u]:\n",
    "                    if item not in seen_items:\n",
    "                        if item not in items:\n",
    "                            items[item] = 0 \n",
    "                        items[item] += sim[user][u]\n",
    "            recs = list(sorted(items.items(), key=lambda x: x[1], reverse=True))[:N]\n",
    "        return recs\n",
    "    \n",
    "    return GetRecommendation\n",
    "    "
   ]
  },
  {
   "cell_type": "markdown",
   "metadata": {},
   "source": [
    "\n",
    "# 实验"
   ]
  },
  {
   "cell_type": "code",
   "execution_count": 39,
   "metadata": {
    "ExecuteTime": {
     "end_time": "2019-07-17T08:06:00.496746Z",
     "start_time": "2019-07-17T08:06:00.492081Z"
    }
   },
   "outputs": [],
   "source": [
    "class Experiment:\n",
    "    def __init__(self, K, N, site=None, rt=\"RecentPopular\"):\n",
    "        self.K = K \n",
    "        self.N = N \n",
    "        self.site = site\n",
    "        self.rt = rt \n",
    "        self.alg = {\"RecentPopular\": RecentPopular, \"TItemCF\": TItemCF,\n",
    "                   \"TUserCF\": TUserCF, \"ItemIUF\": ItemIUF, \"UserIIF\": UserIIF}\n",
    "        \n",
    "    # 定义单次实验\n",
    "    def worker(self, train, test):\n",
    "        getRecommendation = self.alg[self.rt](train, self.K, self.N)\n",
    "        metric = Metric(train, test, getRecommendation)\n",
    "        return metric.eval()\n",
    "    \n",
    "    \n",
    "    # 运行多次实验\n",
    "    @timmer\n",
    "    def run(self):\n",
    "        dataset = Dataset(self.site)\n",
    "        train, test = dataset.splitData()\n",
    "        metric = self.worker(train, test)\n",
    "        print(\"Result (site={}, K={}, N={}): {}\".format(self.site, self.K, self.N, metric))"
   ]
  },
  {
   "cell_type": "markdown",
   "metadata": {},
   "source": [
    "## RecentPopular实验"
   ]
  },
  {
   "cell_type": "code",
   "execution_count": 11,
   "metadata": {
    "ExecuteTime": {
     "end_time": "2019-07-17T06:47:56.144404Z",
     "start_time": "2019-07-17T06:47:49.157926Z"
    }
   },
   "outputs": [
    {
     "name": "stdout",
     "output_type": "stream",
     "text": [
      "Result (site=www.nytimes.com, K=0, N=10): {'Precision': 0.16, 'Recall': 1.58}\n",
      "Func: run | RunTime: 0.472475\n",
      "Result (site=www.nytimes.com, K=0, N=20): {'Precision': 0.11, 'Recall': 2.26}\n",
      "Func: run | RunTime: 0.310248\n",
      "Result (site=www.nytimes.com, K=0, N=30): {'Precision': 0.09, 'Recall': 2.71}\n",
      "Func: run | RunTime: 0.339364\n",
      "Result (site=www.nytimes.com, K=0, N=40): {'Precision': 0.08, 'Recall': 3.39}\n",
      "Func: run | RunTime: 0.317156\n",
      "Result (site=www.nytimes.com, K=0, N=50): {'Precision': 0.08, 'Recall': 3.84}\n",
      "Func: run | RunTime: 0.333093\n",
      "Result (site=www.nytimes.com, K=0, N=60): {'Precision': 0.1, 'Recall': 6.09}\n",
      "Func: run | RunTime: 0.318316\n",
      "Result (site=www.nytimes.com, K=0, N=70): {'Precision': 0.09, 'Recall': 6.09}\n",
      "Func: run | RunTime: 0.343513\n",
      "Result (site=www.nytimes.com, K=0, N=80): {'Precision': 0.08, 'Recall': 6.55}\n",
      "Func: run | RunTime: 0.321679\n",
      "Result (site=www.nytimes.com, K=0, N=90): {'Precision': 0.09, 'Recall': 7.67}\n",
      "Func: run | RunTime: 0.334337\n",
      "Result (site=www.nytimes.com, K=0, N=100): {'Precision': 0.09, 'Recall': 8.58}\n",
      "Func: run | RunTime: 0.424959\n",
      "Result (site=en.wikipedia.org, K=0, N=10): {'Precision': 0.0, 'Recall': 0.0}\n",
      "Func: run | RunTime: 0.347887\n",
      "Result (site=en.wikipedia.org, K=0, N=20): {'Precision': 0.01, 'Recall': 0.25}\n",
      "Func: run | RunTime: 0.370713\n",
      "Result (site=en.wikipedia.org, K=0, N=30): {'Precision': 0.02, 'Recall': 0.49}\n",
      "Func: run | RunTime: 0.340955\n",
      "Result (site=en.wikipedia.org, K=0, N=40): {'Precision': 0.01, 'Recall': 0.49}\n",
      "Func: run | RunTime: 0.390632\n",
      "Result (site=en.wikipedia.org, K=0, N=50): {'Precision': 0.01, 'Recall': 0.49}\n",
      "Func: run | RunTime: 0.365779\n",
      "Result (site=en.wikipedia.org, K=0, N=60): {'Precision': 0.01, 'Recall': 0.49}\n",
      "Func: run | RunTime: 0.380639\n",
      "Result (site=en.wikipedia.org, K=0, N=70): {'Precision': 0.01, 'Recall': 0.99}\n",
      "Func: run | RunTime: 0.310165\n",
      "Result (site=en.wikipedia.org, K=0, N=80): {'Precision': 0.02, 'Recall': 1.23}\n",
      "Func: run | RunTime: 0.312914\n",
      "Result (site=en.wikipedia.org, K=0, N=90): {'Precision': 0.01, 'Recall': 1.23}\n",
      "Func: run | RunTime: 0.340468\n",
      "Result (site=en.wikipedia.org, K=0, N=100): {'Precision': 0.01, 'Recall': 1.48}\n",
      "Func: run | RunTime: 0.307919\n"
     ]
    }
   ],
   "source": [
    "K = 0 \n",
    "for site in [\"www.nytimes.com\", \"en.wikipedia.org\"]:\n",
    "    for N in range(10, 110, 10):\n",
    "        exp = Experiment(K, N, site=site, rt=\"RecentPopular\")\n",
    "        exp.run()"
   ]
  },
  {
   "cell_type": "markdown",
   "metadata": {},
   "source": [
    "## TItemCF实验"
   ]
  },
  {
   "cell_type": "code",
   "execution_count": 15,
   "metadata": {
    "ExecuteTime": {
     "end_time": "2019-07-17T06:51:03.449431Z",
     "start_time": "2019-07-17T06:50:57.029045Z"
    }
   },
   "outputs": [
    {
     "name": "stdout",
     "output_type": "stream",
     "text": [
      "Result (site=www.nytimes.com, K=10, N=10): {'Precision': 2.26, 'Recall': 2.26}\n",
      "Func: run | RunTime: 0.329598\n",
      "Result (site=www.nytimes.com, K=10, N=20): {'Precision': 2.14, 'Recall': 2.48}\n",
      "Func: run | RunTime: 0.327818\n",
      "Result (site=www.nytimes.com, K=10, N=30): {'Precision': 2.13, 'Recall': 2.48}\n",
      "Func: run | RunTime: 0.304479\n",
      "Result (site=www.nytimes.com, K=10, N=40): {'Precision': 2.13, 'Recall': 2.48}\n",
      "Func: run | RunTime: 0.342988\n",
      "Result (site=www.nytimes.com, K=10, N=50): {'Precision': 2.13, 'Recall': 2.48}\n",
      "Func: run | RunTime: 0.311992\n",
      "Result (site=www.nytimes.com, K=10, N=60): {'Precision': 2.13, 'Recall': 2.48}\n",
      "Func: run | RunTime: 0.334342\n",
      "Result (site=www.nytimes.com, K=10, N=70): {'Precision': 2.13, 'Recall': 2.48}\n",
      "Func: run | RunTime: 0.302490\n",
      "Result (site=www.nytimes.com, K=10, N=80): {'Precision': 2.13, 'Recall': 2.48}\n",
      "Func: run | RunTime: 0.345126\n",
      "Result (site=www.nytimes.com, K=10, N=90): {'Precision': 2.13, 'Recall': 2.48}\n",
      "Func: run | RunTime: 0.303960\n",
      "Result (site=www.nytimes.com, K=10, N=100): {'Precision': 2.13, 'Recall': 2.48}\n",
      "Func: run | RunTime: 0.341575\n",
      "Result (site=en.wikipedia.org, K=10, N=10): {'Precision': 0.36, 'Recall': 0.25}\n",
      "Func: run | RunTime: 0.304202\n",
      "Result (site=en.wikipedia.org, K=10, N=20): {'Precision': 0.35, 'Recall': 0.25}\n",
      "Func: run | RunTime: 0.342305\n",
      "Result (site=en.wikipedia.org, K=10, N=30): {'Precision': 0.35, 'Recall': 0.25}\n",
      "Func: run | RunTime: 0.305631\n",
      "Result (site=en.wikipedia.org, K=10, N=40): {'Precision': 0.35, 'Recall': 0.25}\n",
      "Func: run | RunTime: 0.313207\n",
      "Result (site=en.wikipedia.org, K=10, N=50): {'Precision': 0.35, 'Recall': 0.25}\n",
      "Func: run | RunTime: 0.326168\n",
      "Result (site=en.wikipedia.org, K=10, N=60): {'Precision': 0.35, 'Recall': 0.25}\n",
      "Func: run | RunTime: 0.305535\n",
      "Result (site=en.wikipedia.org, K=10, N=70): {'Precision': 0.35, 'Recall': 0.25}\n",
      "Func: run | RunTime: 0.332977\n",
      "Result (site=en.wikipedia.org, K=10, N=80): {'Precision': 0.35, 'Recall': 0.25}\n",
      "Func: run | RunTime: 0.298447\n",
      "Result (site=en.wikipedia.org, K=10, N=90): {'Precision': 0.35, 'Recall': 0.25}\n",
      "Func: run | RunTime: 0.337360\n",
      "Result (site=en.wikipedia.org, K=10, N=100): {'Precision': 0.35, 'Recall': 0.25}\n",
      "Func: run | RunTime: 0.306484\n"
     ]
    }
   ],
   "source": [
    "K = 10 \n",
    "for site in [\"www.nytimes.com\", \"en.wikipedia.org\"]:\n",
    "    for N in range(10, 110, 10):\n",
    "        exp = Experiment(K, N, site=site, rt=\"TItemCF\")\n",
    "        exp.run()"
   ]
  },
  {
   "cell_type": "markdown",
   "metadata": {},
   "source": [
    "## TUserCF实验"
   ]
  },
  {
   "cell_type": "code",
   "execution_count": 21,
   "metadata": {
    "ExecuteTime": {
     "end_time": "2019-07-17T06:55:12.760752Z",
     "start_time": "2019-07-17T06:55:06.365738Z"
    }
   },
   "outputs": [
    {
     "name": "stdout",
     "output_type": "stream",
     "text": [
      "Result (site=www.nytimes.com, K=10, N=10): {'Precision': 3.36, 'Recall': 2.26}\n",
      "Func: run | RunTime: 0.312162\n",
      "Result (site=www.nytimes.com, K=10, N=20): {'Precision': 2.6, 'Recall': 2.26}\n",
      "Func: run | RunTime: 0.322178\n",
      "Result (site=www.nytimes.com, K=10, N=30): {'Precision': 2.72, 'Recall': 2.48}\n",
      "Func: run | RunTime: 0.295560\n",
      "Result (site=www.nytimes.com, K=10, N=40): {'Precision': 2.71, 'Recall': 2.48}\n",
      "Func: run | RunTime: 0.347196\n",
      "Result (site=www.nytimes.com, K=10, N=50): {'Precision': 2.71, 'Recall': 2.48}\n",
      "Func: run | RunTime: 0.307859\n",
      "Result (site=www.nytimes.com, K=10, N=60): {'Precision': 2.71, 'Recall': 2.48}\n",
      "Func: run | RunTime: 0.302337\n",
      "Result (site=www.nytimes.com, K=10, N=70): {'Precision': 2.71, 'Recall': 2.48}\n",
      "Func: run | RunTime: 0.349459\n",
      "Result (site=www.nytimes.com, K=10, N=80): {'Precision': 2.71, 'Recall': 2.48}\n",
      "Func: run | RunTime: 0.302540\n",
      "Result (site=www.nytimes.com, K=10, N=90): {'Precision': 2.71, 'Recall': 2.48}\n",
      "Func: run | RunTime: 0.342327\n",
      "Result (site=www.nytimes.com, K=10, N=100): {'Precision': 2.71, 'Recall': 2.48}\n",
      "Func: run | RunTime: 0.303886\n",
      "Result (site=en.wikipedia.org, K=10, N=10): {'Precision': 0.87, 'Recall': 0.25}\n",
      "Func: run | RunTime: 0.341105\n",
      "Result (site=en.wikipedia.org, K=10, N=20): {'Precision': 0.86, 'Recall': 0.25}\n",
      "Func: run | RunTime: 0.302764\n",
      "Result (site=en.wikipedia.org, K=10, N=30): {'Precision': 0.86, 'Recall': 0.25}\n",
      "Func: run | RunTime: 0.347400\n",
      "Result (site=en.wikipedia.org, K=10, N=40): {'Precision': 0.86, 'Recall': 0.25}\n",
      "Func: run | RunTime: 0.310416\n",
      "Result (site=en.wikipedia.org, K=10, N=50): {'Precision': 0.86, 'Recall': 0.25}\n",
      "Func: run | RunTime: 0.305110\n",
      "Result (site=en.wikipedia.org, K=10, N=60): {'Precision': 0.86, 'Recall': 0.25}\n",
      "Func: run | RunTime: 0.327999\n",
      "Result (site=en.wikipedia.org, K=10, N=70): {'Precision': 0.86, 'Recall': 0.25}\n",
      "Func: run | RunTime: 0.300315\n",
      "Result (site=en.wikipedia.org, K=10, N=80): {'Precision': 0.86, 'Recall': 0.25}\n",
      "Func: run | RunTime: 0.335018\n",
      "Result (site=en.wikipedia.org, K=10, N=90): {'Precision': 0.86, 'Recall': 0.25}\n",
      "Func: run | RunTime: 0.299769\n",
      "Result (site=en.wikipedia.org, K=10, N=100): {'Precision': 0.86, 'Recall': 0.25}\n",
      "Func: run | RunTime: 0.333706\n"
     ]
    }
   ],
   "source": [
    "K = 10 \n",
    "for site in [\"www.nytimes.com\", \"en.wikipedia.org\"]:\n",
    "    for N in range(10, 110, 10):\n",
    "        exp = Experiment(K, N, site=site, rt=\"TUserCF\")\n",
    "        exp.run()"
   ]
  },
  {
   "cell_type": "markdown",
   "metadata": {},
   "source": [
    "## ItemIUF"
   ]
  },
  {
   "cell_type": "code",
   "execution_count": 47,
   "metadata": {
    "ExecuteTime": {
     "end_time": "2019-07-17T08:16:18.515930Z",
     "start_time": "2019-07-17T08:16:11.895908Z"
    }
   },
   "outputs": [
    {
     "name": "stdout",
     "output_type": "stream",
     "text": [
      "Result (site=www.nytimes.com, K=10, N=10): {'Precision': 2.26, 'Recall': 2.26}\n",
      "Func: run | RunTime: 0.344931\n",
      "Result (site=www.nytimes.com, K=10, N=20): {'Precision': 2.18, 'Recall': 2.48}\n",
      "Func: run | RunTime: 0.303936\n",
      "Result (site=www.nytimes.com, K=10, N=30): {'Precision': 2.15, 'Recall': 2.48}\n",
      "Func: run | RunTime: 0.341212\n",
      "Result (site=www.nytimes.com, K=10, N=40): {'Precision': 2.15, 'Recall': 2.48}\n",
      "Func: run | RunTime: 0.318053\n",
      "Result (site=www.nytimes.com, K=10, N=50): {'Precision': 2.15, 'Recall': 2.48}\n",
      "Func: run | RunTime: 0.305131\n",
      "Result (site=www.nytimes.com, K=10, N=60): {'Precision': 2.15, 'Recall': 2.48}\n",
      "Func: run | RunTime: 0.336900\n",
      "Result (site=www.nytimes.com, K=10, N=70): {'Precision': 2.15, 'Recall': 2.48}\n",
      "Func: run | RunTime: 0.308511\n",
      "Result (site=www.nytimes.com, K=10, N=80): {'Precision': 2.15, 'Recall': 2.48}\n",
      "Func: run | RunTime: 0.443600\n",
      "Result (site=www.nytimes.com, K=10, N=90): {'Precision': 2.15, 'Recall': 2.48}\n",
      "Func: run | RunTime: 0.297744\n",
      "Result (site=www.nytimes.com, K=10, N=100): {'Precision': 2.15, 'Recall': 2.48}\n",
      "Func: run | RunTime: 0.339327\n",
      "Result (site=en.wikipedia.org, K=10, N=10): {'Precision': 0.36, 'Recall': 0.25}\n",
      "Func: run | RunTime: 0.300658\n",
      "Result (site=en.wikipedia.org, K=10, N=20): {'Precision': 0.35, 'Recall': 0.25}\n",
      "Func: run | RunTime: 0.330595\n",
      "Result (site=en.wikipedia.org, K=10, N=30): {'Precision': 0.35, 'Recall': 0.25}\n",
      "Func: run | RunTime: 0.321435\n",
      "Result (site=en.wikipedia.org, K=10, N=40): {'Precision': 0.35, 'Recall': 0.25}\n",
      "Func: run | RunTime: 0.353108\n",
      "Result (site=en.wikipedia.org, K=10, N=50): {'Precision': 0.35, 'Recall': 0.25}\n",
      "Func: run | RunTime: 0.326806\n",
      "Result (site=en.wikipedia.org, K=10, N=60): {'Precision': 0.35, 'Recall': 0.25}\n",
      "Func: run | RunTime: 0.320872\n",
      "Result (site=en.wikipedia.org, K=10, N=70): {'Precision': 0.35, 'Recall': 0.25}\n",
      "Func: run | RunTime: 0.391642\n",
      "Result (site=en.wikipedia.org, K=10, N=80): {'Precision': 0.35, 'Recall': 0.25}\n",
      "Func: run | RunTime: 0.300152\n",
      "Result (site=en.wikipedia.org, K=10, N=90): {'Precision': 0.35, 'Recall': 0.25}\n",
      "Func: run | RunTime: 0.329483\n",
      "Result (site=en.wikipedia.org, K=10, N=100): {'Precision': 0.35, 'Recall': 0.25}\n",
      "Func: run | RunTime: 0.301868\n"
     ]
    }
   ],
   "source": [
    "K = 10 \n",
    "for site in [\"www.nytimes.com\", \"en.wikipedia.org\"]:\n",
    "    for N in range(10, 110, 10):\n",
    "        exp = Experiment(K, N, site=site, rt=\"ItemIUF\")\n",
    "        exp.run()"
   ]
  },
  {
   "cell_type": "markdown",
   "metadata": {},
   "source": [
    "## UserCF"
   ]
  },
  {
   "cell_type": "code",
   "execution_count": 48,
   "metadata": {
    "ExecuteTime": {
     "end_time": "2019-07-17T08:16:30.165101Z",
     "start_time": "2019-07-17T08:16:23.622441Z"
    }
   },
   "outputs": [
    {
     "name": "stdout",
     "output_type": "stream",
     "text": [
      "Result (site=www.nytimes.com, K=10, N=10): {'Precision': 3.69, 'Recall': 2.48}\n",
      "Func: run | RunTime: 0.336690\n",
      "Result (site=www.nytimes.com, K=10, N=20): {'Precision': 2.86, 'Recall': 2.48}\n",
      "Func: run | RunTime: 0.292145\n",
      "Result (site=www.nytimes.com, K=10, N=30): {'Precision': 2.72, 'Recall': 2.48}\n",
      "Func: run | RunTime: 0.335682\n",
      "Result (site=www.nytimes.com, K=10, N=40): {'Precision': 2.71, 'Recall': 2.48}\n",
      "Func: run | RunTime: 0.304918\n",
      "Result (site=www.nytimes.com, K=10, N=50): {'Precision': 2.71, 'Recall': 2.48}\n",
      "Func: run | RunTime: 0.305903\n",
      "Result (site=www.nytimes.com, K=10, N=60): {'Precision': 2.71, 'Recall': 2.48}\n",
      "Func: run | RunTime: 0.339094\n",
      "Result (site=www.nytimes.com, K=10, N=70): {'Precision': 2.71, 'Recall': 2.48}\n",
      "Func: run | RunTime: 0.304954\n",
      "Result (site=www.nytimes.com, K=10, N=80): {'Precision': 2.71, 'Recall': 2.48}\n",
      "Func: run | RunTime: 0.359146\n",
      "Result (site=www.nytimes.com, K=10, N=90): {'Precision': 2.71, 'Recall': 2.48}\n",
      "Func: run | RunTime: 0.311465\n",
      "Result (site=www.nytimes.com, K=10, N=100): {'Precision': 2.71, 'Recall': 2.48}\n",
      "Func: run | RunTime: 0.329772\n",
      "Result (site=en.wikipedia.org, K=10, N=10): {'Precision': 0.87, 'Recall': 0.25}\n",
      "Func: run | RunTime: 0.299985\n",
      "Result (site=en.wikipedia.org, K=10, N=20): {'Precision': 0.86, 'Recall': 0.25}\n",
      "Func: run | RunTime: 0.303452\n",
      "Result (site=en.wikipedia.org, K=10, N=30): {'Precision': 0.86, 'Recall': 0.25}\n",
      "Func: run | RunTime: 0.320497\n",
      "Result (site=en.wikipedia.org, K=10, N=40): {'Precision': 0.86, 'Recall': 0.25}\n",
      "Func: run | RunTime: 0.300982\n",
      "Result (site=en.wikipedia.org, K=10, N=50): {'Precision': 0.86, 'Recall': 0.25}\n",
      "Func: run | RunTime: 0.326984\n",
      "Result (site=en.wikipedia.org, K=10, N=60): {'Precision': 0.86, 'Recall': 0.25}\n",
      "Func: run | RunTime: 0.366526\n",
      "Result (site=en.wikipedia.org, K=10, N=70): {'Precision': 0.86, 'Recall': 0.25}\n",
      "Func: run | RunTime: 0.396181\n",
      "Result (site=en.wikipedia.org, K=10, N=80): {'Precision': 0.86, 'Recall': 0.25}\n",
      "Func: run | RunTime: 0.301673\n",
      "Result (site=en.wikipedia.org, K=10, N=90): {'Precision': 0.86, 'Recall': 0.25}\n",
      "Func: run | RunTime: 0.342285\n",
      "Result (site=en.wikipedia.org, K=10, N=100): {'Precision': 0.86, 'Recall': 0.25}\n",
      "Func: run | RunTime: 0.358240\n"
     ]
    }
   ],
   "source": [
    "K = 10 \n",
    "for site in [\"www.nytimes.com\", \"en.wikipedia.org\"]:\n",
    "    for N in range(10, 110, 10):\n",
    "        exp = Experiment(K, N, site=site, rt=\"UserIIF\")\n",
    "        exp.run()"
   ]
  },
  {
   "cell_type": "code",
   "execution_count": null,
   "metadata": {},
   "outputs": [],
   "source": []
  }
 ],
 "metadata": {
  "kernelspec": {
   "display_name": "Python 3",
   "language": "python",
   "name": "python3"
  },
  "language_info": {
   "codemirror_mode": {
    "name": "ipython",
    "version": 3
   },
   "file_extension": ".py",
   "mimetype": "text/x-python",
   "name": "python",
   "nbconvert_exporter": "python",
   "pygments_lexer": "ipython3",
   "version": "3.7.3"
  },
  "toc": {
   "base_numbering": 1,
   "nav_menu": {},
   "number_sections": true,
   "sideBar": true,
   "skip_h1_title": false,
   "title_cell": "Table of Contents",
   "title_sidebar": "Contents",
   "toc_cell": false,
   "toc_position": {},
   "toc_section_display": true,
   "toc_window_display": false
  }
 },
 "nbformat": 4,
 "nbformat_minor": 2
}
