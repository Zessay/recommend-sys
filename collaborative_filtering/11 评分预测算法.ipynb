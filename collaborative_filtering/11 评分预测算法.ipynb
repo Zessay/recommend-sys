{
 "cells": [
  {
   "cell_type": "code",
   "execution_count": 1,
   "metadata": {
    "ExecuteTime": {
     "end_time": "2019-07-19T03:42:46.846994Z",
     "start_time": "2019-07-19T03:42:46.845303Z"
    }
   },
   "outputs": [],
   "source": [
    "import random \n",
    "import math \n",
    "import time \n",
    "from tqdm import tqdm "
   ]
  },
  {
   "cell_type": "markdown",
   "metadata": {},
   "source": [
    "# 通用函数定义"
   ]
  },
  {
   "cell_type": "code",
   "execution_count": 3,
   "metadata": {
    "ExecuteTime": {
     "end_time": "2019-07-19T03:51:21.453223Z",
     "start_time": "2019-07-19T03:51:21.448875Z"
    }
   },
   "outputs": [],
   "source": [
    "# 定义装饰器，监控运行时间\n",
    "def timmer(func):\n",
    "    def wrapper(*args, **kwargs):\n",
    "        start_time = time.time()\n",
    "        res = func(*args, **kwargs)\n",
    "        stop_time = time.time()\n",
    "        print(\"Func: {:s} | Run time: %s\".format(func.__name__, stop_time - start_time))\n",
    "        return res \n",
    "    return wrapper"
   ]
  },
  {
   "cell_type": "markdown",
   "metadata": {},
   "source": [
    "# 数据处理相关"
   ]
  },
  {
   "cell_type": "code",
   "execution_count": 4,
   "metadata": {
    "ExecuteTime": {
     "end_time": "2019-07-19T03:52:35.987711Z",
     "start_time": "2019-07-19T03:52:35.984875Z"
    }
   },
   "outputs": [],
   "source": [
    "class Data:\n",
    "    def __init__(self, user, item, rate, test=False, predict=0.0):\n",
    "        self.user = user\n",
    "        self.item = item\n",
    "        self.rate = rate \n",
    "        self.test = test \n",
    "        self.predict = predict"
   ]
  },
  {
   "cell_type": "code",
   "execution_count": 5,
   "metadata": {
    "ExecuteTime": {
     "end_time": "2019-07-19T03:56:00.052396Z",
     "start_time": "2019-07-19T03:56:00.048192Z"
    }
   },
   "outputs": [],
   "source": [
    "class Dataset:\n",
    "    def __init__(self, fp):\n",
    "        self.data = self.loadData(fp)\n",
    "    \n",
    "    def loadData(self, fp):\n",
    "        data = []\n",
    "        for l in open(fp):\n",
    "            data.append(tuple(map(int, l.strip().split(\"::\")[:3])))\n",
    "        data = [Data(*d) for d in data]\n",
    "        return data \n",
    "    \n",
    "    def splitData(self, M, k, seed=1):\n",
    "        random.seed(seed)\n",
    "        for i in range(len(self.data)):\n",
    "            if random.randint(0, M-1) == k: \n",
    "                self.data[i].test = True"
   ]
  },
  {
   "cell_type": "markdown",
   "metadata": {},
   "source": [
    "# 评价指标"
   ]
  },
  {
   "cell_type": "code",
   "execution_count": 6,
   "metadata": {
    "ExecuteTime": {
     "end_time": "2019-07-19T04:05:58.709078Z",
     "start_time": "2019-07-19T04:05:58.691798Z"
    }
   },
   "outputs": [],
   "source": [
    "def RMSE(records):\n",
    "    rmse = {\"train_rmse\": [], \"test_rmse\": []}\n",
    "    for r in records:\n",
    "        if r.test:\n",
    "            rmse[\"test_rmse\"].append((r.rate - r.predict)**2)\n",
    "        else:\n",
    "            rmse[\"train_rmse\"].append((r.rate - r.predict)**2)\n",
    "    rmse = {\"train_rmse\": math.sqrt(sum(rmse[\"train_rmse\"]) / len(rmse[\"train_rmse\"])),\n",
    "           \"test_rmse\": math.sqrt(sum(rmse[\"test_rmse\"]) / len(rmse[\"test_rmse\"]))}\n",
    "    return rmse"
   ]
  },
  {
   "cell_type": "markdown",
   "metadata": {},
   "source": [
    "# 算法实现\n",
    "\n",
    "- Cluster\n",
    "- IdCluster\n",
    "- UserActivityCluster\n",
    "- ItemPopularityCluster\n",
    "- UserVoteCluster\n",
    "- ItemVoteCluster"
   ]
  },
  {
   "cell_type": "code",
   "execution_count": 7,
   "metadata": {
    "ExecuteTime": {
     "end_time": "2019-07-19T06:31:22.787455Z",
     "start_time": "2019-07-19T06:31:22.785224Z"
    }
   },
   "outputs": [],
   "source": [
    "# 1. Cluster\n",
    "class Cluster:\n",
    "    def __init__(self, records):\n",
    "        self.group = {}\n",
    "    \n",
    "    def GetGroup(self, i):\n",
    "        return 0"
   ]
  },
  {
   "cell_type": "code",
   "execution_count": 8,
   "metadata": {
    "ExecuteTime": {
     "end_time": "2019-07-19T06:32:14.310894Z",
     "start_time": "2019-07-19T06:32:14.302678Z"
    }
   },
   "outputs": [],
   "source": [
    "# 2. IdCluster\n",
    "class IdCluster(Cluster):\n",
    "    def __init__(self, records):\n",
    "        Cluster.__init__(self, records)\n",
    "    \n",
    "    def GetGroup(self, i):\n",
    "        return i"
   ]
  },
  {
   "cell_type": "code",
   "execution_count": 9,
   "metadata": {
    "ExecuteTime": {
     "end_time": "2019-07-19T06:42:54.218179Z",
     "start_time": "2019-07-19T06:42:54.204110Z"
    }
   },
   "outputs": [],
   "source": [
    "# 3. UserActivityCluster\n",
    "class UserActivityCluster(Cluster):\n",
    "    def __init__(self, records):\n",
    "        Cluster.__init__(self, records)\n",
    "        activity = {}\n",
    "        for r in records:\n",
    "            if r.test: continue\n",
    "            if r.user not in activity:\n",
    "                activity[r.user] = 0 \n",
    "            activity[r.user] += 1 \n",
    "        \n",
    "        # 按照用户活跃度进行分组\n",
    "        k = 0 \n",
    "        for user, n in sorted(activity.items(), key=lambda x: x[-1], reverse=False):\n",
    "            c = int((k*5)/len(activity))\n",
    "            k += 1 \n",
    "    \n",
    "    def GetGroup(self, uid):\n",
    "        if uid not in self.group:\n",
    "            return -1 \n",
    "        else:\n",
    "            return self.group[uid]\n",
    "        "
   ]
  },
  {
   "cell_type": "code",
   "execution_count": 10,
   "metadata": {
    "ExecuteTime": {
     "end_time": "2019-07-19T06:46:52.843612Z",
     "start_time": "2019-07-19T06:46:52.839109Z"
    }
   },
   "outputs": [],
   "source": [
    "# 4. ItemPopularity\n",
    "class ItemPopularityCluster(Cluster):\n",
    "    def __init__(self, records):\n",
    "        Cluster.__init__(self, records)\n",
    "        popularity = {}\n",
    "        for r in records:\n",
    "            if r.test: continue\n",
    "            if r.item not in popularity:\n",
    "                popularity[r.item] = 0 \n",
    "            popularity[r.item] += 1 \n",
    "        \n",
    "        # 按照物品流行度进行分组\n",
    "        k = 0 \n",
    "        for item, n in sorted(popularity.items(), key=lambda x: x[-1], reverse=False):\n",
    "            c = int((k*5)/len(popularity))\n",
    "            self.group[item] = c \n",
    "            k += 1 \n",
    "    \n",
    "    def GetGroup(self, iid):\n",
    "        if iid not in self.group:\n",
    "            return -1 \n",
    "        else:\n",
    "            return self.group[iid]"
   ]
  },
  {
   "cell_type": "code",
   "execution_count": 16,
   "metadata": {
    "ExecuteTime": {
     "end_time": "2019-07-19T07:11:28.492859Z",
     "start_time": "2019-07-19T07:11:28.488524Z"
    }
   },
   "outputs": [],
   "source": [
    "# 5. UserVoteCluster\n",
    "class UserVoteCluster(Cluster):\n",
    "    def __init__(self, records):\n",
    "        Cluster.__init__(self, records)\n",
    "        vote, cnt = {}, {} \n",
    "        for r in records:\n",
    "            if r.test: continue\n",
    "            vote[r.user] = vote.get(r.user, 0) + r.rate\n",
    "            cnt[r.user] = cnt.get(r.user, 0) + 1 \n",
    "        # 按照物品平均评分进行分组\n",
    "        for user, v in vote.items():\n",
    "            c = v / (cnt[user] * 1.0 )\n",
    "            self.group[user] = int(c*2)\n",
    "        \n",
    "    def GetGroup(self, uid):\n",
    "        if uid not in self.group:\n",
    "            return -1 \n",
    "        else:\n",
    "            return self.group[uid]"
   ]
  },
  {
   "cell_type": "code",
   "execution_count": 23,
   "metadata": {
    "ExecuteTime": {
     "end_time": "2019-07-19T07:17:57.203414Z",
     "start_time": "2019-07-19T07:17:57.199080Z"
    }
   },
   "outputs": [],
   "source": [
    "# 6. ItemVoteCluster\n",
    "class ItemVoteCluster(Cluster):\n",
    "    def __init__(self, records):\n",
    "        Cluster.__init__(self, records)\n",
    "        vote, cnt = {}, {} \n",
    "        for r in records:\n",
    "            if r.test: continue\n",
    "            vote[r.item] = vote.get(r.item, 0) + r.rate\n",
    "            cnt[r.item] = cnt.get(r.item, 0) + 1 \n",
    "        \n",
    "        # 按照物品平均评分进行分组\n",
    "        for item, v in vote.items():\n",
    "            c = v / (cnt[item] * 1.0)\n",
    "            self.group[item] = int(c*2)\n",
    "        \n",
    "    def GetGroup(self, iid):\n",
    "        if iid not in self.group:\n",
    "            return -1 \n",
    "        else:\n",
    "            return self.group[iid]"
   ]
  },
  {
   "cell_type": "code",
   "execution_count": 24,
   "metadata": {
    "ExecuteTime": {
     "end_time": "2019-07-19T07:17:57.370812Z",
     "start_time": "2019-07-19T07:17:57.366042Z"
    }
   },
   "outputs": [],
   "source": [
    "# 返回预测接口函数\n",
    "def PredictAll(records, UserGroup, ItemGroup):\n",
    "    '''\n",
    "    records: 数据集 \n",
    "    UserGroup: 用户分组类 \n",
    "    ItemGroup: 物品分组类 \n",
    "    '''\n",
    "    userGroup = UserGroup(records)\n",
    "    itemGroup = ItemGroup(records)\n",
    "    group = {}\n",
    "    for r in records:\n",
    "        ug = userGroup.GetGroup(r.user)\n",
    "        ig = itemGroup.GetGroup(r.item)\n",
    "        if ug not in group:\n",
    "            group[ug] = {}\n",
    "        if ig not in group[ug]:\n",
    "            group[ug][ig] = []\n",
    "        group[ug][ig].append(r.rate)\n",
    "    \n",
    "    for ug in group:\n",
    "        for ig in group[ug]:\n",
    "            group[ug][ig] = sum(group[ug][ig]) / (1.0 * len(group[ug][ig]) + 1.0)\n",
    "    \n",
    "    # 预测\n",
    "    for r in records:\n",
    "        ug = userGroup.GetGroup(r.user)\n",
    "        ig = itemGroup.GetGroup(r.item)\n",
    "        r.predict = group[ug][ig]"
   ]
  },
  {
   "cell_type": "markdown",
   "metadata": {},
   "source": [
    "# 实验"
   ]
  },
  {
   "cell_type": "code",
   "execution_count": 25,
   "metadata": {
    "ExecuteTime": {
     "end_time": "2019-07-19T07:17:57.688596Z",
     "start_time": "2019-07-19T07:17:57.683230Z"
    }
   },
   "outputs": [],
   "source": [
    "class Experiment:\n",
    "    def __init__(self, M, UserGroup, ItemGroup, fp=\"data/ml-1m/ratings.dat\"):\n",
    "        self.M = M \n",
    "        self.userGroup = UserGroup\n",
    "        self.itemGroup = ItemGroup\n",
    "        self.fp = fp \n",
    "    \n",
    "    # 定义单次实验\n",
    "    def worker(self, records):\n",
    "        PredictAll(records, self.userGroup, self.itemGroup)\n",
    "        metric = RMSE(records)\n",
    "        return metric\n",
    "    \n",
    "    # 多次实验取平均\n",
    "    def run(self):\n",
    "        dataset = Dataset(self.fp)\n",
    "        dataset.splitData(self.M, 0)\n",
    "        metric = self.worker(dataset.data)\n",
    "        print(\"Result (UserGroup={}, ItemGroup={}): {}\".format(self.userGroup.__name__,\n",
    "                                                              self.itemGroup.__name__,\n",
    "                                                              metric))"
   ]
  },
  {
   "cell_type": "code",
   "execution_count": 26,
   "metadata": {
    "ExecuteTime": {
     "end_time": "2019-07-19T07:18:40.651090Z",
     "start_time": "2019-07-19T07:17:57.821810Z"
    }
   },
   "outputs": [
    {
     "name": "stdout",
     "output_type": "stream",
     "text": [
      "Result (UserGroup=Cluster, ItemGroup=Cluster): {'train_rmse': 1.1163419044799097, 'test_rmse': 1.1239098429180596}\n",
      "Result (UserGroup=IdCluster, ItemGroup=Cluster): {'train_rmse': 1.0285654793409407, 'test_rmse': 1.0334592269465828}\n",
      "Result (UserGroup=Cluster, ItemGroup=IdCluster): {'train_rmse': 0.9748185505735479, 'test_rmse': 0.9798641288094841}\n",
      "Result (UserGroup=UserActivityCluster, ItemGroup=Cluster): {'train_rmse': 1.1163419044799097, 'test_rmse': 1.1239098429180596}\n",
      "Result (UserGroup=UserActivityCluster, ItemGroup=IdCluster): {'train_rmse': 0.9748185505735479, 'test_rmse': 0.9798641288094841}\n",
      "Result (UserGroup=Cluster, ItemGroup=ItemPopularityCluster): {'train_rmse': 1.089464041024945, 'test_rmse': 1.0960645954595978}\n",
      "Result (UserGroup=IdCluster, ItemGroup=ItemPopularityCluster): {'train_rmse': 0.9992846921965436, 'test_rmse': 1.004305812819349}\n",
      "Result (UserGroup=UserActivityCluster, ItemGroup=ItemPopularityCluster): {'train_rmse': 1.089464041024945, 'test_rmse': 1.0960645954595978}\n",
      "Result (UserGroup=UserVoteCluster, ItemGroup=Cluster): {'train_rmse': 1.0365240419368769, 'test_rmse': 1.0478540390586935}\n",
      "Result (UserGroup=UserVoteCluster, ItemGroup=IdCluster): {'train_rmse': 0.9199790234208914, 'test_rmse': 0.9281022084937945}\n",
      "Result (UserGroup=Cluster, ItemGroup=ItemVoteCluster): {'train_rmse': 0.9832674533005802, 'test_rmse': 0.9934591573919361}\n",
      "Result (UserGroup=IdCluster, ItemGroup=ItemVoteCluster): {'train_rmse': 0.9029935034935124, 'test_rmse': 0.9111089748449387}\n",
      "Result (UserGroup=UserVoteCluster, ItemGroup=ItemVoteCluster): {'train_rmse': 0.926497136899283, 'test_rmse': 0.9384819452864707}\n"
     ]
    }
   ],
   "source": [
    "UserGroups = [Cluster, IdCluster, Cluster, UserActivityCluster, UserActivityCluster, Cluster, IdCluster,\n",
    "             UserActivityCluster, UserVoteCluster, UserVoteCluster, Cluster, IdCluster, UserVoteCluster]\n",
    "ItemGroups = [Cluster, Cluster, IdCluster, Cluster, IdCluster, ItemPopularityCluster, ItemPopularityCluster,\n",
    "             ItemPopularityCluster, Cluster, IdCluster, ItemVoteCluster, ItemVoteCluster, ItemVoteCluster]\n",
    "\n",
    "M = 10 \n",
    "for i in range(len(UserGroups)):\n",
    "    exp = Experiment(M, UserGroups[i], ItemGroups[i])\n",
    "    exp.run()"
   ]
  },
  {
   "cell_type": "code",
   "execution_count": null,
   "metadata": {},
   "outputs": [],
   "source": []
  },
  {
   "cell_type": "code",
   "execution_count": null,
   "metadata": {},
   "outputs": [],
   "source": []
  }
 ],
 "metadata": {
  "kernelspec": {
   "display_name": "Python 3",
   "language": "python",
   "name": "python3"
  },
  "language_info": {
   "codemirror_mode": {
    "name": "ipython",
    "version": 3
   },
   "file_extension": ".py",
   "mimetype": "text/x-python",
   "name": "python",
   "nbconvert_exporter": "python",
   "pygments_lexer": "ipython3",
   "version": "3.7.3"
  },
  "toc": {
   "base_numbering": 1,
   "nav_menu": {},
   "number_sections": true,
   "sideBar": true,
   "skip_h1_title": false,
   "title_cell": "Table of Contents",
   "title_sidebar": "Contents",
   "toc_cell": false,
   "toc_position": {},
   "toc_section_display": true,
   "toc_window_display": false
  }
 },
 "nbformat": 4,
 "nbformat_minor": 2
}
